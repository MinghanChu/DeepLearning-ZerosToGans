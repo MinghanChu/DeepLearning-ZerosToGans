{
  "nbformat": 4,
  "nbformat_minor": 0,
  "metadata": {
    "colab": {
      "provenance": [],
      "authorship_tag": "ABX9TyMIEgsIshp0tk9FYPKcSZq0",
      "include_colab_link": true
    },
    "kernelspec": {
      "name": "python3",
      "display_name": "Python 3"
    },
    "language_info": {
      "name": "python"
    }
  },
  "cells": [
    {
      "cell_type": "markdown",
      "metadata": {
        "id": "view-in-github",
        "colab_type": "text"
      },
      "source": [
        "<a href=\"https://colab.research.google.com/github/MinghanChu/DeepLearning-ZerosToGans/blob/main/Pytorch%20tensors.ipynb\" target=\"_parent\"><img src=\"https://colab.research.google.com/assets/colab-badge.svg\" alt=\"Open In Colab\"/></a>"
      ]
    },
    {
      "cell_type": "markdown",
      "source": [
        "Import `pytorch`"
      ],
      "metadata": {
        "id": "zkos3pZnDoTH"
      }
    },
    {
      "cell_type": "code",
      "source": [
        "import torch"
      ],
      "metadata": {
        "id": "Z3Hro0tKJUva"
      },
      "execution_count": 2,
      "outputs": []
    },
    {
      "cell_type": "markdown",
      "source": [
        "# Outline\n",
        "+ Pytorch **tensors**\n",
        "+ Tensor operations and **gradients**\n",
        "+ Interoperability between **PyTorch** and **Numpy**"
      ],
      "metadata": {
        "id": "d8-G_3ZAwNbN"
      }
    },
    {
      "cell_type": "code",
      "source": [
        "#Number\n",
        "t1 = torch.tensor(4.)\n",
        "t1"
      ],
      "metadata": {
        "colab": {
          "base_uri": "https://localhost:8080/"
        },
        "id": "eySrIWJFa2J1",
        "outputId": "d7943305-b946-4fe3-9691-565c938b0e75"
      },
      "execution_count": 3,
      "outputs": [
        {
          "output_type": "execute_result",
          "data": {
            "text/plain": [
              "tensor(4.)"
            ]
          },
          "metadata": {},
          "execution_count": 3
        }
      ]
    },
    {
      "cell_type": "markdown",
      "source": [
        "`4.` is a shorthand for `4.0`. It is used to indicate to Python that you want to create a floating-point number. Check the type using `dtype`.\n",
        "\n",
        "we want to use floating point tensors for deep-learning because\n",
        "\n",
        "+ deep learning always doesn't produce integer results"
      ],
      "metadata": {
        "id": "xSoGiKkMbElh"
      }
    },
    {
      "cell_type": "code",
      "source": [
        "t1.dtype"
      ],
      "metadata": {
        "colab": {
          "base_uri": "https://localhost:8080/"
        },
        "id": "WMNB5VffbcAG",
        "outputId": "babbe15c-b28c-4569-d553-fdce401fede6"
      },
      "execution_count": 4,
      "outputs": [
        {
          "output_type": "execute_result",
          "data": {
            "text/plain": [
              "torch.float32"
            ]
          },
          "metadata": {},
          "execution_count": 4
        }
      ]
    },
    {
      "cell_type": "code",
      "source": [
        "# Vector\n",
        "t2 = torch.tensor([1., 2, 3, 4])\n",
        "t2"
      ],
      "metadata": {
        "colab": {
          "base_uri": "https://localhost:8080/"
        },
        "id": "yKKrlRcPbiEX",
        "outputId": "0816af80-d21c-4310-cd65-889832cf0c82"
      },
      "execution_count": 5,
      "outputs": [
        {
          "output_type": "execute_result",
          "data": {
            "text/plain": [
              "tensor([1., 2., 3., 4.])"
            ]
          },
          "metadata": {},
          "execution_count": 5
        }
      ]
    },
    {
      "cell_type": "markdown",
      "source": [
        "All the elements of a tensor have the same type. In this case, floating point."
      ],
      "metadata": {
        "id": "poNzp5wAcjXu"
      }
    },
    {
      "cell_type": "code",
      "source": [
        "# Matrix\n",
        "t3 = torch.tensor([[5.,6],\n",
        "                   [7,8],\n",
        "                   [9,10]])\n",
        "t3"
      ],
      "metadata": {
        "colab": {
          "base_uri": "https://localhost:8080/"
        },
        "id": "laYQVN1ec4zM",
        "outputId": "e78a643a-37d2-44a3-8599-d806fd17131f"
      },
      "execution_count": 6,
      "outputs": [
        {
          "output_type": "execute_result",
          "data": {
            "text/plain": [
              "tensor([[ 5.,  6.],\n",
              "        [ 7.,  8.],\n",
              "        [ 9., 10.]])"
            ]
          },
          "metadata": {},
          "execution_count": 6
        }
      ]
    },
    {
      "cell_type": "markdown",
      "source": [
        "Two dimentional matrix: 3 rows and 2 columns."
      ],
      "metadata": {
        "id": "HLyMR33XdSyy"
      }
    },
    {
      "cell_type": "markdown",
      "source": [
        "###Three dimensional array:\n",
        "whenever you have more than one matrix in an array you are having a three dimensional matrix.\n",
        "\n",
        "+ more than one matrix, plus rows and columns in each matrix\n",
        "+ `t4_1.shape`: `([2,2,3])`: first `2` means `2` matrices; second `2` means `2` rows, and third `3` means `3` columns"
      ],
      "metadata": {
        "id": "pWQU1dwVyP2_"
      }
    },
    {
      "cell_type": "code",
      "source": [
        "# 3-dimentional array\n",
        "t4 = torch.tensor([\n",
        "    [[11,12,13],\n",
        "     [13,14,15]],\n",
        "     [[15,16,17],\n",
        "      [17,18,19.]]])\n",
        "t4"
      ],
      "metadata": {
        "colab": {
          "base_uri": "https://localhost:8080/"
        },
        "id": "Edg8y9NudyCp",
        "outputId": "95e7f28c-6813-4b82-94b9-bc172035ca16"
      },
      "execution_count": 7,
      "outputs": [
        {
          "output_type": "execute_result",
          "data": {
            "text/plain": [
              "tensor([[[11., 12., 13.],\n",
              "         [13., 14., 15.]],\n",
              "\n",
              "        [[15., 16., 17.],\n",
              "         [17., 18., 19.]]])"
            ]
          },
          "metadata": {},
          "execution_count": 7
        }
      ]
    },
    {
      "cell_type": "code",
      "source": [
        "# newly added array\n",
        "t4_1 = torch.tensor([\n",
        "    [[1, 2, 3],\n",
        "     [4, 5, 6]],\n",
        "    [[5,6,7],\n",
        "     [8,9,10]]\n",
        "])\n",
        "t4_1"
      ],
      "metadata": {
        "id": "OTBIVsgl1OzN",
        "outputId": "177166fb-f48c-4da5-d89c-1b62d32226dc",
        "colab": {
          "base_uri": "https://localhost:8080/"
        }
      },
      "execution_count": 8,
      "outputs": [
        {
          "output_type": "execute_result",
          "data": {
            "text/plain": [
              "tensor([[[ 1,  2,  3],\n",
              "         [ 4,  5,  6]],\n",
              "\n",
              "        [[ 5,  6,  7],\n",
              "         [ 8,  9, 10]]])"
            ]
          },
          "metadata": {},
          "execution_count": 8
        }
      ]
    },
    {
      "cell_type": "code",
      "source": [
        "t4_1.shape"
      ],
      "metadata": {
        "id": "DaFi9Swy6QHM",
        "outputId": "6d1bcc15-0df8-4eb8-919d-5802f270109f",
        "colab": {
          "base_uri": "https://localhost:8080/"
        }
      },
      "execution_count": 9,
      "outputs": [
        {
          "output_type": "execute_result",
          "data": {
            "text/plain": [
              "torch.Size([2, 2, 3])"
            ]
          },
          "metadata": {},
          "execution_count": 9
        }
      ]
    },
    {
      "cell_type": "markdown",
      "source": [
        "Two matrices that have the same number of rows and columns."
      ],
      "metadata": {
        "id": "FNKTraggekX2"
      }
    },
    {
      "cell_type": "code",
      "source": [
        "print(t1)\n",
        "t1.shape"
      ],
      "metadata": {
        "colab": {
          "base_uri": "https://localhost:8080/"
        },
        "id": "38rNIozte_mv",
        "outputId": "3cb4ba9c-857c-40ee-d115-49bcefdf953f"
      },
      "execution_count": 10,
      "outputs": [
        {
          "output_type": "stream",
          "name": "stdout",
          "text": [
            "tensor(4.)\n"
          ]
        },
        {
          "output_type": "execute_result",
          "data": {
            "text/plain": [
              "torch.Size([])"
            ]
          },
          "metadata": {},
          "execution_count": 10
        }
      ]
    },
    {
      "cell_type": "markdown",
      "source": [
        "check tensor's dimension using `shape`. empty `[]` means zero dimension."
      ],
      "metadata": {
        "id": "cmZkFExyfGeA"
      }
    },
    {
      "cell_type": "code",
      "source": [
        "print(t2)\n",
        "t2.shape"
      ],
      "metadata": {
        "colab": {
          "base_uri": "https://localhost:8080/"
        },
        "id": "31OjEmtGfNv3",
        "outputId": "34850c8c-94ea-4aef-e764-d19a088ee8a5"
      },
      "execution_count": 11,
      "outputs": [
        {
          "output_type": "stream",
          "name": "stdout",
          "text": [
            "tensor([1., 2., 3., 4.])\n"
          ]
        },
        {
          "output_type": "execute_result",
          "data": {
            "text/plain": [
              "torch.Size([4])"
            ]
          },
          "metadata": {},
          "execution_count": 11
        }
      ]
    },
    {
      "cell_type": "markdown",
      "source": [
        "size of 4 means the tensor has four elements."
      ],
      "metadata": {
        "id": "-s8MYf-FfcQQ"
      }
    },
    {
      "cell_type": "code",
      "source": [
        "print(t3)\n",
        "t3.shape"
      ],
      "metadata": {
        "colab": {
          "base_uri": "https://localhost:8080/"
        },
        "id": "r2oXpqYOgrVO",
        "outputId": "56d5b62b-dc60-46e0-9a70-9c468374146c"
      },
      "execution_count": 12,
      "outputs": [
        {
          "output_type": "stream",
          "name": "stdout",
          "text": [
            "tensor([[ 5.,  6.],\n",
            "        [ 7.,  8.],\n",
            "        [ 9., 10.]])\n"
          ]
        },
        {
          "output_type": "execute_result",
          "data": {
            "text/plain": [
              "torch.Size([3, 2])"
            ]
          },
          "metadata": {},
          "execution_count": 12
        }
      ]
    },
    {
      "cell_type": "markdown",
      "source": [
        "From outside in, you are having `3` rows, and `2` columns. Then the size of `t3` is `[3,2]`."
      ],
      "metadata": {
        "id": "7AuzQRGWh2dk"
      }
    },
    {
      "cell_type": "code",
      "source": [
        "print(t4)\n",
        "t4.shape"
      ],
      "metadata": {
        "colab": {
          "base_uri": "https://localhost:8080/"
        },
        "id": "oEGFkKPvg2CJ",
        "outputId": "a780115f-ff59-4b9c-ebe9-077cdc5770cc"
      },
      "execution_count": 13,
      "outputs": [
        {
          "output_type": "stream",
          "name": "stdout",
          "text": [
            "tensor([[[11., 12., 13.],\n",
            "         [13., 14., 15.]],\n",
            "\n",
            "        [[15., 16., 17.],\n",
            "         [17., 18., 19.]]])\n"
          ]
        },
        {
          "output_type": "execute_result",
          "data": {
            "text/plain": [
              "torch.Size([2, 2, 3])"
            ]
          },
          "metadata": {},
          "execution_count": 13
        }
      ]
    },
    {
      "cell_type": "markdown",
      "source": [
        "From outside in, you are having `2` matrices, `2` rows, and `3` columns. Then the size of the tensor is `[2,2,3]`.\n",
        "\n",
        "You cannot have an inappropriate tensor shape. See the following example:"
      ],
      "metadata": {
        "id": "eZtqbnx0iGLp"
      }
    },
    {
      "cell_type": "code",
      "source": [
        "t5 = torch.tensor([[5., 6, 11],\n",
        "                   [7,8],\n",
        "                   [9,10]]\n",
        ")\n",
        "t5"
      ],
      "metadata": {
        "colab": {
          "base_uri": "https://localhost:8080/",
          "height": 216
        },
        "id": "R3AenJlxiuIN",
        "outputId": "7ff68585-924b-4389-a068-c524158c7a61"
      },
      "execution_count": 14,
      "outputs": [
        {
          "output_type": "error",
          "ename": "ValueError",
          "evalue": "expected sequence of length 3 at dim 1 (got 2)",
          "traceback": [
            "\u001b[0;31m---------------------------------------------------------------------------\u001b[0m",
            "\u001b[0;31mValueError\u001b[0m                                Traceback (most recent call last)",
            "\u001b[0;32m<ipython-input-14-01d0a12813a3>\u001b[0m in \u001b[0;36m<cell line: 1>\u001b[0;34m()\u001b[0m\n\u001b[0;32m----> 1\u001b[0;31m t5 = torch.tensor([[5., 6, 11],\n\u001b[0m\u001b[1;32m      2\u001b[0m                    \u001b[0;34m[\u001b[0m\u001b[0;36m7\u001b[0m\u001b[0;34m,\u001b[0m\u001b[0;36m8\u001b[0m\u001b[0;34m]\u001b[0m\u001b[0;34m,\u001b[0m\u001b[0;34m\u001b[0m\u001b[0;34m\u001b[0m\u001b[0m\n\u001b[1;32m      3\u001b[0m                    [9,10]]\n\u001b[1;32m      4\u001b[0m )\n\u001b[1;32m      5\u001b[0m \u001b[0mt5\u001b[0m\u001b[0;34m\u001b[0m\u001b[0;34m\u001b[0m\u001b[0m\n",
            "\u001b[0;31mValueError\u001b[0m: expected sequence of length 3 at dim 1 (got 2)"
          ]
        }
      ]
    },
    {
      "cell_type": "markdown",
      "source": [
        "You see from the above example that you have `3` columns in the first row, but only `2` colmns in the second and the third row. They must match to avoid errors."
      ],
      "metadata": {
        "id": "bXB5SuzGjICQ"
      }
    },
    {
      "cell_type": "markdown",
      "source": [
        "Tensor can be integrated with **arithmatic operations**. In the following example, `y` is created using an arithmatic expression that combines three tensors."
      ],
      "metadata": {
        "id": "AO-6Y9Zzji75"
      }
    },
    {
      "cell_type": "code",
      "source": [
        "#Create tensors\n",
        "x = torch.tensor(3.)\n",
        "w = torch.tensor(4., requires_grad=True)\n",
        "b = torch.tensor(5., requires_grad=True)\n",
        "x, w, b\n",
        "\n",
        "print(x)"
      ],
      "metadata": {
        "colab": {
          "base_uri": "https://localhost:8080/"
        },
        "id": "px_oVH7PjxvY",
        "outputId": "3108993d-6740-4214-c977-6b86a93d8840"
      },
      "execution_count": 15,
      "outputs": [
        {
          "output_type": "stream",
          "name": "stdout",
          "text": [
            "tensor(3.)\n"
          ]
        }
      ]
    },
    {
      "cell_type": "markdown",
      "source": [
        "Note that `requires_grad=True` condition is used for `w` and `b`, but not used for `x`. This means we are only interested in calculating the derivative or gradient wrt `w` and `b`."
      ],
      "metadata": {
        "id": "ZQH2p8Prl6zJ"
      }
    },
    {
      "cell_type": "code",
      "source": [
        "# Arithmetic operations\n",
        "y = w * x + b\n",
        "y"
      ],
      "metadata": {
        "colab": {
          "base_uri": "https://localhost:8080/"
        },
        "id": "vl6Wec8KkJmh",
        "outputId": "7b519580-8267-442e-badb-6e9ef2bd66fd"
      },
      "execution_count": 17,
      "outputs": [
        {
          "output_type": "execute_result",
          "data": {
            "text/plain": [
              "tensor(17., grad_fn=<AddBackward0>)"
            ]
          },
          "metadata": {},
          "execution_count": 17
        }
      ]
    },
    {
      "cell_type": "markdown",
      "source": [
        "As expected, `y` has a size of `17`, because size of `x` * size of `w` + size of `b` = `3 * 4 + 5 = 17`."
      ],
      "metadata": {
        "id": "bJNPUIXdmt9q"
      }
    },
    {
      "cell_type": "markdown",
      "source": [
        "If we want to take derivative of `y` wrt either, `w` , `x` or `b`, use `y.backward()`:"
      ],
      "metadata": {
        "id": "kIqPC7BNnQ5f"
      }
    },
    {
      "cell_type": "code",
      "source": [
        "y.backward()"
      ],
      "metadata": {
        "id": "4czR2DW5ncGC"
      },
      "execution_count": 18,
      "outputs": []
    },
    {
      "cell_type": "markdown",
      "source": [
        "The derivatives of `y` wrt these three tensors (`w`, `x`, `b`) can be accessed through `grad`."
      ],
      "metadata": {
        "id": "YaRg-ytMnqiZ"
      }
    },
    {
      "cell_type": "code",
      "source": [
        "#Display gradients\n",
        "print('dy/dx:', x.grad)\n",
        "print('dy/dw:', w.grad)\n",
        "print('dy/db:', b.grad)"
      ],
      "metadata": {
        "colab": {
          "base_uri": "https://localhost:8080/"
        },
        "id": "ybIIMJPAoaXe",
        "outputId": "697c25c3-6f7c-4f72-905c-d24ec0c68010"
      },
      "execution_count": 19,
      "outputs": [
        {
          "output_type": "stream",
          "name": "stdout",
          "text": [
            "dy/dx: None\n",
            "dy/dw: tensor(3.)\n",
            "dy/db: tensor(1.)\n"
          ]
        }
      ]
    },
    {
      "cell_type": "markdown",
      "source": [
        "Let's take a closer look at the outputted results. `dy/dx` outputs `None` for the gradient because we wasn't interested in its gradient. `dy/dw = x` (`b` is a constant here), `x` has the size of `3`. `dy/db = 1`."
      ],
      "metadata": {
        "id": "Zwf3r9lWouVk"
      }
    },
    {
      "cell_type": "markdown",
      "source": [
        "Let's see other torch method examples:"
      ],
      "metadata": {
        "id": "Bq8NkDhfqEKA"
      }
    },
    {
      "cell_type": "code",
      "source": [
        "t6 = torch.full((3,2), 44)\n",
        "t6"
      ],
      "metadata": {
        "colab": {
          "base_uri": "https://localhost:8080/"
        },
        "id": "ieQvOfxPpxHC",
        "outputId": "53efc4db-691c-44c1-ae84-70a6edd372d9"
      },
      "execution_count": 20,
      "outputs": [
        {
          "output_type": "execute_result",
          "data": {
            "text/plain": [
              "tensor([[44, 44],\n",
              "        [44, 44],\n",
              "        [44, 44]])"
            ]
          },
          "metadata": {},
          "execution_count": 20
        }
      ]
    },
    {
      "cell_type": "code",
      "source": [
        "t7 = torch.cat((t3,t6))\n",
        "t7"
      ],
      "metadata": {
        "colab": {
          "base_uri": "https://localhost:8080/"
        },
        "id": "2LgIJDw7qYEl",
        "outputId": "b7613f68-42d7-4462-adc7-a7e08df87367"
      },
      "execution_count": 21,
      "outputs": [
        {
          "output_type": "execute_result",
          "data": {
            "text/plain": [
              "tensor([[ 5.,  6.],\n",
              "        [ 7.,  8.],\n",
              "        [ 9., 10.],\n",
              "        [44., 44.],\n",
              "        [44., 44.],\n",
              "        [44., 44.]])"
            ]
          },
          "metadata": {},
          "execution_count": 21
        }
      ]
    },
    {
      "cell_type": "markdown",
      "source": [
        "`Cat()` in PyTorch is used for concatenating two or more tensors in the same dimension."
      ],
      "metadata": {
        "id": "JfdjfAL8rEG9"
      }
    },
    {
      "cell_type": "code",
      "source": [
        "print(t7)\n",
        "t7.shape"
      ],
      "metadata": {
        "colab": {
          "base_uri": "https://localhost:8080/"
        },
        "id": "JQOrqpHMrP5Z",
        "outputId": "010956ab-dd3a-4cc8-94f1-d72c0da8ec0d"
      },
      "execution_count": 22,
      "outputs": [
        {
          "output_type": "stream",
          "name": "stdout",
          "text": [
            "tensor([[ 5.,  6.],\n",
            "        [ 7.,  8.],\n",
            "        [ 9., 10.],\n",
            "        [44., 44.],\n",
            "        [44., 44.],\n",
            "        [44., 44.]])\n"
          ]
        },
        {
          "output_type": "execute_result",
          "data": {
            "text/plain": [
              "torch.Size([6, 2])"
            ]
          },
          "metadata": {},
          "execution_count": 22
        }
      ]
    },
    {
      "cell_type": "code",
      "source": [
        "t8 = torch.sin(t7)\n",
        "t8"
      ],
      "metadata": {
        "colab": {
          "base_uri": "https://localhost:8080/"
        },
        "id": "mT3WAggXrd4H",
        "outputId": "1149283a-f8bc-4758-902f-d06351f2d6c3"
      },
      "execution_count": 23,
      "outputs": [
        {
          "output_type": "execute_result",
          "data": {
            "text/plain": [
              "tensor([[-0.9589, -0.2794],\n",
              "        [ 0.6570,  0.9894],\n",
              "        [ 0.4121, -0.5440],\n",
              "        [ 0.0177,  0.0177],\n",
              "        [ 0.0177,  0.0177],\n",
              "        [ 0.0177,  0.0177]])"
            ]
          },
          "metadata": {},
          "execution_count": 23
        }
      ]
    },
    {
      "cell_type": "markdown",
      "source": [
        "`torch.sin()` evaluates `sin` of each entry element."
      ],
      "metadata": {
        "id": "oKXHpR7mrmJ_"
      }
    },
    {
      "cell_type": "code",
      "source": [
        "t9 = t8.reshape(3,2,2)\n",
        "t9"
      ],
      "metadata": {
        "colab": {
          "base_uri": "https://localhost:8080/"
        },
        "id": "F8BVwCKGrwbf",
        "outputId": "55ade1e7-5a15-47e5-b8e8-d1c5ff4ddbfe"
      },
      "execution_count": 24,
      "outputs": [
        {
          "output_type": "execute_result",
          "data": {
            "text/plain": [
              "tensor([[[-0.9589, -0.2794],\n",
              "         [ 0.6570,  0.9894]],\n",
              "\n",
              "        [[ 0.4121, -0.5440],\n",
              "         [ 0.0177,  0.0177]],\n",
              "\n",
              "        [[ 0.0177,  0.0177],\n",
              "         [ 0.0177,  0.0177]]])"
            ]
          },
          "metadata": {},
          "execution_count": 24
        }
      ]
    },
    {
      "cell_type": "markdown",
      "source": [
        "Check [Tensor operations](https://pytorch.org/docs/stable/torch.html)"
      ],
      "metadata": {
        "id": "RHN2w7VbsB4-"
      }
    },
    {
      "cell_type": "markdown",
      "source": [
        "`numpy` is an open-source library for mathematical and scientific computing in Python to deal with multi-dimensional large arrays. It has a vast ecosystem of supporting libraries, including\n",
        "\n",
        "+ Pandas (I/O and data analysis)\n",
        "+ Matplotlib (plotting and visualization)\n",
        "+ OpenCV (image and video processing)\n",
        "\n",
        "Always use **floating** by setting one of these elements be a float, e.g. `4.` with a dot after."
      ],
      "metadata": {
        "id": "mN9ydkTTvAww"
      }
    },
    {
      "cell_type": "code",
      "source": [
        "# note that\n",
        "import numpy as np\n",
        "\n",
        "x = np.array(\n",
        "    [[1,2],\n",
        "    [2,4.]]\n",
        ")\n",
        "x"
      ],
      "metadata": {
        "id": "6x-MCe8lZJAU",
        "outputId": "e944d95a-8706-422e-87fd-ce9cc7a20246",
        "colab": {
          "base_uri": "https://localhost:8080/"
        }
      },
      "execution_count": 25,
      "outputs": [
        {
          "output_type": "execute_result",
          "data": {
            "text/plain": [
              "array([[1., 2.],\n",
              "       [2., 4.]])"
            ]
          },
          "metadata": {},
          "execution_count": 25
        }
      ]
    },
    {
      "cell_type": "code",
      "source": [
        "# Convert the numpy array to a torch tensor.\n",
        "y = torch.from_numpy(x)\n",
        "y"
      ],
      "metadata": {
        "id": "tJMYfIVxdSXK",
        "outputId": "58903f68-e7d7-495d-ea70-d18e48bc34ba",
        "colab": {
          "base_uri": "https://localhost:8080/"
        }
      },
      "execution_count": 26,
      "outputs": [
        {
          "output_type": "execute_result",
          "data": {
            "text/plain": [
              "tensor([[1., 2.],\n",
              "        [2., 4.]], dtype=torch.float64)"
            ]
          },
          "metadata": {},
          "execution_count": 26
        }
      ]
    },
    {
      "cell_type": "code",
      "source": [
        "# check the data type for Numpy (Python) and torch\n",
        "x.dtype, y.dtype"
      ],
      "metadata": {
        "id": "jlR67moYfe50",
        "outputId": "cf4d8d03-3505-4700-cc84-97f5faa64993",
        "colab": {
          "base_uri": "https://localhost:8080/"
        }
      },
      "execution_count": 27,
      "outputs": [
        {
          "output_type": "execute_result",
          "data": {
            "text/plain": [
              "(dtype('float64'), torch.float64)"
            ]
          },
          "metadata": {},
          "execution_count": 27
        }
      ]
    },
    {
      "cell_type": "markdown",
      "source": [
        "In conclution, the types are very similar but not exactly the same. Why do we even need `PyTorch` then if **`Numpy()`** can do very well with multi-dimentional operations?\n",
        "\n",
        "The reason is `Numpy()` is a very powerful python library to process complex arrays. But `PyTorch` automatically computes\n",
        "\n",
        "+ gradients using `Autograd` which is essential for **deep learning.**\n",
        "+ and very effeciently works with **massive datasets** on `GPU`. For example, it only takes minutes than hours if GPU is used.\n",
        "\n",
        "Therefore, we benefit from `Numpy()` for processing complex multi-dimentional matrices and convert the result to the data type that is compaitible with `PyTorch` to do **deep learning**. **To convert Numpy data type to Pytorch data type just do the following:**"
      ],
      "metadata": {
        "id": "2Ge_yUvRhGnk"
      }
    },
    {
      "cell_type": "code",
      "source": [
        "# Note that y is originally a pytorch data type and y.numpy() will convert it to numpy data type\n",
        "\n",
        "z = y.numpy()\n",
        "print(z)"
      ],
      "metadata": {
        "id": "LOYIjS3fkByD",
        "outputId": "6446e663-3487-41fc-aaf3-114cb478062c",
        "colab": {
          "base_uri": "https://localhost:8080/"
        }
      },
      "execution_count": 28,
      "outputs": [
        {
          "output_type": "stream",
          "name": "stdout",
          "text": [
            "[[1. 2.]\n",
            " [2. 4.]]\n"
          ]
        }
      ]
    },
    {
      "cell_type": "markdown",
      "source": [
        "Given `numpy` already provides data structures and utilities for working with multi-dimensional numeric data. There are two main reasons:\n",
        "\n",
        "1. Autograd: The ability to automatically compute gradients for tensor operations is essential for training deep learning models.\n",
        "2. GPU support: while working with massive datasets and large models, PyTorch tensor operations can be performed efficiently using a Graphics Processing Unit(GPU). Computations that might take hours can be completed within minutes using GPUs."
      ],
      "metadata": {
        "id": "8FENy_ZVUJig"
      }
    }
  ]
}