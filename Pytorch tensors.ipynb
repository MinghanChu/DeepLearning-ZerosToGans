{
  "nbformat": 4,
  "nbformat_minor": 0,
  "metadata": {
    "colab": {
      "provenance": [],
      "authorship_tag": "ABX9TyNgSsvyYWDlKvgmu+hFP/YC",
      "include_colab_link": true
    },
    "kernelspec": {
      "name": "python3",
      "display_name": "Python 3"
    },
    "language_info": {
      "name": "python"
    }
  },
  "cells": [
    {
      "cell_type": "markdown",
      "metadata": {
        "id": "view-in-github",
        "colab_type": "text"
      },
      "source": [
        "<a href=\"https://colab.research.google.com/github/Renshui-MC/DeepLearning-ZerosToGans/blob/main/Pytorch%20tensors.ipynb\" target=\"_parent\"><img src=\"https://colab.research.google.com/assets/colab-badge.svg\" alt=\"Open In Colab\"/></a>"
      ]
    },
    {
      "cell_type": "code",
      "execution_count": null,
      "metadata": {
        "id": "TzHM0BkRawl8"
      },
      "outputs": [],
      "source": [
        "import torch"
      ]
    },
    {
      "cell_type": "code",
      "source": [
        "#Number\n",
        "t1 = torch.tensor(4.)\n",
        "t1"
      ],
      "metadata": {
        "colab": {
          "base_uri": "https://localhost:8080/"
        },
        "id": "eySrIWJFa2J1",
        "outputId": "970cd8a7-0c3d-4b24-b5d0-4765cab6a570"
      },
      "execution_count": null,
      "outputs": [
        {
          "output_type": "execute_result",
          "data": {
            "text/plain": [
              "tensor(4.)"
            ]
          },
          "metadata": {},
          "execution_count": 2
        }
      ]
    },
    {
      "cell_type": "markdown",
      "source": [
        "`4.` is a shorthand for `4.0`. It is used to indicate to Python that you want to create a floating-point number. Check the type using `dtype`."
      ],
      "metadata": {
        "id": "xSoGiKkMbElh"
      }
    },
    {
      "cell_type": "code",
      "source": [
        "t1.dtype"
      ],
      "metadata": {
        "colab": {
          "base_uri": "https://localhost:8080/"
        },
        "id": "WMNB5VffbcAG",
        "outputId": "f6189683-72d4-468e-ad52-6cdd079d357a"
      },
      "execution_count": null,
      "outputs": [
        {
          "output_type": "execute_result",
          "data": {
            "text/plain": [
              "torch.float32"
            ]
          },
          "metadata": {},
          "execution_count": 4
        }
      ]
    },
    {
      "cell_type": "code",
      "source": [
        "# Vector\n",
        "t2 = torch.tensor([1., 2, 3, 4])\n",
        "t2"
      ],
      "metadata": {
        "colab": {
          "base_uri": "https://localhost:8080/"
        },
        "id": "yKKrlRcPbiEX",
        "outputId": "6c4b68ad-9e71-47dc-ee26-abd50b9ffeec"
      },
      "execution_count": null,
      "outputs": [
        {
          "output_type": "execute_result",
          "data": {
            "text/plain": [
              "tensor([1., 2., 3., 4.])"
            ]
          },
          "metadata": {},
          "execution_count": 6
        }
      ]
    },
    {
      "cell_type": "markdown",
      "source": [
        "All the elements of a tensor have the same type. In this case, floating point. "
      ],
      "metadata": {
        "id": "poNzp5wAcjXu"
      }
    },
    {
      "cell_type": "code",
      "source": [
        "# Matrix\n",
        "t3 = torch.tensor([[5.,6],\n",
        "                   [7,8],\n",
        "                   [9,10]])\n",
        "t3"
      ],
      "metadata": {
        "colab": {
          "base_uri": "https://localhost:8080/"
        },
        "id": "laYQVN1ec4zM",
        "outputId": "1fe10b06-61ea-4c6f-dd0c-176880b107ef"
      },
      "execution_count": null,
      "outputs": [
        {
          "output_type": "execute_result",
          "data": {
            "text/plain": [
              "tensor([[ 5.,  6.],\n",
              "        [ 7.,  8.],\n",
              "        [ 9., 10.]])"
            ]
          },
          "metadata": {},
          "execution_count": 20
        }
      ]
    },
    {
      "cell_type": "markdown",
      "source": [
        "Two dimentional matrix: 3 rows and 2 columns. "
      ],
      "metadata": {
        "id": "HLyMR33XdSyy"
      }
    },
    {
      "cell_type": "code",
      "source": [
        "# 3-dimentional array\n",
        "t4 = torch.tensor([\n",
        "    [[11,12,13],\n",
        "     [13,14,15]],\n",
        "     [[15,16,17],\n",
        "      [17,18,19.]]])\n",
        "t4"
      ],
      "metadata": {
        "colab": {
          "base_uri": "https://localhost:8080/"
        },
        "id": "Edg8y9NudyCp",
        "outputId": "1ed30861-bb82-4b59-81fb-b1a276aa7438"
      },
      "execution_count": null,
      "outputs": [
        {
          "output_type": "execute_result",
          "data": {
            "text/plain": [
              "tensor([[[11., 12., 13.],\n",
              "         [13., 14., 15.]],\n",
              "\n",
              "        [[15., 16., 17.],\n",
              "         [17., 18., 19.]]])"
            ]
          },
          "metadata": {},
          "execution_count": 13
        }
      ]
    },
    {
      "cell_type": "markdown",
      "source": [
        "Two matrices that have the same number of rows and columns. "
      ],
      "metadata": {
        "id": "FNKTraggekX2"
      }
    },
    {
      "cell_type": "code",
      "source": [
        "print(t1)\n",
        "t1.shape"
      ],
      "metadata": {
        "colab": {
          "base_uri": "https://localhost:8080/"
        },
        "id": "38rNIozte_mv",
        "outputId": "47c7bab4-a23e-4bc0-df86-f4df2402e45b"
      },
      "execution_count": null,
      "outputs": [
        {
          "output_type": "stream",
          "name": "stdout",
          "text": [
            "tensor(4.)\n"
          ]
        },
        {
          "output_type": "execute_result",
          "data": {
            "text/plain": [
              "torch.Size([])"
            ]
          },
          "metadata": {},
          "execution_count": 14
        }
      ]
    },
    {
      "cell_type": "markdown",
      "source": [
        "check tensor's dimension using `shape`. empty `[]` means zero dimension. "
      ],
      "metadata": {
        "id": "cmZkFExyfGeA"
      }
    },
    {
      "cell_type": "code",
      "source": [
        "print(t2)\n",
        "t2.shape"
      ],
      "metadata": {
        "colab": {
          "base_uri": "https://localhost:8080/"
        },
        "id": "31OjEmtGfNv3",
        "outputId": "c504d282-6b7e-4fb7-d1fb-72e641983dbf"
      },
      "execution_count": null,
      "outputs": [
        {
          "output_type": "stream",
          "name": "stdout",
          "text": [
            "tensor([1., 2., 3., 4.])\n"
          ]
        },
        {
          "output_type": "execute_result",
          "data": {
            "text/plain": [
              "torch.Size([4])"
            ]
          },
          "metadata": {},
          "execution_count": 15
        }
      ]
    },
    {
      "cell_type": "markdown",
      "source": [
        "size of 4 means the tensor has four elements."
      ],
      "metadata": {
        "id": "-s8MYf-FfcQQ"
      }
    },
    {
      "cell_type": "code",
      "source": [
        "print(t3)\n",
        "t3.shape"
      ],
      "metadata": {
        "colab": {
          "base_uri": "https://localhost:8080/"
        },
        "id": "r2oXpqYOgrVO",
        "outputId": "f20c3ae1-eca2-46c4-df86-191128371087"
      },
      "execution_count": null,
      "outputs": [
        {
          "output_type": "stream",
          "name": "stdout",
          "text": [
            "tensor([[ 5.,  6.],\n",
            "        [ 7.,  8.],\n",
            "        [ 9., 10.]])\n"
          ]
        },
        {
          "output_type": "execute_result",
          "data": {
            "text/plain": [
              "torch.Size([3, 2])"
            ]
          },
          "metadata": {},
          "execution_count": 21
        }
      ]
    },
    {
      "cell_type": "markdown",
      "source": [
        "From outside in, you are having `3` rows, and `2` columns. Then the size of `t3` is `[3,2]`."
      ],
      "metadata": {
        "id": "7AuzQRGWh2dk"
      }
    },
    {
      "cell_type": "code",
      "source": [
        "print(t4)\n",
        "t4.shape"
      ],
      "metadata": {
        "colab": {
          "base_uri": "https://localhost:8080/"
        },
        "id": "oEGFkKPvg2CJ",
        "outputId": "e331298e-638e-4b7b-b7f6-75e3196394f9"
      },
      "execution_count": null,
      "outputs": [
        {
          "output_type": "stream",
          "name": "stdout",
          "text": [
            "tensor([[[11., 12., 13.],\n",
            "         [13., 14., 15.]],\n",
            "\n",
            "        [[15., 16., 17.],\n",
            "         [17., 18., 19.]]])\n"
          ]
        },
        {
          "output_type": "execute_result",
          "data": {
            "text/plain": [
              "torch.Size([2, 2, 3])"
            ]
          },
          "metadata": {},
          "execution_count": 19
        }
      ]
    },
    {
      "cell_type": "markdown",
      "source": [
        "From outside in, you are having `2` matrices, `2` rows, and `3` columns. Then the size of the tensor is `[2,2,3]`. \n",
        "\n",
        "You cannot have an inappropriate tensor shape. See the following example:"
      ],
      "metadata": {
        "id": "eZtqbnx0iGLp"
      }
    },
    {
      "cell_type": "code",
      "source": [
        "t5 = torch.tensor([[5., 6, 11],\n",
        "                   [7,8],\n",
        "                   [9,10]]\n",
        ")\n",
        "t5"
      ],
      "metadata": {
        "colab": {
          "base_uri": "https://localhost:8080/",
          "height": 240
        },
        "id": "R3AenJlxiuIN",
        "outputId": "10fc471e-7c73-40ce-8c6a-78cfa4b178ae"
      },
      "execution_count": null,
      "outputs": [
        {
          "output_type": "error",
          "ename": "ValueError",
          "evalue": "ignored",
          "traceback": [
            "\u001b[0;31m---------------------------------------------------------------------------\u001b[0m",
            "\u001b[0;31mValueError\u001b[0m                                Traceback (most recent call last)",
            "\u001b[0;32m<ipython-input-22-01d0a12813a3>\u001b[0m in \u001b[0;36m<module>\u001b[0;34m\u001b[0m\n\u001b[0;32m----> 1\u001b[0;31m t5 = torch.tensor([[5., 6, 11],\n\u001b[0m\u001b[1;32m      2\u001b[0m                    \u001b[0;34m[\u001b[0m\u001b[0;36m7\u001b[0m\u001b[0;34m,\u001b[0m\u001b[0;36m8\u001b[0m\u001b[0;34m]\u001b[0m\u001b[0;34m,\u001b[0m\u001b[0;34m\u001b[0m\u001b[0;34m\u001b[0m\u001b[0m\n\u001b[1;32m      3\u001b[0m                    [9,10]]\n\u001b[1;32m      4\u001b[0m )\n\u001b[1;32m      5\u001b[0m \u001b[0mt5\u001b[0m\u001b[0;34m\u001b[0m\u001b[0;34m\u001b[0m\u001b[0m\n",
            "\u001b[0;31mValueError\u001b[0m: expected sequence of length 3 at dim 1 (got 2)"
          ]
        }
      ]
    },
    {
      "cell_type": "markdown",
      "source": [
        "You see from the above example that you have `3` columns in the first row, but only `2` colmns in the second and the third row. They must match to avoid errors."
      ],
      "metadata": {
        "id": "bXB5SuzGjICQ"
      }
    },
    {
      "cell_type": "markdown",
      "source": [
        "Tensor can be integrated with **arithmatic operations**. In the following example, `y` is created using an arithmatic expression that combines three tensors. "
      ],
      "metadata": {
        "id": "AO-6Y9Zzji75"
      }
    },
    {
      "cell_type": "code",
      "source": [
        "#Create tensors\n",
        "x = torch.tensor(3.)\n",
        "w = torch.tensor(4., requires_grad=True)\n",
        "b = torch.tensor(5., requires_grad=True)\n",
        "x, w, b"
      ],
      "metadata": {
        "colab": {
          "base_uri": "https://localhost:8080/"
        },
        "id": "px_oVH7PjxvY",
        "outputId": "6212566f-cdbf-46f7-e69a-6e67a3d19164"
      },
      "execution_count": null,
      "outputs": [
        {
          "output_type": "execute_result",
          "data": {
            "text/plain": [
              "(tensor(3.), tensor(4., requires_grad=True), tensor(5., requires_grad=True))"
            ]
          },
          "metadata": {},
          "execution_count": 23
        }
      ]
    },
    {
      "cell_type": "markdown",
      "source": [
        "Note that `requires_grad=True` condition is used for `w` and `b`, but not used for `x`. This means we are only interested in calculating the derivative or gradient wrt `w` and `b`."
      ],
      "metadata": {
        "id": "ZQH2p8Prl6zJ"
      }
    },
    {
      "cell_type": "code",
      "source": [
        "# Arithmetic operations\n",
        "y = w * x + b\n",
        "y"
      ],
      "metadata": {
        "colab": {
          "base_uri": "https://localhost:8080/"
        },
        "id": "vl6Wec8KkJmh",
        "outputId": "7cde29c3-9f71-49b5-d2e3-5e2bc8609711"
      },
      "execution_count": null,
      "outputs": [
        {
          "output_type": "execute_result",
          "data": {
            "text/plain": [
              "tensor(17., grad_fn=<AddBackward0>)"
            ]
          },
          "metadata": {},
          "execution_count": 24
        }
      ]
    },
    {
      "cell_type": "markdown",
      "source": [
        "As expected, `y` has a size of `17`, because size of `x` * size of `w` + size of `b` = `3 * 4 + 5 = 17`."
      ],
      "metadata": {
        "id": "bJNPUIXdmt9q"
      }
    },
    {
      "cell_type": "markdown",
      "source": [
        "If we want to take derivative of `y` wrt either, `w` , `x` or `b`, use `y.backward()`:"
      ],
      "metadata": {
        "id": "kIqPC7BNnQ5f"
      }
    },
    {
      "cell_type": "code",
      "source": [
        "y.backward()"
      ],
      "metadata": {
        "id": "4czR2DW5ncGC"
      },
      "execution_count": null,
      "outputs": []
    },
    {
      "cell_type": "markdown",
      "source": [
        "The derivatives of `y` wrt these three tensors (`w`, `x`, `b`) can be accessed through `grad`. "
      ],
      "metadata": {
        "id": "YaRg-ytMnqiZ"
      }
    },
    {
      "cell_type": "code",
      "source": [
        "#Display gradients\n",
        "print('dy/dx:', x.grad)\n",
        "print('dy/dw:', w.grad)\n",
        "print('dy/db:', b.grad)"
      ],
      "metadata": {
        "colab": {
          "base_uri": "https://localhost:8080/"
        },
        "id": "ybIIMJPAoaXe",
        "outputId": "2da11e1a-7b7c-45c8-9e89-018a2425cfa2"
      },
      "execution_count": null,
      "outputs": [
        {
          "output_type": "stream",
          "name": "stdout",
          "text": [
            "dy/dx: None\n",
            "dy/dw: tensor(3.)\n",
            "dy/db: tensor(1.)\n"
          ]
        }
      ]
    },
    {
      "cell_type": "markdown",
      "source": [
        "Let's take a closer look at the outputted results. `dy/dx` outputs `None` for the gradient because we wasn't interested in its gradient. `dy/dw = x` (`b` is a constant here), `x` has the size of `3`. `dy/db = 1`."
      ],
      "metadata": {
        "id": "Zwf3r9lWouVk"
      }
    },
    {
      "cell_type": "markdown",
      "source": [
        "Let's see other torch method examples:"
      ],
      "metadata": {
        "id": "Bq8NkDhfqEKA"
      }
    },
    {
      "cell_type": "code",
      "source": [
        "t6 = torch.full((3,2), 44)\n",
        "t6"
      ],
      "metadata": {
        "colab": {
          "base_uri": "https://localhost:8080/"
        },
        "id": "ieQvOfxPpxHC",
        "outputId": "24a995ab-7f62-41c8-91ef-cf0c309288a4"
      },
      "execution_count": null,
      "outputs": [
        {
          "output_type": "execute_result",
          "data": {
            "text/plain": [
              "tensor([[44, 44],\n",
              "        [44, 44],\n",
              "        [44, 44]])"
            ]
          },
          "metadata": {},
          "execution_count": 31
        }
      ]
    },
    {
      "cell_type": "code",
      "source": [
        "t7 = torch.cat((t3,t6))\n",
        "t7"
      ],
      "metadata": {
        "colab": {
          "base_uri": "https://localhost:8080/"
        },
        "id": "2LgIJDw7qYEl",
        "outputId": "1b33e372-5577-42ad-ed98-1ec91b1d2961"
      },
      "execution_count": null,
      "outputs": [
        {
          "output_type": "execute_result",
          "data": {
            "text/plain": [
              "tensor([[ 5.,  6.],\n",
              "        [ 7.,  8.],\n",
              "        [ 9., 10.],\n",
              "        [44., 44.],\n",
              "        [44., 44.],\n",
              "        [44., 44.]])"
            ]
          },
          "metadata": {},
          "execution_count": 33
        }
      ]
    },
    {
      "cell_type": "markdown",
      "source": [
        "`Cat()` in PyTorch is used for concatenating two or more tensors in the same dimension."
      ],
      "metadata": {
        "id": "JfdjfAL8rEG9"
      }
    },
    {
      "cell_type": "code",
      "source": [
        "print(t7)\n",
        "t7.shape"
      ],
      "metadata": {
        "colab": {
          "base_uri": "https://localhost:8080/"
        },
        "id": "JQOrqpHMrP5Z",
        "outputId": "7512305f-65aa-4e24-bb9a-e2db32110840"
      },
      "execution_count": null,
      "outputs": [
        {
          "output_type": "stream",
          "name": "stdout",
          "text": [
            "tensor([[ 5.,  6.],\n",
            "        [ 7.,  8.],\n",
            "        [ 9., 10.],\n",
            "        [44., 44.],\n",
            "        [44., 44.],\n",
            "        [44., 44.]])\n"
          ]
        },
        {
          "output_type": "execute_result",
          "data": {
            "text/plain": [
              "torch.Size([6, 2])"
            ]
          },
          "metadata": {},
          "execution_count": 35
        }
      ]
    },
    {
      "cell_type": "code",
      "source": [
        "t8 = torch.sin(t7)\n",
        "t8"
      ],
      "metadata": {
        "colab": {
          "base_uri": "https://localhost:8080/"
        },
        "id": "mT3WAggXrd4H",
        "outputId": "8ffff2c6-ec10-4773-b488-943b7d21bb98"
      },
      "execution_count": null,
      "outputs": [
        {
          "output_type": "execute_result",
          "data": {
            "text/plain": [
              "tensor([[-0.9589, -0.2794],\n",
              "        [ 0.6570,  0.9894],\n",
              "        [ 0.4121, -0.5440],\n",
              "        [ 0.0177,  0.0177],\n",
              "        [ 0.0177,  0.0177],\n",
              "        [ 0.0177,  0.0177]])"
            ]
          },
          "metadata": {},
          "execution_count": 37
        }
      ]
    },
    {
      "cell_type": "markdown",
      "source": [
        "`torch.sin()` evaluates `sin` of each entry element."
      ],
      "metadata": {
        "id": "oKXHpR7mrmJ_"
      }
    },
    {
      "cell_type": "code",
      "source": [
        "t9 = t8.reshape(3,2,2)\n",
        "t9"
      ],
      "metadata": {
        "colab": {
          "base_uri": "https://localhost:8080/"
        },
        "id": "F8BVwCKGrwbf",
        "outputId": "5b4f719a-a587-40ef-ac18-a682bd010db9"
      },
      "execution_count": null,
      "outputs": [
        {
          "output_type": "execute_result",
          "data": {
            "text/plain": [
              "tensor([[[-0.9589, -0.2794],\n",
              "         [ 0.6570,  0.9894]],\n",
              "\n",
              "        [[ 0.4121, -0.5440],\n",
              "         [ 0.0177,  0.0177]],\n",
              "\n",
              "        [[ 0.0177,  0.0177],\n",
              "         [ 0.0177,  0.0177]]])"
            ]
          },
          "metadata": {},
          "execution_count": 38
        }
      ]
    },
    {
      "cell_type": "markdown",
      "source": [
        "Check [Tensor operations](https://pytorch.org/docs/stable/torch.html)"
      ],
      "metadata": {
        "id": "RHN2w7VbsB4-"
      }
    },
    {
      "cell_type": "markdown",
      "source": [
        "Test the new commit"
      ],
      "metadata": {
        "id": "mN9ydkTTvAww"
      }
    }
  ]
}