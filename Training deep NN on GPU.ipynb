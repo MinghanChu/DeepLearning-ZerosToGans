{
  "nbformat": 4,
  "nbformat_minor": 0,
  "metadata": {
    "colab": {
      "provenance": [],
      "authorship_tag": "ABX9TyO10bqjY8CwJdpuADP5PdOD",
      "include_colab_link": true
    },
    "kernelspec": {
      "name": "python3",
      "display_name": "Python 3"
    },
    "language_info": {
      "name": "python"
    },
    "accelerator": "GPU",
    "gpuClass": "standard"
  },
  "cells": [
    {
      "cell_type": "markdown",
      "metadata": {
        "id": "view-in-github",
        "colab_type": "text"
      },
      "source": [
        "<a href=\"https://colab.research.google.com/github/Renshui-MC/DeepLearning-ZerosToGans/blob/main/Training%20deep%20NN%20on%20GPU.ipynb\" target=\"_parent\"><img src=\"https://colab.research.google.com/assets/colab-badge.svg\" alt=\"Open In Colab\"/></a>"
      ]
    },
    {
      "cell_type": "markdown",
      "source": [
        "# **Using GPU for training**\n",
        "+ training on GPU can be a lot faster than that on CPU, e.g., minutes vs hours!!\n",
        "\n",
        "+ we have to first enable the GPU option from \"Runtime\" \n",
        "\n",
        "+ **using training and validation datasets for obtaining a good model, i.e., high accuracy and low loss**, but we do not test our model using the training and validation datasets! \n",
        "\n",
        "+ after training our model, we test our model using **test datasets**"
      ],
      "metadata": {
        "id": "FoHi6VaV5L8j"
      }
    },
    {
      "cell_type": "markdown",
      "source": [
        "## Preparing the Data\n",
        "\n",
        "Recall that linear-regression logistic regression model is used to identify handwritten digits from the MNIST dataset with an accuracy of around 86%. The dataset consists of 28px by 28px grayscale images of handwritten digits (0 to 9) and labels for each image indicating which digit it represents. Here are some sample images from the dataset:\n",
        "\n",
        "![mnist-sample](https://i.imgur.com/CAYnuo1.jpg)\n",
        "\n",
        "We noticed that it's quite challenging to improve the accuracy of a logistic regression model beyond 87%, since the model assumes a **linear relationship** between **pixel intensities and image labels**.\n",
        "\n",
        "In this post, we'll try to improve upon it  using a **feed-forward neural network** which can capture non-linear relationships between inputs and targets.\n",
        "\n",
        "Let's begin by installing and importing the required modules and classes from `torch`, `torchvision`, `numpy`, and `matplotlib`."
      ],
      "metadata": {
        "id": "s6at5wd17JT4"
      }
    },
    {
      "cell_type": "code",
      "execution_count": 62,
      "metadata": {
        "id": "_L8ThjQu29a8"
      },
      "outputs": [],
      "source": [
        "import torch\n",
        "import torchvision\n",
        "import numpy as np\n",
        "import matplotlib\n",
        "import matplotlib.pyplot as plt\n",
        "import torch.nn as nn\n",
        "import torch.nn.functional as F\n",
        "from torchvision.datasets import MNIST\n",
        "from torchvision.transforms import ToTensor\n",
        "from torchvision.utils import make_grid\n",
        "from torch.utils.data.dataloader import DataLoader\n",
        "from torch.utils.data import random_split\n",
        "%matplotlib inline\n",
        "\n",
        "# Use a white background for matplotlib figures\n",
        "matplotlib.rcParams['figure.facecolor'] = '#ffffff'\n"
      ]
    },
    {
      "cell_type": "markdown",
      "source": [
        "We can download the data and create a PyTorch dataset using the `MNIST` class from `torchvision.datasets`. \n",
        "\n",
        "+ `transform=ToTensor()`: images are downloaded as pytorch tensor shape: `1x28x28`(color channel, width, height)\n",
        "\n",
        "+ `plt.imshow` is used to display the images. This object requirs **the color channel to be the last dimension in an image tensor**. so use `permute` method to reorder the dimensions of the images \n",
        "\n",
        "+ `root='data/'`: datasets are downloaded to the specified root\n"
      ],
      "metadata": {
        "id": "y_9UCqr3BgoG"
      }
    },
    {
      "cell_type": "code",
      "source": [
        "dataset = MNIST(root='data/', download=True, transform=ToTensor())"
      ],
      "metadata": {
        "id": "Afdb1Hv-B7ao"
      },
      "execution_count": 63,
      "outputs": []
    },
    {
      "cell_type": "markdown",
      "source": [
        "+ `image, label = dataset[0]` means the first image of the dataset: `image` contains $28 \\times 28$ pixels\n",
        "\n",
        "+ we check the original image shape, i.e., `image.shape` and gets `[1, 28, 28]`\n",
        "\n",
        "+ `image.permute()` can be used to reorder the dimensions, e.g., `image.permute(1,2,0)` that puts the first dimension as the last dimension"
      ],
      "metadata": {
        "id": "-WDowaaKGqlh"
      }
    },
    {
      "cell_type": "code",
      "source": [
        "image, label = dataset[0]\n",
        "print(image.shape)\n",
        "print(image.permute(1,2,0).shape) \n",
        "print(image[0].shape)                 "
      ],
      "metadata": {
        "colab": {
          "base_uri": "https://localhost:8080/"
        },
        "id": "e-Fp9xFdIVfl",
        "outputId": "de44f9cb-46a2-40d6-cb02-f3f53cdc4f1d"
      },
      "execution_count": 64,
      "outputs": [
        {
          "output_type": "stream",
          "name": "stdout",
          "text": [
            "torch.Size([1, 28, 28])\n",
            "torch.Size([28, 28, 1])\n",
            "torch.Size([28, 28])\n"
          ]
        }
      ]
    },
    {
      "cell_type": "markdown",
      "source": [
        "use `image[0]` to remove the color channel dimension. Otherwise we will get an error message. "
      ],
      "metadata": {
        "id": "imCqCKZPLzqe"
      }
    },
    {
      "cell_type": "code",
      "source": [
        "image, label = dataset[0]\n",
        "print('image.shape:', image.shape)\n",
        "plt.imshow(image[0], cmap='gray')\n",
        "print('Label:', label)"
      ],
      "metadata": {
        "colab": {
          "base_uri": "https://localhost:8080/",
          "height": 301
        },
        "id": "tRUAZWPSGcIi",
        "outputId": "7096c98d-d0b5-49cc-96bf-0bce04652551"
      },
      "execution_count": 65,
      "outputs": [
        {
          "output_type": "stream",
          "name": "stdout",
          "text": [
            "image.shape: torch.Size([1, 28, 28])\n",
            "Label: 5\n"
          ]
        },
        {
          "output_type": "display_data",
          "data": {
            "text/plain": [
              "<Figure size 432x288 with 1 Axes>"
            ],
            "image/png": "[encoded data removed]"
          },
          "metadata": {}
        }
      ]
    },
    {
      "cell_type": "markdown",
      "source": [
        "Next, let's use the `random_split` helper function to set aside $10000$ images for our **validation set**.\n",
        "\n",
        "+ choose the size of the **validation set** \n",
        "+ choose the size of the **training set** "
      ],
      "metadata": {
        "id": "Iwt94JmVM6Tb"
      }
    },
    {
      "cell_type": "code",
      "source": [
        "len(dataset)"
      ],
      "metadata": {
        "colab": {
          "base_uri": "https://localhost:8080/"
        },
        "id": "L8CJMQJ4TUKO",
        "outputId": "f8991e16-34f8-4ded-d3ef-86cf58e2903f"
      },
      "execution_count": 66,
      "outputs": [
        {
          "output_type": "execute_result",
          "data": {
            "text/plain": [
              "60000"
            ]
          },
          "metadata": {},
          "execution_count": 66
        }
      ]
    },
    {
      "cell_type": "code",
      "source": [
        "val_size = 10000\n",
        "train_size = len(dataset) - val_size\n",
        "\n",
        "train_ds, val_ds = random_split(dataset, [train_size, val_size])\n",
        "len(train_ds), len(val_ds)"
      ],
      "metadata": {
        "colab": {
          "base_uri": "https://localhost:8080/"
        },
        "id": "MKOms4xbTQ_s",
        "outputId": "345b56e5-0f5f-4e06-9b5d-2f165d1e53d5"
      },
      "execution_count": 67,
      "outputs": [
        {
          "output_type": "execute_result",
          "data": {
            "text/plain": [
              "(50000, 10000)"
            ]
          },
          "metadata": {},
          "execution_count": 67
        }
      ]
    },
    {
      "cell_type": "markdown",
      "source": [
        "We can now create `PyTorch` data loaders for **training and validation**.\n",
        "\n",
        "+ specify the batch size = $128$ for `DataLoader`\n",
        "+ `num_workers=4`: Setting the argument `num_workers` as a positive integer will turn on **multi-process data loading** with the specified number of loader worker processes\n",
        "+ setting `pin_memory=True`, which enables fast data transfer to **CUDA-enabled GPUs**\n",
        "\n"
      ],
      "metadata": {
        "id": "qUIXj4F7TwMz"
      }
    },
    {
      "cell_type": "code",
      "source": [
        "batch_size = 128"
      ],
      "metadata": {
        "id": "RZdrm45MZdqt"
      },
      "execution_count": 68,
      "outputs": []
    },
    {
      "cell_type": "code",
      "source": [
        "train_loader = DataLoader(train_ds, batch_size, shuffle=True, num_workers=4, pin_memory=True)\n",
        "val_loader = DataLoader(val_ds, batch_size*2, num_workers=4, pin_memory=True)"
      ],
      "metadata": {
        "id": "M42qt3tzZYGz"
      },
      "execution_count": 69,
      "outputs": []
    },
    {
      "cell_type": "markdown",
      "source": [
        "Let's visualize a batch of data in a grid using the `make_grid` function from `torchvision`. \n",
        "\n",
        "+ `.permute` is needed to move the channel color dimension to the last dimension for `matplotlib` to work\n",
        "+  `nrow` number of images displayed in each row of the grid\n",
        "+ `grid.shape torch.Size([3, 242, 482])` ($242$ is height and $482$ is width) shows that the channel dimension is on the first index, and we need to move it to the last index to be compatible with `imshow`\n",
        "+ $16 \\times 8 = 128$ (a batch size)\n",
        "+ `plt.figure(figsize=(16,8))` is just used to control the figure size. You can change `(16,8)` to a different pair to see how figure size changes\n",
        "+ `nrow = 16` represents the number of columns in the output figure. Why $16$? While it can be any number, $16$ is chosen because $128$ is completely divisible by $16$. You can also set `nrow = 8` and the figure changes its shape of representation  \n"
      ],
      "metadata": {
        "id": "I-o0iRk4cUA-"
      }
    },
    {
      "cell_type": "code",
      "source": [
        "for images, _ in train_loader:\n",
        "    print('image.shape:', images.shape)\n",
        "    print('grid.shape', make_grid(images, nrow=16).shape)\n",
        "    break"
      ],
      "metadata": {
        "colab": {
          "base_uri": "https://localhost:8080/"
        },
        "id": "WYjrNNnMdaK9",
        "outputId": "801e81bf-ffeb-405f-eff8-ed4fd4a139aa"
      },
      "execution_count": 70,
      "outputs": [
        {
          "output_type": "stream",
          "name": "stdout",
          "text": [
            "image.shape: torch.Size([128, 1, 28, 28])\n",
            "grid.shape torch.Size([3, 242, 482])\n"
          ]
        }
      ]
    },
    {
      "cell_type": "code",
      "source": [
        "for images, _ in train_loader:\n",
        "    print('images.shape:', images.shape)\n",
        "    plt.figure(figsize=(16,8))\n",
        "    plt.axis('off')\n",
        "    plt.imshow(make_grid(images, nrow=8).permute((1, 2, 0)))\n",
        "    break"
      ],
      "metadata": {
        "colab": {
          "base_uri": "https://localhost:8080/",
          "height": 484
        },
        "id": "UeHUzY22csDL",
        "outputId": "5620e387-6d39-493c-ad80-8f66a455bef6"
      },
      "execution_count": 71,
      "outputs": [
        {
          "output_type": "stream",
          "name": "stdout",
          "text": [
            "images.shape: torch.Size([128, 1, 28, 28])\n"
          ]
        },
        {
          "output_type": "display_data",
          "data": {
            "text/plain": [
              "<Figure size 1152x576 with 1 Axes>"
            ],
            "image/png": "[encoded data removed]"
          },
          "metadata": {}
        }
      ]
    },
    {
      "cell_type": "markdown",
      "source": [
        "## **Hidden Layers, Activation Functions and Non-Linearity**\n",
        "\n",
        "We'll create a neural network with two layers: a **hidden layer** and an **output layer**. Additionally, we'll use an **activation function** between the two layers \n",
        "\n",
        "+ how **hidden layers** and **activation functions** can help capture non-linear relationships between inputs and outputs\n",
        "\n",
        "+ First, let's create a batch of inputs tensors. We'll flatten the `1x28x28` images into vectors of size `784`, so they can be passed into an `nn.Linear` object\n",
        "\n",
        "1. `images` contains a set of batches \n",
        "\n",
        "2. Recall linear regression takes only a one-dimensional vector of each batch, therefore we have to convert $28 \\times 28$ into $784$ (2D to 1D)"
      ],
      "metadata": {
        "id": "VRaoRpcerMOw"
      }
    },
    {
      "cell_type": "code",
      "source": [
        "for images, labels in train_loader:\n",
        "    print('images.shape:', images.shape)\n",
        "    break"
      ],
      "metadata": {
        "colab": {
          "base_uri": "https://localhost:8080/"
        },
        "id": "XTK-7FrEt1tD",
        "outputId": "379d07f4-e475-4946-8d71-42f9e1f1a7e3"
      },
      "execution_count": 72,
      "outputs": [
        {
          "output_type": "stream",
          "name": "stdout",
          "text": [
            "images.shape: torch.Size([128, 1, 28, 28])\n"
          ]
        }
      ]
    },
    {
      "cell_type": "code",
      "source": [
        "for images, labels in train_loader:\n",
        "    print('images.shape:', images.shape)\n",
        "    inputs = images.reshape(-1, 784)\n",
        "    print('inputs.shape:', inputs.shape)\n",
        "    break"
      ],
      "metadata": {
        "colab": {
          "base_uri": "https://localhost:8080/"
        },
        "id": "-jTpmXhHreqQ",
        "outputId": "83ef5895-ef34-46b3-9256-2b4cc8a60308"
      },
      "execution_count": 73,
      "outputs": [
        {
          "output_type": "stream",
          "name": "stdout",
          "text": [
            "images.shape: torch.Size([128, 1, 28, 28])\n",
            "inputs.shape: torch.Size([128, 784])\n"
          ]
        }
      ]
    },
    {
      "cell_type": "markdown",
      "source": [
        "Next, let's create a `nn.Linear` object as our **hidden layer**. \n",
        "\n",
        "+ We'll set the size of the output from the hidden layer to $32$. (This number can be increased or decreased to change the **learning capacity** of the model.)\n",
        "\n",
        "+ recall the **linear logistic regression model** `model = nn.Linear(input_size, num_classes)` takes `input_size` ($784$ one image contains $28 \\times 28$ pixels) and `num_classes` ($10$ outputs)\n",
        "\n",
        "+ here we use the same `input_size` ($784$) but **set the intermediate hidden layer** be $32$ for the output"
      ],
      "metadata": {
        "id": "_pt1c1iowRAl"
      }
    },
    {
      "cell_type": "code",
      "source": [
        "input_size = inputs.shape[-1]\n",
        "hidden_size = 32\n",
        "\n",
        "print('input_size: ',input_size)"
      ],
      "metadata": {
        "colab": {
          "base_uri": "https://localhost:8080/"
        },
        "id": "Hp89kvJdapcY",
        "outputId": "fe3a5d0e-e19e-41ed-d11e-84268e6325e0"
      },
      "execution_count": 74,
      "outputs": [
        {
          "output_type": "stream",
          "name": "stdout",
          "text": [
            "input_size:  784\n"
          ]
        }
      ]
    },
    {
      "cell_type": "markdown",
      "source": [
        "**input_size:** $784$ \\\\\n",
        "**hidden_size:** $32$ (a different value can be used)\n",
        "\n",
        "**Step one:** created layer one"
      ],
      "metadata": {
        "id": "-J3yFPAzgssx"
      }
    },
    {
      "cell_type": "code",
      "source": [
        "layer1 = nn.Linear(input_size, hidden_size)"
      ],
      "metadata": {
        "id": "AW33R19cfkd7"
      },
      "execution_count": 75,
      "outputs": []
    },
    {
      "cell_type": "markdown",
      "source": [
        "We can now compute intermediate outputs for the batch of images by passing `inputs` through `layer1`.\n",
        "\n",
        "+ `inputs` ($128 \\times 784$) is converted to the dimension (reshape(-1, 784)) that is compatible with the `nn.Linear()` model\n",
        "\n",
        "+ `layer1` is a linear regression model, which contains **weights** (layer1.weights) and **bias** (layer1.biase)"
      ],
      "metadata": {
        "id": "nZsk4xaqhHi-"
      }
    },
    {
      "cell_type": "code",
      "source": [
        "inputs.shape"
      ],
      "metadata": {
        "colab": {
          "base_uri": "https://localhost:8080/"
        },
        "id": "fscxjQ7vhPB2",
        "outputId": "75e2493f-c4b8-471d-a5d2-a67832632efa"
      },
      "execution_count": 76,
      "outputs": [
        {
          "output_type": "execute_result",
          "data": {
            "text/plain": [
              "torch.Size([128, 784])"
            ]
          },
          "metadata": {},
          "execution_count": 76
        }
      ]
    },
    {
      "cell_type": "code",
      "source": [
        "layer1_outputs = layer1(inputs)\n",
        "print('layer1_outputs.shape:', layer1_outputs.shape)"
      ],
      "metadata": {
        "colab": {
          "base_uri": "https://localhost:8080/"
        },
        "id": "KEkUXxg-hVOK",
        "outputId": "f43a9768-3fc7-420f-b08d-ed159c92ab8c"
      },
      "execution_count": 77,
      "outputs": [
        {
          "output_type": "stream",
          "name": "stdout",
          "text": [
            "layer1_outputs.shape: torch.Size([128, 32])\n"
          ]
        }
      ]
    },
    {
      "cell_type": "markdown",
      "source": [
        "The **inputs matrix** ($128 \\times 784$) is transformed into **intermediate output matrix** ($128 \\times 32$) by performing a **direct matrix multiplication**:\n",
        "\n",
        "+  `inputs` matrix with the **transposed weights matrix** of `layer1` and adding the bias. \n",
        "\n",
        "+ recall **weights** dimensions: number of training examples ($128$) times number of outputs ($32$), and **bias** dimension is number of outputs ($32$)\n",
        "\n",
        "We can verify this using `torch.allclose`. "
      ],
      "metadata": {
        "id": "hTJpojXRhfoO"
      }
    },
    {
      "cell_type": "code",
      "source": [
        "layer1_outputs_direct = inputs @ layer1.weight.t() + layer1.bias\n",
        "layer1_outputs_direct.shape"
      ],
      "metadata": {
        "colab": {
          "base_uri": "https://localhost:8080/"
        },
        "id": "HWDwlmeahikC",
        "outputId": "3d414a38-84cf-4c7e-c8c0-53f649fb20a9"
      },
      "execution_count": 78,
      "outputs": [
        {
          "output_type": "execute_result",
          "data": {
            "text/plain": [
              "torch.Size([128, 32])"
            ]
          },
          "metadata": {},
          "execution_count": 78
        }
      ]
    },
    {
      "cell_type": "code",
      "source": [
        "print('weights dimensions: ', layer1.weight.shape)\n",
        "print('bias dimensions: ', layer1.bias.shape)\n",
        "print('inputs dimensions: ', inputs.shape)"
      ],
      "metadata": {
        "colab": {
          "base_uri": "https://localhost:8080/"
        },
        "id": "XC2RncmclvfP",
        "outputId": "75620bf7-faca-4012-d0ff-d98551690d0b"
      },
      "execution_count": 79,
      "outputs": [
        {
          "output_type": "stream",
          "name": "stdout",
          "text": [
            "weights dimensions:  torch.Size([32, 784])\n",
            "bias dimensions:  torch.Size([32])\n",
            "inputs dimensions:  torch.Size([128, 784])\n"
          ]
        }
      ]
    },
    {
      "cell_type": "markdown",
      "source": [
        "`layer1` and direct matrix operation give the same results, and we get \"True\""
      ],
      "metadata": {
        "id": "lidWPcVape1M"
      }
    },
    {
      "cell_type": "code",
      "source": [
        "torch.allclose(layer1_outputs, layer1_outputs_direct, 1e-3)"
      ],
      "metadata": {
        "colab": {
          "base_uri": "https://localhost:8080/"
        },
        "id": "r4Ed4QpbhlMv",
        "outputId": "ff760dce-e3a7-4890-8fde-c70e99d3c891"
      },
      "execution_count": 80,
      "outputs": [
        {
          "output_type": "execute_result",
          "data": {
            "text/plain": [
              "True"
            ]
          },
          "metadata": {},
          "execution_count": 80
        }
      ]
    },
    {
      "cell_type": "markdown",
      "source": [
        "## linear relationship\n",
        "\n",
        "Thus, `layer1_outputs` and `inputs` have a linear relationship, i.e., each element of `layer_outputs` is a weighted sum of elements ($728$ pixels) from `inputs`. \n",
        "\n",
        "Thus, even as we train the model and modify the weights, `layer1` can only capture linear relationships between `inputs` and `outputs`.\n",
        "\n",
        "<img src=\"https://i.imgur.com/inXsLuq.png\" width=\"360\">"
      ],
      "metadata": {
        "id": "lrrV_sHxhn7r"
      }
    },
    {
      "cell_type": "markdown",
      "source": [
        "## non-linear relationship (activation function removing negative values)\n",
        "Next, we'll use the **Rectified Linear Unit (ReLU) function** as the **activation function** for the outputs. It has the formula `relu(x) = max(0,x)` i.e. it simply replaces negative values in a given tensor with the value 0. **ReLU is a non-linear function**, as seen here visually:\n",
        "\n",
        "<img src=\"https://i.imgur.com/yijV4xF.png\" width=\"420\">\n",
        "\n",
        "We can use the `F.relu` method to apply ReLU to the elements of a tensor."
      ],
      "metadata": {
        "id": "ebM3uugXhuns"
      }
    },
    {
      "cell_type": "code",
      "source": [
        "F.relu(torch.tensor([[1, -1, 0], \n",
        "                     [-0.1, .2, 3]]))"
      ],
      "metadata": {
        "colab": {
          "base_uri": "https://localhost:8080/"
        },
        "id": "KoXjkoo3hxXp",
        "outputId": "74da6c12-4b8f-43a9-cf91-e0ac22c36f74"
      },
      "execution_count": 81,
      "outputs": [
        {
          "output_type": "execute_result",
          "data": {
            "text/plain": [
              "tensor([[1.0000, 0.0000, 0.0000],\n",
              "        [0.0000, 0.2000, 3.0000]])"
            ]
          },
          "metadata": {},
          "execution_count": 81
        }
      ]
    },
    {
      "cell_type": "markdown",
      "source": [
        "Let's apply the activation function to `layer1_outputs` and verify that negative values were replaced with 0.\n",
        "\n",
        "+ note that `F.relu` does not change the shape\n",
        "\n",
        "**Step two:** taking the outputs from `layer1` at **step one** to create a **nonlinear layer output** `relu_outputs`"
      ],
      "metadata": {
        "id": "DAEijpa3h3UG"
      }
    },
    {
      "cell_type": "code",
      "source": [
        "relu_outputs = F.relu(layer1_outputs)\n",
        "print('relu_outputs.shape', relu_outputs.shape)\n",
        "print('min(layer1_outputs):', torch.min(layer1_outputs).item())\n",
        "print('min(relu_outputs):', torch.min(relu_outputs).item())"
      ],
      "metadata": {
        "colab": {
          "base_uri": "https://localhost:8080/"
        },
        "id": "RAh3fRUbh5Gf",
        "outputId": "9024f805-1776-4795-9613-5b5d93ee3843"
      },
      "execution_count": 82,
      "outputs": [
        {
          "output_type": "stream",
          "name": "stdout",
          "text": [
            "relu_outputs.shape torch.Size([128, 32])\n",
            "min(layer1_outputs): -0.74245285987854\n",
            "min(relu_outputs): 0.0\n"
          ]
        }
      ]
    },
    {
      "cell_type": "markdown",
      "source": [
        "With the **activation function** `ReLU`, the relationship between`relu_outputs` and `inputs` is no longer linear. \n",
        "\n",
        "+ for each input certain outputs are activated (those with non-zero values) while others turned off (those with zero values)\n",
        "\n",
        "+ Next, let's create an output layer to convert vectors of length `hidden_size` in `relu_outputs` into vectors of length $10$, which is the desired output of our model (since there are $10$ target labels).\n",
        "\n",
        "_Quesiont: why is this Rectified activation function good?_ \\\\\n",
        "Ans: it removes the negtive values that are not physically realistic"
      ],
      "metadata": {
        "id": "qpaZtWGGh7si"
      }
    },
    {
      "cell_type": "code",
      "source": [
        "output_size = 10\n",
        "layer2 = nn.Linear(hidden_size, output_size)"
      ],
      "metadata": {
        "id": "qwOkQPLEh-4h"
      },
      "execution_count": 83,
      "outputs": []
    },
    {
      "cell_type": "markdown",
      "source": [
        "**Step three:** taking the nonlinear output results (`relu_outputs`) from **step two** to create a linear relationship (`layer2_outputs`)"
      ],
      "metadata": {
        "id": "r_qRswaL1klJ"
      }
    },
    {
      "cell_type": "code",
      "source": [
        "layer2_outputs = layer2(relu_outputs)\n",
        "print(layer2_outputs.shape)"
      ],
      "metadata": {
        "colab": {
          "base_uri": "https://localhost:8080/"
        },
        "id": "CWWSP3bBxnqc",
        "outputId": "083cf2aa-e87d-409b-ab0d-a11643aab7cf"
      },
      "execution_count": 84,
      "outputs": [
        {
          "output_type": "stream",
          "name": "stdout",
          "text": [
            "torch.Size([128, 10])\n"
          ]
        }
      ]
    },
    {
      "cell_type": "markdown",
      "source": [
        "## Gradient descent (`cross_entry`)\n",
        "As expected, `layer2_outputs` contains a batch of vectors of size $10$. We can now use this output to compute the loss using `F.cross_entropy` and adjust the weights of `layer1` and `layer2` using **gradient descent.**"
      ],
      "metadata": {
        "id": "Ux945Oy2y18V"
      }
    },
    {
      "cell_type": "code",
      "source": [
        "F.cross_entropy(layer2_outputs, labels)"
      ],
      "metadata": {
        "colab": {
          "base_uri": "https://localhost:8080/"
        },
        "id": "fOTzDmWHy1KU",
        "outputId": "ebd296dc-5f50-4d27-964c-9088a12a2030"
      },
      "execution_count": 85,
      "outputs": [
        {
          "output_type": "execute_result",
          "data": {
            "text/plain": [
              "tensor(2.3272, grad_fn=<NllLossBackward0>)"
            ]
          },
          "metadata": {},
          "execution_count": 85
        }
      ]
    },
    {
      "cell_type": "markdown",
      "source": [
        "Thus, our model \n",
        "\n",
        "1. transforms `inputs` into `layer2_outputs` by applying a **linear transformation** (using `layer1`),\n",
        "2. followed by a **non-linear activation** (using `F.relu`), \n",
        "3. followed by another **linear transformation** (using `layer2`). \n",
        "\n",
        "Let's verify this by re-computing the output using basic matrix operations."
      ],
      "metadata": {
        "id": "OhBC9a3pzPHK"
      }
    },
    {
      "cell_type": "code",
      "source": [
        "# Expanded version of layer2(F.relu(layer1(inputs)))\n",
        "outputs = (F.relu(inputs @ layer1.weight.t() + layer1.bias)) @ layer2.weight.t() + layer2.bias"
      ],
      "metadata": {
        "id": "0SIAHeSdzQ8A"
      },
      "execution_count": 86,
      "outputs": []
    },
    {
      "cell_type": "code",
      "source": [
        "torch.allclose(outputs, layer2_outputs, 1e-3)"
      ],
      "metadata": {
        "colab": {
          "base_uri": "https://localhost:8080/"
        },
        "id": "h7iYRF89zS1j",
        "outputId": "f9b3ead0-59a5-4796-d87b-2ec6818699b6"
      },
      "execution_count": 87,
      "outputs": [
        {
          "output_type": "execute_result",
          "data": {
            "text/plain": [
              "True"
            ]
          },
          "metadata": {},
          "execution_count": 87
        }
      ]
    },
    {
      "cell_type": "markdown",
      "source": [
        "1. Note that `outputs` and `inputs` do not have a linear relationship due to the non-linear activation function `F.relu`. \n",
        "2. we train the model and adjust **ONLY** the weights of `layer1` and `layer2`, \n",
        "3. we can now capture non-linear relationships between the images and their labels. In other words, **introducing non-linearity** makes the model more powerful and versatile.\n",
        "4. since `hidden_size` does **NOT** depend on the dimensions of the inputs or outputs, we vary it to increase the number of parameters within the model.\n",
        "5. We can also introduce **new hidden layers** and apply the same non-linear activation after each hidden layer (**multi-layered relationships**). \n",
        "\n",
        "The model we just created is called **a neural network**. A **deep neural network** is simply **a neural network with one or more hidden layers**. In fact, the [Universal Approximation Theorem](http://neuralnetworksanddeeplearning.com/chap4.html) states that a sufficiently large & deep neural network can compute any arbitrary function i.e. it can _learn_ rich and complex non-linear relationships between inputs and targets. Here are some examples:\n",
        "\n",
        "* Identifying if an image contains a cat or a dog (or [something else](https://machinelearningmastery.com/introduction-to-the-imagenet-large-scale-visual-recognition-challenge-ilsvrc/))\n",
        "* Identifying the genre of a song using a 10-second sample\n",
        "* Classifying movie reviews as positive or negative based on their content\n",
        "* Navigating self-driving cars using a video feed of the road\n",
        "* Translating sentences from English to French (and hundreds of other languages)\n",
        "* Converting a speech recording to text and vice versa\n",
        "* And many more...\n",
        "\n",
        "It's hard to imagine how the simple process of multiplying inputs with randomly initialized matrices (**weights and biases**), applying **non-linear activations**, and adjusting **weights repeatedly using gradient descent** can yield such **astounding results**. \n",
        "\n",
        "Deep learning models often contain **millions of parameters**, which can together capture far more complex relationships than the human brain can comprehend.\n",
        "\n",
        "If we hadn't included a non-linear activation **between the two linear layers**, the final relationship between inputs and outputs would still be linear. A simple refactoring of the computations illustrates this.\n",
        "\n",
        "_Question:_ must it be a linear relationship between the first input layer and the final output layer?\n",
        "\n",
        "Activation function add non-linearity and changes the linear relationship."
      ],
      "metadata": {
        "id": "FiufKAR92YMw"
      }
    },
    {
      "cell_type": "code",
      "source": [
        "# Same as layer2(layer1(inputs))\n",
        "outputs2 = (inputs @ layer1.weight.t() + layer1.bias) @ layer2.weight.t() + layer2.bias"
      ],
      "metadata": {
        "id": "FdKsbM0O5CMJ"
      },
      "execution_count": 88,
      "outputs": []
    },
    {
      "cell_type": "markdown",
      "source": [
        "recall **input_size:** $784$, and **output_size:** $10$ "
      ],
      "metadata": {
        "id": "yoazzSBy6w87"
      }
    },
    {
      "cell_type": "code",
      "source": [
        "# Create a single layer to replace the two linear layers\n",
        "combined_layer = nn.Linear(input_size, output_size)\n",
        "\n",
        "combined_layer.weight.data = layer2.weight @ layer1.weight\n",
        "combined_layer.bias.data = layer1.bias @ layer2.weight.t() + layer2.bias"
      ],
      "metadata": {
        "id": "BE8SyRe-5D6p"
      },
      "execution_count": 89,
      "outputs": []
    },
    {
      "cell_type": "markdown",
      "source": [
        "inputs passed to `layer1` and `layer2` is same as inputs passed to the **combined layer**"
      ],
      "metadata": {
        "id": "J0-pTtyi-DgI"
      }
    },
    {
      "cell_type": "code",
      "source": [
        "# Same as combined_layer(inputs)\n",
        "outputs3 = inputs @ combined_layer.weight.t() + combined_layer.bias"
      ],
      "metadata": {
        "id": "kQM166Im5Fp3"
      },
      "execution_count": 90,
      "outputs": []
    },
    {
      "cell_type": "code",
      "source": [
        "torch.allclose(outputs2, outputs3, 1e-3)"
      ],
      "metadata": {
        "colab": {
          "base_uri": "https://localhost:8080/"
        },
        "id": "rW55UFWo5HxH",
        "outputId": "8f9d26c7-9a94-450c-ad6d-146cc42d81e7"
      },
      "execution_count": 91,
      "outputs": [
        {
          "output_type": "execute_result",
          "data": {
            "text/plain": [
              "True"
            ]
          },
          "metadata": {},
          "execution_count": 91
        }
      ]
    },
    {
      "cell_type": "markdown",
      "source": [
        "## Model\n",
        "\n",
        "We are now ready to define our model. As discussed above, we'll create a neural network with **one hidden layer**. Here's what that means:\n",
        "\n",
        "* Instead of using a single `nn.Linear` object to transform a batch of **inputs** (**pixel intensities**) into **outputs** (**class probabilities**), we'll use two `nn.Linear` objects. Each of these is called a **layer** in the network. \n",
        "\n",
        "* The **first layer** (also known as the hidden layer) will transform the input matrix of shape `batch_size x 784` into an intermediate output matrix of shape `batch_size x hidden_size`. The parameter `hidden_size` can be configured manually (e.g., 32 or 64).\n",
        "\n",
        "* We'll then apply a non-linear **activation function** to the intermediate outputs. The activation function transforms individual elements of the matrix.\n",
        "\n",
        "* The result of the **activation function**, which is also of size `batch_size x hidden_size`, is passed into the **second layer** (also known as the output layer).  The second layer transforms it into a matrix of size `batch_size x 10`. \n",
        "* We can use this output to compute the loss and adjust **weights using gradient descent**.\n",
        "\n",
        "Usually, **input and target output** are not called layers.\n",
        "\n",
        "\n",
        "As discussed above, our model will contain one hidden layer. Here's what it looks like visually:\n",
        "\n",
        "<img src=\"https://i.imgur.com/eN7FrpF.png\" width=\"480\">\n",
        "\n",
        "\n",
        "Let's define the model by extending the `nn.Module` class from PyTorch."
      ],
      "metadata": {
        "id": "-I8a5wKs-8X8"
      }
    },
    {
      "cell_type": "markdown",
      "source": [
        "+ `xb` is the original two dimensional images data that need to be flatten\n",
        "+ `in_size` is $784$\n",
        "\n"
      ],
      "metadata": {
        "id": "MqvO0rr3FLm0"
      }
    },
    {
      "cell_type": "code",
      "source": [
        "class MnistModel(nn.Module):\n",
        "    \"\"\"Feedfoward neural network with 1 hidden layer\"\"\"\n",
        "    def __init__(self, in_size, hidden_size, out_size):\n",
        "        super().__init__()\n",
        "        # hidden layer\n",
        "        self.linear1 = nn.Linear(in_size, hidden_size)\n",
        "        # output layer\n",
        "        self.linear2 = nn.Linear(hidden_size, out_size)\n",
        "        \n",
        "    def forward(self, xb):\n",
        "        # Flatten the image tensors\n",
        "        xb = xb.view(xb.size(0), -1)\n",
        "        # Get intermediate outputs using hidden layer\n",
        "        out = self.linear1(xb)\n",
        "        # Apply activation function\n",
        "        out = F.relu(out)\n",
        "        # Get predictions using output layer\n",
        "        out = self.linear2(out)\n",
        "        return out\n",
        "    \n",
        "    def training_step(self, batch):\n",
        "        images, labels = batch \n",
        "        out = self(images)                  # Generate predictions\n",
        "        loss = F.cross_entropy(out, labels) # Calculate loss\n",
        "        return loss\n",
        "    \n",
        "    def validation_step(self, batch):\n",
        "        images, labels = batch \n",
        "        out = self(images)                    # Generate predictions\n",
        "        loss = F.cross_entropy(out, labels)   # Calculate loss\n",
        "        acc = accuracy(out, labels)           # Calculate accuracy\n",
        "        return {'val_loss': loss, 'val_acc': acc}\n",
        "        \n",
        "    def validation_epoch_end(self, outputs):\n",
        "        batch_losses = [x['val_loss'] for x in outputs]\n",
        "        epoch_loss = torch.stack(batch_losses).mean()   # Combine losses\n",
        "        batch_accs = [x['val_acc'] for x in outputs]\n",
        "        epoch_acc = torch.stack(batch_accs).mean()      # Combine accuracies\n",
        "        return {'val_loss': epoch_loss.item(), 'val_acc': epoch_acc.item()}\n",
        "    \n",
        "    def epoch_end(self, epoch, result):\n",
        "        print(\"Epoch [{}], val_loss: {:.4f}, val_acc: {:.4f}\".format(epoch, result['val_loss'], result['val_acc']))"
      ],
      "metadata": {
        "id": "ET0wR8cf_Ai3"
      },
      "execution_count": 92,
      "outputs": []
    },
    {
      "cell_type": "markdown",
      "source": [
        "We also need to define an `accuracy` function which calculates the accuracy of the model's prediction on an batch of inputs. It's used in `validation_step` above.\n",
        "\n",
        "+ outputs are the **probabilities of each label**"
      ],
      "metadata": {
        "id": "1Skn6a_xGPom"
      }
    },
    {
      "cell_type": "code",
      "source": [
        "def accuracy(outputs, labels):\n",
        "    _, preds = torch.max(outputs, dim=1)\n",
        "    return torch.tensor(torch.sum(preds == labels).item() / len(preds))"
      ],
      "metadata": {
        "id": "fpVtfq-lGUW8"
      },
      "execution_count": 93,
      "outputs": []
    },
    {
      "cell_type": "markdown",
      "source": [
        "We'll create a model that contains a hidden layer with 32 activations."
      ],
      "metadata": {
        "id": "qTc_BZMIGj9R"
      }
    },
    {
      "cell_type": "code",
      "source": [
        "input_size = 784\n",
        "hidden_size = 32 # you can change this\n",
        "num_classes = 10"
      ],
      "metadata": {
        "id": "lGNERyyZGczr"
      },
      "execution_count": 94,
      "outputs": []
    },
    {
      "cell_type": "code",
      "source": [
        "model = MnistModel(input_size, hidden_size, out_size=num_classes)"
      ],
      "metadata": {
        "id": "NJyELvWIGr7B"
      },
      "execution_count": 95,
      "outputs": []
    },
    {
      "cell_type": "markdown",
      "source": [
        "Let's take a look at the model's parameters. We expect to see one weight and bias matrix for each of the layers.\n",
        "\n",
        "+ layer one takes $784$ inputs and generates $32$ outputs\n",
        "+ layer two takes $32$ inputs and generates $10$ outputs"
      ],
      "metadata": {
        "id": "xfRlc5PeGu0Q"
      }
    },
    {
      "cell_type": "code",
      "source": [
        "for t in model.parameters():\n",
        "    print(t.shape)"
      ],
      "metadata": {
        "colab": {
          "base_uri": "https://localhost:8080/"
        },
        "id": "qnKCOs0yGx3X",
        "outputId": "c5163150-2522-48de-a982-8fbb61bc5ca8"
      },
      "execution_count": 96,
      "outputs": [
        {
          "output_type": "stream",
          "name": "stdout",
          "text": [
            "torch.Size([32, 784])\n",
            "torch.Size([32])\n",
            "torch.Size([10, 32])\n",
            "torch.Size([10])\n"
          ]
        }
      ]
    },
    {
      "cell_type": "markdown",
      "source": [
        "Let's try and generate some outputs using our model. We'll take the first batch of $128$ images from our dataset and pass them into our model."
      ],
      "metadata": {
        "id": "nmhejyfpH8zO"
      }
    },
    {
      "cell_type": "code",
      "source": [
        "for images, labels in train_loader:\n",
        "    outputs = model(images)\n",
        "    loss = F.cross_entropy(outputs, labels)\n",
        "    print('Loss:', loss.item())\n",
        "    break\n",
        "\n",
        "print('outputs.shape : ', outputs.shape)\n",
        "print('Sample outputs :\\n', outputs[:2].data)"
      ],
      "metadata": {
        "colab": {
          "base_uri": "https://localhost:8080/"
        },
        "id": "cQR_itIJH_3a",
        "outputId": "f9703267-5f8c-4dc9-b8e0-30cbde5d01f7"
      },
      "execution_count": 97,
      "outputs": [
        {
          "output_type": "stream",
          "name": "stdout",
          "text": [
            "Loss: 2.309051275253296\n",
            "outputs.shape :  torch.Size([128, 10])\n",
            "Sample outputs :\n",
            " tensor([[-0.1040,  0.1556, -0.1310, -0.0144,  0.2014, -0.1363, -0.0679, -0.2559,\n",
            "         -0.0883,  0.0662],\n",
            "        [-0.2637,  0.1694, -0.1949, -0.0729,  0.1659, -0.0539, -0.0929, -0.2201,\n",
            "         -0.1587, -0.1008]])\n"
          ]
        }
      ]
    },
    {
      "cell_type": "markdown",
      "source": [
        "## Using a GPU\n",
        "\n",
        "As the sizes of our models and datasets increase, we need to use **GPUs** to train our models within a reasonable amount of time. GPUs contain hundreds of cores optimized for performing expensive matrix operations on floating-point numbers quickly, making them ideal for training deep neural networks. You can use GPUs for free on [Google Colab](https://colab.research.google.com/) and [Kaggle](https://www.kaggle.com/kernels) or rent GPU-powered machines on services like [Google Cloud Platform](https://cloud.google.com/gpu/), [Amazon Web Services](https://docs.aws.amazon.com/dlami/latest/devguide/gpu.html), and [Paperspace](https://www.paperspace.com/).\n",
        "\n",
        "We can check if a GPU is available and the required NVIDIA CUDA drivers are installed using `torch.cuda.is_available`.\n",
        "\n",
        "+ CUDA is the language used to communicate with the GPU"
      ],
      "metadata": {
        "id": "kuwPyR5oJJrS"
      }
    },
    {
      "cell_type": "code",
      "source": [
        "torch.cuda.is_available()"
      ],
      "metadata": {
        "colab": {
          "base_uri": "https://localhost:8080/"
        },
        "id": "BP0rHAXUKpKA",
        "outputId": "339bc729-fb2a-41b7-8a84-7391a7147460"
      },
      "execution_count": 98,
      "outputs": [
        {
          "output_type": "execute_result",
          "data": {
            "text/plain": [
              "True"
            ]
          },
          "metadata": {},
          "execution_count": 98
        }
      ]
    },
    {
      "cell_type": "markdown",
      "source": [
        "Let's define a helper function to ensure that our code uses the GPU if available and defaults to using the CPU if it isn't. \n",
        "\n",
        "+ **Always** check if a GPU is avaiable by doing the following\n",
        "+ `torch.device('cuda')` returns a pointer to the GPU\n",
        "+ `torch.device('cpu')` returns a pointer to the CPU"
      ],
      "metadata": {
        "id": "ng5ltavAK5rQ"
      }
    },
    {
      "cell_type": "code",
      "source": [
        "def get_default_device():\n",
        "    \"\"\"Pick GPU if available, else CPU\"\"\"\n",
        "    if torch.cuda.is_available():\n",
        "        return torch.device('cuda')\n",
        "    else:\n",
        "        return torch.device('cpu')"
      ],
      "metadata": {
        "id": "N6KEEGRVK_Q1"
      },
      "execution_count": 99,
      "outputs": []
    },
    {
      "cell_type": "code",
      "source": [
        "device = get_default_device()\n",
        "device"
      ],
      "metadata": {
        "colab": {
          "base_uri": "https://localhost:8080/"
        },
        "id": "rF3sfc_ELnd2",
        "outputId": "0b24dcf0-f482-4ccb-e873-14ccbc36d10e"
      },
      "execution_count": 100,
      "outputs": [
        {
          "output_type": "execute_result",
          "data": {
            "text/plain": [
              "device(type='cuda')"
            ]
          },
          "metadata": {},
          "execution_count": 100
        }
      ]
    },
    {
      "cell_type": "markdown",
      "source": [
        "Next, let's define a function (`to_device`) that can move data and model to a chosen device, `isinstance()` ensures only a **tensor** or a **model** is moved to the interested device\n",
        "+ both `tensor` or `model` in pytorch have `to` method \n",
        "+ data by default are sitting on **CPU** and we need to move them to **GPU**\n",
        "+ CPU memory is usually much larger than the GPU memory\n",
        "+ we move the data to the device we just checked above, e.g., GPU or CPU, the data can be either a **tensor** or a **model**\n",
        "+ we can move `to_device` to move multiple tensors **at once**\n"
      ],
      "metadata": {
        "id": "JkTaUcELMBfd"
      }
    },
    {
      "cell_type": "code",
      "source": [
        "#move a model or a tensor to GPU\n",
        "def to_device(data, device):\n",
        "    \"\"\"Move tensor(s) to chosen device\"\"\"\n",
        "    if isinstance(data, (list,tuple)):\n",
        "        return [to_device(x, device) for x in data]\n",
        "    return data.to(device, non_blocking=True)"
      ],
      "metadata": {
        "id": "kJhjt5lSMYtm"
      },
      "execution_count": 101,
      "outputs": []
    },
    {
      "cell_type": "markdown",
      "source": [
        "`.device` method to check where data are stored"
      ],
      "metadata": {
        "id": "Zty92le_WCjG"
      }
    },
    {
      "cell_type": "code",
      "source": [
        "for images, labels in train_loader:\n",
        "    print(images.shape)\n",
        "    print(images.device)\n",
        "    images = to_device(images, device)\n",
        "    print(images.device)\n",
        "    break"
      ],
      "metadata": {
        "colab": {
          "base_uri": "https://localhost:8080/"
        },
        "id": "BE3TtF48McYZ",
        "outputId": "03920551-26fa-494a-b234-cf32524a967c"
      },
      "execution_count": 102,
      "outputs": [
        {
          "output_type": "stream",
          "name": "stdout",
          "text": [
            "torch.Size([128, 1, 28, 28])\n",
            "cpu\n",
            "cuda:0\n"
          ]
        }
      ]
    },
    {
      "cell_type": "markdown",
      "source": [
        "Finally, we define a `DeviceDataLoader` class to wrap our existing data loaders and move batches of data to the selected device. Interestingly, we **don't need** to extend an existing class to create a PyTorch data loader. All we need is an `__iter__` method to retrieve batches of data and an `__len__` method to get the number of batches.\n",
        "\n",
        "* `dl` dataloader\n",
        "* `self.dl` and `self.device` store the arguments in the current object\n",
        "* `__iter__()` function returns an **iterator object** that goes through the each element of the given object, otherwise you cannot use `for` to loop through all batches, so `__iter__()` is a **MUST**  \n",
        "+ `__len__()` returns the number of batches, it is **not a must**  \n",
        "* we should use `yield` when we want to iterate over a sequence, but don’t want to store the entire sequence in memory. `yield` is used in **Python generators**\n",
        "\n",
        "\n"
      ],
      "metadata": {
        "id": "OgnEHf5rW2QK"
      }
    },
    {
      "cell_type": "code",
      "source": [
        "class DeviceDataLoader():\n",
        "    \"\"\"Wrap a dataloader to move data to a device\"\"\"\n",
        "    def __init__(self, dl, device):\n",
        "        print('Minghan one')\n",
        "        self.dl = dl\n",
        "        self.device = device\n",
        "        \n",
        "    def __iter__(self):\n",
        "        \"\"\"Yield a batch of data after moving it to device\"\"\"\n",
        "        print('you are in __iter()__')\n",
        "        for b in self.dl: \n",
        "            yield to_device(b, self.device)\n",
        "\n",
        "    def __len__(self):\n",
        "        print('You are in __len__(self)')\n",
        "        \"\"\"Number of batches\"\"\"\n",
        "        return len(self.dl)"
      ],
      "metadata": {
        "id": "nExvUrD8XLA8"
      },
      "execution_count": 103,
      "outputs": []
    },
    {
      "cell_type": "markdown",
      "source": [
        "`num` is the output (yield) of the method `nextSquare()`"
      ],
      "metadata": {
        "id": "zy3AX6-pl220"
      }
    },
    {
      "cell_type": "code",
      "source": [
        "def nextSquare():\n",
        "    i = 1\n",
        " \n",
        "    # An Infinite loop to generate squares\n",
        "    while True:\n",
        "        yield i*i\n",
        "        i += 1  # Next execution resumes\n",
        "        # from this point\n",
        " \n",
        " \n",
        "# Driver code to test above generator\n",
        "# function\n",
        "for num in nextSquare():\n",
        "    if num > 100:\n",
        "        break\n",
        "    print(num)"
      ],
      "metadata": {
        "colab": {
          "base_uri": "https://localhost:8080/"
        },
        "id": "Tg2d7uaLk8Rg",
        "outputId": "eb4deacf-af93-4e13-9c53-3bd2b6a1f224"
      },
      "execution_count": 104,
      "outputs": [
        {
          "output_type": "stream",
          "name": "stdout",
          "text": [
            "1\n",
            "4\n",
            "9\n",
            "16\n",
            "25\n",
            "36\n",
            "49\n",
            "64\n",
            "81\n",
            "100\n"
          ]
        }
      ]
    },
    {
      "cell_type": "markdown",
      "source": [
        "The `yield` keyword in Python is used to create a generator function that can be used within a `for` loop, as illustrated below."
      ],
      "metadata": {
        "id": "TMK4tYFdYEQ8"
      }
    },
    {
      "cell_type": "code",
      "source": [
        "def some_numbers():\n",
        "    yield 10\n",
        "    yield 20\n",
        "    yield 30\n",
        "\n",
        "for value in some_numbers():\n",
        "    print(value)"
      ],
      "metadata": {
        "colab": {
          "base_uri": "https://localhost:8080/"
        },
        "id": "As8n4A0uYO6U",
        "outputId": "a7df68ad-579c-4001-a063-41fb3bf1e567"
      },
      "execution_count": 105,
      "outputs": [
        {
          "output_type": "stream",
          "name": "stdout",
          "text": [
            "10\n",
            "20\n",
            "30\n"
          ]
        }
      ]
    },
    {
      "cell_type": "markdown",
      "source": [
        "We can now wrap our data loaders using `DeviceDataLoader`.\n",
        "\n",
        "+ `train_loader` and `val_loader` objects are iterator objects that contain two attributes `dl` and `device`"
      ],
      "metadata": {
        "id": "CmXIEqyZYSNw"
      }
    },
    {
      "cell_type": "code",
      "source": [
        "train_loader = DeviceDataLoader(train_loader, device)\n",
        "val_loader = DeviceDataLoader(val_loader, device)"
      ],
      "metadata": {
        "colab": {
          "base_uri": "https://localhost:8080/"
        },
        "id": "pOayYVQgXbY1",
        "outputId": "32396895-5a99-4c68-be48-ee4f4f77e3cf"
      },
      "execution_count": 106,
      "outputs": [
        {
          "output_type": "stream",
          "name": "stdout",
          "text": [
            "Minghan one\n",
            "Minghan one\n"
          ]
        }
      ]
    },
    {
      "cell_type": "code",
      "source": [
        "train_loader.device\n",
        "train_loader.__len__()\n",
        "train_loader.__iter__()"
      ],
      "metadata": {
        "colab": {
          "base_uri": "https://localhost:8080/"
        },
        "id": "fD2VjryVnfTq",
        "outputId": "077ece26-b764-45aa-b99e-5b74613224b0"
      },
      "execution_count": 107,
      "outputs": [
        {
          "output_type": "stream",
          "name": "stdout",
          "text": [
            "You are in __len__(self)\n"
          ]
        },
        {
          "output_type": "execute_result",
          "data": {
            "text/plain": [
              "<generator object DeviceDataLoader.__iter__ at 0x7fe4a665f040>"
            ]
          },
          "metadata": {},
          "execution_count": 107
        }
      ]
    },
    {
      "cell_type": "markdown",
      "source": [
        "Tensors moved to the GPU have a `device` property which includes that word `cuda`. Let's verify this by looking at a batch of data from `valid_dl`.\n",
        "\n",
        "+ `for` can be used to loop through all batches due to `__iter__()` defined in the `DeviceDataLoader()`"
      ],
      "metadata": {
        "id": "p7cyK0CNYV7m"
      }
    },
    {
      "cell_type": "code",
      "source": [
        "for xb, yb in val_loader:\n",
        "    print('yb.device:', yb.device)\n",
        "    print('yb:', yb)\n",
        "    break"
      ],
      "metadata": {
        "colab": {
          "base_uri": "https://localhost:8080/"
        },
        "id": "Mm5FniWGXdTe",
        "outputId": "e21bed44-02c8-42f5-9c69-730ad0e2a9cb"
      },
      "execution_count": 108,
      "outputs": [
        {
          "output_type": "stream",
          "name": "stdout",
          "text": [
            "you are in __iter()__\n",
            "yb.device: cuda:0\n",
            "yb: tensor([0, 1, 1, 4, 3, 3, 1, 8, 0, 7, 0, 9, 8, 8, 3, 6, 4, 7, 7, 5, 2, 4, 4, 0,\n",
            "        6, 9, 3, 5, 5, 0, 2, 7, 3, 7, 8, 7, 9, 3, 7, 4, 0, 2, 4, 5, 1, 4, 1, 1,\n",
            "        3, 0, 5, 7, 2, 0, 1, 3, 9, 1, 7, 7, 5, 6, 6, 3, 4, 2, 2, 2, 4, 3, 2, 2,\n",
            "        3, 0, 5, 1, 9, 1, 8, 4, 3, 8, 9, 3, 6, 6, 0, 9, 3, 7, 0, 8, 3, 9, 5, 5,\n",
            "        8, 6, 6, 2, 9, 0, 5, 9, 1, 0, 0, 8, 4, 9, 6, 5, 0, 2, 9, 9, 7, 4, 6, 0,\n",
            "        5, 1, 2, 9, 5, 4, 8, 6, 2, 7, 1, 5, 5, 6, 1, 9, 4, 4, 7, 5, 9, 2, 9, 2,\n",
            "        5, 4, 4, 8, 1, 9, 9, 6, 1, 9, 8, 1, 8, 3, 3, 1, 9, 5, 3, 5, 3, 3, 0, 7,\n",
            "        2, 8, 6, 7, 7, 5, 7, 2, 9, 6, 2, 0, 2, 2, 1, 9, 9, 6, 3, 5, 3, 0, 6, 3,\n",
            "        6, 3, 4, 8, 1, 6, 9, 6, 7, 2, 0, 2, 8, 8, 5, 8, 3, 6, 4, 1, 5, 2, 8, 1,\n",
            "        2, 2, 8, 1, 4, 2, 8, 8, 9, 9, 6, 4, 8, 7, 8, 2, 4, 2, 0, 9, 0, 2, 6, 3,\n",
            "        5, 7, 2, 7, 9, 9, 6, 7, 5, 8, 8, 3, 5, 9, 9, 7], device='cuda:0')\n"
          ]
        }
      ]
    },
    {
      "cell_type": "code",
      "source": [
        "print('xb.shape',xb.shape)\n",
        "print('yb.shape',yb.shape)"
      ],
      "metadata": {
        "colab": {
          "base_uri": "https://localhost:8080/"
        },
        "id": "zRsIaw53nun7",
        "outputId": "06b790df-4372-40ca-f9fe-68179b0c14f1"
      },
      "execution_count": 109,
      "outputs": [
        {
          "output_type": "stream",
          "name": "stdout",
          "text": [
            "xb.shape torch.Size([256, 1, 28, 28])\n",
            "yb.shape torch.Size([256])\n"
          ]
        }
      ]
    },
    {
      "cell_type": "markdown",
      "source": [
        "## Training the Model\n",
        "\n",
        "We'll define two functions: `fit` and `evaluate` to train the model using **gradient descent and evaluate its performance on the validation set**. For a detailed walkthrough of these functions, check out the [previous tutorial](https://jovian.ai/aakashns/03-logistic-regression).\n",
        "\n",
        "+ it takes `epochs` (hyperparameter given by the user)\n",
        "+ learning rate (`lr`)\n",
        "+ model (`model`)\n",
        "+ training data (`train_loader`)\n",
        "+ validation data (`val_loader`)\n",
        "+ gradient descent (`torch.optim.SGD`)\n",
        "+ `histroy` is the log to print\n",
        "\n",
        "How the model works to train each batch of the training loader\n",
        "\n",
        "1. `for batch in train_loader:` gets a batch of data from the training data loader\n",
        "2. `training_step` should be specific (defined differently for different problems)\n",
        "3. `loss.bacckward()` calculates the **gradient wrt weights and biases** for each layer\n",
        "4. `optimizer.step()` performs the **gradient descent** to update the weights\n",
        "5. `optimizer.zero_grad()` reset all gradients back to zero \n",
        "\n",
        "\n",
        "recall the `fit` function from the **logistic linear regression model**, the same form applies to the nonlinear model.\n",
        "\n",
        "+ the `fit` function is general\n",
        "\n",
        "```\n",
        "def fit(epochs, lr, model, train_loader, val_loader, opt_func=torch.optim.SGD):\n",
        "    optimizer = opt_func(model.parameters(), lr)\n",
        "    history = [] # for recording epoch-wise results\n",
        "    \n",
        "    for epoch in range(epochs):\n",
        "        \n",
        "        # Training Phase \n",
        "        for batch in train_loader:\n",
        "            loss = model.training_step(batch)\n",
        "            loss.backward()\n",
        "            optimizer.step()\n",
        "            optimizer.zero_grad()\n",
        "        \n",
        "        # Validation phase\n",
        "        result = evaluate(model, val_loader)\n",
        "        model.epoch_end(epoch, result)\n",
        "        history.append(result)\n",
        "\n",
        "    return history\n",
        "```\n",
        "\n",
        "how `evaluate` function works\n",
        "\n",
        "+ gets batches from the **validation dataloader** and for each batch of data calls `model.validation_step(batch)`, it gives **accuracy** and **loss** for each batch of **validation data**\n",
        "\n",
        "+ combine all the validation sets by calling `model.validation_epoch_end(outputs)` to give the **overall accuracy** and **overall loss** on the validation data set\n",
        "\n",
        "+ then we get `result` and `epoch_end(epoch, result)` will present **validation loss and validation accuracy**\n",
        "\n",
        "+ finally we append the `result` to `history`, which tracks how the accuracy and loss changes with epochs over time; we can know from the history 1) increase learning rate if too slow 2) decrease learning rate if bouncing around, etc"
      ],
      "metadata": {
        "id": "ZjUmGoC2nZUz"
      }
    },
    {
      "cell_type": "code",
      "source": [
        "def evaluate(model, val_loader):\n",
        "    \"\"\"Evaluate the model's performance on the validation set\"\"\"\n",
        "    outputs = [model.validation_step(batch) for batch in val_loader]\n",
        "    return model.validation_epoch_end(outputs)\n",
        "\n",
        "def fit(epochs, lr, model, train_loader, val_loader, opt_func=torch.optim.SGD):\n",
        "    \"\"\"Train the model using gradient descent\"\"\"\n",
        "    history = []\n",
        "    optimizer = opt_func(model.parameters(), lr)\n",
        "    for epoch in range(epochs):\n",
        "        # Training Phase \n",
        "        for batch in train_loader:\n",
        "            loss = model.training_step(batch)\n",
        "            loss.backward()\n",
        "            optimizer.step()\n",
        "            optimizer.zero_grad()\n",
        "        # Validation phase\n",
        "        result = evaluate(model, val_loader)\n",
        "        model.epoch_end(epoch, result)\n",
        "        history.append(result)\n",
        "    return history"
      ],
      "metadata": {
        "id": "wOYeLm0ouE6f"
      },
      "execution_count": 110,
      "outputs": []
    },
    {
      "cell_type": "markdown",
      "source": [
        "Before we train the model, we need to ensure that the data and the **model's parameters (weights and biases)** are on the same device (CPU or GPU). \n",
        "\n",
        "We can reuse the `to_device` function to move the model's parameters to the right device. \n",
        "\n",
        "+ we have already moved the training data loader to the right device \n",
        "\n",
        "+ now we need to move the model over to the same device\n",
        "\n",
        "Again model parameters are\n",
        "\n",
        "1. input_size ($28 \\times 28$)\n",
        "2. hidden_size ($32$)\n",
        "3. out_size ($10$)"
      ],
      "metadata": {
        "id": "DLwD-RGZx7Jj"
      }
    },
    {
      "cell_type": "code",
      "source": [
        "# Model (on GPU)\n",
        "model = MnistModel(input_size, hidden_size=hidden_size, out_size=num_classes)\n",
        "to_device(model, device)"
      ],
      "metadata": {
        "id": "fJikIQulyDm2",
        "outputId": "07307a31-3275-463b-dbb9-d5dc8df0d6a7",
        "colab": {
          "base_uri": "https://localhost:8080/"
        }
      },
      "execution_count": 111,
      "outputs": [
        {
          "output_type": "execute_result",
          "data": {
            "text/plain": [
              "MnistModel(\n",
              "  (linear1): Linear(in_features=784, out_features=32, bias=True)\n",
              "  (linear2): Linear(in_features=32, out_features=10, bias=True)\n",
              ")"
            ]
          },
          "metadata": {},
          "execution_count": 111
        }
      ]
    },
    {
      "cell_type": "markdown",
      "source": [
        "Let's see how the model performs on the **validation set** with the **initial set of weights and biases**.\n",
        "\n",
        "* using GPU is pretty fast, e.g., less than a second\n",
        "\n",
        "* The initial accuracy is around 10%, as one might expect from a randomly initialized model (since it has a 1 in 10 chance of getting a label right by guessing randomly).\n",
        "\n"
      ],
      "metadata": {
        "id": "2g6gOaOq1sqH"
      }
    },
    {
      "cell_type": "code",
      "source": [
        "history = [evaluate(model, val_loader)]\n",
        "history"
      ],
      "metadata": {
        "id": "iGA5eG0p1taO",
        "outputId": "325d6399-0084-494a-b0d9-686fb0fef361",
        "colab": {
          "base_uri": "https://localhost:8080/"
        }
      },
      "execution_count": 112,
      "outputs": [
        {
          "output_type": "stream",
          "name": "stdout",
          "text": [
            "you are in __iter()__\n"
          ]
        },
        {
          "output_type": "execute_result",
          "data": {
            "text/plain": [
              "[{'val_loss': 2.3034827709198, 'val_acc': 0.08193359524011612}]"
            ]
          },
          "metadata": {},
          "execution_count": 112
        }
      ]
    },
    {
      "cell_type": "markdown",
      "source": [
        "Let's train the model for five epochs and look at the results. We can use a relatively high learning rate of $0.5$."
      ],
      "metadata": {
        "id": "g8xPwRgY3alW"
      }
    },
    {
      "cell_type": "code",
      "source": [
        "history += fit(5, 0.5, model, train_loader, val_loader)"
      ],
      "metadata": {
        "id": "-1H4fDmW3h5v",
        "outputId": "b6cc90e4-973b-4185-ad09-5abccd71ffa2",
        "colab": {
          "base_uri": "https://localhost:8080/"
        }
      },
      "execution_count": 113,
      "outputs": [
        {
          "output_type": "stream",
          "name": "stdout",
          "text": [
            "you are in __iter()__\n",
            "you are in __iter()__\n",
            "Epoch [0], val_loss: 0.2301, val_acc: 0.9350\n",
            "you are in __iter()__\n",
            "you are in __iter()__\n",
            "Epoch [1], val_loss: 0.2092, val_acc: 0.9367\n",
            "you are in __iter()__\n",
            "you are in __iter()__\n",
            "Epoch [2], val_loss: 0.1908, val_acc: 0.9427\n",
            "you are in __iter()__\n",
            "you are in __iter()__\n",
            "Epoch [3], val_loss: 0.1534, val_acc: 0.9530\n",
            "you are in __iter()__\n",
            "you are in __iter()__\n",
            "Epoch [4], val_loss: 0.1500, val_acc: 0.9548\n"
          ]
        }
      ]
    },
    {
      "cell_type": "markdown",
      "source": [
        "96% is pretty good! Let's train the model for five more epochs at a lower learning rate of 0.1 to improve the accuracy further.\n",
        "\n",
        "Now let decrease the learning rate to increase the accuracy but compensate time cost:\n",
        "\n",
        "+ you see the accuracy increases to $96\\%$ at the first Epoch!"
      ],
      "metadata": {
        "id": "hPL27dmW4Nb9"
      }
    },
    {
      "cell_type": "code",
      "source": [
        "history += fit(5, 0.1, model, train_loader, val_loader)"
      ],
      "metadata": {
        "id": "aCJMQ6AU4RMm",
        "outputId": "cae59817-2c83-42ff-f7c9-3a88513101ac",
        "colab": {
          "base_uri": "https://localhost:8080/"
        }
      },
      "execution_count": 114,
      "outputs": [
        {
          "output_type": "stream",
          "name": "stdout",
          "text": [
            "you are in __iter()__\n",
            "you are in __iter()__\n",
            "Epoch [0], val_loss: 0.1205, val_acc: 0.9633\n",
            "you are in __iter()__\n",
            "you are in __iter()__\n",
            "Epoch [1], val_loss: 0.1203, val_acc: 0.9630\n",
            "you are in __iter()__\n",
            "you are in __iter()__\n",
            "Epoch [2], val_loss: 0.1216, val_acc: 0.9644\n",
            "you are in __iter()__\n",
            "you are in __iter()__\n",
            "Epoch [3], val_loss: 0.1192, val_acc: 0.9647\n",
            "you are in __iter()__\n",
            "you are in __iter()__\n",
            "Epoch [4], val_loss: 0.1176, val_acc: 0.9645\n"
          ]
        }
      ]
    },
    {
      "cell_type": "markdown",
      "source": [
        "We can now plot the losses & accuracies to study how the model improves over time.\n",
        "\n",
        "+ losses starts at a large value and quickly decreases and flattens out"
      ],
      "metadata": {
        "id": "2ecMNhYv4nCX"
      }
    },
    {
      "cell_type": "code",
      "source": [
        "losses = [x['val_loss'] for x in history]\n",
        "plt.plot(losses, '-x')\n",
        "plt.xlabel('epoch')\n",
        "plt.ylabel('loss')\n",
        "plt.title('Loss vs. No. of epochs');"
      ],
      "metadata": {
        "id": "fR2basPJ4pSy",
        "outputId": "3909f44f-35be-4fc6-96f6-3f199d5ccdee",
        "colab": {
          "base_uri": "https://localhost:8080/",
          "height": 295
        }
      },
      "execution_count": 115,
      "outputs": [
        {
          "output_type": "display_data",
          "data": {
            "text/plain": [
              "<Figure size 432x288 with 1 Axes>"
            ],
            "image/png": "[encoded data removed]"
          },
          "metadata": {}
        }
      ]
    },
    {
      "cell_type": "markdown",
      "source": [
        "similarly accuracy starts at a very low value and increases quickly and flattens out"
      ],
      "metadata": {
        "id": "Gci6YiBL5Lph"
      }
    },
    {
      "cell_type": "code",
      "source": [
        "accuracies = [x['val_acc'] for x in history]\n",
        "plt.plot(accuracies, '-x')\n",
        "plt.xlabel('epoch')\n",
        "plt.ylabel('accuracy')\n",
        "plt.title('Accuracy vs. No. of epochs');"
      ],
      "metadata": {
        "id": "E_zBpqXO4r7a",
        "outputId": "4857de7c-ae12-4608-a63e-a8d32cc8980d",
        "colab": {
          "base_uri": "https://localhost:8080/",
          "height": 295
        }
      },
      "execution_count": 116,
      "outputs": [
        {
          "output_type": "display_data",
          "data": {
            "text/plain": [
              "<Figure size 432x288 with 1 Axes>"
            ],
            "image/png": "[encoded data removed]"
          },
          "metadata": {}
        }
      ]
    },
    {
      "cell_type": "markdown",
      "source": [
        "Our current model outperforms the logistic regression model (which could only achieve around 86% accuracy) by a considerable margin! \n",
        "\n",
        "1. It quickly reaches an accuracy of 97% but doesn't improve much beyond this.\n",
        "2. To improve accuracy further, we need to make the model **more powerful by increasing the hidden layer's size** or adding **more hidden layers** with activations. "
      ],
      "metadata": {
        "id": "eO3qV6qd4w6Z"
      }
    },
    {
      "cell_type": "markdown",
      "source": [
        "## Testing with individual images\n",
        "\n",
        "So far we have trained our model using the **training dataset** and validated our model using the **validation dataset** with the **overall accuracy** being tracked. Now it is time to look at model's results on some sample images from the **test dataset**. \n",
        "\n",
        "1. train the model using **training dataset**\n",
        "2. validate the model using **validation dataset**\n",
        "3. test the model using the **test dataset**\n",
        "\n",
        "Let's test out our model with some images from the **predefined test dataset** of $10000$ images. We begin by recreating the **test dataset** with the `ToTensor` transform.\n",
        "\n",
        "+ again `ToTensor` will convert the original data to pytorch tensor"
      ],
      "metadata": {
        "id": "D5tXDIUW5stU"
      }
    },
    {
      "cell_type": "code",
      "source": [
        "# Define test dataset\n",
        "test_dataset = MNIST(root='data/', \n",
        "                     train=False,\n",
        "                     transform=ToTensor())"
      ],
      "metadata": {
        "id": "bPwrFQHQ53hb"
      },
      "execution_count": 117,
      "outputs": []
    },
    {
      "cell_type": "markdown",
      "source": [
        "Let's define a helper function `predict_image`, which returns the predicted label for a single image tensor. Interestingly, let's compare the `predict_image` for the **linear logistic regression model** to the one for the current **nonlinear logistic regression model**. \n",
        "\n",
        "```\n",
        "def predict_image(img, model):\n",
        "    xb = img.unsqueeze(0)\n",
        "    yb = model(xb)\n",
        "    _, preds = torch.max(yb, dim=1)\n",
        "    return preds[0].item()\n",
        "```\n",
        "\n",
        "1. both use `unsqueeze(0)` to add another dimension to make this ONE test image in the shape similar to the data shape obtained from the entire dataset, i.e., `[1, 1, 28, 28]`. I also tested the one without `unsqueeze(0)` and nothing has changed. I guess it will not fail every time but for some special cases it will not work. Still need to test out what the cases are.\n",
        "\n",
        "2. the **difference** is that we need to move the image data to the GPU device via `to_device()`. Otherwise, you will get errors. \n",
        "\n",
        "3. it should be noted that the CPU does not have the GPU ram and vice versa\n",
        "\n"
      ],
      "metadata": {
        "id": "DP95I9fJhtnK"
      }
    },
    {
      "cell_type": "code",
      "source": [
        "def predict_image(img, model):\n",
        "    xb = to_device(img.unsqueeze(0), device)\n",
        "    print(xb.device)\n",
        "    #xb = to_device(img, device)\n",
        "    yb = model(xb)\n",
        "    _, preds  = torch.max(yb, dim=1)\n",
        "    return preds[0].item()"
      ],
      "metadata": {
        "id": "kagw_Fddhxc1"
      },
      "execution_count": 120,
      "outputs": []
    },
    {
      "cell_type": "markdown",
      "source": [
        "Let's try it out with a few images."
      ],
      "metadata": {
        "id": "eICKfGVohz0m"
      }
    },
    {
      "cell_type": "code",
      "source": [
        "img, label = test_dataset[0]\n",
        "plt.imshow(img[0], cmap='gray')\n",
        "print('Label:', label, ', Predicted:', predict_image(img, model))"
      ],
      "metadata": {
        "id": "dG_SNSHsh2fG",
        "outputId": "712ec39b-766c-46b5-892e-70bb34010902",
        "colab": {
          "base_uri": "https://localhost:8080/",
          "height": 301
        }
      },
      "execution_count": 121,
      "outputs": [
        {
          "output_type": "stream",
          "name": "stdout",
          "text": [
            "cuda:0\n",
            "Label: 7 , Predicted: 7\n"
          ]
        },
        {
          "output_type": "display_data",
          "data": {
            "text/plain": [
              "<Figure size 432x288 with 1 Axes>"
            ],
            "image/png": "[encoded data removed]"
          },
          "metadata": {}
        }
      ]
    },
    {
      "cell_type": "code",
      "source": [
        "img, label = test_dataset[1839]\n",
        "plt.imshow(img[0], cmap='gray')\n",
        "print('Label:', label, ', Predicted:', predict_image(img, model))"
      ],
      "metadata": {
        "id": "zuR2mQ-6peCA",
        "outputId": "7e452a10-87fd-47ce-f1f2-83e438052389",
        "colab": {
          "base_uri": "https://localhost:8080/",
          "height": 301
        }
      },
      "execution_count": 122,
      "outputs": [
        {
          "output_type": "stream",
          "name": "stdout",
          "text": [
            "cuda:0\n",
            "Label: 2 , Predicted: 2\n"
          ]
        },
        {
          "output_type": "display_data",
          "data": {
            "text/plain": [
              "<Figure size 432x288 with 1 Axes>"
            ],
            "image/png": "[encoded data removed]"
          },
          "metadata": {}
        }
      ]
    },
    {
      "cell_type": "code",
      "source": [
        "img, label = test_dataset[193]\n",
        "plt.imshow(img[0], cmap='gray')\n",
        "print('Label:', label, ', Predicted:', predict_image(img, model))"
      ],
      "metadata": {
        "id": "607EyocSppnE",
        "outputId": "d5e99c7a-192f-457b-a493-4054654c448b",
        "colab": {
          "base_uri": "https://localhost:8080/",
          "height": 301
        }
      },
      "execution_count": 123,
      "outputs": [
        {
          "output_type": "stream",
          "name": "stdout",
          "text": [
            "cuda:0\n",
            "Label: 9 , Predicted: 9\n"
          ]
        },
        {
          "output_type": "display_data",
          "data": {
            "text/plain": [
              "<Figure size 432x288 with 1 Axes>"
            ],
            "image/png": "[encoded data removed]"
          },
          "metadata": {}
        }
      ]
    },
    {
      "cell_type": "markdown",
      "source": [
        "Identifying **where our model performs poorly** can help us improve the model, \n",
        "\n",
        "1. by collecting **more training data** \n",
        "2. increasing/decreasing the **complexity of the model**\n",
        "3. and changing the **hypeparameters**\n",
        "\n",
        "As a **final step**, let's also look at the \n",
        "\n",
        "1. **overall loss** and \n",
        "2. **overall accuracy** \n",
        "\n",
        "of the model on the **test set**.\n",
        "\n",
        "We expect the loss using the **test dataset** to be similar to the accuracy/loss on the **validation set**. If not, we might need a **better validation set** that has similar data and distribution as the test set (which often comes from real world data).\n",
        "\n",
        "**Note that we want to improve the validation set NOT the test set.**\n",
        "\n",
        "+ always check your result before you change anything!, e.g., blindly increase or decrease the learning rate, increase the number of epochs, etc. Sometimes, it might be due to\n",
        "\n",
        "1. bad data \n",
        "2. incorrectly labeled data\n",
        "3. too less data\n",
        "\n",
        "\n",
        "we only have $96\\%$ accuracy, and $4\\%$ of $50000$ is still a large number, i.e., $2000$ images."
      ],
      "metadata": {
        "id": "DENxQ_fFpxM0"
      }
    },
    {
      "cell_type": "code",
      "source": [
        "test_loader = DeviceDataLoader(DataLoader(test_dataset, batch_size=256), device)\n",
        "result = evaluate(model, test_loader)\n",
        "result"
      ],
      "metadata": {
        "id": "jI-nLySRqJlg",
        "outputId": "56d3be36-f125-468c-baa9-2431a392359e",
        "colab": {
          "base_uri": "https://localhost:8080/"
        }
      },
      "execution_count": 124,
      "outputs": [
        {
          "output_type": "stream",
          "name": "stdout",
          "text": [
            "Minghan one\n",
            "you are in __iter()__\n"
          ]
        },
        {
          "output_type": "execute_result",
          "data": {
            "text/plain": [
              "{'val_loss': 0.10274878889322281, 'val_acc': 0.9677734375}"
            ]
          },
          "metadata": {},
          "execution_count": 124
        }
      ]
    }
  ]
}