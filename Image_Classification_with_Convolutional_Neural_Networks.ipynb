{
  "nbformat": 4,
  "nbformat_minor": 0,
  "metadata": {
    "colab": {
      "provenance": [],
      "authorship_tag": "ABX9TyNh+lu7Cex7jmQi2M+eDguN",
      "include_colab_link": true
    },
    "kernelspec": {
      "name": "python3",
      "display_name": "Python 3"
    },
    "language_info": {
      "name": "python"
    }
  },
  "cells": [
    {
      "cell_type": "markdown",
      "metadata": {
        "id": "view-in-github",
        "colab_type": "text"
      },
      "source": [
        "<a href=\"https://colab.research.google.com/github/MinghanChu/DeepLearning-ZerosToGans/blob/main/Image_Classification_with_Convolutional_Neural_Networks.ipynb\" target=\"_parent\"><img src=\"https://colab.research.google.com/assets/colab-badge.svg\" alt=\"Open In Colab\"/></a>"
      ]
    },
    {
      "cell_type": "markdown",
      "source": [
        "## Exploring the CIFAR10 Dataset\n",
        "\n",
        "we trained a feedfoward neural networks with **a single hidden layer** to classify handwritten digits from the [MNIST dataset](http://yann.lecun.com/exdb/mnist) with over **97%** accuracy. For this tutorial, we'll use the **CIFAR10 dataset**, which consists of `60000 32x32` px colour images in `10` classes. Here are some sample images from the dataset:\n",
        "\n",
        "<img src=\"https://miro.medium.com/max/709/1*LyV7_xga4jUHdx4_jHk1PQ.png\" style=\"max-width:480px\">"
      ],
      "metadata": {
        "id": "LuCUCUKrCOgA"
      }
    },
    {
      "cell_type": "code",
      "execution_count": 2,
      "metadata": {
        "id": "cwWtAG8FBnAw"
      },
      "outputs": [],
      "source": [
        "import os\n",
        "import torch\n",
        "import torchvision\n",
        "import tarfile\n",
        "from torchvision.datasets.utils import download_url\n",
        "from torch.utils.data import random_split"
      ]
    },
    {
      "cell_type": "code",
      "source": [
        "project_name='05-cifar10-cnn'"
      ],
      "metadata": {
        "id": "il31RY7EsKE_"
      },
      "execution_count": 24,
      "outputs": []
    },
    {
      "cell_type": "markdown",
      "source": [
        "Download images"
      ],
      "metadata": {
        "id": "g7d5lUAYFZ08"
      }
    },
    {
      "cell_type": "code",
      "source": [
        "# Dowload the dataset\n",
        "dataset_url = \"https://s3.amazonaws.com/fast-ai-imageclas/cifar10.tgz\"\n",
        "download_url(dataset_url, '.')"
      ],
      "metadata": {
        "colab": {
          "base_uri": "https://localhost:8080/"
        },
        "id": "qw-RwpqPD4qH",
        "outputId": "a01ddd92-a5e2-452e-98f9-b1997e220d08"
      },
      "execution_count": 3,
      "outputs": [
        {
          "output_type": "stream",
          "name": "stdout",
          "text": [
            "Downloading https://s3.amazonaws.com/fast-ai-imageclas/cifar10.tgz to ./cifar10.tgz\n"
          ]
        },
        {
          "output_type": "stream",
          "name": "stderr",
          "text": [
            "100%|██████████| 135107811/135107811 [00:02<00:00, 49841077.47it/s]\n"
          ]
        }
      ]
    },
    {
      "cell_type": "code",
      "source": [
        "# Extract from archive\n",
        "with tarfile.open('./cifar10.tgz', 'r:gz') as tar:\n",
        "    tar.extractall(path='./data')"
      ],
      "metadata": {
        "id": "1TewN2lwFl95"
      },
      "execution_count": 4,
      "outputs": []
    },
    {
      "cell_type": "markdown",
      "source": [
        "The dataset is extracted to the directory `data/cifar10`. It contains 2 folders `train` and `test`, containing the training set (50000 images) and test set (10000 images) respectively. Each of them contains 10 folders, one for each class of images. Let's verify this using `os.listdir`.\n",
        "\n",
        "`data_dir + \"/train\"`: This concatenates the value of `data_dir` with the string `\"/train\"`. The result is string that represents the path to the `train` subdirectory within the `data_dir` directory.\n",
        "\n",
        "**For example**: If data_dir is `\"/home/user/dataset\"`, then `data_dir + \"/train\"` becomes `\"/home/user/dataset/train\"`. The `os.listdir()` function will list all the files and directories inside `\"/home/user/dataset/train\"`."
      ],
      "metadata": {
        "id": "_CKyVSW1Fv26"
      }
    },
    {
      "cell_type": "code",
      "source": [
        "data_dir = './data/cifar10'\n",
        "\n",
        "print(os.listdir(data_dir))\n",
        "classes = os.listdir(data_dir + \"/train\")\n",
        "print(classes)"
      ],
      "metadata": {
        "colab": {
          "base_uri": "https://localhost:8080/"
        },
        "id": "xOK3GBWqFwZ5",
        "outputId": "0997fe87-563d-4595-8ebd-168f0ddbfe59"
      },
      "execution_count": 5,
      "outputs": [
        {
          "output_type": "stream",
          "name": "stdout",
          "text": [
            "['train', 'test']\n",
            "['automobile', 'ship', 'frog', 'cat', 'airplane', 'deer', 'dog', 'truck', 'horse', 'bird']\n"
          ]
        }
      ]
    },
    {
      "cell_type": "markdown",
      "source": [
        "Let's look inside a couple of folders, one from the **training set** and another from the **test set**. As an exercise, you can verify that that there are an equal number of images for each class, 5000 in the training set and 1000 in the test set."
      ],
      "metadata": {
        "id": "DTB527xQfYG_"
      }
    },
    {
      "cell_type": "code",
      "source": [
        "airplane_files = os.listdir(data_dir + \"/train/airplane\")\n",
        "print('No. of training examples for airplanes:', len(airplane_files))\n",
        "print(airplane_files[:5])"
      ],
      "metadata": {
        "colab": {
          "base_uri": "https://localhost:8080/"
        },
        "id": "bfRMw9p6fYqb",
        "outputId": "76d088d5-93fb-4bb2-d5ab-96e604c2d925"
      },
      "execution_count": 6,
      "outputs": [
        {
          "output_type": "stream",
          "name": "stdout",
          "text": [
            "No. of training examples for airplanes: 5000\n",
            "['2780.png', '0792.png', '2230.png', '2255.png', '3987.png']\n"
          ]
        }
      ]
    },
    {
      "cell_type": "code",
      "source": [
        "ship_test_files = os.listdir(data_dir + \"/test/ship\")\n",
        "print(\"No. of test examples for ship:\", len(ship_test_files))\n",
        "print(ship_test_files)"
      ],
      "metadata": {
        "colab": {
          "base_uri": "https://localhost:8080/"
        },
        "id": "zIIDFBZKf-JQ",
        "outputId": "81497b3e-635f-4072-a43f-4570c10f65cd"
      },
      "execution_count": 7,
      "outputs": [
        {
          "output_type": "stream",
          "name": "stdout",
          "text": [
            "No. of test examples for ship: 1000\n",
            "['0792.png', '0196.png', '0086.png', '0080.png', '0229.png', '0459.png', '0482.png', '0814.png', '0973.png', '0310.png', '0079.png', '0694.png', '0221.png', '0244.png', '0704.png', '0474.png', '0308.png', '0586.png', '0654.png', '0481.png', '0990.png', '0569.png', '0812.png', '0658.png', '0885.png', '0594.png', '0360.png', '0550.png', '0325.png', '0809.png', '0182.png', '0922.png', '0398.png', '0190.png', '0897.png', '0218.png', '0255.png', '0443.png', '0322.png', '0933.png', '0170.png', '0744.png', '0157.png', '0559.png', '0494.png', '0397.png', '0292.png', '0531.png', '0946.png', '0622.png', '0311.png', '0745.png', '0769.png', '0226.png', '0952.png', '0021.png', '0248.png', '0313.png', '0010.png', '0304.png', '0392.png', '0930.png', '0731.png', '0493.png', '0533.png', '0412.png', '0850.png', '0787.png', '0442.png', '0046.png', '0927.png', '0909.png', '0425.png', '0359.png', '0139.png', '0716.png', '0708.png', '0919.png', '0163.png', '0996.png', '0802.png', '0822.png', '0252.png', '0721.png', '0861.png', '0690.png', '0070.png', '0002.png', '0504.png', '0614.png', '0162.png', '0970.png', '0405.png', '0027.png', '0852.png', '0025.png', '0167.png', '0457.png', '0535.png', '0436.png', '0206.png', '0567.png', '0333.png', '0923.png', '0317.png', '0818.png', '0831.png', '0423.png', '0338.png', '0289.png', '0747.png', '0068.png', '0813.png', '0126.png', '0029.png', '0007.png', '0396.png', '0276.png', '0191.png', '0593.png', '0377.png', '0175.png', '0917.png', '0826.png', '0966.png', '0381.png', '0947.png', '0605.png', '0177.png', '0911.png', '0647.png', '0057.png', '0437.png', '0013.png', '0295.png', '0568.png', '0974.png', '0853.png', '0847.png', '0153.png', '0156.png', '0728.png', '0540.png', '0201.png', '0363.png', '0365.png', '0758.png', '0580.png', '0807.png', '0211.png', '0583.png', '0411.png', '0943.png', '0541.png', '0524.png', '0854.png', '0047.png', '0148.png', '0131.png', '0584.png', '0987.png', '0461.png', '0776.png', '0932.png', '0413.png', '0415.png', '0341.png', '0008.png', '0044.png', '0379.png', '0188.png', '0881.png', '0907.png', '0116.png', '0314.png', '0701.png', '0334.png', '0870.png', '0434.png', '0258.png', '0764.png', '0108.png', '0452.png', '0450.png', '0891.png', '0321.png', '0635.png', '0511.png', '0762.png', '0061.png', '0305.png', '0624.png', '0667.png', '0656.png', '0883.png', '0197.png', '0597.png', '0546.png', '0633.png', '0520.png', '0808.png', '0422.png', '0316.png', '0149.png', '0625.png', '0041.png', '0780.png', '0332.png', '0750.png', '0203.png', '0692.png', '0315.png', '0819.png', '0649.png', '0675.png', '0151.png', '0684.png', '0429.png', '0611.png', '0554.png', '0342.png', '0599.png', '0143.png', '0983.png', '0242.png', '0320.png', '0804.png', '0714.png', '0836.png', '0110.png', '0555.png', '0763.png', '0210.png', '0856.png', '0020.png', '0075.png', '0735.png', '0419.png', '0794.png', '0925.png', '0579.png', '0880.png', '0537.png', '0426.png', '0147.png', '0921.png', '0871.png', '0782.png', '0217.png', '0609.png', '0737.png', '0077.png', '0154.png', '0446.png', '0844.png', '0327.png', '0104.png', '0096.png', '0999.png', '0214.png', '0954.png', '0518.png', '0288.png', '0035.png', '0367.png', '0672.png', '0775.png', '0382.png', '0711.png', '0585.png', '0178.png', '0431.png', '0265.png', '0648.png', '0296.png', '0841.png', '0240.png', '0805.png', '0607.png', '0862.png', '0797.png', '0106.png', '0082.png', '0913.png', '0789.png', '0479.png', '0101.png', '0799.png', '0416.png', '0530.png', '0577.png', '0748.png', '0383.png', '0890.png', '0955.png', '0517.png', '0290.png', '0688.png', '0028.png', '0713.png', '0189.png', '0563.png', '0547.png', '0409.png', '0030.png', '0324.png', '0828.png', '0669.png', '0016.png', '0720.png', '0686.png', '0004.png', '0632.png', '0414.png', '0976.png', '0384.png', '0738.png', '0619.png', '0985.png', '0519.png', '0215.png', '0234.png', '0981.png', '0401.png', '0088.png', '0003.png', '0272.png', '0865.png', '0637.png', '0497.png', '0018.png', '0014.png', '0352.png', '0219.png', '0212.png', '0091.png', '0892.png', '0286.png', '0798.png', '0049.png', '0771.png', '0195.png', '0081.png', '0424.png', '0115.png', '0779.png', '0069.png', '0589.png', '0145.png', '0575.png', '0969.png', '0746.png', '0506.png', '0558.png', '0581.png', '0900.png', '0254.png', '0655.png', '0309.png', '0608.png', '0851.png', '0956.png', '0829.png', '0369.png', '0484.png', '0600.png', '0001.png', '0513.png', '0623.png', '0740.png', '0105.png', '0896.png', '0516.png', '0097.png', '0112.png', '0078.png', '0192.png', '0967.png', '0641.png', '0651.png', '0863.png', '0979.png', '0659.png', '0121.png', '0869.png', '0965.png', '0526.png', '0475.png', '0355.png', '0073.png', '0174.png', '0719.png', '0179.png', '0349.png', '0100.png', '0717.png', '0138.png', '0620.png', '0019.png', '0343.png', '0040.png', '0935.png', '0090.png', '0164.png', '0698.png', '0864.png', '0687.png', '0514.png', '0889.png', '0323.png', '0712.png', '0256.png', '0463.png', '0123.png', '0283.png', '0250.png', '0604.png', '0267.png', '0978.png', '0358.png', '0790.png', '0039.png', '0199.png', '0043.png', '0037.png', '0060.png', '0268.png', '0385.png', '0087.png', '0521.png', '0095.png', '0840.png', '0616.png', '0109.png', '0508.png', '0926.png', '0023.png', '0380.png', '0951.png', '0732.png', '0015.png', '0281.png', '0556.png', '0433.png', '0161.png', '0950.png', '0490.png', '0208.png', '0330.png', '0761.png', '0171.png', '0102.png', '0111.png', '0582.png', '0810.png', '0438.png', '0843.png', '0634.png', '0356.png', '0440.png', '0759.png', '0986.png', '0400.png', '0238.png', '0670.png', '0816.png', '0378.png', '0811.png', '0774.png', '0477.png', '0445.png', '0216.png', '0860.png', '0114.png', '0821.png', '0707.png', '0448.png', '0056.png', '0722.png', '0874.png', '0054.png', '0958.png', '0259.png', '0435.png', '0627.png', '0285.png', '0160.png', '0989.png', '0024.png', '0465.png', '0329.png', '0676.png', '0644.png', '0766.png', '0264.png', '0617.png', '0200.png', '0957.png', '0072.png', '0223.png', '0065.png', '0783.png', '0144.png', '0570.png', '0408.png', '0262.png', '0135.png', '0736.png', '0542.png', '0527.png', '0388.png', '0912.png', '0691.png', '0357.png', '0936.png', '0743.png', '0034.png', '0796.png', '0752.png', '0827.png', '0898.png', '0051.png', '0430.png', '0339.png', '0273.png', '0236.png', '0884.png', '0165.png', '0455.png', '0237.png', '0386.png', '0251.png', '0318.png', '0055.png', '0376.png', '0825.png', '0129.png', '0754.png', '0994.png', '0887.png', '0120.png', '0785.png', '0372.png', '0671.png', '0299.png', '0557.png', '0596.png', '0631.png', '0832.png', '0266.png', '0920.png', '0183.png', '0962.png', '0370.png', '0984.png', '0998.png', '0939.png', '0209.png', '0548.png', '0602.png', '0859.png', '0169.png', '0180.png', '0107.png', '0130.png', '0085.png', '0544.png', '0800.png', '0231.png', '0695.png', '0706.png', '0467.png', '0439.png', '0823.png', '0176.png', '0606.png', '0280.png', '0788.png', '0848.png', '0326.png', '0525.png', '0294.png', '0677.png', '0629.png', '0945.png', '0354.png', '0940.png', '0902.png', '0403.png', '0941.png', '0152.png', '0368.png', '0523.png', '0373.png', '0491.png', '0662.png', '0270.png', '0726.png', '0901.png', '0858.png', '0371.png', '0997.png', '0136.png', '0489.png', '0910.png', '0723.png', '0472.png', '0395.png', '0700.png', '0361.png', '0083.png', '0888.png', '0225.png', '0480.png', '0406.png', '0186.png', '0968.png', '0781.png', '0471.png', '0666.png', '0062.png', '0271.png', '0374.png', '0444.png', '0929.png', '0718.png', '0428.png', '0551.png', '0222.png', '0652.png', '0773.png', '0964.png', '0389.png', '0866.png', '0673.png', '0009.png', '0460.png', '0274.png', '0573.png', '0257.png', '0390.png', '0036.png', '0050.png', '0679.png', '0549.png', '0303.png', '0364.png', '0562.png', '0410.png', '0867.png', '0287.png', '0815.png', '0235.png', '0668.png', '0345.png', '0026.png', '0243.png', '0835.png', '0048.png', '0876.png', '0904.png', '0064.png', '0705.png', '0017.png', '0456.png', '0278.png', '0532.png', '0279.png', '0886.png', '0006.png', '0824.png', '0975.png', '0992.png', '0980.png', '0924.png', '0522.png', '0213.png', '0972.png', '0227.png', '0928.png', '0468.png', '1000.png', '0092.png', '0204.png', '0849.png', '0346.png', '0710.png', '0689.png', '0598.png', '0590.png', '0664.png', '0487.png', '0734.png', '0741.png', '0552.png', '0682.png', '0059.png', '0173.png', '0868.png', '0638.png', '0496.png', '0402.png', '0578.png', '0133.png', '0172.png', '0067.png', '0803.png', '0595.png', '0893.png', '0991.png', '0942.png', '0539.png', '0427.png', '0628.png', '0934.png', '0232.png', '0681.png', '0903.png', '0878.png', '0074.png', '0571.png', '0449.png', '0702.png', '0591.png', '0466.png', '0247.png', '0793.png', '0806.png', '0703.png', '0639.png', '0601.png', '0733.png', '0873.png', '0260.png', '0142.png', '0228.png', '0432.png', '0093.png', '0391.png', '0478.png', '0263.png', '0447.png', '0937.png', '0454.png', '0839.png', '0895.png', '0038.png', '0908.png', '0899.png', '0269.png', '0483.png', '0753.png', '0253.png', '0301.png', '0185.png', '0553.png', '0071.png', '0118.png', '0916.png', '0801.png', '0249.png', '0626.png', '0618.png', '0725.png', '0820.png', '0512.png', '0366.png', '0134.png', '0297.png', '0132.png', '0233.png', '0137.png', '0501.png', '0451.png', '0905.png', '0399.png', '0291.png', '0612.png', '0529.png', '0502.png', '0053.png', '0375.png', '0657.png', '0875.png', '0959.png', '0678.png', '0576.png', '0066.png', '0830.png', '0246.png', '0749.png', '0534.png', '0344.png', '0224.png', '0663.png', '0742.png', '0418.png', '0918.png', '0906.png', '0993.png', '0117.png', '0473.png', '0063.png', '0146.png', '0636.png', '0125.png', '0417.png', '0499.png', '0127.png', '0564.png', '0630.png', '0948.png', '0470.png', '0842.png', '0140.png', '0610.png', '0184.png', '0058.png', '0817.png', '0298.png', '0953.png', '0042.png', '0166.png', '0697.png', '0509.png', '0872.png', '0833.png', '0977.png', '0306.png', '0757.png', '0469.png', '0103.png', '0194.png', '0476.png', '0949.png', '0588.png', '0760.png', '0592.png', '0960.png', '0045.png', '0300.png', '0328.png', '0337.png', '0661.png', '0275.png', '0302.png', '0198.png', '0351.png', '0005.png', '0202.png', '0715.png', '0387.png', '0988.png', '0207.png', '0642.png', '0587.png', '0464.png', '0187.png', '0393.png', '0646.png', '0971.png', '0032.png', '0795.png', '0205.png', '0485.png', '0089.png', '0660.png', '0846.png', '0307.png', '0756.png', '0772.png', '0331.png', '0350.png', '0340.png', '0931.png', '0565.png', '0336.png', '0685.png', '0312.png', '0022.png', '0011.png', '0031.png', '0277.png', '0645.png', '0012.png', '0561.png', '0914.png', '0755.png', '0458.png', '0503.png', '0492.png', '0193.png', '0653.png', '0837.png', '0353.png', '0033.png', '0159.png', '0319.png', '0052.png', '0845.png', '0241.png', '0739.png', '0124.png', '0462.png', '0683.png', '0495.png', '0119.png', '0777.png', '0545.png', '0220.png', '0784.png', '0574.png', '0347.png', '0488.png', '0404.png', '0293.png', '0239.png', '0770.png', '0150.png', '0566.png', '0486.png', '0181.png', '0751.png', '0515.png', '0882.png', '0877.png', '0498.png', '0699.png', '0963.png', '0282.png', '0500.png', '0141.png', '0394.png', '0098.png', '0407.png', '0076.png', '0834.png', '0621.png', '0453.png', '0158.png', '0961.png', '0693.png', '0724.png', '0421.png', '0615.png', '0879.png', '0284.png', '0335.png', '0643.png', '0857.png', '0113.png', '0420.png', '0995.png', '0709.png', '0348.png', '0094.png', '0730.png', '0915.png', '0729.png', '0640.png', '0680.png', '0674.png', '0510.png', '0894.png', '0665.png', '0778.png', '0560.png', '0786.png', '0122.png', '0944.png', '0572.png', '0855.png', '0084.png', '0767.png', '0230.png', '0528.png', '0099.png', '0696.png', '0168.png', '0538.png', '0791.png', '0650.png', '0505.png', '0543.png', '0507.png', '0938.png', '0727.png', '0362.png', '0155.png', '0613.png', '0245.png', '0982.png', '0603.png', '0536.png', '0261.png', '0838.png', '0441.png', '0768.png', '0765.png', '0128.png']\n"
          ]
        }
      ]
    },
    {
      "cell_type": "markdown",
      "source": [
        "The above directory structure (one folder per class) is used by many computer vision datasets, and most deep learning libraries provide utilites for working with such datasets. We can use the `ImageFolder` class from `torchvision` to load the data as PyTorch tensors.\n",
        "\n",
        "`torchvision` is a package in the PyTorch library specifically designed to handle **computer vision tasks**. It provides a wide range of utilities and pre-trained models for tasks such as **image classification, object detection, segmentation, and more**."
      ],
      "metadata": {
        "id": "qlRm5Q_zg5MX"
      }
    },
    {
      "cell_type": "code",
      "source": [
        "from torchvision.datasets import ImageFolder\n",
        "from torchvision.transforms import ToTensor"
      ],
      "metadata": {
        "id": "HL7XTM9ggw0j"
      },
      "execution_count": 8,
      "outputs": []
    },
    {
      "cell_type": "code",
      "source": [
        "dataset = ImageFolder(data_dir+'/train', transform=ToTensor())"
      ],
      "metadata": {
        "id": "Vux7p07JkfJU"
      },
      "execution_count": 9,
      "outputs": []
    },
    {
      "cell_type": "markdown",
      "source": [
        "Let's look at a sample element from the **training dataset**. Each element is a `tuple`, containing an image tensor and a label. Since the data consists of `32x32 px` color images with 3 channels (RGB), each image tensor has the shape `(3, 32, 32)`."
      ],
      "metadata": {
        "id": "srcH2dZ7ktat"
      }
    },
    {
      "cell_type": "code",
      "source": [
        "img, label = dataset[0]\n",
        "print(img.shape, label)\n",
        "img"
      ],
      "metadata": {
        "colab": {
          "base_uri": "https://localhost:8080/"
        },
        "id": "fa35G1oFlQOv",
        "outputId": "69b78136-f267-4ebc-d3d4-efe819bb84f5"
      },
      "execution_count": 11,
      "outputs": [
        {
          "output_type": "stream",
          "name": "stdout",
          "text": [
            "torch.Size([3, 32, 32]) 0\n"
          ]
        },
        {
          "output_type": "execute_result",
          "data": {
            "text/plain": [
              "tensor([[[0.7922, 0.7922, 0.8000,  ..., 0.8118, 0.8039, 0.7961],\n",
              "         [0.8078, 0.8078, 0.8118,  ..., 0.8235, 0.8157, 0.8078],\n",
              "         [0.8235, 0.8275, 0.8314,  ..., 0.8392, 0.8314, 0.8235],\n",
              "         ...,\n",
              "         [0.8549, 0.8235, 0.7608,  ..., 0.9529, 0.9569, 0.9529],\n",
              "         [0.8588, 0.8510, 0.8471,  ..., 0.9451, 0.9451, 0.9451],\n",
              "         [0.8510, 0.8471, 0.8510,  ..., 0.9373, 0.9373, 0.9412]],\n",
              "\n",
              "        [[0.8000, 0.8000, 0.8078,  ..., 0.8157, 0.8078, 0.8000],\n",
              "         [0.8157, 0.8157, 0.8196,  ..., 0.8275, 0.8196, 0.8118],\n",
              "         [0.8314, 0.8353, 0.8392,  ..., 0.8392, 0.8353, 0.8275],\n",
              "         ...,\n",
              "         [0.8510, 0.8196, 0.7608,  ..., 0.9490, 0.9490, 0.9529],\n",
              "         [0.8549, 0.8471, 0.8471,  ..., 0.9412, 0.9412, 0.9412],\n",
              "         [0.8471, 0.8431, 0.8471,  ..., 0.9333, 0.9333, 0.9333]],\n",
              "\n",
              "        [[0.7804, 0.7804, 0.7882,  ..., 0.7843, 0.7804, 0.7765],\n",
              "         [0.7961, 0.7961, 0.8000,  ..., 0.8039, 0.7961, 0.7882],\n",
              "         [0.8118, 0.8157, 0.8235,  ..., 0.8235, 0.8157, 0.8078],\n",
              "         ...,\n",
              "         [0.8706, 0.8392, 0.7765,  ..., 0.9686, 0.9686, 0.9686],\n",
              "         [0.8745, 0.8667, 0.8627,  ..., 0.9608, 0.9608, 0.9608],\n",
              "         [0.8667, 0.8627, 0.8667,  ..., 0.9529, 0.9529, 0.9529]]])"
            ]
          },
          "metadata": {},
          "execution_count": 11
        }
      ]
    },
    {
      "cell_type": "markdown",
      "source": [
        "The list of classes is stored in the `.classes` property of the dataset. The numeric label for each element corresponds to index of the element's label in the list of classes."
      ],
      "metadata": {
        "id": "xBNO6H4Xlx1U"
      }
    },
    {
      "cell_type": "code",
      "source": [
        "print(dataset.classes)"
      ],
      "metadata": {
        "colab": {
          "base_uri": "https://localhost:8080/"
        },
        "id": "Ec0mtYORleEH",
        "outputId": "5a4d9e7d-b805-4c26-f20e-4d306f01bfa6"
      },
      "execution_count": 12,
      "outputs": [
        {
          "output_type": "stream",
          "name": "stdout",
          "text": [
            "['airplane', 'automobile', 'bird', 'cat', 'deer', 'dog', 'frog', 'horse', 'ship', 'truck']\n"
          ]
        }
      ]
    },
    {
      "cell_type": "markdown",
      "source": [
        "We can view the image using `matplotlib`, but we need to change the tensor dimensions to `(32,32,3)`.\n",
        "\n",
        "+ `matplotlib.rcParams`: `rcParams` is a dictionary-like object in `Matplotlib` that stores default configuration settings for various aspects of plot appearance and behavior. (Note `matplotlib` is a Python module)\n",
        "\n",
        "+ `['figure.facecolor']`: This part of the statement accesses the configuration setting for the background color (facecolor) of Matplotlib figures (figure)\n",
        "\n",
        "+ = `'#ffffff'`: This part assigns the hexadecimal color code `'#ffffff'` to the 'figure.facecolor' configuration setting. The hexadecimal color code `'#ffffff'` represents white."
      ],
      "metadata": {
        "id": "moxEszzEm2gB"
      }
    },
    {
      "cell_type": "code",
      "source": [
        "from io import IncrementalNewlineDecoder\n",
        "import matplotlib\n",
        "import matplotlib.pyplot as plt\n",
        "%matplotlib inline\n",
        "\n",
        "matplotlib.rcParams['figure.facecolor'] = '#ffffff'\n",
        "\n"
      ],
      "metadata": {
        "id": "j7TSV3hLm3KK"
      },
      "execution_count": 14,
      "outputs": []
    },
    {
      "cell_type": "code",
      "source": [
        "def show_example(img, label):\n",
        "    print('Label: ', dataset.classes[label], \"(\"+str(label)+\")\")\n",
        "    plt.imshow(img.permute(1, 2, 0))"
      ],
      "metadata": {
        "id": "HR63phEQoo2C"
      },
      "execution_count": 15,
      "outputs": []
    },
    {
      "cell_type": "markdown",
      "source": [
        "Next check a couple of images from the `dataset`. As you can tell, the 32x32px images are quite difficult to identify, even for the human eye.\n",
        "\n",
        "`*dataset[0]`: This syntax `*dataset[0]` is known as unpacking. Here, it's unpacking the contents of `dataset[0]`, assuming `dataset[0]` contains an iterable, like a `tuple` or a `list`. Each element in the iterable will be passed as an argument to the `show_example` function.\n",
        "\n",
        "In Python, when you pass an **iterable** (like a `list` or `tuple`) to a function as an argument, it's treated as a single entity, even if it contains multiple elements.\n",
        "\n",
        "+ Here, `dataset[0]` is assumed to be an iterable (like a tuple), containing multiple elements (for example, an image and its label).\n",
        "\n",
        "+ The asterisk `(*)` operator before dataset`[0]` unpacks the elements of the iterable. So if `dataset[0]` is `(image, label)`, it effectively becomes `show_example(image, label)`, passing each element as a **separate argument** to the show_example function."
      ],
      "metadata": {
        "id": "QyodIbSIpXsZ"
      }
    },
    {
      "cell_type": "code",
      "source": [
        "show_example(*dataset[0])"
      ],
      "metadata": {
        "colab": {
          "base_uri": "https://localhost:8080/",
          "height": 448
        },
        "id": "HNDPxerBo5_h",
        "outputId": "5dcada3e-7c76-41a6-9e9d-328c02caacc5"
      },
      "execution_count": 18,
      "outputs": [
        {
          "output_type": "stream",
          "name": "stdout",
          "text": [
            "Label:  airplane (0)\n"
          ]
        },
        {
          "output_type": "display_data",
          "data": {
            "text/plain": [
              "<Figure size 640x480 with 1 Axes>"
            ],
            "image/png": "[encoded data removed]"
          },
          "metadata": {}
        }
      ]
    },
    {
      "cell_type": "code",
      "source": [
        "show_example(*dataset[100])"
      ],
      "metadata": {
        "colab": {
          "base_uri": "https://localhost:8080/",
          "height": 448
        },
        "id": "6QO0060Ko-pJ",
        "outputId": "2ec86e78-18f2-4cef-be8b-2b10bba1e97c"
      },
      "execution_count": 19,
      "outputs": [
        {
          "output_type": "stream",
          "name": "stdout",
          "text": [
            "Label:  airplane (0)\n"
          ]
        },
        {
          "output_type": "display_data",
          "data": {
            "text/plain": [
              "<Figure size 640x480 with 1 Axes>"
            ],
            "image/png": "[encoded data removed]"
          },
          "metadata": {}
        }
      ]
    },
    {
      "cell_type": "markdown",
      "source": [
        "### Save and upload your notebook\n"
      ],
      "metadata": {
        "id": "eFJcVG63rqEs"
      }
    },
    {
      "cell_type": "code",
      "source": [
        "!pip install jovian --upgrade -q"
      ],
      "metadata": {
        "colab": {
          "base_uri": "https://localhost:8080/"
        },
        "id": "p_8wW6yNriz4",
        "outputId": "9007a672-ae1f-4663-f437-56d81867036b"
      },
      "execution_count": 20,
      "outputs": [
        {
          "output_type": "stream",
          "name": "stdout",
          "text": [
            "\u001b[?25l     \u001b[90m━━━━━━━━━━━━━━━━━━━━━━━━━━━━━━━━━━━━━━━━\u001b[0m \u001b[32m0.0/68.6 kB\u001b[0m \u001b[31m?\u001b[0m eta \u001b[36m-:--:--\u001b[0m\r\u001b[2K     \u001b[91m━━━━━━━━━━━━━━━━━━━━━━━━━━━━━━━━━━━\u001b[0m\u001b[91m╸\u001b[0m\u001b[90m━━━━\u001b[0m \u001b[32m61.4/68.6 kB\u001b[0m \u001b[31m2.3 MB/s\u001b[0m eta \u001b[36m0:00:01\u001b[0m\r\u001b[2K     \u001b[90m━━━━━━━━━━━━━━━━━━━━━━━━━━━━━━━━━━━━━━━━\u001b[0m \u001b[32m68.6/68.6 kB\u001b[0m \u001b[31m1.6 MB/s\u001b[0m eta \u001b[36m0:00:00\u001b[0m\n",
            "\u001b[?25h  Preparing metadata (setup.py) ... \u001b[?25l\u001b[?25hdone\n",
            "  Building wheel for uuid (setup.py) ... \u001b[?25l\u001b[?25hdone\n"
          ]
        }
      ]
    },
    {
      "cell_type": "code",
      "source": [
        "import jovian"
      ],
      "metadata": {
        "id": "sU1m7iE3rxan"
      },
      "execution_count": 21,
      "outputs": []
    },
    {
      "cell_type": "code",
      "source": [
        "jovian.commit(project=project_name)"
      ],
      "metadata": {
        "colab": {
          "base_uri": "https://localhost:8080/"
        },
        "id": "d7Pva0Par1fj",
        "outputId": "ee22406d-4c9b-4538-ea4e-05d024ee1aa0"
      },
      "execution_count": 25,
      "outputs": [
        {
          "output_type": "stream",
          "name": "stdout",
          "text": [
            "[jovian] Detected Colab notebook...\u001b[0m\n",
            "[jovian] jovian.commit() is no longer required on Google Colab. If you ran this notebook from Jovian, \n",
            "then just save this file in Colab using Ctrl+S/Cmd+S and it will be updated on Jovian. \n",
            "Also, you can also delete this cell, it's no longer necessary.\u001b[0m\n"
          ]
        }
      ]
    },
    {
      "cell_type": "code",
      "source": [],
      "metadata": {
        "id": "WsfHuV9WsBDw"
      },
      "execution_count": null,
      "outputs": []
    }
  ]
}