{
  "nbformat": 4,
  "nbformat_minor": 0,
  "metadata": {
    "colab": {
      "provenance": [],
      "authorship_tag": "ABX9TyPj7sed+lBQIjkFVgvTH1Mk",
      "include_colab_link": true
    },
    "kernelspec": {
      "name": "python3",
      "display_name": "Python 3"
    },
    "language_info": {
      "name": "python"
    }
  },
  "cells": [
    {
      "cell_type": "markdown",
      "metadata": {
        "id": "view-in-github",
        "colab_type": "text"
      },
      "source": [
        "<a href=\"https://colab.research.google.com/github/Renshui-MC/DeepLearning-ZerosToGans/blob/main/PyTorch%20model.ipynb\" target=\"_parent\"><img src=\"https://colab.research.google.com/assets/colab-badge.svg\" alt=\"Open In Colab\"/></a>"
      ]
    },
    {
      "cell_type": "markdown",
      "source": [
        "#**Linear regression using PyTorch built-ins**\n",
        "\n",
        "* Gradient descent can be done very eaily using `loss.backward()`. Otherwise, we must implement it using `Numpy`\n",
        "* `Numpy` does not support GPUs but `PyTorch` does (when we deal with large datasets we need to move them to GPUs)\n",
        "* Instead of implementing a regression model from the scratch using `Numpy`, `PyTorch` provides basic building blocks that can easily build a regression model that requires only a few lines of code\n",
        "* **linear regression** is the simplest form of neural network"
      ],
      "metadata": {
        "id": "VePSKWtm3ZuO"
      }
    },
    {
      "cell_type": "code",
      "execution_count": 4,
      "metadata": {
        "id": "FZL3cOl3zCNZ"
      },
      "outputs": [],
      "source": [
        "import torch.nn as nn\n",
        "import numpy as np\n",
        "import torch"
      ]
    },
    {
      "cell_type": "markdown",
      "source": [
        "Again first things first we need training dataset: input features and ouput targets. \n",
        "\n",
        "+ from outside in the number of square brackets means how many dimensions you have. One square bracket means 1D, and two square brackets mean 2D."
      ],
      "metadata": {
        "id": "L7s-mKr4CaDY"
      }
    },
    {
      "cell_type": "code",
      "source": [
        "# Input (temp, rainfall, humidity)\n",
        "inputs = np.array([[73, 67, 43], \n",
        "                   [91, 88, 64], \n",
        "                   [87, 134, 58], \n",
        "                   [102, 43, 37], \n",
        "                   [69, 96, 70], \n",
        "                   [74, 66, 43], \n",
        "                   [91, 87, 65], \n",
        "                   [88, 134, 59], \n",
        "                   [101, 44, 37], \n",
        "                   [68, 96, 71], \n",
        "                   [73, 66, 44], \n",
        "                   [92, 87, 64], \n",
        "                   [87, 135, 57], \n",
        "                   [103, 43, 36], \n",
        "                   [68, 97, 70]], \n",
        "                  dtype='float32')\n",
        "\n",
        "# Targets (apples, oranges)\n",
        "targets = np.array([[56, 70], \n",
        "                    [81, 101], \n",
        "                    [119, 133], \n",
        "                    [22, 37], \n",
        "                    [103, 119],\n",
        "                    [57, 69], \n",
        "                    [80, 102], \n",
        "                    [118, 132], \n",
        "                    [21, 38], \n",
        "                    [104, 118], \n",
        "                    [57, 69], \n",
        "                    [82, 100], \n",
        "                    [118, 134], \n",
        "                    [20, 38], \n",
        "                    [102, 120]], \n",
        "                   dtype='float32')\n",
        "\n",
        "inputs = torch.from_numpy(inputs)#convert to torch data type\n",
        "targets = torch.from_numpy(targets)#convert to torch data type"
      ],
      "metadata": {
        "id": "mMuEXZht68VE"
      },
      "execution_count": 5,
      "outputs": []
    },
    {
      "cell_type": "markdown",
      "source": [
        "We are using larger datasets of 15 training examples"
      ],
      "metadata": {
        "id": "s-E9L7vrDp7s"
      }
    },
    {
      "cell_type": "code",
      "source": [
        "inputs"
      ],
      "metadata": {
        "colab": {
          "base_uri": "https://localhost:8080/"
        },
        "id": "7dhl8E59F0zu",
        "outputId": "26fba0ff-d606-4751-d11f-49529df30826"
      },
      "execution_count": 6,
      "outputs": [
        {
          "output_type": "execute_result",
          "data": {
            "text/plain": [
              "tensor([[ 73.,  67.,  43.],\n",
              "        [ 91.,  88.,  64.],\n",
              "        [ 87., 134.,  58.],\n",
              "        [102.,  43.,  37.],\n",
              "        [ 69.,  96.,  70.],\n",
              "        [ 74.,  66.,  43.],\n",
              "        [ 91.,  87.,  65.],\n",
              "        [ 88., 134.,  59.],\n",
              "        [101.,  44.,  37.],\n",
              "        [ 68.,  96.,  71.],\n",
              "        [ 73.,  66.,  44.],\n",
              "        [ 92.,  87.,  64.],\n",
              "        [ 87., 135.,  57.],\n",
              "        [103.,  43.,  36.],\n",
              "        [ 68.,  97.,  70.]])"
            ]
          },
          "metadata": {},
          "execution_count": 6
        }
      ]
    },
    {
      "cell_type": "markdown",
      "source": [
        "##**Dataset and DataLoader**\n",
        "\n",
        "In practice, we might have millions of data, and it is difficult to print all data at once due to too slow to print. Instead, we want to take the data down into **batches**. That helps us train our models faster. \n",
        "\n",
        "+ create a `TensorDataset` to access rows from inputs and targets\n",
        "+ `TensorDataset` also provides **standard APIs** that can work with many different types of datasets in pyTorch\n",
        "+ `TensorDataset` can access **a small section** of the training dataset using the array indexing notation, e.g., `[0:3]` (first three rows or training examples). You will obtain **two outputted elements**. For `[0:3]`, you will get first three rows for inputs (first element) and first three rows for targets (second element).\n",
        "+ `TensorDataset` is a class in `PyTorch` \n"
      ],
      "metadata": {
        "id": "F-kiWouoQRh4"
      }
    },
    {
      "cell_type": "code",
      "source": [
        "from torch.utils.data import TensorDataset"
      ],
      "metadata": {
        "id": "lFsnILvTSO6X"
      },
      "execution_count": 7,
      "outputs": []
    },
    {
      "cell_type": "code",
      "source": [
        "# Define dataset\n",
        "train_ds = TensorDataset(inputs, targets)\n",
        "train_ds[0:3] #just want to take a look at the first three rows of data. But remember we actually have 15 rows"
      ],
      "metadata": {
        "colab": {
          "base_uri": "https://localhost:8080/"
        },
        "id": "4GaK8IxaSRTN",
        "outputId": "084fc7c6-4f3f-45da-e31a-4c9b89d3375d"
      },
      "execution_count": 38,
      "outputs": [
        {
          "output_type": "execute_result",
          "data": {
            "text/plain": [
              "(tensor([[ 73.,  67.,  43.],\n",
              "         [ 91.,  88.,  64.],\n",
              "         [ 87., 134.,  58.]]), tensor([[ 56.,  70.],\n",
              "         [ 81., 101.],\n",
              "         [119., 133.]]))"
            ]
          },
          "metadata": {},
          "execution_count": 38
        }
      ]
    },
    {
      "cell_type": "markdown",
      "source": [
        "Then we use `DataLoader` to split the data we just defined using `TensorDataset` into **batches**.\n",
        "\n",
        "+ set batch size to $5$ (**number of rows or training examples**) then you have **total training examples/batch training examples $= 15/5=3$ batches**\n",
        "+ **a batch** contains rows of data based on the specified batch size. You can have **a batch of inputs** and **a batch of outputs**\n",
        "+ set `shuffle = True` to create random data before creating batches, which is more efficient for training, e.g., faster reduction in the loss. If you compare the shuffled data with original inputs or outputs in the same specified rows, you will notice that the data are different from each other\n",
        "+ loop through `train_dl` (`DataLoader`) and return batches of data with the given batch size (`TensorDataset`)\n",
        "+ `break` ensures only the first batch is printed\n"
      ],
      "metadata": {
        "id": "BuoCVEySaEuO"
      }
    },
    {
      "cell_type": "code",
      "source": [
        "from torch.utils.data import DataLoader"
      ],
      "metadata": {
        "id": "yPuGFjCkbCFE"
      },
      "execution_count": 9,
      "outputs": []
    },
    {
      "cell_type": "code",
      "source": [
        "# Define data loader\n",
        "batch_size = 5 \n",
        "train_dl = DataLoader(train_ds, batch_size, shuffle=True)\n",
        "#print(train_dl.dataset[1])"
      ],
      "metadata": {
        "id": "ztKMvuJ8ar_V"
      },
      "execution_count": 33,
      "outputs": []
    },
    {
      "cell_type": "code",
      "source": [
        "#iterate through the 3 batches (batch size  = 5)\n",
        "for xb, yb in train_dl: \n",
        "  print(xb)\n",
        "  print(yb)\n",
        "  break # we only need the first batch"
      ],
      "metadata": {
        "colab": {
          "base_uri": "https://localhost:8080/"
        },
        "id": "1FR3VtqPfpeQ",
        "outputId": "1d60d35d-f655-4e97-8aff-442173fdaae8"
      },
      "execution_count": 39,
      "outputs": [
        {
          "output_type": "stream",
          "name": "stdout",
          "text": [
            "tensor([[ 69.,  96.,  70.],\n",
            "        [ 88., 134.,  59.],\n",
            "        [ 92.,  87.,  64.],\n",
            "        [ 87., 135.,  57.],\n",
            "        [ 68.,  97.,  70.]])\n",
            "tensor([[103., 119.],\n",
            "        [118., 132.],\n",
            "        [ 82., 100.],\n",
            "        [118., 134.],\n",
            "        [102., 120.]])\n"
          ]
        }
      ]
    },
    {
      "cell_type": "code",
      "source": [
        "inputs"
      ],
      "metadata": {
        "colab": {
          "base_uri": "https://localhost:8080/"
        },
        "id": "itjorP8YkNtf",
        "outputId": "c4e4a9df-e260-4e11-f606-72211bb5a402"
      },
      "execution_count": 21,
      "outputs": [
        {
          "output_type": "execute_result",
          "data": {
            "text/plain": [
              "tensor([[ 73.,  67.,  43.],\n",
              "        [ 91.,  88.,  64.],\n",
              "        [ 87., 134.,  58.],\n",
              "        [102.,  43.,  37.],\n",
              "        [ 69.,  96.,  70.],\n",
              "        [ 74.,  66.,  43.],\n",
              "        [ 91.,  87.,  65.],\n",
              "        [ 88., 134.,  59.],\n",
              "        [101.,  44.,  37.],\n",
              "        [ 68.,  96.,  71.],\n",
              "        [ 73.,  66.,  44.],\n",
              "        [ 92.,  87.,  64.],\n",
              "        [ 87., 135.,  57.],\n",
              "        [103.,  43.,  36.],\n",
              "        [ 68.,  97.,  70.]])"
            ]
          },
          "metadata": {},
          "execution_count": 21
        }
      ]
    },
    {
      "cell_type": "markdown",
      "source": [
        "##**nn.Linear**\n",
        "Instead of initializing the weights & biases manually, we can define the model using the `nn.Linear` class from `PyTorch`, which does it automatically. **Here we are using a linear layer of NN.**\n",
        "\n",
        "+ define the model `nn.Linear(3,2)`, where $3$ represents the number of features and $2$ represents the number of targets (we here have two targets: Apple and Orange)\n",
        "+ two targets imply that we have two sets of weights (one set has $3$ weights that is equal to the number of features, and therefore, we have $3 \\times 2 = 6$ weights in total) **It is just the number of features multiplied by the number of targets**\n",
        "+ two targets need $2$ biases\n",
        "+ `nn.Linear` automatically outputs weights and biases for us"
      ],
      "metadata": {
        "id": "Uy0TKTWMkVFq"
      }
    },
    {
      "cell_type": "code",
      "source": [
        "# create a linear regression model using PyTorch\n",
        "model = nn.Linear(3,2)\n",
        "print(model.weight)\n",
        "print(model.bias)"
      ],
      "metadata": {
        "colab": {
          "base_uri": "https://localhost:8080/"
        },
        "id": "EZ74tbsXlbl1",
        "outputId": "8d4a06f5-3dc2-4b82-94fa-4f3adf8b9c45"
      },
      "execution_count": 22,
      "outputs": [
        {
          "output_type": "stream",
          "name": "stdout",
          "text": [
            "Parameter containing:\n",
            "tensor([[0.2578, 0.5727, 0.2086],\n",
            "        [0.3338, 0.4693, 0.5319]], requires_grad=True)\n",
            "Parameter containing:\n",
            "tensor([-0.5341, -0.3569], requires_grad=True)\n"
          ]
        }
      ]
    },
    {
      "cell_type": "markdown",
      "source": [
        "##**Parameters**\n",
        "`PyTorch` models have a usefull method called `.parameters()`. It presents all weights and biases in matrices."
      ],
      "metadata": {
        "id": "eVnk1PxlsJhP"
      }
    },
    {
      "cell_type": "code",
      "source": [
        "list(model.parameters())"
      ],
      "metadata": {
        "colab": {
          "base_uri": "https://localhost:8080/"
        },
        "id": "5ADvL3OBsIhq",
        "outputId": "577a5cc5-d48d-45ec-e791-785c6ce4fa61"
      },
      "execution_count": 40,
      "outputs": [
        {
          "output_type": "execute_result",
          "data": {
            "text/plain": [
              "[Parameter containing:\n",
              " tensor([[0.2578, 0.5727, 0.2086],\n",
              "         [0.3338, 0.4693, 0.5319]], requires_grad=True), Parameter containing:\n",
              " tensor([-0.5341, -0.3569], requires_grad=True)]"
            ]
          },
          "metadata": {},
          "execution_count": 40
        }
      ]
    },
    {
      "cell_type": "markdown",
      "source": [
        "Now we can generate predictions using our `PyTorch` model"
      ],
      "metadata": {
        "id": "9sV45XmaxHsD"
      }
    },
    {
      "cell_type": "code",
      "source": [
        "preds = model(inputs)\n",
        "preds"
      ],
      "metadata": {
        "colab": {
          "base_uri": "https://localhost:8080/"
        },
        "id": "XgLQZNAMxUFA",
        "outputId": "85292dcb-b583-4690-a954-bf914a72a916"
      },
      "execution_count": 41,
      "outputs": [
        {
          "output_type": "execute_result",
          "data": {
            "text/plain": [
              "tensor([[ 65.6279,  78.3223],\n",
              "        [ 86.6758, 105.3553],\n",
              "        [110.7386, 122.4156],\n",
              "        [ 58.1081,  73.5472],\n",
              "        [ 86.8367, 104.9583],\n",
              "        [ 65.3130,  78.1868],\n",
              "        [ 86.3116, 105.4180],\n",
              "        [111.2050, 123.2813],\n",
              "        [ 58.4230,  73.6827],\n",
              "        [ 86.7874, 105.1565],\n",
              "        [ 65.2638,  78.3850],\n",
              "        [ 86.3609, 105.2198],\n",
              "        [111.1028, 122.3529],\n",
              "        [ 58.1574,  73.3490],\n",
              "        [ 87.1516, 105.0939]], grad_fn=<AddmmBackward0>)"
            ]
          },
          "metadata": {},
          "execution_count": 41
        }
      ]
    },
    {
      "cell_type": "markdown",
      "source": [
        "##**Loss function or cost function**\n",
        "In `PyTorch`, we can use the built-in loss function `mse_loss`"
      ],
      "metadata": {
        "id": "zgqVDXCyxosh"
      }
    },
    {
      "cell_type": "code",
      "source": [
        "# Import nn.functional\n",
        "import torch.nn.functional as F"
      ],
      "metadata": {
        "id": "GKh7_FVIyFBX"
      },
      "execution_count": 42,
      "outputs": []
    },
    {
      "cell_type": "markdown",
      "source": [
        "The `nn.functional` package contains many useful loss functions and several other utilities. "
      ],
      "metadata": {
        "id": "rsTAH8tByaz9"
      }
    },
    {
      "cell_type": "code",
      "source": [
        "# Define loss function\n",
        "loss_fn = F.mse_loss"
      ],
      "metadata": {
        "id": "TAHMZkZKyeoT"
      },
      "execution_count": 43,
      "outputs": []
    },
    {
      "cell_type": "markdown",
      "source": [
        "Now compute loss for the current model"
      ],
      "metadata": {
        "id": "Hid71mo4ynXW"
      }
    },
    {
      "cell_type": "code",
      "source": [
        "loss = loss_fn(model(inputs), targets)\n",
        "print(loss)"
      ],
      "metadata": {
        "colab": {
          "base_uri": "https://localhost:8080/"
        },
        "id": "H_dd54fRyvyk",
        "outputId": "3d2470de-4a95-43a2-90df-707e17085f81"
      },
      "execution_count": 44,
      "outputs": [
        {
          "output_type": "stream",
          "name": "stdout",
          "text": [
            "tensor(349.5857, grad_fn=<MseLossBackward0>)\n"
          ]
        }
      ]
    },
    {
      "cell_type": "markdown",
      "source": [
        "##**Optimizer (gradient descent)**\n",
        "Instead of manually manipulating the model's weights & biases using gradients, we can use the optimizer `optim.SGD`. SGD is short for \"**stochastic gradient descent**\". The term _stochastic_ indicates that samples are selected in random batches instead of as a single group.\n",
        "\n",
        "+ `model.parameters()` (weights and biases) is passed as an argument to `optim.SGD` so that the optimizer knows which matrices should be modified during the update step\n",
        "+ we can specify a learning rate (`lr`) that controls the amount by which the parameters (weights and biases) are modified\n",
        "\n"
      ],
      "metadata": {
        "id": "KFG0WU09y8CQ"
      }
    },
    {
      "cell_type": "code",
      "source": [
        "# Define optimizer\n",
        "opt = torch.optim.SGD(model.parameters(), lr=1e-5)"
      ],
      "metadata": {
        "id": "mpGgF83i4fsX"
      },
      "execution_count": 45,
      "outputs": []
    },
    {
      "cell_type": "markdown",
      "source": [
        "## **Train the model**\n",
        "\n",
        "We are now ready to train the model. We'll follow the same process to implement gradient descent as we have done before:\n",
        "\n",
        "1. Generate predictions\n",
        "\n",
        "2. Calculate the loss\n",
        "\n",
        "3. Compute gradients w.r.t the weights and biases\n",
        "\n",
        "4. Adjust the weights by subtracting a small quantity proportional to the gradient\n",
        "\n",
        "5. Reset the gradients to zero\n",
        "\n",
        "The **only change** is that we'll work **batches of data** instead of processing the **entire training data** in every iteration. To avoid repetition, let's define a **utility function** `fit` that trains the model for a given number of epochs.\n",
        "\n",
        "+ number of epochs `num_epochs`\n",
        "+ model `model`\n",
        "+ loss function `loss_fn`\n",
        "+ optimizer `opt`\n",
        "+ batch data from `dataloader` `train_dl`\n",
        "+ input batch `xb`\n",
        "+ output batch `yb`\n",
        "\n",
        "Some things to note above:\n",
        "\n",
        "* We use the data loader defined earlier to get **batches of data** for every iteration.\n",
        "\n",
        "* Instead of updating parameters (weights and biases) manually, we use `opt.step` to perform the update and `opt.zero_grad` to reset the gradients to zero. \n",
        "This is the most important step! Once you pass the `PyTorch` model into the utility function `fit`, `opt.step()` will update parameters (weights and biases) in every epoch. After training is done, you will get an **updated model** with these updated parameters.\n",
        "\n",
        "* We've also added a log statement that prints the loss from the last batch of data for every 10th epoch to track training progress. `loss.item` returns the actual value stored in the loss tensor.\n"
      ],
      "metadata": {
        "id": "aqZNn75z5d__"
      }
    },
    {
      "cell_type": "code",
      "source": [
        "# Utility function to train the model\n",
        "def fit(num_epochs, model, loss_fn, opt, train_dl):\n",
        "    \n",
        "    # Repeat for given number of epochs\n",
        "    for epoch in range(num_epochs):\n",
        "        \n",
        "        # Train with batches of data\n",
        "        for xb,yb in train_dl:\n",
        "            \n",
        "            # 1. Generate predictions\n",
        "            pred = model(xb)\n",
        "            \n",
        "            # 2. Calculate loss\n",
        "            loss = loss_fn(pred, yb)\n",
        "            \n",
        "            # 3. Compute gradients\n",
        "            loss.backward()\n",
        "            \n",
        "            # 4. Update parameters using gradients!!!!! (very important)\n",
        "            opt.step()\n",
        "            \n",
        "            # 5. Reset the gradients to zero\n",
        "            opt.zero_grad()\n",
        "        \n",
        "        # Print the progress\n",
        "        if (epoch+1) % 10 == 0:\n",
        "            print('Epoch [{}/{}], Loss: {:.4f}'.format(epoch+1, num_epochs, loss.item()))"
      ],
      "metadata": {
        "id": "VLF2AwSa5juJ"
      },
      "execution_count": 46,
      "outputs": []
    },
    {
      "cell_type": "markdown",
      "source": [
        "Let's train the model for 100 epochs."
      ],
      "metadata": {
        "id": "YiWyQYBJ77zV"
      }
    },
    {
      "cell_type": "code",
      "source": [
        "fit(100, model, loss_fn, opt, train_dl)"
      ],
      "metadata": {
        "colab": {
          "base_uri": "https://localhost:8080/"
        },
        "id": "9VPBaAb_7nUk",
        "outputId": "1bb88525-2358-4a4b-ccf7-ac66bacd70aa"
      },
      "execution_count": 47,
      "outputs": [
        {
          "output_type": "stream",
          "name": "stdout",
          "text": [
            "Epoch [10/100], Loss: 291.9106\n",
            "Epoch [20/100], Loss: 191.4874\n",
            "Epoch [30/100], Loss: 116.4991\n",
            "Epoch [40/100], Loss: 67.6291\n",
            "Epoch [50/100], Loss: 78.5976\n",
            "Epoch [60/100], Loss: 42.4591\n",
            "Epoch [70/100], Loss: 44.6003\n",
            "Epoch [80/100], Loss: 40.4617\n",
            "Epoch [90/100], Loss: 4.1298\n",
            "Epoch [100/100], Loss: 11.8584\n"
          ]
        }
      ]
    },
    {
      "cell_type": "code",
      "source": [
        "# Generate predictions\n",
        "preds = model(inputs)\n",
        "preds"
      ],
      "metadata": {
        "colab": {
          "base_uri": "https://localhost:8080/"
        },
        "id": "WPWzIGrj8hdx",
        "outputId": "beac28bf-d578-426e-e5d0-38dc5d58fc31"
      },
      "execution_count": 52,
      "outputs": [
        {
          "output_type": "execute_result",
          "data": {
            "text/plain": [
              "tensor([[ 58.0322,  71.3844],\n",
              "        [ 80.3286,  99.5371],\n",
              "        [120.8689, 133.8515],\n",
              "        [ 26.9509,  43.3918],\n",
              "        [ 95.1725, 113.3712],\n",
              "        [ 56.8793,  70.4134],\n",
              "        [ 79.7856,  99.3730],\n",
              "        [120.9881, 134.3523],\n",
              "        [ 28.1037,  44.3628],\n",
              "        [ 95.7822, 114.1781],\n",
              "        [ 57.4891,  71.2203],\n",
              "        [ 79.1758,  98.5661],\n",
              "        [121.4120, 134.0156],\n",
              "        [ 26.3411,  42.5848],\n",
              "        [ 96.3253, 114.3422]], grad_fn=<AddmmBackward0>)"
            ]
          },
          "metadata": {},
          "execution_count": 52
        }
      ]
    },
    {
      "cell_type": "code",
      "source": [
        "# Compare with targets\n",
        "targets"
      ],
      "metadata": {
        "colab": {
          "base_uri": "https://localhost:8080/"
        },
        "id": "wRgMGN8T9R1d",
        "outputId": "8032efd2-f731-47cf-e29f-cc2e70849282"
      },
      "execution_count": 51,
      "outputs": [
        {
          "output_type": "execute_result",
          "data": {
            "text/plain": [
              "tensor([[ 56.,  70.],\n",
              "        [ 81., 101.],\n",
              "        [119., 133.],\n",
              "        [ 22.,  37.],\n",
              "        [103., 119.],\n",
              "        [ 57.,  69.],\n",
              "        [ 80., 102.],\n",
              "        [118., 132.],\n",
              "        [ 21.,  38.],\n",
              "        [104., 118.],\n",
              "        [ 57.,  69.],\n",
              "        [ 82., 100.],\n",
              "        [118., 134.],\n",
              "        [ 20.,  38.],\n",
              "        [102., 120.]])"
            ]
          },
          "metadata": {},
          "execution_count": 51
        }
      ]
    },
    {
      "cell_type": "markdown",
      "source": [
        "Indeed, the predictions are quite close to our targets. We have trained a reasonably good model to predict crop yields for apples and oranges by looking at the three features: **average temperature, rainfall, and humidity** in a region. We can use it to make predictions of crop yields for **new regions** by passing a batch containing a single row of input.\n",
        "\n",
        "+ each row represents a training example"
      ],
      "metadata": {
        "id": "RF6yyZ0q9fnS"
      }
    },
    {
      "cell_type": "code",
      "source": [
        "model(torch.tensor([[75, 63, 44.]]))"
      ],
      "metadata": {
        "colab": {
          "base_uri": "https://localhost:8080/"
        },
        "id": "mCv61JnO_E2z",
        "outputId": "4e54c6a7-7dfd-4d0e-b938-9128a6c8ce4d"
      },
      "execution_count": 53,
      "outputs": [
        {
          "output_type": "execute_result",
          "data": {
            "text/plain": [
              "tensor([[54.2759, 68.4604]], grad_fn=<AddmmBackward0>)"
            ]
          },
          "metadata": {},
          "execution_count": 53
        }
      ]
    },
    {
      "cell_type": "markdown",
      "source": [
        "The predicted yield of apples is 54.3 tons per hectare, and that of oranges is 68.3 tons per hectare."
      ],
      "metadata": {
        "id": "38CeBdgD_MkI"
      }
    }
  ]
}