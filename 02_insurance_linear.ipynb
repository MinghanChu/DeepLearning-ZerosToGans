{
  "cells": [
    {
      "cell_type": "markdown",
      "metadata": {
        "id": "view-in-github",
        "colab_type": "text"
      },
      "source": [
        "<a href=\"https://colab.research.google.com/github/MinghanChu/DeepLearning-ZerosToGans/blob/main/02_insurance_linear.ipynb\" target=\"_parent\"><img src=\"https://colab.research.google.com/assets/colab-badge.svg\" alt=\"Open In Colab\"/></a>"
      ]
    },
    {
      "cell_type": "markdown",
      "metadata": {
        "_cell_guid": "b1076dfc-b9ad-4769-8c92-a6c4dae69d19",
        "_uuid": "8f2839f25d086af736a60e9eeb907d3b93b6e0e5",
        "id": "l4tUEF704nsj"
      },
      "source": [
        "# Insurance cost prediction using linear regression\n",
        "\n",
        "Make a submisson here: https://jovian.ai/learn/deep-learning-with-pytorch-zero-to-gans/assignment/assignment-2-train-your-first-model\n",
        "\n",
        "In this assignment we're going to use information like a person's age, sex, BMI, no. of children and smoking habit to predict the price of yearly medical bills. This kind of model is useful for insurance companies to determine the yearly insurance premium for a person. The dataset for this problem is taken from [Kaggle](https://www.kaggle.com/mirichoi0218/insurance).\n",
        "\n",
        "\n",
        "We will create a model with the following steps:\n",
        "1. Download and explore the dataset\n",
        "2. Prepare the dataset for training\n",
        "3. Create a linear regression model\n",
        "4. Train the model to fit the data\n",
        "5. Make predictions using the trained model\n",
        "\n",
        "\n",
        "This assignment builds upon the concepts from the first 2 lessons. It will help to review these Jupyter notebooks:\n",
        "- PyTorch basics: https://jovian.ai/aakashns/01-pytorch-basics\n",
        "- Linear Regression: https://jovian.ai/aakashns/02-linear-regression\n",
        "- Logistic Regression: https://jovian.ai/aakashns/03-logistic-regression\n",
        "- Linear regression (minimal): https://jovian.ai/aakashns/housing-linear-minimal\n",
        "- Logistic regression (minimal): https://jovian.ai/aakashns/mnist-logistic-minimal\n",
        "\n",
        "As you go through this notebook, you will find a **???** in certain places. Your job is to replace the **???** with appropriate code or values, to ensure that the notebook runs properly end-to-end . In some cases, you'll be required to choose some hyperparameters (learning rate, batch size etc.). Try to experiment with the hypeparameters to get the lowest loss.\n"
      ]
    },
    {
      "cell_type": "code",
      "execution_count": null,
      "metadata": {
        "id": "DAYJwJom4nsn"
      },
      "outputs": [],
      "source": [
        "# Uncomment and run the appropriate command for your operating system, if required\n",
        "\n",
        "# Linux / Binder\n",
        "# !pip install numpy matplotlib pandas torch==1.7.0+cpu torchvision==0.8.1+cpu torchaudio==0.7.0 -f https://download.pytorch.org/whl/torch_stable.html\n",
        "\n",
        "# Windows\n",
        "# !pip install numpy matplotlib pandas torch==1.7.0+cpu torchvision==0.8.1+cpu torchaudio==0.7.0 -f https://download.pytorch.org/whl/torch_stable.html\n",
        "\n",
        "# MacOS\n",
        "# !pip install numpy matplotlib pandas torch torchvision torchaudio"
      ]
    },
    {
      "cell_type": "code",
      "source": [
        "!pip install jovian"
      ],
      "metadata": {
        "colab": {
          "base_uri": "https://localhost:8080/",
          "height": 492
        },
        "id": "Wrtkl2qRh3MQ",
        "outputId": "fcfc0b37-5f24-438d-e312-5acaf9f357bc"
      },
      "execution_count": 3,
      "outputs": [
        {
          "output_type": "stream",
          "name": "stdout",
          "text": [
            "Collecting jovian\n",
            "  Downloading jovian-0.2.47-py2.py3-none-any.whl (68 kB)\n",
            "\u001b[?25l     \u001b[90m━━━━━━━━━━━━━━━━━━━━━━━━━━━━━━━━━━━━━━━━\u001b[0m \u001b[32m0.0/68.6 kB\u001b[0m \u001b[31m?\u001b[0m eta \u001b[36m-:--:--\u001b[0m\r\u001b[2K     \u001b[90m━━━━━━━━━━━━━━━━━━━━━━━━━━━━━━━━━━━━━━━━\u001b[0m \u001b[32m68.6/68.6 kB\u001b[0m \u001b[31m2.1 MB/s\u001b[0m eta \u001b[36m0:00:00\u001b[0m\n",
            "\u001b[?25hRequirement already satisfied: requests in /usr/local/lib/python3.10/dist-packages (from jovian) (2.31.0)\n",
            "Collecting uuid (from jovian)\n",
            "  Downloading uuid-1.30.tar.gz (5.8 kB)\n",
            "  Preparing metadata (setup.py) ... \u001b[?25l\u001b[?25hdone\n",
            "Requirement already satisfied: pyyaml in /usr/local/lib/python3.10/dist-packages (from jovian) (6.0.1)\n",
            "Requirement already satisfied: click in /usr/local/lib/python3.10/dist-packages (from jovian) (8.1.7)\n",
            "Requirement already satisfied: charset-normalizer<4,>=2 in /usr/local/lib/python3.10/dist-packages (from requests->jovian) (3.3.2)\n",
            "Requirement already satisfied: idna<4,>=2.5 in /usr/local/lib/python3.10/dist-packages (from requests->jovian) (3.7)\n",
            "Requirement already satisfied: urllib3<3,>=1.21.1 in /usr/local/lib/python3.10/dist-packages (from requests->jovian) (2.0.7)\n",
            "Requirement already satisfied: certifi>=2017.4.17 in /usr/local/lib/python3.10/dist-packages (from requests->jovian) (2024.2.2)\n",
            "Building wheels for collected packages: uuid\n",
            "  Building wheel for uuid (setup.py) ... \u001b[?25l\u001b[?25hdone\n",
            "  Created wheel for uuid: filename=uuid-1.30-py3-none-any.whl size=6479 sha256=072675ccf7dd7c37416c644aaf2b4afafcfc11f7a338532882587a0bcbffb9ee\n",
            "  Stored in directory: /root/.cache/pip/wheels/ed/08/9e/f0a977dfe55051a07e21af89200125d65f1efa60cbac61ed88\n",
            "Successfully built uuid\n",
            "Installing collected packages: uuid, jovian\n",
            "Successfully installed jovian-0.2.47 uuid-1.30\n"
          ]
        },
        {
          "output_type": "display_data",
          "data": {
            "application/vnd.colab-display-data+json": {
              "pip_warning": {
                "packages": [
                  "uuid"
                ]
              },
              "id": "a19a667c238c4fa39f8c7bfaec082733"
            }
          },
          "metadata": {}
        }
      ]
    },
    {
      "cell_type": "code",
      "execution_count": 1,
      "metadata": {
        "id": "hkUpUIWA4nso"
      },
      "outputs": [],
      "source": [
        "import torch\n",
        "import jovian\n",
        "import torchvision\n",
        "import torch.nn as nn\n",
        "import pandas as pd\n",
        "import matplotlib.pyplot as plt\n",
        "import torch.nn.functional as F\n",
        "from torchvision.datasets.utils import download_url\n",
        "from torch.utils.data import DataLoader, TensorDataset, random_split"
      ]
    },
    {
      "cell_type": "code",
      "execution_count": 2,
      "metadata": {
        "id": "jypNG_ZE4nso"
      },
      "outputs": [],
      "source": [
        "project_name='02-insurance-linear-regression' # will be used by jovian.commit"
      ]
    },
    {
      "cell_type": "markdown",
      "metadata": {
        "id": "QMPtEl0r4nso"
      },
      "source": [
        "## Step 1: Download and explore the data\n",
        "\n",
        "Let us begin by downloading the data. We'll use the `download_url` function from PyTorch to get the data as a CSV (comma-separated values) file."
      ]
    },
    {
      "cell_type": "code",
      "execution_count": 3,
      "metadata": {
        "_cell_guid": "79c7e3d0-c299-4dcb-8224-4455121ee9b0",
        "_uuid": "d629ff2d2480ee46fbb7e2d37f6b5fab8052498a",
        "colab": {
          "base_uri": "https://localhost:8080/"
        },
        "id": "yVptJH_t4nsp",
        "outputId": "ab1800c3-c235-4247-e6dd-e4bd330cf74d"
      },
      "outputs": [
        {
          "output_type": "stream",
          "name": "stdout",
          "text": [
            "Downloading https://gist.githubusercontent.com/BirajCoder/5f068dfe759c1ea6bdfce9535acdb72d/raw/c84d84e3c80f93be67f6c069cbdc0195ec36acbd/insurance.csv to ./insurance.csv\n"
          ]
        },
        {
          "output_type": "stream",
          "name": "stderr",
          "text": [
            "100%|██████████| 54288/54288 [00:00<00:00, 44585936.08it/s]\n"
          ]
        }
      ],
      "source": [
        "DATASET_URL = \"https://gist.github.com/BirajCoder/5f068dfe759c1ea6bdfce9535acdb72d/raw/c84d84e3c80f93be67f6c069cbdc0195ec36acbd/insurance.csv\"\n",
        "DATA_FILENAME = \"insurance.csv\"\n",
        "download_url(DATASET_URL, '.')"
      ]
    },
    {
      "cell_type": "markdown",
      "metadata": {
        "id": "P1ymjsbS4nsq"
      },
      "source": [
        "To load the dataset into memory, we'll use the `read_csv` function from the `pandas` library. The data will be loaded as a Pandas dataframe. See this short tutorial to learn more: https://data36.com/pandas-tutorial-1-basics-reading-data-files-dataframes-data-selection/"
      ]
    },
    {
      "cell_type": "code",
      "execution_count": 4,
      "metadata": {
        "colab": {
          "base_uri": "https://localhost:8080/",
          "height": 206
        },
        "id": "iP7FLKRe4nsq",
        "outputId": "b4c785dc-3dce-4dfb-fe10-c2ca934cd93c"
      },
      "outputs": [
        {
          "output_type": "execute_result",
          "data": {
            "text/plain": [
              "   age     sex     bmi  children smoker     region      charges\n",
              "0   19  female  27.900         0    yes  southwest  16884.92400\n",
              "1   18    male  33.770         1     no  southeast   1725.55230\n",
              "2   28    male  33.000         3     no  southeast   4449.46200\n",
              "3   33    male  22.705         0     no  northwest  21984.47061\n",
              "4   32    male  28.880         0     no  northwest   3866.85520"
            ],
            "text/html": [
              "\n",
              "  <div id=\"df-4927f0f3-4af0-4550-a624-e8f6e57460bf\" class=\"colab-df-container\">\n",
              "    <div>\n",
              "<style scoped>\n",
              "    .dataframe tbody tr th:only-of-type {\n",
              "        vertical-align: middle;\n",
              "    }\n",
              "\n",
              "    .dataframe tbody tr th {\n",
              "        vertical-align: top;\n",
              "    }\n",
              "\n",
              "    .dataframe thead th {\n",
              "        text-align: right;\n",
              "    }\n",
              "</style>\n",
              "<table border=\"1\" class=\"dataframe\">\n",
              "  <thead>\n",
              "    <tr style=\"text-align: right;\">\n",
              "      <th></th>\n",
              "      <th>age</th>\n",
              "      <th>sex</th>\n",
              "      <th>bmi</th>\n",
              "      <th>children</th>\n",
              "      <th>smoker</th>\n",
              "      <th>region</th>\n",
              "      <th>charges</th>\n",
              "    </tr>\n",
              "  </thead>\n",
              "  <tbody>\n",
              "    <tr>\n",
              "      <th>0</th>\n",
              "      <td>19</td>\n",
              "      <td>female</td>\n",
              "      <td>27.900</td>\n",
              "      <td>0</td>\n",
              "      <td>yes</td>\n",
              "      <td>southwest</td>\n",
              "      <td>16884.92400</td>\n",
              "    </tr>\n",
              "    <tr>\n",
              "      <th>1</th>\n",
              "      <td>18</td>\n",
              "      <td>male</td>\n",
              "      <td>33.770</td>\n",
              "      <td>1</td>\n",
              "      <td>no</td>\n",
              "      <td>southeast</td>\n",
              "      <td>1725.55230</td>\n",
              "    </tr>\n",
              "    <tr>\n",
              "      <th>2</th>\n",
              "      <td>28</td>\n",
              "      <td>male</td>\n",
              "      <td>33.000</td>\n",
              "      <td>3</td>\n",
              "      <td>no</td>\n",
              "      <td>southeast</td>\n",
              "      <td>4449.46200</td>\n",
              "    </tr>\n",
              "    <tr>\n",
              "      <th>3</th>\n",
              "      <td>33</td>\n",
              "      <td>male</td>\n",
              "      <td>22.705</td>\n",
              "      <td>0</td>\n",
              "      <td>no</td>\n",
              "      <td>northwest</td>\n",
              "      <td>21984.47061</td>\n",
              "    </tr>\n",
              "    <tr>\n",
              "      <th>4</th>\n",
              "      <td>32</td>\n",
              "      <td>male</td>\n",
              "      <td>28.880</td>\n",
              "      <td>0</td>\n",
              "      <td>no</td>\n",
              "      <td>northwest</td>\n",
              "      <td>3866.85520</td>\n",
              "    </tr>\n",
              "  </tbody>\n",
              "</table>\n",
              "</div>\n",
              "    <div class=\"colab-df-buttons\">\n",
              "\n",
              "  <div class=\"colab-df-container\">\n",
              "    <button class=\"colab-df-convert\" onclick=\"convertToInteractive('df-4927f0f3-4af0-4550-a624-e8f6e57460bf')\"\n",
              "            title=\"Convert this dataframe to an interactive table.\"\n",
              "            style=\"display:none;\">\n",
              "\n",
              "  <svg xmlns=\"http://www.w3.org/2000/svg\" height=\"24px\" viewBox=\"0 -960 960 960\">\n",
              "    <path d=\"M120-120v-720h720v720H120Zm60-500h600v-160H180v160Zm220 220h160v-160H400v160Zm0 220h160v-160H400v160ZM180-400h160v-160H180v160Zm440 0h160v-160H620v160ZM180-180h160v-160H180v160Zm440 0h160v-160H620v160Z\"/>\n",
              "  </svg>\n",
              "    </button>\n",
              "\n",
              "  <style>\n",
              "    .colab-df-container {\n",
              "      display:flex;\n",
              "      gap: 12px;\n",
              "    }\n",
              "\n",
              "    .colab-df-convert {\n",
              "      background-color: #E8F0FE;\n",
              "      border: none;\n",
              "      border-radius: 50%;\n",
              "      cursor: pointer;\n",
              "      display: none;\n",
              "      fill: #1967D2;\n",
              "      height: 32px;\n",
              "      padding: 0 0 0 0;\n",
              "      width: 32px;\n",
              "    }\n",
              "\n",
              "    .colab-df-convert:hover {\n",
              "      background-color: #E2EBFA;\n",
              "      box-shadow: 0px 1px 2px rgba(60, 64, 67, 0.3), 0px 1px 3px 1px rgba(60, 64, 67, 0.15);\n",
              "      fill: #174EA6;\n",
              "    }\n",
              "\n",
              "    .colab-df-buttons div {\n",
              "      margin-bottom: 4px;\n",
              "    }\n",
              "\n",
              "    [theme=dark] .colab-df-convert {\n",
              "      background-color: #3B4455;\n",
              "      fill: #D2E3FC;\n",
              "    }\n",
              "\n",
              "    [theme=dark] .colab-df-convert:hover {\n",
              "      background-color: #434B5C;\n",
              "      box-shadow: 0px 1px 3px 1px rgba(0, 0, 0, 0.15);\n",
              "      filter: drop-shadow(0px 1px 2px rgba(0, 0, 0, 0.3));\n",
              "      fill: #FFFFFF;\n",
              "    }\n",
              "  </style>\n",
              "\n",
              "    <script>\n",
              "      const buttonEl =\n",
              "        document.querySelector('#df-4927f0f3-4af0-4550-a624-e8f6e57460bf button.colab-df-convert');\n",
              "      buttonEl.style.display =\n",
              "        google.colab.kernel.accessAllowed ? 'block' : 'none';\n",
              "\n",
              "      async function convertToInteractive(key) {\n",
              "        const element = document.querySelector('#df-4927f0f3-4af0-4550-a624-e8f6e57460bf');\n",
              "        const dataTable =\n",
              "          await google.colab.kernel.invokeFunction('convertToInteractive',\n",
              "                                                    [key], {});\n",
              "        if (!dataTable) return;\n",
              "\n",
              "        const docLinkHtml = 'Like what you see? Visit the ' +\n",
              "          '<a target=\"_blank\" href=https://colab.research.google.com/notebooks/data_table.ipynb>data table notebook</a>'\n",
              "          + ' to learn more about interactive tables.';\n",
              "        element.innerHTML = '';\n",
              "        dataTable['output_type'] = 'display_data';\n",
              "        await google.colab.output.renderOutput(dataTable, element);\n",
              "        const docLink = document.createElement('div');\n",
              "        docLink.innerHTML = docLinkHtml;\n",
              "        element.appendChild(docLink);\n",
              "      }\n",
              "    </script>\n",
              "  </div>\n",
              "\n",
              "\n",
              "<div id=\"df-a50372b2-44a2-4059-9da1-081cc4730dbd\">\n",
              "  <button class=\"colab-df-quickchart\" onclick=\"quickchart('df-a50372b2-44a2-4059-9da1-081cc4730dbd')\"\n",
              "            title=\"Suggest charts\"\n",
              "            style=\"display:none;\">\n",
              "\n",
              "<svg xmlns=\"http://www.w3.org/2000/svg\" height=\"24px\"viewBox=\"0 0 24 24\"\n",
              "     width=\"24px\">\n",
              "    <g>\n",
              "        <path d=\"M19 3H5c-1.1 0-2 .9-2 2v14c0 1.1.9 2 2 2h14c1.1 0 2-.9 2-2V5c0-1.1-.9-2-2-2zM9 17H7v-7h2v7zm4 0h-2V7h2v10zm4 0h-2v-4h2v4z\"/>\n",
              "    </g>\n",
              "</svg>\n",
              "  </button>\n",
              "\n",
              "<style>\n",
              "  .colab-df-quickchart {\n",
              "      --bg-color: #E8F0FE;\n",
              "      --fill-color: #1967D2;\n",
              "      --hover-bg-color: #E2EBFA;\n",
              "      --hover-fill-color: #174EA6;\n",
              "      --disabled-fill-color: #AAA;\n",
              "      --disabled-bg-color: #DDD;\n",
              "  }\n",
              "\n",
              "  [theme=dark] .colab-df-quickchart {\n",
              "      --bg-color: #3B4455;\n",
              "      --fill-color: #D2E3FC;\n",
              "      --hover-bg-color: #434B5C;\n",
              "      --hover-fill-color: #FFFFFF;\n",
              "      --disabled-bg-color: #3B4455;\n",
              "      --disabled-fill-color: #666;\n",
              "  }\n",
              "\n",
              "  .colab-df-quickchart {\n",
              "    background-color: var(--bg-color);\n",
              "    border: none;\n",
              "    border-radius: 50%;\n",
              "    cursor: pointer;\n",
              "    display: none;\n",
              "    fill: var(--fill-color);\n",
              "    height: 32px;\n",
              "    padding: 0;\n",
              "    width: 32px;\n",
              "  }\n",
              "\n",
              "  .colab-df-quickchart:hover {\n",
              "    background-color: var(--hover-bg-color);\n",
              "    box-shadow: 0 1px 2px rgba(60, 64, 67, 0.3), 0 1px 3px 1px rgba(60, 64, 67, 0.15);\n",
              "    fill: var(--button-hover-fill-color);\n",
              "  }\n",
              "\n",
              "  .colab-df-quickchart-complete:disabled,\n",
              "  .colab-df-quickchart-complete:disabled:hover {\n",
              "    background-color: var(--disabled-bg-color);\n",
              "    fill: var(--disabled-fill-color);\n",
              "    box-shadow: none;\n",
              "  }\n",
              "\n",
              "  .colab-df-spinner {\n",
              "    border: 2px solid var(--fill-color);\n",
              "    border-color: transparent;\n",
              "    border-bottom-color: var(--fill-color);\n",
              "    animation:\n",
              "      spin 1s steps(1) infinite;\n",
              "  }\n",
              "\n",
              "  @keyframes spin {\n",
              "    0% {\n",
              "      border-color: transparent;\n",
              "      border-bottom-color: var(--fill-color);\n",
              "      border-left-color: var(--fill-color);\n",
              "    }\n",
              "    20% {\n",
              "      border-color: transparent;\n",
              "      border-left-color: var(--fill-color);\n",
              "      border-top-color: var(--fill-color);\n",
              "    }\n",
              "    30% {\n",
              "      border-color: transparent;\n",
              "      border-left-color: var(--fill-color);\n",
              "      border-top-color: var(--fill-color);\n",
              "      border-right-color: var(--fill-color);\n",
              "    }\n",
              "    40% {\n",
              "      border-color: transparent;\n",
              "      border-right-color: var(--fill-color);\n",
              "      border-top-color: var(--fill-color);\n",
              "    }\n",
              "    60% {\n",
              "      border-color: transparent;\n",
              "      border-right-color: var(--fill-color);\n",
              "    }\n",
              "    80% {\n",
              "      border-color: transparent;\n",
              "      border-right-color: var(--fill-color);\n",
              "      border-bottom-color: var(--fill-color);\n",
              "    }\n",
              "    90% {\n",
              "      border-color: transparent;\n",
              "      border-bottom-color: var(--fill-color);\n",
              "    }\n",
              "  }\n",
              "</style>\n",
              "\n",
              "  <script>\n",
              "    async function quickchart(key) {\n",
              "      const quickchartButtonEl =\n",
              "        document.querySelector('#' + key + ' button');\n",
              "      quickchartButtonEl.disabled = true;  // To prevent multiple clicks.\n",
              "      quickchartButtonEl.classList.add('colab-df-spinner');\n",
              "      try {\n",
              "        const charts = await google.colab.kernel.invokeFunction(\n",
              "            'suggestCharts', [key], {});\n",
              "      } catch (error) {\n",
              "        console.error('Error during call to suggestCharts:', error);\n",
              "      }\n",
              "      quickchartButtonEl.classList.remove('colab-df-spinner');\n",
              "      quickchartButtonEl.classList.add('colab-df-quickchart-complete');\n",
              "    }\n",
              "    (() => {\n",
              "      let quickchartButtonEl =\n",
              "        document.querySelector('#df-a50372b2-44a2-4059-9da1-081cc4730dbd button');\n",
              "      quickchartButtonEl.style.display =\n",
              "        google.colab.kernel.accessAllowed ? 'block' : 'none';\n",
              "    })();\n",
              "  </script>\n",
              "</div>\n",
              "\n",
              "    </div>\n",
              "  </div>\n"
            ],
            "application/vnd.google.colaboratory.intrinsic+json": {
              "type": "dataframe",
              "variable_name": "dataframe_raw",
              "summary": "{\n  \"name\": \"dataframe_raw\",\n  \"rows\": 1338,\n  \"fields\": [\n    {\n      \"column\": \"age\",\n      \"properties\": {\n        \"dtype\": \"number\",\n        \"std\": 14,\n        \"min\": 18,\n        \"max\": 64,\n        \"num_unique_values\": 47,\n        \"samples\": [\n          21,\n          45,\n          36\n        ],\n        \"semantic_type\": \"\",\n        \"description\": \"\"\n      }\n    },\n    {\n      \"column\": \"sex\",\n      \"properties\": {\n        \"dtype\": \"category\",\n        \"num_unique_values\": 2,\n        \"samples\": [\n          \"male\",\n          \"female\"\n        ],\n        \"semantic_type\": \"\",\n        \"description\": \"\"\n      }\n    },\n    {\n      \"column\": \"bmi\",\n      \"properties\": {\n        \"dtype\": \"number\",\n        \"std\": 6.098186911679014,\n        \"min\": 15.96,\n        \"max\": 53.13,\n        \"num_unique_values\": 548,\n        \"samples\": [\n          23.18,\n          26.885\n        ],\n        \"semantic_type\": \"\",\n        \"description\": \"\"\n      }\n    },\n    {\n      \"column\": \"children\",\n      \"properties\": {\n        \"dtype\": \"number\",\n        \"std\": 1,\n        \"min\": 0,\n        \"max\": 5,\n        \"num_unique_values\": 6,\n        \"samples\": [\n          0,\n          1\n        ],\n        \"semantic_type\": \"\",\n        \"description\": \"\"\n      }\n    },\n    {\n      \"column\": \"smoker\",\n      \"properties\": {\n        \"dtype\": \"category\",\n        \"num_unique_values\": 2,\n        \"samples\": [\n          \"no\",\n          \"yes\"\n        ],\n        \"semantic_type\": \"\",\n        \"description\": \"\"\n      }\n    },\n    {\n      \"column\": \"region\",\n      \"properties\": {\n        \"dtype\": \"category\",\n        \"num_unique_values\": 4,\n        \"samples\": [\n          \"southeast\",\n          \"northeast\"\n        ],\n        \"semantic_type\": \"\",\n        \"description\": \"\"\n      }\n    },\n    {\n      \"column\": \"charges\",\n      \"properties\": {\n        \"dtype\": \"number\",\n        \"std\": 12110.011236694001,\n        \"min\": 1121.8739,\n        \"max\": 63770.42801,\n        \"num_unique_values\": 1337,\n        \"samples\": [\n          8688.85885,\n          5708.867\n        ],\n        \"semantic_type\": \"\",\n        \"description\": \"\"\n      }\n    }\n  ]\n}"
            }
          },
          "metadata": {},
          "execution_count": 4
        }
      ],
      "source": [
        "dataframe_raw = pd.read_csv(DATA_FILENAME)\n",
        "dataframe_raw.head()"
      ]
    },
    {
      "cell_type": "markdown",
      "metadata": {
        "id": "w1h8rSvA4nsr"
      },
      "source": [
        "We're going to do a slight customization of the data, so that you every participant receives a slightly different version of the dataset. Fill in your name below as a string (enter at least 5 characters)"
      ]
    },
    {
      "cell_type": "code",
      "execution_count": 6,
      "metadata": {
        "id": "Ad-pMOCT4nsr"
      },
      "outputs": [],
      "source": [
        "your_name = 'Minghan' # at least 5 characters"
      ]
    },
    {
      "cell_type": "markdown",
      "metadata": {
        "id": "1tpkTgZa4nsr"
      },
      "source": [
        "The `customize_dataset` function will customize the dataset slightly using your name as a source of random numbers."
      ]
    },
    {
      "cell_type": "code",
      "execution_count": 7,
      "metadata": {
        "id": "cQMNPzxG4nsr"
      },
      "outputs": [],
      "source": [
        "def customize_dataset(dataframe_raw, rand_str):\n",
        "    dataframe = dataframe_raw.copy(deep=True)\n",
        "    # drop some rows\n",
        "    dataframe = dataframe.sample(int(0.95*len(dataframe)), random_state=int(ord(rand_str[0])))\n",
        "    # scale input\n",
        "    dataframe.bmi = dataframe.bmi * ord(rand_str[1])/100.\n",
        "    # scale target\n",
        "    dataframe.charges = dataframe.charges * ord(rand_str[2])/100.\n",
        "    # drop column\n",
        "    if ord(rand_str[3]) % 2 == 1:\n",
        "        dataframe = dataframe.drop(['region'], axis=1)\n",
        "    return dataframe"
      ]
    },
    {
      "cell_type": "code",
      "execution_count": 10,
      "metadata": {
        "colab": {
          "base_uri": "https://localhost:8080/"
        },
        "id": "la8ccB8B4nss",
        "outputId": "298eb41e-f5cf-46f0-e95b-3c98f60be622"
      },
      "outputs": [
        {
          "output_type": "stream",
          "name": "stdout",
          "text": [
            "      age     sex       bmi  children smoker       charges\n",
            "27     55  female  34.41375         2     no  13495.495475\n",
            "38     35    male  38.50350         1    yes  43751.703930\n",
            "441    33  female  35.17500         0    yes  40787.309200\n",
            "1068   63    male  22.74300         1     no  15784.839840\n",
            "1310   42    male  27.63075         1     no   7635.000835\n",
            "(1271, 6)\n"
          ]
        }
      ],
      "source": [
        "dataframe = customize_dataset(dataframe_raw, your_name)\n",
        "print(dataframe.head())\n",
        "print(dataframe.shape)"
      ]
    },
    {
      "cell_type": "markdown",
      "metadata": {
        "id": "kFJYUyGr4nss"
      },
      "source": [
        "Let us answer some basic questions about the dataset.\n",
        "\n",
        "\n",
        "**Q1: How many rows does the dataset have?**"
      ]
    },
    {
      "cell_type": "code",
      "execution_count": 22,
      "metadata": {
        "colab": {
          "base_uri": "https://localhost:8080/"
        },
        "id": "iZpSt4Lj4nss",
        "outputId": "cbf11e24-ced4-480d-82fb-21e9d1234a1d"
      },
      "outputs": [
        {
          "output_type": "stream",
          "name": "stdout",
          "text": [
            "1271\n"
          ]
        }
      ],
      "source": [
        "num_rows = dataframe.shape[0]\n",
        "print(num_rows)"
      ]
    },
    {
      "cell_type": "markdown",
      "metadata": {
        "id": "asokAgrZ4nss"
      },
      "source": [
        "**Q2: How many columns doe the dataset have**"
      ]
    },
    {
      "cell_type": "code",
      "execution_count": 23,
      "metadata": {
        "colab": {
          "base_uri": "https://localhost:8080/"
        },
        "id": "YN1CyEVk4nss",
        "outputId": "900169c5-2a6f-4b9e-df51-2395b2f8321e"
      },
      "outputs": [
        {
          "output_type": "stream",
          "name": "stdout",
          "text": [
            "6\n"
          ]
        }
      ],
      "source": [
        "num_cols = dataframe.shape[1]\n",
        "print(num_cols)"
      ]
    },
    {
      "cell_type": "markdown",
      "metadata": {
        "id": "hEWjXQok4nss"
      },
      "source": [
        "**Q3: What are the column titles of the input variables?**"
      ]
    },
    {
      "cell_type": "code",
      "source": [
        "dataframe.columns"
      ],
      "metadata": {
        "colab": {
          "base_uri": "https://localhost:8080/"
        },
        "id": "kWcCk5m5qUs3",
        "outputId": "23fb08b8-2342-4710-c62e-c4080fe3b116"
      },
      "execution_count": 28,
      "outputs": [
        {
          "output_type": "execute_result",
          "data": {
            "text/plain": [
              "Index(['age', 'sex', 'bmi', 'children', 'smoker', 'charges'], dtype='object')"
            ]
          },
          "metadata": {},
          "execution_count": 28
        }
      ]
    },
    {
      "cell_type": "code",
      "execution_count": 29,
      "metadata": {
        "id": "c7FslFyZ4nss"
      },
      "outputs": [],
      "source": [
        "input_cols = ['age', 'sex', 'bmi', 'children', 'smoker']"
      ]
    },
    {
      "cell_type": "markdown",
      "metadata": {
        "id": "4f4Ch2r24nss"
      },
      "source": [
        "**Q4: Which of the input columns are non-numeric or categorial variables ?**\n",
        "\n",
        "Hint: `sex` is one of them. List the columns that are not numbers."
      ]
    },
    {
      "cell_type": "code",
      "execution_count": 26,
      "metadata": {
        "colab": {
          "base_uri": "https://localhost:8080/"
        },
        "id": "hvZwRG1r4nst",
        "outputId": "84418941-c945-4ea8-ed61-ae0458d407a9"
      },
      "outputs": [
        {
          "output_type": "stream",
          "name": "stdout",
          "text": [
            "         sex smoker\n",
            "27    female     no\n",
            "38      male    yes\n",
            "441   female    yes\n",
            "1068    male     no\n",
            "1310    male     no\n",
            "...      ...    ...\n",
            "559     male     no\n",
            "1122  female    yes\n",
            "1217    male     no\n",
            "737     male     no\n",
            "1334  female     no\n",
            "\n",
            "[1271 rows x 2 columns]\n"
          ]
        }
      ],
      "source": [
        "categorical_cols = dataframe.select_dtypes(include=['category', 'object'])\n",
        "print(categorical_cols)"
      ]
    },
    {
      "cell_type": "markdown",
      "metadata": {
        "id": "5uLG75rd4nst"
      },
      "source": [
        "**Q5: What are the column titles of output/target variable(s)?**"
      ]
    },
    {
      "cell_type": "code",
      "execution_count": 30,
      "metadata": {
        "id": "Eo3N5Frx4nst"
      },
      "outputs": [],
      "source": [
        "output_cols = ['charges']"
      ]
    },
    {
      "cell_type": "markdown",
      "metadata": {
        "id": "KoUsnn4C4nst"
      },
      "source": [
        "**Q: (Optional) What is the minimum, maximum and average value of the `charges` column? Can you show the distribution of values in a graph?**\n",
        "Use this data visualization cheatsheet for referece: https://jovian.ai/aakashns/dataviz-cheatsheet"
      ]
    },
    {
      "cell_type": "code",
      "execution_count": 37,
      "metadata": {
        "colab": {
          "base_uri": "https://localhost:8080/",
          "height": 472
        },
        "id": "7dcl_oy44nst",
        "outputId": "28455012-0a50-4882-c3b4-9969d3b6952a"
      },
      "outputs": [
        {
          "output_type": "display_data",
          "data": {
            "text/plain": [
              "<Figure size 640x480 with 1 Axes>"
            ],
            "image/png": "[encoded data removed]"
          },
          "metadata": {}
        }
      ],
      "source": [
        "# Write your answer here\n",
        "import matplotlib.pyplot as plt\n",
        "\n",
        "# maximum value of charges\n",
        "o_max = dataframe['charges'].max()\n",
        "\n",
        "# minimum value of charges\n",
        "o_min = dataframe['charges'].min()\n",
        "\n",
        "# average value of charges\n",
        "o_mean = dataframe['charges'].mean()\n",
        "\n",
        "for index, value in dataframe['charges'].items():\n",
        "    plt.plot(index + 1, value, 'bo')  # 'bo' for blue dots\n",
        "\n",
        "plt.xlabel('Indices')\n",
        "plt.ylabel('Charges')\n",
        "plt.title('Distribution of charges');"
      ]
    },
    {
      "cell_type": "markdown",
      "metadata": {
        "id": "1FBZnHLO4nst"
      },
      "source": [
        "Remember to commit your notebook to Jovian after every step, so that you don't lose your work."
      ]
    },
    {
      "cell_type": "code",
      "execution_count": 38,
      "metadata": {
        "id": "FRRRdJ8R4nst"
      },
      "outputs": [],
      "source": [
        "!pip install jovian --upgrade -q"
      ]
    },
    {
      "cell_type": "code",
      "execution_count": 40,
      "metadata": {
        "id": "p1y_G-Kj4nst"
      },
      "outputs": [],
      "source": [
        "import jovian"
      ]
    },
    {
      "cell_type": "code",
      "execution_count": 39,
      "metadata": {
        "colab": {
          "base_uri": "https://localhost:8080/"
        },
        "id": "t9ZdF40F4nst",
        "outputId": "e1e42ba8-3f4c-46af-b2d2-478757613456"
      },
      "outputs": [
        {
          "output_type": "stream",
          "name": "stdout",
          "text": [
            "[jovian] Detected Colab notebook...\u001b[0m\n",
            "[jovian] jovian.commit() is no longer required on Google Colab. If you ran this notebook from Jovian, \n",
            "then just save this file in Colab using Ctrl+S/Cmd+S and it will be updated on Jovian. \n",
            "Also, you can also delete this cell, it's no longer necessary.\u001b[0m\n"
          ]
        }
      ],
      "source": [
        "jovian.commit()"
      ]
    },
    {
      "cell_type": "markdown",
      "metadata": {
        "id": "wZRV3ZDD4nst"
      },
      "source": [
        "## Step 2: Prepare the dataset for training\n",
        "\n",
        "We need to convert the data from the Pandas dataframe into a PyTorch tensors for training. To do this, the first step is to convert it numpy arrays. If you've filled out `input_cols`, `categorial_cols` and `output_cols` correctly, this following function will perform the conversion to numpy arrays."
      ]
    },
    {
      "cell_type": "code",
      "execution_count": 41,
      "metadata": {
        "id": "4AyO2SKm4nst"
      },
      "outputs": [],
      "source": [
        "def dataframe_to_arrays(dataframe):\n",
        "    # Make a copy of the original dataframe\n",
        "    dataframe1 = dataframe.copy(deep=True)\n",
        "    # Convert non-numeric categorical columns to numbers\n",
        "    for col in categorical_cols:\n",
        "        dataframe1[col] = dataframe1[col].astype('category').cat.codes\n",
        "    # Extract input & outupts as numpy arrays\n",
        "    inputs_array = dataframe1[input_cols].to_numpy()\n",
        "    targets_array = dataframe1[output_cols].to_numpy()\n",
        "    return inputs_array, targets_array"
      ]
    },
    {
      "cell_type": "markdown",
      "metadata": {
        "id": "oo-9I5jw4nst"
      },
      "source": [
        "Read through the [Pandas documentation](https://pandas.pydata.org/pandas-docs/stable/user_guide/categorical.html) to understand how we're converting categorical variables into numbers."
      ]
    },
    {
      "cell_type": "code",
      "execution_count": 42,
      "metadata": {
        "colab": {
          "base_uri": "https://localhost:8080/"
        },
        "id": "NO0h0ImQ4nsu",
        "outputId": "a2c7dfba-7cbd-4098-cc04-93a377998f15"
      },
      "outputs": [
        {
          "output_type": "execute_result",
          "data": {
            "text/plain": [
              "(array([[55.     ,  0.     , 34.41375,  2.     ,  0.     ],\n",
              "        [35.     ,  1.     , 38.5035 ,  1.     ,  1.     ],\n",
              "        [33.     ,  0.     , 35.175  ,  0.     ,  1.     ],\n",
              "        ...,\n",
              "        [29.     ,  1.     , 39.1545 ,  2.     ,  0.     ],\n",
              "        [26.     ,  1.     , 24.885  ,  2.     ,  0.     ],\n",
              "        [18.     ,  0.     , 33.516  ,  0.     ,  0.     ]]),\n",
              " array([[13495.495475],\n",
              "        [43751.70393 ],\n",
              "        [40787.3092  ],\n",
              "        ...,\n",
              "        [ 4463.92771 ],\n",
              "        [ 3832.7641  ],\n",
              "        [ 2426.57888 ]]))"
            ]
          },
          "metadata": {},
          "execution_count": 42
        }
      ],
      "source": [
        "inputs_array, targets_array = dataframe_to_arrays(dataframe)\n",
        "inputs_array, targets_array"
      ]
    },
    {
      "cell_type": "markdown",
      "metadata": {
        "id": "lBJuXI5C4nsu"
      },
      "source": [
        "**Q6: Convert the numpy arrays `inputs_array` and `targets_array` into PyTorch tensors. Make sure that the data type is `torch.float32`.**"
      ]
    },
    {
      "cell_type": "code",
      "execution_count": 43,
      "metadata": {
        "id": "QUDLRNHT4nsu"
      },
      "outputs": [],
      "source": [
        "inputs = torch.from_numpy(inputs_array)\n",
        "targets = torch.from_numpy(targets_array)"
      ]
    },
    {
      "cell_type": "code",
      "execution_count": 44,
      "metadata": {
        "colab": {
          "base_uri": "https://localhost:8080/"
        },
        "id": "MYmdnDvC4nsu",
        "outputId": "6e9d8b3f-f9c1-4311-c053-3aac0acca473"
      },
      "outputs": [
        {
          "output_type": "execute_result",
          "data": {
            "text/plain": [
              "(torch.float64, torch.float64)"
            ]
          },
          "metadata": {},
          "execution_count": 44
        }
      ],
      "source": [
        "inputs.dtype, targets.dtype"
      ]
    },
    {
      "cell_type": "markdown",
      "metadata": {
        "id": "Ocjk9xFr4nsu"
      },
      "source": [
        "Next, we need to create PyTorch datasets & data loaders for training & validation. We'll start by creating a `TensorDataset`."
      ]
    },
    {
      "cell_type": "code",
      "execution_count": 47,
      "metadata": {
        "id": "N-5AUhk84nsu"
      },
      "outputs": [],
      "source": [
        "dataset = TensorDataset(inputs, targets)"
      ]
    },
    {
      "cell_type": "markdown",
      "metadata": {
        "id": "sHEps3os4nsu"
      },
      "source": [
        "**Q7: Pick a number between `0.1` and `0.2` to determine the fraction of data that will be used for creating the validation set. Then use `random_split` to create training & validation datasets.**"
      ]
    },
    {
      "cell_type": "code",
      "execution_count": 48,
      "metadata": {
        "id": "U7esgBUD4nsy"
      },
      "outputs": [],
      "source": [
        "val_percent = 0.2 # between 0.1 and 0.2\n",
        "val_size = int(num_rows * val_percent)\n",
        "train_size = num_rows - val_size\n",
        "\n",
        "\n",
        "train_ds, val_ds = random_split(dataset, [train_size, val_size]) # Use the random_split function to split dataset into 2 parts of the desired length"
      ]
    },
    {
      "cell_type": "markdown",
      "metadata": {
        "id": "lS71mmC-4nsy"
      },
      "source": [
        "Finally, we can create data loaders for training & validation.\n",
        "\n",
        "**Q8: Pick a batch size for the data loader.**"
      ]
    },
    {
      "cell_type": "code",
      "execution_count": 178,
      "metadata": {
        "id": "oV8dH9v94nsy"
      },
      "outputs": [],
      "source": [
        "batch_size = 16"
      ]
    },
    {
      "cell_type": "code",
      "execution_count": 179,
      "metadata": {
        "id": "C9-lcJa-4nsy"
      },
      "outputs": [],
      "source": [
        "train_loader = DataLoader(train_ds, batch_size, shuffle=True)\n",
        "val_loader = DataLoader(val_ds, batch_size)"
      ]
    },
    {
      "cell_type": "markdown",
      "metadata": {
        "id": "0ggJxzKN4nsy"
      },
      "source": [
        "Let's look at a batch of data to verify everything is working fine so far."
      ]
    },
    {
      "cell_type": "code",
      "execution_count": 180,
      "metadata": {
        "colab": {
          "base_uri": "https://localhost:8080/"
        },
        "id": "Ve0KKYqD4nsy",
        "outputId": "ad554c62-60ba-4cce-83dd-47bfd14a42ad"
      },
      "outputs": [
        {
          "output_type": "stream",
          "name": "stdout",
          "text": [
            "inputs: tensor([[44.0000,  1.0000, 22.9425,  3.0000,  0.0000],\n",
            "        [39.0000,  1.0000, 27.7305,  0.0000,  1.0000],\n",
            "        [21.0000,  0.0000, 18.2700,  1.0000,  0.0000],\n",
            "        [58.0000,  1.0000, 26.4337,  0.0000,  0.0000],\n",
            "        [61.0000,  0.0000, 22.1445,  0.0000,  0.0000],\n",
            "        [61.0000,  0.0000, 34.9965,  4.0000,  0.0000],\n",
            "        [46.0000,  1.0000, 44.4675,  3.0000,  1.0000],\n",
            "        [26.0000,  0.0000, 20.7900,  1.0000,  0.0000],\n",
            "        [33.0000,  1.0000, 37.0072,  0.0000,  0.0000],\n",
            "        [52.0000,  0.0000, 25.3365,  1.0000,  1.0000],\n",
            "        [33.0000,  1.0000, 37.5375,  1.0000,  1.0000],\n",
            "        [39.0000,  1.0000, 25.7355,  2.0000,  0.0000],\n",
            "        [55.0000,  0.0000, 31.1850,  2.0000,  0.0000],\n",
            "        [35.0000,  0.0000, 29.4262,  0.0000,  1.0000],\n",
            "        [42.0000,  1.0000, 31.5000,  0.0000,  1.0000],\n",
            "        [53.0000,  1.0000, 32.9175,  0.0000,  0.0000]], dtype=torch.float64)\n",
            "targets: tensor([[ 9780.2535],\n",
            "        [22164.2552],\n",
            "        [ 2843.7959],\n",
            "        [13124.2378],\n",
            "        [14756.5419],\n",
            "        [40238.3104],\n",
            "        [50766.2369],\n",
            "        [ 3716.8010],\n",
            "        [13645.3670],\n",
            "        [26276.4290],\n",
            "        [42111.0244],\n",
            "        [ 7381.2111],\n",
            "        [13069.4938],\n",
            "        [22258.3402],\n",
            "        [24358.4352],\n",
            "        [30080.6463]], dtype=torch.float64)\n"
          ]
        }
      ],
      "source": [
        "for xb, yb in train_loader:\n",
        "    print(\"inputs:\", xb)\n",
        "    print(\"targets:\", yb)\n",
        "    break"
      ]
    },
    {
      "cell_type": "markdown",
      "metadata": {
        "id": "2Y4G5pLw4nsz"
      },
      "source": [
        "Let's save our work by committing to Jovian."
      ]
    },
    {
      "cell_type": "code",
      "execution_count": 181,
      "metadata": {
        "colab": {
          "base_uri": "https://localhost:8080/"
        },
        "id": "W7IsdA2B4nsz",
        "outputId": "68023f73-168e-47a5-b799-6498a818a1b8"
      },
      "outputs": [
        {
          "output_type": "stream",
          "name": "stdout",
          "text": [
            "[jovian] Detected Colab notebook...\u001b[0m\n",
            "[jovian] jovian.commit() is no longer required on Google Colab. If you ran this notebook from Jovian, \n",
            "then just save this file in Colab using Ctrl+S/Cmd+S and it will be updated on Jovian. \n",
            "Also, you can also delete this cell, it's no longer necessary.\u001b[0m\n"
          ]
        }
      ],
      "source": [
        "jovian.commit(project=project_name, environment=None)"
      ]
    },
    {
      "cell_type": "markdown",
      "metadata": {
        "id": "imZWDdpR4nsz"
      },
      "source": [
        "## Step 3: Create a Linear Regression Model\n",
        "\n",
        "Our model itself is a fairly straightforward linear regression (we'll build more complex models in the next assignment).\n"
      ]
    },
    {
      "cell_type": "code",
      "execution_count": 182,
      "metadata": {
        "colab": {
          "base_uri": "https://localhost:8080/"
        },
        "id": "9pxqW1gf4nsz",
        "outputId": "78d93fc1-a715-4376-eed5-cac04b04c2f9"
      },
      "outputs": [
        {
          "output_type": "stream",
          "name": "stdout",
          "text": [
            "5\n",
            "1\n"
          ]
        }
      ],
      "source": [
        "input_size = len(input_cols)\n",
        "output_size = len(output_cols)\n",
        "print(input_size)\n",
        "print(output_size)"
      ]
    },
    {
      "cell_type": "markdown",
      "metadata": {
        "id": "A5bq7MeR4nsz"
      },
      "source": [
        "**Q9: Complete the class definition below by filling out the constructor (`__init__`), `forward`, `training_step` and `validation_step` methods.**\n",
        "\n",
        "Hint: Think carefully about picking a good loss fuction (it's not cross entropy). Maybe try 2-3 of them and see which one works best. See https://pytorch.org/docs/stable/nn.functional.html#loss-functions"
      ]
    },
    {
      "cell_type": "code",
      "source": [
        "import torch.nn.functional as F"
      ],
      "metadata": {
        "id": "Zz3W5bHvE5yN"
      },
      "execution_count": 183,
      "outputs": []
    },
    {
      "cell_type": "code",
      "execution_count": 192,
      "metadata": {
        "id": "hjuaA6by4nsz"
      },
      "outputs": [],
      "source": [
        "class InsuranceModel(nn.Module):\n",
        "    def __init__(self):\n",
        "        super().__init__()\n",
        "        self.linear = nn.Linear(input_size, output_size, dtype=torch.double)                  # fill this (hint: use input_size & output_size defined above)\n",
        "\n",
        "    def forward(self, xb):\n",
        "        out = self.linear(xb)                          # fill this\n",
        "        return out\n",
        "\n",
        "    def training_step(self, batch):\n",
        "        inputs, targets = batch\n",
        "        # Generate predictions\n",
        "        out = self(inputs)\n",
        "        # Calcuate loss\n",
        "        loss = F.l1_loss(out, targets)                         # fill this\n",
        "        return loss\n",
        "\n",
        "    def validation_step(self, batch):\n",
        "        inputs, targets = batch\n",
        "        # Generate predictions\n",
        "        out = self(inputs)\n",
        "        # Calculate loss\n",
        "        loss = F.l1_loss(out, targets)                           # fill this\n",
        "        return {'val_loss': loss.detach()}\n",
        "\n",
        "    def validation_epoch_end(self, outputs):\n",
        "        batch_losses = [x['val_loss'] for x in outputs]\n",
        "        epoch_loss = torch.stack(batch_losses).mean()   # Combine losses\n",
        "        return {'val_loss': epoch_loss.item()}\n",
        "\n",
        "    def epoch_end(self, epoch, result, num_epochs):\n",
        "        # Print result every 20th epoch\n",
        "        if (epoch+1) % 20 == 0 or epoch == num_epochs-1:\n",
        "            print(\"Epoch [{}], val_loss: {:.4f}\".format(epoch+1, result['val_loss']))"
      ]
    },
    {
      "cell_type": "markdown",
      "metadata": {
        "id": "nXGUFJ6r4nsz"
      },
      "source": [
        "Let us create a model using the `InsuranceModel` class. You may need to come back later and re-run the next cell to reinitialize the model, in case the loss becomes `nan` or `infinity`."
      ]
    },
    {
      "cell_type": "code",
      "execution_count": 193,
      "metadata": {
        "id": "xT94ZRNo4nsz"
      },
      "outputs": [],
      "source": [
        "model = InsuranceModel()"
      ]
    },
    {
      "cell_type": "markdown",
      "metadata": {
        "id": "rVUPghms4nsz"
      },
      "source": [
        "Let's check out the weights and biases of the model using `model.parameters`."
      ]
    },
    {
      "cell_type": "code",
      "execution_count": 194,
      "metadata": {
        "colab": {
          "base_uri": "https://localhost:8080/"
        },
        "id": "ZVWcpzJ84ns0",
        "outputId": "9be2c0c9-a173-4be4-f480-c2ee77324485"
      },
      "outputs": [
        {
          "output_type": "execute_result",
          "data": {
            "text/plain": [
              "[Parameter containing:\n",
              " tensor([[-0.0210, -0.0479,  0.2410,  0.1020,  0.1924]], dtype=torch.float64,\n",
              "        requires_grad=True),\n",
              " Parameter containing:\n",
              " tensor([0.2128], dtype=torch.float64, requires_grad=True)]"
            ]
          },
          "metadata": {},
          "execution_count": 194
        }
      ],
      "source": [
        "list(model.parameters())"
      ]
    },
    {
      "cell_type": "markdown",
      "metadata": {
        "id": "FrUPMXLA4ns0"
      },
      "source": [
        "One final commit before we train the model."
      ]
    },
    {
      "cell_type": "code",
      "execution_count": 195,
      "metadata": {
        "colab": {
          "base_uri": "https://localhost:8080/"
        },
        "id": "RJBS4uFG4ns0",
        "outputId": "f58dc354-8a64-4d3a-ca98-2c18c9085547"
      },
      "outputs": [
        {
          "output_type": "stream",
          "name": "stdout",
          "text": [
            "[jovian] Detected Colab notebook...\u001b[0m\n",
            "[jovian] jovian.commit() is no longer required on Google Colab. If you ran this notebook from Jovian, \n",
            "then just save this file in Colab using Ctrl+S/Cmd+S and it will be updated on Jovian. \n",
            "Also, you can also delete this cell, it's no longer necessary.\u001b[0m\n"
          ]
        }
      ],
      "source": [
        "jovian.commit(project=project_name, environment=None)"
      ]
    },
    {
      "cell_type": "markdown",
      "metadata": {
        "id": "f-6ETHKV4ns0"
      },
      "source": [
        "## Step 4: Train the model to fit the data\n",
        "\n",
        "To train our model, we'll use the same `fit` function explained in the lecture. That's the benefit of defining a generic training loop - you can use it for any problem."
      ]
    },
    {
      "cell_type": "code",
      "execution_count": 196,
      "metadata": {
        "id": "X7aDR3fj4ns0"
      },
      "outputs": [],
      "source": [
        "def evaluate(model, val_loader):\n",
        "    outputs = [model.validation_step(batch) for batch in val_loader]\n",
        "    return model.validation_epoch_end(outputs)\n",
        "\n",
        "def fit(epochs, lr, model, train_loader, val_loader, opt_func=torch.optim.SGD):\n",
        "    history = []\n",
        "    optimizer = opt_func(model.parameters(), lr)\n",
        "    for epoch in range(epochs):\n",
        "        # Training Phase\n",
        "        for batch in train_loader:\n",
        "            loss = model.training_step(batch)\n",
        "            loss.backward()\n",
        "            optimizer.step()\n",
        "            optimizer.zero_grad()\n",
        "        # Validation phase\n",
        "        result = evaluate(model, val_loader)\n",
        "        model.epoch_end(epoch, result, epochs)\n",
        "        history.append(result)\n",
        "    return history"
      ]
    },
    {
      "cell_type": "markdown",
      "metadata": {
        "id": "rMx4B6xO4ns0"
      },
      "source": [
        "**Q10: Use the `evaluate` function to calculate the loss on the validation set before training.**"
      ]
    },
    {
      "cell_type": "code",
      "execution_count": 197,
      "metadata": {
        "colab": {
          "base_uri": "https://localhost:8080/"
        },
        "id": "1IhSmSdz4ns0",
        "outputId": "25e277c3-478e-4b72-a4e4-9aeaa3f88a86"
      },
      "outputs": [
        {
          "output_type": "stream",
          "name": "stdout",
          "text": [
            "{'val_loss': 14138.496224670485}\n"
          ]
        }
      ],
      "source": [
        "result = evaluate(model, val_loader) # Use the the evaluate function\n",
        "print(result)"
      ]
    },
    {
      "cell_type": "markdown",
      "metadata": {
        "id": "uj0lCSXK4ns0"
      },
      "source": [
        "\n",
        "We are now ready to train the model. You may need to run the training loop many times, for different number of epochs and with different learning rates, to get a good result. Also, if your loss becomes too large (or `nan`), you may have to re-initialize the model by running the cell `model = InsuranceModel()`. Experiment with this for a while, and try to get to as low a loss as possible."
      ]
    },
    {
      "cell_type": "markdown",
      "metadata": {
        "id": "6N-11cFz4ns0"
      },
      "source": [
        "**Q11: Train the model 4-5 times with different learning rates & for different number of epochs.**\n",
        "\n",
        "Hint: Vary learning rates by orders of 10 (e.g. `1e-2`, `1e-3`, `1e-4`, `1e-5`, `1e-6`) to figure out what works."
      ]
    },
    {
      "cell_type": "code",
      "execution_count": 198,
      "metadata": {
        "colab": {
          "base_uri": "https://localhost:8080/"
        },
        "id": "BUg8cdEM4ns0",
        "outputId": "373bca76-1438-4c5e-857b-5eb07986fcb4"
      },
      "outputs": [
        {
          "output_type": "stream",
          "name": "stdout",
          "text": [
            "Epoch [20], val_loss: 7675.5350\n",
            "Epoch [40], val_loss: 7512.1919\n",
            "Epoch [60], val_loss: 7378.6107\n",
            "Epoch [80], val_loss: 7280.2087\n",
            "Epoch [100], val_loss: 7224.0351\n",
            "Epoch [120], val_loss: 7197.9031\n",
            "Epoch [140], val_loss: 7186.5415\n",
            "Epoch [160], val_loss: 7182.4755\n",
            "Epoch [180], val_loss: 7180.2631\n",
            "Epoch [200], val_loss: 7180.3867\n",
            "Epoch [220], val_loss: 7179.1886\n",
            "Epoch [240], val_loss: 7177.2784\n",
            "Epoch [260], val_loss: 7174.8146\n",
            "Epoch [280], val_loss: 7174.3968\n",
            "Epoch [300], val_loss: 7172.7025\n",
            "Epoch [320], val_loss: 7170.5369\n",
            "Epoch [340], val_loss: 7168.8869\n",
            "Epoch [360], val_loss: 7168.0820\n",
            "Epoch [380], val_loss: 7165.7924\n",
            "Epoch [400], val_loss: 7164.7464\n",
            "Epoch [420], val_loss: 7163.8247\n",
            "Epoch [440], val_loss: 7160.8495\n",
            "Epoch [460], val_loss: 7159.7064\n",
            "Epoch [480], val_loss: 7158.1573\n",
            "Epoch [500], val_loss: 7156.0645\n",
            "Epoch [520], val_loss: 7153.7387\n",
            "Epoch [540], val_loss: 7152.3716\n",
            "Epoch [560], val_loss: 7151.6693\n",
            "Epoch [580], val_loss: 7149.1965\n",
            "Epoch [600], val_loss: 7148.6031\n",
            "Epoch [620], val_loss: 7146.5188\n",
            "Epoch [640], val_loss: 7144.5086\n",
            "Epoch [660], val_loss: 7144.0724\n",
            "Epoch [680], val_loss: 7142.3773\n",
            "Epoch [700], val_loss: 7141.3565\n",
            "Epoch [720], val_loss: 7138.9233\n",
            "Epoch [740], val_loss: 7137.8172\n",
            "Epoch [760], val_loss: 7136.4754\n",
            "Epoch [780], val_loss: 7134.9505\n",
            "Epoch [800], val_loss: 7134.5849\n",
            "Epoch [820], val_loss: 7132.3302\n",
            "Epoch [840], val_loss: 7132.0448\n",
            "Epoch [860], val_loss: 7128.7955\n",
            "Epoch [880], val_loss: 7129.0151\n",
            "Epoch [900], val_loss: 7126.9791\n",
            "Epoch [920], val_loss: 7125.6421\n",
            "Epoch [940], val_loss: 7124.8698\n",
            "Epoch [960], val_loss: 7125.2189\n",
            "Epoch [980], val_loss: 7120.9328\n",
            "Epoch [1000], val_loss: 7120.6678\n"
          ]
        }
      ],
      "source": [
        "epochs = 1000\n",
        "lr = 1e-2\n",
        "history1 = fit(epochs, lr, model, train_loader, val_loader)"
      ]
    },
    {
      "cell_type": "code",
      "execution_count": 199,
      "metadata": {
        "colab": {
          "base_uri": "https://localhost:8080/"
        },
        "id": "-BM5_gLJ4ns0",
        "outputId": "75e3cb1d-c66b-43f4-df65-1903ce1b2be7"
      },
      "outputs": [
        {
          "output_type": "stream",
          "name": "stdout",
          "text": [
            "Epoch [20], val_loss: 7120.9095\n",
            "Epoch [40], val_loss: 7120.9470\n",
            "Epoch [60], val_loss: 7120.8881\n",
            "Epoch [80], val_loss: 7120.8878\n",
            "Epoch [100], val_loss: 7120.6961\n"
          ]
        }
      ],
      "source": [
        "epochs = 100\n",
        "lr = 1e-3\n",
        "history2 = fit(epochs, lr, model, train_loader, val_loader)"
      ]
    },
    {
      "cell_type": "code",
      "execution_count": 200,
      "metadata": {
        "colab": {
          "base_uri": "https://localhost:8080/"
        },
        "id": "LvKM3E4w4ns0",
        "outputId": "f43351df-bcb5-44ec-f3b6-6a3b05773c1b"
      },
      "outputs": [
        {
          "output_type": "stream",
          "name": "stdout",
          "text": [
            "Epoch [20], val_loss: 7120.6782\n",
            "Epoch [40], val_loss: 7120.6808\n",
            "Epoch [60], val_loss: 7120.6564\n",
            "Epoch [80], val_loss: 7120.6473\n",
            "Epoch [100], val_loss: 7120.6245\n"
          ]
        }
      ],
      "source": [
        "epochs = 100\n",
        "lr = 1e-4\n",
        "history3 = fit(epochs, lr, model, train_loader, val_loader)"
      ]
    },
    {
      "cell_type": "code",
      "execution_count": 201,
      "metadata": {
        "colab": {
          "base_uri": "https://localhost:8080/"
        },
        "id": "TysCcVab4ns0",
        "outputId": "1de0db5c-90ec-4204-f4d8-e09d71b72913"
      },
      "outputs": [
        {
          "output_type": "stream",
          "name": "stdout",
          "text": [
            "Epoch [20], val_loss: 7120.6230\n",
            "Epoch [40], val_loss: 7120.6215\n",
            "Epoch [60], val_loss: 7120.6206\n",
            "Epoch [80], val_loss: 7120.6208\n",
            "Epoch [100], val_loss: 7120.6204\n"
          ]
        }
      ],
      "source": [
        "epochs = 100\n",
        "lr = 1e-5\n",
        "history4 = fit(epochs, lr, model, train_loader, val_loader)"
      ]
    },
    {
      "cell_type": "code",
      "execution_count": 202,
      "metadata": {
        "colab": {
          "base_uri": "https://localhost:8080/"
        },
        "id": "8IC2Kxlq4ns0",
        "outputId": "558227c7-4db9-4888-86bc-944e1a7d2143"
      },
      "outputs": [
        {
          "output_type": "stream",
          "name": "stdout",
          "text": [
            "Epoch [20], val_loss: 7120.6205\n",
            "Epoch [40], val_loss: 7120.6202\n",
            "Epoch [60], val_loss: 7120.6202\n",
            "Epoch [80], val_loss: 7120.6201\n",
            "Epoch [100], val_loss: 7120.6202\n"
          ]
        }
      ],
      "source": [
        "epochs = 100\n",
        "lr = 1e-6\n",
        "history5 = fit(epochs, lr, model, train_loader, val_loader)"
      ]
    },
    {
      "cell_type": "markdown",
      "metadata": {
        "id": "3jox7L0G4ns1"
      },
      "source": [
        "**Q12: What is the final validation loss of your model?**"
      ]
    },
    {
      "cell_type": "code",
      "execution_count": 203,
      "metadata": {
        "id": "LEBFDSJJ4ns1"
      },
      "outputs": [],
      "source": [
        "val_loss = 7120.6202"
      ]
    },
    {
      "cell_type": "markdown",
      "metadata": {
        "id": "WnpL3pbw4ns1"
      },
      "source": [
        "Let's log the final validation loss to Jovian and commit the notebook"
      ]
    },
    {
      "cell_type": "code",
      "execution_count": 204,
      "metadata": {
        "colab": {
          "base_uri": "https://localhost:8080/"
        },
        "id": "Tk1Mwe__4ns2",
        "outputId": "122c4676-e333-432b-e427-74c626d73d46"
      },
      "outputs": [
        {
          "output_type": "stream",
          "name": "stdout",
          "text": [
            "[jovian] Please enter your API key ( from https://jovian.com/ ):\u001b[0m\n",
            "API KEY: ··········\n",
            "[jovian] Metrics logged.\u001b[0m\n"
          ]
        }
      ],
      "source": [
        "jovian.log_metrics(val_loss=val_loss)"
      ]
    },
    {
      "cell_type": "code",
      "execution_count": 205,
      "metadata": {
        "colab": {
          "base_uri": "https://localhost:8080/"
        },
        "id": "OYHFKRcX4ns2",
        "outputId": "74493dc1-a846-464b-98e5-2126b052363c"
      },
      "outputs": [
        {
          "output_type": "stream",
          "name": "stdout",
          "text": [
            "[jovian] Detected Colab notebook...\u001b[0m\n",
            "[jovian] jovian.commit() is no longer required on Google Colab. If you ran this notebook from Jovian, \n",
            "then just save this file in Colab using Ctrl+S/Cmd+S and it will be updated on Jovian. \n",
            "Also, you can also delete this cell, it's no longer necessary.\u001b[0m\n"
          ]
        }
      ],
      "source": [
        "jovian.commit(project=project_name, environment=None)"
      ]
    },
    {
      "cell_type": "markdown",
      "metadata": {
        "id": "oeC5bMgG4ns2"
      },
      "source": [
        "Now scroll back up, re-initialize the model, and try different set of values for batch size, number of epochs, learning rate etc. Commit each experiment and use the \"Compare\" and \"View Diff\" options on Jovian to compare the different results."
      ]
    },
    {
      "cell_type": "markdown",
      "metadata": {
        "id": "UGpaCI184ns2"
      },
      "source": [
        "## Step 5: Make predictions using the trained model\n",
        "\n",
        "**Q13: Complete the following function definition to make predictions on a single input**"
      ]
    },
    {
      "cell_type": "code",
      "execution_count": 206,
      "metadata": {
        "id": "b1Q5nuyG4ns2"
      },
      "outputs": [],
      "source": [
        "def predict_single(input, target, model):\n",
        "    inputs = input.unsqueeze(0)\n",
        "    predictions = model(inputs)                # fill this\n",
        "    prediction = predictions[0].detach()\n",
        "    print(\"Input:\", input)\n",
        "    print(\"Target:\", target)\n",
        "    print(\"Prediction:\", prediction)"
      ]
    },
    {
      "cell_type": "code",
      "execution_count": 207,
      "metadata": {
        "colab": {
          "base_uri": "https://localhost:8080/"
        },
        "id": "aCC3eWDe4ns2",
        "outputId": "345422ff-621b-405f-e37b-70ec293154f0"
      },
      "outputs": [
        {
          "output_type": "stream",
          "name": "stdout",
          "text": [
            "Input: tensor([19.0000,  1.0000, 30.5235,  0.0000,  1.0000], dtype=torch.float64)\n",
            "Target: tensor([19087.9483], dtype=torch.float64)\n",
            "Prediction: tensor([2700.2048], dtype=torch.float64)\n"
          ]
        }
      ],
      "source": [
        "input, target = val_ds[0]\n",
        "predict_single(input, target, model)"
      ]
    },
    {
      "cell_type": "code",
      "execution_count": 208,
      "metadata": {
        "colab": {
          "base_uri": "https://localhost:8080/"
        },
        "id": "jrbifleS4ns2",
        "outputId": "43dc4fd0-f935-49cc-f8cd-82cc7c92c7d4"
      },
      "outputs": [
        {
          "output_type": "stream",
          "name": "stdout",
          "text": [
            "Input: tensor([21.0000,  0.0000, 37.5060,  0.0000,  0.0000], dtype=torch.float64)\n",
            "Target: tensor([2645.2072], dtype=torch.float64)\n",
            "Prediction: tensor([2553.9995], dtype=torch.float64)\n"
          ]
        }
      ],
      "source": [
        "input, target = val_ds[10]\n",
        "predict_single(input, target, model)"
      ]
    },
    {
      "cell_type": "code",
      "execution_count": 209,
      "metadata": {
        "colab": {
          "base_uri": "https://localhost:8080/"
        },
        "id": "oiaOZi604ns2",
        "outputId": "16e2244b-94e0-4bb4-ecd1-732fac96d390"
      },
      "outputs": [
        {
          "output_type": "stream",
          "name": "stdout",
          "text": [
            "Input: tensor([19.0000,  0.0000, 22.7850,  0.0000,  1.0000], dtype=torch.float64)\n",
            "Target: tensor([15228.9566], dtype=torch.float64)\n",
            "Prediction: tensor([3416.9225], dtype=torch.float64)\n"
          ]
        }
      ],
      "source": [
        "input, target = val_ds[23]\n",
        "predict_single(input, target, model)"
      ]
    },
    {
      "cell_type": "markdown",
      "metadata": {
        "id": "aGY42uid4ns3"
      },
      "source": [
        "Are you happy with your model's predictions? Try to improve them further."
      ]
    },
    {
      "cell_type": "markdown",
      "metadata": {
        "id": "cpDTj9ZX4ns3"
      },
      "source": [
        "## (Optional) Step 6: Try another dataset & blog about it\n",
        "\n",
        "While this last step is optional for the submission of your assignment, we highly recommend that you do it. Try to replicate this notebook for a different linear regression or logistic regression problem. This will help solidify your understanding, and give you a chance to differentiate the generic patterns in machine learning from problem-specific details.You can use one of these starer notebooks (just change the dataset):\n",
        "\n",
        "- Linear regression (minimal): https://jovian.ai/aakashns/housing-linear-minimal\n",
        "- Logistic regression (minimal): https://jovian.ai/aakashns/mnist-logistic-minimal\n",
        "\n",
        "Here are some sources to find good datasets:\n",
        "\n",
        "- https://lionbridge.ai/datasets/10-open-datasets-for-linear-regression/\n",
        "- https://www.kaggle.com/rtatman/datasets-for-regression-analysis\n",
        "- https://archive.ics.uci.edu/ml/datasets.php?format=&task=reg&att=&area=&numAtt=&numIns=&type=&sort=nameUp&view=table\n",
        "- https://people.sc.fsu.edu/~jburkardt/datasets/regression/regression.html\n",
        "- https://archive.ics.uci.edu/ml/datasets/wine+quality\n",
        "- https://pytorch.org/docs/stable/torchvision/datasets.html\n",
        "\n",
        "We also recommend that you write a blog about your approach to the problem. Here is a suggested structure for your post (feel free to experiment with it):\n",
        "\n",
        "- Interesting title & subtitle\n",
        "- Overview of what the blog covers (which dataset, linear regression or logistic regression, intro to PyTorch)\n",
        "- Downloading & exploring the data\n",
        "- Preparing the data for training\n",
        "- Creating a model using PyTorch\n",
        "- Training the model to fit the data\n",
        "- Your thoughts on how to experiment with different hyperparmeters to reduce loss\n",
        "- Making predictions using the model\n",
        "\n",
        "As with the previous assignment, you can [embed Juptyer notebook cells & outputs from Jovian](https://medium.com/jovianml/share-and-embed-jupyter-notebooks-online-with-jovian-ml-df709a03064e) into your blog.\n",
        "\n",
        "Don't forget to share your work on the forum: https://jovian.ai/forum/t/linear-regression-and-logistic-regression-notebooks-and-blog-posts/14039"
      ]
    },
    {
      "cell_type": "code",
      "execution_count": null,
      "metadata": {
        "id": "oE0YLSl44ns3",
        "outputId": "db6a43d0-04a9-487b-d00f-7c2b809ba0dc"
      },
      "outputs": [
        {
          "data": {
            "application/javascript": [
              "window.require && require([\"base/js/namespace\"],function(Jupyter){Jupyter.notebook.save_checkpoint()})"
            ],
            "text/plain": [
              "<IPython.core.display.Javascript object>"
            ]
          },
          "metadata": {},
          "output_type": "display_data"
        },
        {
          "name": "stdout",
          "output_type": "stream",
          "text": [
            "[jovian] Attempting to save notebook..\u001b[0m\n",
            "[jovian] Updating notebook \"aakashns/02-insurance-linear-regression\" on https://jovian.ai/\u001b[0m\n",
            "[jovian] Uploading notebook..\u001b[0m\n",
            "[jovian] Committed successfully! https://jovian.ai/aakashns/02-insurance-linear-regression\u001b[0m\n"
          ]
        },
        {
          "data": {
            "application/javascript": [
              "window.require && require([\"base/js/namespace\"],function(Jupyter){Jupyter.notebook.save_checkpoint()})"
            ],
            "text/plain": [
              "<IPython.core.display.Javascript object>"
            ]
          },
          "metadata": {},
          "output_type": "display_data"
        },
        {
          "name": "stdout",
          "output_type": "stream",
          "text": [
            "[jovian] Attempting to save notebook..\u001b[0m\n"
          ]
        }
      ],
      "source": [
        "jovian.commit(project=project_name, environment=None)\n",
        "jovian.commit(project=project_name, environment=None) # try again, kaggle fails sometimes"
      ]
    },
    {
      "cell_type": "code",
      "execution_count": null,
      "metadata": {
        "id": "LfLjXgPU4ns3"
      },
      "outputs": [],
      "source": []
    }
  ],
  "metadata": {
    "kernelspec": {
      "display_name": "Python 3 (ipykernel)",
      "language": "python",
      "name": "python3"
    },
    "language_info": {
      "codemirror_mode": {
        "name": "ipython",
        "version": 3
      },
      "file_extension": ".py",
      "mimetype": "text/x-python",
      "name": "python",
      "nbconvert_exporter": "python",
      "pygments_lexer": "ipython3",
      "version": "3.9.6"
    },
    "colab": {
      "provenance": [],
      "include_colab_link": true
    }
  },
  "nbformat": 4,
  "nbformat_minor": 0
}