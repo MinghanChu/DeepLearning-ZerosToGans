{
  "nbformat": 4,
  "nbformat_minor": 0,
  "metadata": {
    "colab": {
      "provenance": [],
      "authorship_tag": "ABX9TyPw0cN/aFpfaBPuIjOscBB2",
      "include_colab_link": true
    },
    "kernelspec": {
      "name": "python3",
      "display_name": "Python 3"
    },
    "language_info": {
      "name": "python"
    }
  },
  "cells": [
    {
      "cell_type": "markdown",
      "metadata": {
        "id": "view-in-github",
        "colab_type": "text"
      },
      "source": [
        "<a href=\"https://colab.research.google.com/github/Renshui-MC/DeepLearning-ZerosToGans/blob/main/logistic%20regression.ipynb\" target=\"_parent\"><img src=\"https://colab.research.google.com/assets/colab-badge.svg\" alt=\"Open In Colab\"/></a>"
      ]
    },
    {
      "cell_type": "markdown",
      "source": [
        "# **Working with Images & Logistic Regression in PyTorch**\n",
        "\n",
        "+ use linear regression to do **image classification**\n",
        "+ instead of taking numbers, we take **images** as input features and determine what digits the images represent\n",
        "+ `torchvision` is a package that contains `datasets` module from which we import `MNIST` class"
      ],
      "metadata": {
        "id": "hgA1L4BDfbOb"
      }
    },
    {
      "cell_type": "code",
      "execution_count": 106,
      "metadata": {
        "id": "YdlIrbq_AQ1i"
      },
      "outputs": [],
      "source": [
        "import torch\n",
        "import torchvision\n",
        "from torchvision.datasets import MNIST"
      ]
    },
    {
      "cell_type": "markdown",
      "source": [
        "Let's download training datasets\n",
        "\n",
        "+ instantiate the class `MNIST`\n",
        "+ the `dataset` object is already converted to a `PyTorch` type object\n",
        "+ the `dataset` object can access the methods defined under `MNIST`\n",
        "+ `Download = True` checks if the data are already downloaded\n",
        "+ it downloads the data to the `data/` directory \n"
      ],
      "metadata": {
        "id": "1fADy0xojGxE"
      }
    },
    {
      "cell_type": "code",
      "source": [
        "dataset = MNIST(root='data/', download=True)"
      ],
      "metadata": {
        "id": "58dg5nhojOOt"
      },
      "execution_count": 107,
      "outputs": []
    },
    {
      "cell_type": "markdown",
      "source": [
        "check how many elements/samples that the dataset contains"
      ],
      "metadata": {
        "id": "UthbvLjUkssv"
      }
    },
    {
      "cell_type": "code",
      "source": [
        "len(dataset)"
      ],
      "metadata": {
        "colab": {
          "base_uri": "https://localhost:8080/"
        },
        "id": "vXKbcGbWk0E6",
        "outputId": "287d7fa1-2f71-4085-bd08-1ffab661cb78"
      },
      "execution_count": 108,
      "outputs": [
        {
          "output_type": "execute_result",
          "data": {
            "text/plain": [
              "60000"
            ]
          },
          "metadata": {},
          "execution_count": 108
        }
      ]
    },
    {
      "cell_type": "markdown",
      "source": [
        "The dataset has **60,000 images** that we'll use to **train the model**. There is also an additional **test set** of **10,000 images** used for **evaluating models** and reporting **metrics** in papers and reports. \n",
        "\n",
        "+ We can create the test dataset using the `MNIST` class by passing `train=False` to the constructor."
      ],
      "metadata": {
        "id": "Adwn5HlTlEv_"
      }
    },
    {
      "cell_type": "code",
      "source": [
        "test_dataset = MNIST(root='data/', train=False)\n",
        "len(test_dataset)"
      ],
      "metadata": {
        "colab": {
          "base_uri": "https://localhost:8080/"
        },
        "id": "QUaluveul9TK",
        "outputId": "dba2805b-441b-4910-a1a7-1eeadedbf2b4"
      },
      "execution_count": 109,
      "outputs": [
        {
          "output_type": "execute_result",
          "data": {
            "text/plain": [
              "10000"
            ]
          },
          "metadata": {},
          "execution_count": 109
        }
      ]
    },
    {
      "cell_type": "markdown",
      "source": [
        "Let's look at a **sample element** from the **training dataset**.\n",
        "\n",
        "+ `PIL` is the [`Pillow`](https://pillow.readthedocs.io/en/stable/) library. `.image` module and `.image` class.\n",
        "+ `5` is the label for the image (because we have $0,..,9$)\n",
        "+ each image has $28 \\times 28$ pixels"
      ],
      "metadata": {
        "id": "mPVG3ljSm0EA"
      }
    },
    {
      "cell_type": "code",
      "source": [
        "dataset[0]"
      ],
      "metadata": {
        "colab": {
          "base_uri": "https://localhost:8080/"
        },
        "id": "fdAjNNDrrvs4",
        "outputId": "d73be35c-4943-46e1-c8e7-79f22f3f5541"
      },
      "execution_count": 110,
      "outputs": [
        {
          "output_type": "execute_result",
          "data": {
            "text/plain": [
              "(<PIL.Image.Image image mode=L size=28x28 at 0x7F856D5387C0>, 5)"
            ]
          },
          "metadata": {},
          "execution_count": 110
        }
      ]
    },
    {
      "cell_type": "markdown",
      "source": [
        "we can view this image using `matplotlib` library. Specifically, we want `pyplot` module from this library.\n",
        "\n",
        "+ very useful statement ([magic command ](https://ipython.readthedocs.io/en/stable/interactive/magics.html )) `%matplotlib inline` allows you to retain the image within the current notebook. Otherwise, the image will pop up once and then disappears after you close the notebook."
      ],
      "metadata": {
        "id": "MOQRhrVysvvj"
      }
    },
    {
      "cell_type": "code",
      "source": [
        "import matplotlib.pyplot as plt\n",
        "%matplotlib inline "
      ],
      "metadata": {
        "id": "7g4fG6Hqtly_"
      },
      "execution_count": 111,
      "outputs": []
    },
    {
      "cell_type": "markdown",
      "source": [
        "Let's look at a couple of images from the dataset.\n",
        "\n",
        "+ `dataset[0]` indicates the first element of the dataset\n",
        "+ `cmap`: color map\n",
        "+ note that label $5$ just corresponds number $5$\n",
        "\n"
      ],
      "metadata": {
        "id": "DXml_M0dt-EH"
      }
    },
    {
      "cell_type": "code",
      "source": [
        "image, label = dataset[0]\n",
        "\n",
        "plt.imshow(image, cmap='gray')\n",
        "print('Label:', label)"
      ],
      "metadata": {
        "colab": {
          "base_uri": "https://localhost:8080/",
          "height": 283
        },
        "id": "IodsQjPits1W",
        "outputId": "4864a56d-1187-4386-b199-cc69b83338d3"
      },
      "execution_count": 112,
      "outputs": [
        {
          "output_type": "stream",
          "name": "stdout",
          "text": [
            "Label: 5\n"
          ]
        },
        {
          "output_type": "display_data",
          "data": {
            "text/plain": [
              "<Figure size 432x288 with 1 Axes>"
            ],
            "image/png": "[encoded data removed]"
          },
          "metadata": {
            "needs_background": "light"
          }
        }
      ]
    },
    {
      "cell_type": "code",
      "source": [
        "image, label = dataset[1]\n",
        "\n",
        "plt.imshow(image, cmap='gray')\n",
        "print('Label:', label)"
      ],
      "metadata": {
        "colab": {
          "base_uri": "https://localhost:8080/",
          "height": 283
        },
        "id": "g5GF3zOIufRo",
        "outputId": "2d2a2576-b1b7-4212-a172-90f4da850afe"
      },
      "execution_count": 113,
      "outputs": [
        {
          "output_type": "stream",
          "name": "stdout",
          "text": [
            "Label: 0\n"
          ]
        },
        {
          "output_type": "display_data",
          "data": {
            "text/plain": [
              "<Figure size 432x288 with 1 Axes>"
            ],
            "image/png": "[encoded data removed]"
          },
          "metadata": {
            "needs_background": "light"
          }
        }
      ]
    },
    {
      "cell_type": "markdown",
      "source": [
        "`PyTorch` doesn't know how to work with images. We need to **convert the images into tensors**. We can do this by **specifying a transform while creating our dataset**.\n",
        "\n",
        "+ `torchvision` library\n",
        "+ `transorm` module\n",
        "+ use `MNIST` class\n",
        "+ set `train=True` for training dataset\n",
        "+ `transform=transforms.ToTensor()` convert the image into tensor as we load the images"
      ],
      "metadata": {
        "id": "ms1WI7S5vD9P"
      }
    },
    {
      "cell_type": "code",
      "source": [
        "import torchvision.transforms as transforms"
      ],
      "metadata": {
        "id": "KJbTsM0FvbCX"
      },
      "execution_count": 114,
      "outputs": []
    },
    {
      "cell_type": "code",
      "source": [
        "# MNIST dataset (images and labels)\n",
        "dataset = MNIST(root='data/', train=True, transform=transforms.ToTensor())"
      ],
      "metadata": {
        "id": "aowA-USZv2zs"
      },
      "execution_count": 115,
      "outputs": []
    },
    {
      "cell_type": "markdown",
      "source": [
        "Let's first look at the shape of the converted tensor:\n",
        "\n",
        "+ `[1, 28, 28]` means every image is a three dimensional tensor\n",
        "+ every image is a $28 \\times 28$ matrix (color pixels)\n",
        "+ the first dimension `1` tracks **color channels**. In this case, `grayscale` is used. Typically, we have images with **three color channels**: **red, green and blue (RGB).**\n",
        "+ second and third dimensions ($28 \\times 28$) represent pixels along the **height and width** of the image, respectively. For each dataset element, we have a 28 x 28 matrix for each image\n",
        "+ 5 is the label of the image\n",
        "+ **Note that there are only $10$ distinct labels, i.e., 0,..,9 for all these images** "
      ],
      "metadata": {
        "id": "-6pSEpMnyNzP"
      }
    },
    {
      "cell_type": "code",
      "source": [
        "img_tensor, label = dataset[0]\n",
        "print(img_tensor.shape, label)"
      ],
      "metadata": {
        "colab": {
          "base_uri": "https://localhost:8080/"
        },
        "id": "aATnhndZxxLM",
        "outputId": "ea21057e-bf16-4479-d206-81012c225b92"
      },
      "execution_count": 116,
      "outputs": [
        {
          "output_type": "stream",
          "name": "stdout",
          "text": [
            "torch.Size([1, 28, 28]) 5\n"
          ]
        }
      ]
    },
    {
      "cell_type": "code",
      "source": [
        "img_tensor, label = dataset[30000]\n",
        "print(img_tensor.shape, label)"
      ],
      "metadata": {
        "colab": {
          "base_uri": "https://localhost:8080/"
        },
        "id": "_KAMK2btDHSY",
        "outputId": "e57c4794-b165-48e5-839f-985460a3dfb1"
      },
      "execution_count": 117,
      "outputs": [
        {
          "output_type": "stream",
          "name": "stdout",
          "text": [
            "torch.Size([1, 28, 28]) 3\n"
          ]
        }
      ]
    },
    {
      "cell_type": "code",
      "source": [
        "img_tensor, label = dataset[30200]\n",
        "print(img_tensor.shape, label)"
      ],
      "metadata": {
        "colab": {
          "base_uri": "https://localhost:8080/"
        },
        "id": "F7SgArIMDV5w",
        "outputId": "f3698d9f-d3f2-4ed9-a879-610c7d4a5c5a"
      },
      "execution_count": 118,
      "outputs": [
        {
          "output_type": "stream",
          "name": "stdout",
          "text": [
            "torch.Size([1, 28, 28]) 1\n"
          ]
        }
      ]
    },
    {
      "cell_type": "markdown",
      "source": [
        "Now let's look at some sample values inside the tensor\n",
        "\n",
        "+ in order `[color channel index, rows indices, columns indices]`. \n",
        "+ Since we only have one color channel (recall `[1, 28, 28]` where $1$ indicates only one color channel available), we only have `index = 0` to get the first color channel. \n",
        "+ `10:15` indicates that $5 \\times 5$ pixels out of $28 \\times 28$ pixels are interested \n",
        "+ The values range from $0$ to $1$\n",
        "+ $0$ represents black, and $1$ white, and the values in between different shades of grey. "
      ],
      "metadata": {
        "id": "hPBebDQJ0mOY"
      }
    },
    {
      "cell_type": "code",
      "source": [
        "print(img_tensor[0,10:15,10:15])\n",
        "print(torch.max(img_tensor), torch.min(img_tensor))"
      ],
      "metadata": {
        "colab": {
          "base_uri": "https://localhost:8080/"
        },
        "id": "YcdLJQpC0tD-",
        "outputId": "24bb5142-71a5-40fe-b7a8-7627d3eee588"
      },
      "execution_count": 119,
      "outputs": [
        {
          "output_type": "stream",
          "name": "stdout",
          "text": [
            "tensor([[0.0000, 0.0000, 0.5490, 0.9961, 0.8000],\n",
            "        [0.0000, 0.0000, 0.5490, 0.9961, 0.8000],\n",
            "        [0.0000, 0.0000, 0.5490, 0.9961, 0.8000],\n",
            "        [0.0000, 0.0000, 0.5490, 0.9961, 0.8000],\n",
            "        [0.0000, 0.0000, 0.5490, 0.9961, 0.8000]])\n",
            "tensor(1.) tensor(0.)\n"
          ]
        }
      ]
    },
    {
      "cell_type": "markdown",
      "source": [
        "We can also plot the tensor as an image using `plt.imshow`\n",
        "\n",
        "+ we need to pass a color map (`cmp=gray`)\n",
        "+ pass 28 x 28 matrix to `plt.imshow`"
      ],
      "metadata": {
        "id": "kttNUnqb2RUH"
      }
    },
    {
      "cell_type": "code",
      "source": [
        "# Plot the image by passing in the 28x28 matrix\n",
        "plt.imshow(img_tensor[0,10:15,10:15], cmap='gray');"
      ],
      "metadata": {
        "colab": {
          "base_uri": "https://localhost:8080/",
          "height": 265
        },
        "id": "PJf1VAvg2S3G",
        "outputId": "36a40d85-0066-4dd0-b87a-354d20da5577"
      },
      "execution_count": 120,
      "outputs": [
        {
          "output_type": "display_data",
          "data": {
            "text/plain": [
              "<Figure size 432x288 with 1 Axes>"
            ],
            "image/png": "[encoded data removed]"
          },
          "metadata": {
            "needs_background": "light"
          }
        }
      ]
    },
    {
      "cell_type": "markdown",
      "source": [
        "##**Training and Validation Datasets**\n",
        "\n",
        "While building real-world machine learning models, it is quite common to split the dataset into three parts:\n",
        "\n",
        "1. **Training set** - used to train the model, i.e., compute the loss and adjust the model's weights using gradient descent.\n",
        "2. **Validation set** - used to evaluate the model during training, adjust hyperparameters (learning rate, etc.), and pick the best version of the model.\n",
        "3. **Test set** - used to compare different models or approaches and report the model's final accuracy.\n",
        "\n",
        "In the MNIST dataset, there are 60,000 training images and 10,000 test images. The test set is **standardized** so that different researchers can report their models' results against the same collection of images. \n",
        "\n",
        "+ test set is not for training\n",
        "\n",
        "Since there's no predefined validation set, we must manually split the **60,000 images into training and validation datasets**. \n",
        "\n",
        "* Let's set aside 10,000 randomly chosen images for validation. We can do this using the `random_spilt` method from PyTorch.\n",
        "\n",
        "+ from the dataset ($60000$) we want \n",
        "\n",
        "+ $50000$ for training dataset (`train_ds`) and \n",
        "\n",
        "+ $10000$ for validation dataset (`val_ds`)\n",
        "\n",
        "\n",
        "\n"
      ],
      "metadata": {
        "id": "UYj6b-qx8Cbq"
      }
    },
    {
      "cell_type": "code",
      "source": [
        "from torch.utils.data import random_split\n",
        "\n",
        "train_ds, val_ds = random_split(dataset, [50000, 10000])\n",
        "len(train_ds), len(val_ds)"
      ],
      "metadata": {
        "colab": {
          "base_uri": "https://localhost:8080/"
        },
        "id": "u7dM8yMBlblo",
        "outputId": "5873b2fe-7668-40e3-8406-292ad08532e1"
      },
      "execution_count": 121,
      "outputs": [
        {
          "output_type": "execute_result",
          "data": {
            "text/plain": [
              "(50000, 10000)"
            ]
          },
          "metadata": {},
          "execution_count": 121
        }
      ]
    },
    {
      "cell_type": "markdown",
      "source": [
        "###**Randomization for training dataset `shuffle=True`**\n",
        "It's essential to choose a **random sample** for creating a validation set. Training data is often sorted by the target labels, i.e., images of 0s, followed by 1s, followed by 2s, etc. \n",
        "\n",
        "+ If we create a validation set using the last 20% of images, it would only consist of 8s and 9s. \n",
        "\n",
        "+ In contrast, the training set would contain no 8s or 9s. \n",
        "\n",
        "As the result, the training set and validation set are **completely separate**,and such a training-validation would make it impossible to train a useful model.\n",
        "\n",
        "We can now create data loaders to help us load the data in batches. We'll use a batch size of 128.\n",
        "\n",
        "+ `torch.utils.data`: `torch` library, `utils` package, `data` module, and `DataLoader` class\n",
        "\n",
        "+ we want to split the full dataset into batches because it is much more efficient to train our data. Otherwise, it will be extremely slow\n",
        "\n",
        "+ `shuffle=True` to let batches generated randomly in each epoch so that the model is generalized\n",
        "\n",
        "+ `train_loader` contains both input batches and output batches\n",
        "\n",
        "+ `val_loader` also contains input and output batches, but not randomized because it is used only to report the final result\n"
      ],
      "metadata": {
        "id": "1MdJKAzTmBg9"
      }
    },
    {
      "cell_type": "code",
      "source": [
        "from torch.utils.data import DataLoader\n",
        "\n",
        "batch_size = 128\n",
        "\n",
        "train_loader = DataLoader(train_ds, batch_size, shuffle=True)\n",
        "val_loader = DataLoader(val_ds, batch_size)"
      ],
      "metadata": {
        "id": "tIISjOkFq0JX"
      },
      "execution_count": 122,
      "outputs": []
    },
    {
      "cell_type": "markdown",
      "source": [
        "#**Model**\n",
        "Now that we have prepared our data loaders, we can define our model.\n",
        "\n",
        "* A **logistic regression** model is almost identical to a linear regression model. It contains weights and bias matrices, and the output is obtained using simple matrix operations (`pred = x @ w.t() + b`). \n",
        "\n",
        "* As we did with linear regression, we can use `nn.Linear` to create the model instead of manually creating and initializing the matrices.\n",
        "\n",
        "* Since `nn.Linear` expects each training example to be a vector, each three-dimensional (`1x28x28`) image tensor is _flattened_ into a vector of size 784 `(28*28)` inputs before being passed into the model. \n",
        "\n",
        "1. we note that tensor always refers to high-dimensional datasets, while vector refers to one-dimensional dataset\n",
        "\n",
        "2. recall that we have only three input features (temperature, rainfall, humidity) for the linear regression model. However, we have **$\\mathbf{784}$ input features**, \n",
        "\n",
        "3. which represent **pixel intensities at different positions within the image** (_The intensity value for each pixel is a single value for a gray-level image, or three values for a color image (red, blue, green)._), i.e., a value from $0 - 1$\n",
        "\n",
        "* The output for each image is a vector of size $10$ (because we are dealing with numbers of 0 to 9), with each element signifying the probability of a particular target label (i.e., $0$ to $9$). **The predicted label for an image is simply the one with the highest probability**.\n",
        "\n",
        "1. recall that we have only $2$ predicted targets for the linear regression model. Here we have $10$ predicted targets. Instead of giving a number, **logistic regression** model gives a **probability of a particular label** \n",
        "\n",
        "\\\\\n",
        "\n",
        "**Importantly, we note that the `PyTorch` logistic regression model is exactly same as the `PyTorch` linear regression model  (nn.Linear(number, number)). The only difference is the current model has a much larger size. This indicates the importance of correctly specifying your input feature and output target sizes.**"
      ],
      "metadata": {
        "id": "8noHUUZWvguh"
      }
    },
    {
      "cell_type": "code",
      "source": [
        "import torch.nn as nn\n",
        "\n",
        "input_size = 28*28\n",
        "num_classes = 10\n",
        "\n",
        "# Logistic regression model\n",
        "model = nn.Linear(input_size, num_classes)"
      ],
      "metadata": {
        "id": "nwuXCExZB-YZ"
      },
      "execution_count": 123,
      "outputs": []
    },
    {
      "cell_type": "markdown",
      "source": [
        "Recall that `nn.Linear` automatically outputs weights and biases for us. Let's take a look at them:\n",
        "\n",
        "+ number of weights: number of inputs ($784$) x number of targets ($10$)\n",
        "+ total of $7850$ parameters here ($7840$ weights and $10$ biases)\n",
        "+ $7840$ weights because we have $10$ sets of $784$ weights for the $10$ classes/outputs\n"
      ],
      "metadata": {
        "id": "r9OLczffGRXW"
      }
    },
    {
      "cell_type": "code",
      "source": [
        "print(model.weight.shape)\n",
        "model.weight"
      ],
      "metadata": {
        "colab": {
          "base_uri": "https://localhost:8080/"
        },
        "id": "xKgjpX5zHdwj",
        "outputId": "49ba9b94-8674-4087-96cb-9c7a18529e31"
      },
      "execution_count": 124,
      "outputs": [
        {
          "output_type": "stream",
          "name": "stdout",
          "text": [
            "torch.Size([10, 784])\n"
          ]
        },
        {
          "output_type": "execute_result",
          "data": {
            "text/plain": [
              "Parameter containing:\n",
              "tensor([[ 0.0015, -0.0229,  0.0172,  ...,  0.0331,  0.0028, -0.0039],\n",
              "        [ 0.0298, -0.0041, -0.0219,  ...,  0.0160, -0.0201,  0.0305],\n",
              "        [ 0.0239,  0.0312, -0.0188,  ...,  0.0307,  0.0139, -0.0055],\n",
              "        ...,\n",
              "        [ 0.0083,  0.0061,  0.0255,  ..., -0.0195,  0.0143, -0.0002],\n",
              "        [-0.0228,  0.0141, -0.0133,  ...,  0.0316,  0.0075,  0.0290],\n",
              "        [-0.0322, -0.0031, -0.0244,  ...,  0.0244,  0.0293,  0.0211]],\n",
              "       requires_grad=True)"
            ]
          },
          "metadata": {},
          "execution_count": 124
        }
      ]
    },
    {
      "cell_type": "code",
      "source": [
        "print(model.bias.shape)\n",
        "model.bias"
      ],
      "metadata": {
        "colab": {
          "base_uri": "https://localhost:8080/"
        },
        "id": "ghohW3aYHvv7",
        "outputId": "6c2784c5-9929-4209-ebdb-b1fbdbbf94cb"
      },
      "execution_count": 125,
      "outputs": [
        {
          "output_type": "stream",
          "name": "stdout",
          "text": [
            "torch.Size([10])\n"
          ]
        },
        {
          "output_type": "execute_result",
          "data": {
            "text/plain": [
              "Parameter containing:\n",
              "tensor([-0.0223, -0.0217,  0.0126, -0.0123,  0.0149,  0.0078,  0.0104,  0.0257,\n",
              "        -0.0236, -0.0119], requires_grad=True)"
            ]
          },
          "metadata": {},
          "execution_count": 125
        }
      ]
    },
    {
      "cell_type": "markdown",
      "source": [
        "Let's try and generate some outputs using our model. We'll take the first batch of $100$ images from our dataset and pass them into our model.\n",
        "\n",
        "+ `for` loop iterates through all batches\n",
        "+ `images` are inputs\n",
        "+ `labels` are outputs\n",
        "+ `break` ensures only the first batch is printed\n"
      ],
      "metadata": {
        "id": "ltIeDTghH0Rq"
      }
    },
    {
      "cell_type": "code",
      "source": [
        "#iterate through the 3 batches (batch size  = 128)\n",
        "\n",
        "for images, labels in train_loader:\n",
        "    print(labels)\n",
        "    print(images.shape)\n",
        "    outputs = model(images)\n",
        "    print(outputs)\n",
        "    break"
      ],
      "metadata": {
        "colab": {
          "base_uri": "https://localhost:8080/",
          "height": 514
        },
        "id": "ODCsLzv1Hz14",
        "outputId": "341fe4a4-72a7-4bfc-b216-797d3fe69d1b"
      },
      "execution_count": 126,
      "outputs": [
        {
          "output_type": "stream",
          "name": "stdout",
          "text": [
            "tensor([6, 2, 3, 3, 4, 5, 8, 5, 2, 6, 4, 5, 9, 2, 9, 2, 7, 9, 3, 2, 0, 1, 2, 3,\n",
            "        4, 4, 0, 7, 8, 6, 3, 1, 1, 5, 6, 9, 8, 2, 2, 3, 7, 4, 9, 8, 8, 4, 0, 1,\n",
            "        7, 4, 0, 8, 0, 9, 2, 5, 8, 4, 2, 1, 2, 9, 5, 6, 1, 5, 7, 3, 7, 2, 3, 9,\n",
            "        4, 8, 8, 9, 0, 0, 9, 5, 2, 9, 3, 6, 5, 9, 1, 6, 9, 4, 3, 8, 5, 6, 4, 9,\n",
            "        8, 1, 2, 1, 5, 6, 3, 0, 6, 4, 1, 3, 5, 3, 4, 5, 4, 0, 3, 2, 4, 5, 6, 0,\n",
            "        4, 5, 9, 9, 0, 1, 7, 1])\n",
            "torch.Size([128, 1, 28, 28])\n"
          ]
        },
        {
          "output_type": "error",
          "ename": "RuntimeError",
          "evalue": "ignored",
          "traceback": [
            "\u001b[0;31m---------------------------------------------------------------------------\u001b[0m",
            "\u001b[0;31mRuntimeError\u001b[0m                              Traceback (most recent call last)",
            "\u001b[0;32m<ipython-input-126-01262c826813>\u001b[0m in \u001b[0;36m<module>\u001b[0;34m\u001b[0m\n\u001b[1;32m      4\u001b[0m     \u001b[0mprint\u001b[0m\u001b[0;34m(\u001b[0m\u001b[0mlabels\u001b[0m\u001b[0;34m)\u001b[0m\u001b[0;34m\u001b[0m\u001b[0;34m\u001b[0m\u001b[0m\n\u001b[1;32m      5\u001b[0m     \u001b[0mprint\u001b[0m\u001b[0;34m(\u001b[0m\u001b[0mimages\u001b[0m\u001b[0;34m.\u001b[0m\u001b[0mshape\u001b[0m\u001b[0;34m)\u001b[0m\u001b[0;34m\u001b[0m\u001b[0;34m\u001b[0m\u001b[0m\n\u001b[0;32m----> 6\u001b[0;31m     \u001b[0moutputs\u001b[0m \u001b[0;34m=\u001b[0m \u001b[0mmodel\u001b[0m\u001b[0;34m(\u001b[0m\u001b[0mimages\u001b[0m\u001b[0;34m)\u001b[0m\u001b[0;34m\u001b[0m\u001b[0;34m\u001b[0m\u001b[0m\n\u001b[0m\u001b[1;32m      7\u001b[0m     \u001b[0mprint\u001b[0m\u001b[0;34m(\u001b[0m\u001b[0moutputs\u001b[0m\u001b[0;34m)\u001b[0m\u001b[0;34m\u001b[0m\u001b[0;34m\u001b[0m\u001b[0m\n\u001b[1;32m      8\u001b[0m     \u001b[0;32mbreak\u001b[0m\u001b[0;34m\u001b[0m\u001b[0;34m\u001b[0m\u001b[0m\n",
            "\u001b[0;32m/usr/local/lib/python3.8/dist-packages/torch/nn/modules/module.py\u001b[0m in \u001b[0;36m_call_impl\u001b[0;34m(self, *input, **kwargs)\u001b[0m\n\u001b[1;32m   1188\u001b[0m         if not (self._backward_hooks or self._forward_hooks or self._forward_pre_hooks or _global_backward_hooks\n\u001b[1;32m   1189\u001b[0m                 or _global_forward_hooks or _global_forward_pre_hooks):\n\u001b[0;32m-> 1190\u001b[0;31m             \u001b[0;32mreturn\u001b[0m \u001b[0mforward_call\u001b[0m\u001b[0;34m(\u001b[0m\u001b[0;34m*\u001b[0m\u001b[0minput\u001b[0m\u001b[0;34m,\u001b[0m \u001b[0;34m**\u001b[0m\u001b[0mkwargs\u001b[0m\u001b[0;34m)\u001b[0m\u001b[0;34m\u001b[0m\u001b[0;34m\u001b[0m\u001b[0m\n\u001b[0m\u001b[1;32m   1191\u001b[0m         \u001b[0;31m# Do not call functions when jit is used\u001b[0m\u001b[0;34m\u001b[0m\u001b[0;34m\u001b[0m\u001b[0;34m\u001b[0m\u001b[0m\n\u001b[1;32m   1192\u001b[0m         \u001b[0mfull_backward_hooks\u001b[0m\u001b[0;34m,\u001b[0m \u001b[0mnon_full_backward_hooks\u001b[0m \u001b[0;34m=\u001b[0m \u001b[0;34m[\u001b[0m\u001b[0;34m]\u001b[0m\u001b[0;34m,\u001b[0m \u001b[0;34m[\u001b[0m\u001b[0;34m]\u001b[0m\u001b[0;34m\u001b[0m\u001b[0;34m\u001b[0m\u001b[0m\n",
            "\u001b[0;32m/usr/local/lib/python3.8/dist-packages/torch/nn/modules/linear.py\u001b[0m in \u001b[0;36mforward\u001b[0;34m(self, input)\u001b[0m\n\u001b[1;32m    112\u001b[0m \u001b[0;34m\u001b[0m\u001b[0m\n\u001b[1;32m    113\u001b[0m     \u001b[0;32mdef\u001b[0m \u001b[0mforward\u001b[0m\u001b[0;34m(\u001b[0m\u001b[0mself\u001b[0m\u001b[0;34m,\u001b[0m \u001b[0minput\u001b[0m\u001b[0;34m:\u001b[0m \u001b[0mTensor\u001b[0m\u001b[0;34m)\u001b[0m \u001b[0;34m->\u001b[0m \u001b[0mTensor\u001b[0m\u001b[0;34m:\u001b[0m\u001b[0;34m\u001b[0m\u001b[0;34m\u001b[0m\u001b[0m\n\u001b[0;32m--> 114\u001b[0;31m         \u001b[0;32mreturn\u001b[0m \u001b[0mF\u001b[0m\u001b[0;34m.\u001b[0m\u001b[0mlinear\u001b[0m\u001b[0;34m(\u001b[0m\u001b[0minput\u001b[0m\u001b[0;34m,\u001b[0m \u001b[0mself\u001b[0m\u001b[0;34m.\u001b[0m\u001b[0mweight\u001b[0m\u001b[0;34m,\u001b[0m \u001b[0mself\u001b[0m\u001b[0;34m.\u001b[0m\u001b[0mbias\u001b[0m\u001b[0;34m)\u001b[0m\u001b[0;34m\u001b[0m\u001b[0;34m\u001b[0m\u001b[0m\n\u001b[0m\u001b[1;32m    115\u001b[0m \u001b[0;34m\u001b[0m\u001b[0m\n\u001b[1;32m    116\u001b[0m     \u001b[0;32mdef\u001b[0m \u001b[0mextra_repr\u001b[0m\u001b[0;34m(\u001b[0m\u001b[0mself\u001b[0m\u001b[0;34m)\u001b[0m \u001b[0;34m->\u001b[0m \u001b[0mstr\u001b[0m\u001b[0;34m:\u001b[0m\u001b[0;34m\u001b[0m\u001b[0;34m\u001b[0m\u001b[0m\n",
            "\u001b[0;31mRuntimeError\u001b[0m: mat1 and mat2 shapes cannot be multiplied (3584x28 and 784x10)"
          ]
        }
      ]
    },
    {
      "cell_type": "markdown",
      "source": [
        "The error is due to the **incorrect shape** used: `torch.Size([128, 1, 28, 28])`, where $128$ is the batch size, $1$ indicates only one color label used, $28$, $28$ represent hight and width of a **two dimensional matrix** of an image. \n",
        "\n",
        "\\\\\n",
        "\n",
        "It indicates that we are dealing with a three-dimensional image tensor `[1, 28, 28]`, rather than a **single-dimensional** vector of size $784$. As mentioned earlier, we have to **flatten the multi-dimensional tensors into single-dimensional vectors**. \n",
        "\n",
        "\n",
        "+ We'll use the `.reshape` method of a tensor, \n",
        "+ which will allow us to efficiently 'view' each image as a flat vector without really creating a copy of the underlying data.\n",
        "\n",
        "see the reshape example below\n",
        "+ $128$ represents the batch size\n",
        "+ $784$ represents the vector size "
      ],
      "metadata": {
        "id": "wSpUB_sHMtkx"
      }
    },
    {
      "cell_type": "code",
      "source": [
        "images.shape"
      ],
      "metadata": {
        "colab": {
          "base_uri": "https://localhost:8080/"
        },
        "id": "kfo2uW5EPOwI",
        "outputId": "a1a80276-8228-4a47-e48a-6cca8ff24a83"
      },
      "execution_count": 127,
      "outputs": [
        {
          "output_type": "execute_result",
          "data": {
            "text/plain": [
              "torch.Size([128, 1, 28, 28])"
            ]
          },
          "metadata": {},
          "execution_count": 127
        }
      ]
    },
    {
      "cell_type": "code",
      "source": [
        "images.reshape(128,784).shape"
      ],
      "metadata": {
        "colab": {
          "base_uri": "https://localhost:8080/"
        },
        "id": "i9Zf9jHBPRG6",
        "outputId": "de143132-d6fc-4ffc-b66b-87d65288e4ef"
      },
      "execution_count": 128,
      "outputs": [
        {
          "output_type": "execute_result",
          "data": {
            "text/plain": [
              "torch.Size([128, 784])"
            ]
          },
          "metadata": {},
          "execution_count": 128
        }
      ]
    },
    {
      "cell_type": "markdown",
      "source": [
        "While, `reshape` is not included in the `PyTorch` logistic regression model originally\n",
        "\n",
        "To include this additional functionality within our model, we need to define a custom model by extending the `nn.Module` class from `PyTorch`\n",
        "\n",
        "A class in Python provides a \"blueprint\" for creating objects, which once instantiated can access the attributes and methods defined in the class."
      ],
      "metadata": {
        "id": "SChG2UINPuyE"
      }
    },
    {
      "cell_type": "markdown",
      "source": [
        "### **Extend  the `nn.Module` class via Inheritance**\n",
        "\n",
        "Recall: given the batch size (128) and training dataset (50000), `Dataloader` class can split the training data into batches, i.e., a `train_loader` object that contains both input and output batches. However, input batch is a three-dimensiional tensor which is not compatible with the `nn.linear` class. Therefore, our current goal is to convert the high-dimensional tensor into a **one-dimensional** vector so that it can be successfully used in the `nn.linear` `PyTorch` model to train the weights and biases.\n",
        "\n",
        "\\\\\n",
        "\n",
        "*Classes* can also build upon or _extend_ the functionality of existing classes. Let's extend the `nn.Module` class from PyTorch to define a custom model.\n",
        "\n",
        "\\\\\n",
        "\n",
        "**Our goal is to reshape/flatten a multi-dimensional tensor ([128, 1, 28, 28]) into a one-dimensional vector with the shape [1, size]**.\n",
        "\n",
        "\\\\\n",
        "\n",
        "+ `nn.Module` is the base class for all neural network modules. Your models should also subclass this class.\n",
        "\n",
        "\n",
        "+ you must initialize the exisiting/old `super().__init()__()` in the parent class. Otherwise, your modified/new version of the `__init()__` method is half-initialized and everything will break!\n",
        "\n",
        "+ `nn.Linear` is a `PyTorch` class that takes the **batch size (number of training examples or features)** and the **size of the flattened one-dimensional vector** as inputs. Then it outputs weights and biases (check through `.parameters`) via constructor `self.linear` (**Note that `nn.Linear` requires ONLY sizes of tensors. There is no need for the actual elements of the tensors!** It trains the weights and biases with a correct shape of matrix defined.)\n",
        "\n",
        "+ the `forward` method takes the **original multi-dimensional tensor** as an input, and then, reshape it into a **Two-dimensional tensor [batch size, 1d vector size]** \n",
        "+ when you pass a actual two-dimension tensor to `nn.linear` model, it will take the size inofrmation of the tensor only\n",
        "\n",
        "+ `xb.reshape(-1, 28*28(784))` indicates to `PyTorch` that we want the `xb` tensor to be a two-dimensional tensor. You only need the length along the 2nd dimension ($784$), and $-1$ lets `PyTorch` **automatically** compute the second dimension for you \n",
        "\n",
        "+ `out` contains weights and biases\n",
        "+ `model = MnistModel()` creates an object named \"model\", and here it has NOT been successfully instantiated until we pass data to it, e.g., `model(images)` \n",
        "\n",
        "\n",
        "\n"
      ],
      "metadata": {
        "id": "2oP9gHPbRHYu"
      }
    },
    {
      "cell_type": "code",
      "source": [
        "class MnistModel(nn.Module):\n",
        "    def __init__(self):\n",
        "        super().__init__()\n",
        "        self.linear = nn.Linear(input_size, num_classes)\n",
        "        \n",
        "    def forward(self, xb):\n",
        "        print('xb size: ',xb.shape)\n",
        "        xb = xb.reshape(-1, 784)\n",
        "        out = self.linear(xb)\n",
        "        return out\n",
        "    \n",
        "model = MnistModel()"
      ],
      "metadata": {
        "id": "szqwK0yp-Qvp"
      },
      "execution_count": 129,
      "outputs": []
    },
    {
      "cell_type": "code",
      "source": [
        "model.linear # note model function here is the older version! not the new model defined above"
      ],
      "metadata": {
        "colab": {
          "base_uri": "https://localhost:8080/"
        },
        "id": "tLx58EOgOlnn",
        "outputId": "64f64c5a-563c-4b1c-b8d9-4b646c14a3d3"
      },
      "execution_count": 130,
      "outputs": [
        {
          "output_type": "execute_result",
          "data": {
            "text/plain": [
              "Linear(in_features=784, out_features=10, bias=True)"
            ]
          },
          "metadata": {},
          "execution_count": 130
        }
      ]
    },
    {
      "cell_type": "code",
      "source": [
        "print(model.linear.weight.shape, model.linear.bias.shape)\n",
        "list(model.parameters())"
      ],
      "metadata": {
        "colab": {
          "base_uri": "https://localhost:8080/"
        },
        "id": "TvOgFXeXSZS6",
        "outputId": "34f39a00-fcaf-43e8-b3cc-7c517ead12d8"
      },
      "execution_count": 131,
      "outputs": [
        {
          "output_type": "stream",
          "name": "stdout",
          "text": [
            "torch.Size([10, 784]) torch.Size([10])\n"
          ]
        },
        {
          "output_type": "execute_result",
          "data": {
            "text/plain": [
              "[Parameter containing:\n",
              " tensor([[ 0.0270,  0.0162, -0.0353,  ...,  0.0260,  0.0109, -0.0119],\n",
              "         [ 0.0254,  0.0018,  0.0098,  ..., -0.0350,  0.0079, -0.0213],\n",
              "         [-0.0297, -0.0193, -0.0278,  ..., -0.0324,  0.0086,  0.0294],\n",
              "         ...,\n",
              "         [-0.0223, -0.0051, -0.0240,  ..., -0.0335, -0.0072,  0.0290],\n",
              "         [-0.0097,  0.0229,  0.0283,  ...,  0.0293, -0.0004, -0.0072],\n",
              "         [-0.0060,  0.0340, -0.0208,  ..., -0.0304, -0.0351, -0.0036]],\n",
              "        requires_grad=True), Parameter containing:\n",
              " tensor([ 0.0038,  0.0350, -0.0159,  0.0199,  0.0300,  0.0170, -0.0290,  0.0290,\n",
              "          0.0079,  0.0138], requires_grad=True)]"
            ]
          },
          "metadata": {},
          "execution_count": 131
        }
      ]
    },
    {
      "cell_type": "markdown",
      "source": [
        "now we pass images (multi-dimensional tensor) to the \"model\" object to test if it gives us correct outputs without errors:\n",
        "\n",
        "In summary, we need to go through the following procedures for training:\n",
        "\n",
        "+ recall there are only `0,..,9` labels for all images\n",
        "+ every output (one image) contains $10$ probabilities to indicate how how much probability that the images represent label $0$,...,$9$\n",
        "+ `outputs[:2]` first two outputs will be printed\n",
        "+ `images` tensor contains pixels with digits from $0$ to $1$ for each tensor element\n",
        "+ then with reshaped `images` (1d vector), `model(images)` (`nn.linear`) will give you the `outputs` with probabilities and corresponding labels of each image\n",
        "+ due to unrealistic negative probabilities that appear in our outputs, we need to use the `softmax` (`torch.nn.functional.softmax`) function to make probabilities realistic: from $0$ to $1$\n",
        "+ finally we pick the element for each row with the highest probability as the output (of course we need to train the weights and biases through gradient descent)\n"
      ],
      "metadata": {
        "id": "uwiw2BTQTNrM"
      }
    },
    {
      "cell_type": "code",
      "source": [
        "for images, labels in train_loader:\n",
        "    print(images.shape)\n",
        "    outputs = model(images)\n",
        "    break\n",
        "print('images.shape :', images.shape)\n",
        "print('labels.shape :', labels.shape)\n",
        "print('outputs.shape : ', outputs.shape)\n",
        "print('Sample outputs :\\n', outputs[:2].data)"
      ],
      "metadata": {
        "colab": {
          "base_uri": "https://localhost:8080/"
        },
        "id": "ScOkj0QjTOAv",
        "outputId": "c4377633-5796-4989-b9eb-c30774c678d5"
      },
      "execution_count": 132,
      "outputs": [
        {
          "output_type": "stream",
          "name": "stdout",
          "text": [
            "torch.Size([128, 1, 28, 28])\n",
            "xb size:  torch.Size([128, 1, 28, 28])\n",
            "images.shape : torch.Size([128, 1, 28, 28])\n",
            "labels.shape : torch.Size([128])\n",
            "outputs.shape :  torch.Size([128, 10])\n",
            "Sample outputs :\n",
            " tensor([[ 0.1705, -0.1204,  0.0798, -0.0309,  0.0726, -0.1996,  0.0277, -0.1469,\n",
            "          0.0771, -0.1524],\n",
            "        [ 0.1601,  0.3046,  0.0692, -0.3017,  0.0753, -0.0659, -0.2760, -0.0020,\n",
            "          0.1149,  0.1280]])\n"
          ]
        }
      ]
    },
    {
      "cell_type": "markdown",
      "source": [
        "However, it is clear that we got some negative probabilities which are not physically realistic. In addition, we have to ensure that the sum of all $10$ probabilities is equal to $1$ for every image."
      ],
      "metadata": {
        "id": "I0AU1FPyCCHh"
      }
    },
    {
      "cell_type": "markdown",
      "source": [
        "\n",
        "To convert the output rows into true probabilities, \n",
        "\n",
        "+ positive ($e^{y_{i}}$)\n",
        "+ added up to $1$ ($\\frac{e^{y_i}}{Σe^{y_j}}$)\n",
        "\n",
        "we use the softmax function, which has the following formula:\n",
        "\n",
        "![softmax](https://i.imgur.com/EAh9jLN.png)\n",
        "\n",
        "\n",
        "![](https://www.montereyinstitute.org/courses/DevelopmentalMath/COURSE_TEXT2_RESOURCE/U18_L1_T1_text_final_6_files/image001.png)\n",
        "\n",
        "1. First, we replace each element `yi` in an output row by `e^yi`, making all the elements positive. \n",
        "\n",
        "\n",
        "2. Then we divide them by their sum to ensure that they add up to 1. The resulting vector can thus be interpreted as probabilities.\n",
        "\n",
        "we'll use the implementation that's provided within `PyTorch` because it works well with multidimensional tensors (a list of $128$ output rows in our case).\n",
        "\n",
        "See manually implement the softmax function below:"
      ],
      "metadata": {
        "id": "B2vDvQLpZrtV"
      }
    },
    {
      "cell_type": "code",
      "source": [
        "\n",
        "#https://treyhunner.com/2016/04/how-to-loop-with-indexes-in-python/\n",
        "num = torch.exp(outputs)\n",
        "den = torch.sum(num,1)\n",
        "\n"
      ],
      "metadata": {
        "id": "tiIFggG3EuUC"
      },
      "execution_count": 133,
      "outputs": []
    },
    {
      "cell_type": "markdown",
      "source": [
        "The softmax function is included in the `torch.nn.functional` module and requires us to specify a dimension along which the function should be applied."
      ],
      "metadata": {
        "id": "-22-OWNeJljJ"
      }
    },
    {
      "cell_type": "code",
      "source": [
        "import torch.nn.functional as F"
      ],
      "metadata": {
        "id": "lDzb8-TJJmjz"
      },
      "execution_count": 134,
      "outputs": []
    },
    {
      "cell_type": "code",
      "source": [
        "outputs[:2]"
      ],
      "metadata": {
        "id": "VaVCd9NWZtzG",
        "colab": {
          "base_uri": "https://localhost:8080/"
        },
        "outputId": "5050b86f-867a-4ba7-a6a4-2f138fe8f3b4"
      },
      "execution_count": 135,
      "outputs": [
        {
          "output_type": "execute_result",
          "data": {
            "text/plain": [
              "tensor([[ 0.1705, -0.1204,  0.0798, -0.0309,  0.0726, -0.1996,  0.0277, -0.1469,\n",
              "          0.0771, -0.1524],\n",
              "        [ 0.1601,  0.3046,  0.0692, -0.3017,  0.0753, -0.0659, -0.2760, -0.0020,\n",
              "          0.1149,  0.1280]], grad_fn=<SliceBackward0>)"
            ]
          },
          "metadata": {},
          "execution_count": 135
        }
      ]
    },
    {
      "cell_type": "markdown",
      "source": [
        "to use `softmax` we need to specify the dimension `dim` the softmax is going to be applied. \n",
        "\n",
        "+ We know the dimension of `output` is $[128, 10]$. \n",
        "+ the corresponding indices of rows and columns are `[0,1]`\n",
        "+ `softmax` needs to be applied to the columns only, therefore `dim = 1`. Keep in mind that `softmax` will deal with all data no matter which dimension you give. But does matter which dimension you give to generate correct results. For example, it does not make sense to add columns ($128$ training examples) up to give a probability of $1$ \n",
        "+ `item()` method is to convert a **one element** (must be a one  element!) tensor (e.g., 1 x 10) to scalars\n"
      ],
      "metadata": {
        "id": "myrQ5-DNKipT"
      }
    },
    {
      "cell_type": "code",
      "source": [
        "# Apply softmax for each output row\n",
        "probs = F.softmax(outputs, dim=1)\n",
        "\n",
        "# Look at sample probabilities (first two rows)\n",
        "print(\"Sample probabilities:\\n\", probs[:2].data)\n",
        "\n",
        "# Add up the probabilities of an output row\n",
        "print(\"Sum: \", torch.sum(probs[127]).item())"
      ],
      "metadata": {
        "colab": {
          "base_uri": "https://localhost:8080/"
        },
        "id": "3D4vh-i1JYz7",
        "outputId": "ece73f5b-c51a-462a-fcae-f5e0ee4e72a8"
      },
      "execution_count": 136,
      "outputs": [
        {
          "output_type": "stream",
          "name": "stdout",
          "text": [
            "Sample probabilities:\n",
            " tensor([[0.1204, 0.0900, 0.1100, 0.0984, 0.1092, 0.0832, 0.1044, 0.0877, 0.1097,\n",
            "         0.0872],\n",
            "        [0.1132, 0.1308, 0.1033, 0.0713, 0.1040, 0.0903, 0.0732, 0.0962, 0.1082,\n",
            "         0.1096]])\n",
            "Sum:  0.9999999403953552\n"
          ]
        }
      ]
    },
    {
      "cell_type": "markdown",
      "source": [
        "Now our **goal** is to pick the index of the output rows with the highest probability for each image as the predicted labels. We can do this using `torch.max`, which returns each row's **largest element** and the **corresponding probability**.\n",
        "\n",
        "+ the predicted labels (`preds_labels`) for the **first batch (128)** of training images. Let's compare them with the actual lables.\n",
        "\n",
        "+ Most of the **predicted labels** are different from the **actual labels**. That's because we have started with randomly initialized weights and biases. \n",
        "\n",
        "+ We need to train the model, i.e., adjust the weights using gradient descent to make better predictions."
      ],
      "metadata": {
        "id": "d1_SHag2MGVH"
      }
    },
    {
      "cell_type": "code",
      "source": [
        "max_probs, preds_labels = torch.max(probs, dim=1)\n",
        "print(preds_labels)\n",
        "print(max_probs)\n",
        "print('Max_probs size: ',max_probs.shape, 'and preds size: ', preds_labels.shape)"
      ],
      "metadata": {
        "colab": {
          "base_uri": "https://localhost:8080/"
        },
        "id": "kJJEUZAgMQFA",
        "outputId": "04d61186-15ba-43c8-96c6-99c99b483a8b"
      },
      "execution_count": 137,
      "outputs": [
        {
          "output_type": "stream",
          "name": "stdout",
          "text": [
            "tensor([0, 1, 5, 7, 2, 5, 1, 8, 1, 5, 9, 1, 5, 1, 1, 8, 8, 5, 5, 7, 3, 1, 5, 1,\n",
            "        7, 2, 0, 7, 1, 7, 0, 9, 5, 5, 7, 5, 1, 8, 8, 5, 7, 5, 5, 5, 1, 2, 8, 7,\n",
            "        5, 5, 9, 2, 3, 1, 0, 7, 7, 6, 2, 7, 8, 5, 7, 1, 7, 7, 8, 7, 1, 7, 7, 7,\n",
            "        2, 7, 9, 8, 5, 7, 7, 1, 9, 7, 7, 5, 5, 7, 5, 5, 7, 5, 4, 5, 7, 2, 5, 1,\n",
            "        1, 5, 8, 5, 8, 5, 7, 7, 5, 0, 8, 8, 1, 3, 3, 7, 1, 2, 7, 7, 2, 4, 5, 8,\n",
            "        5, 1, 1, 5, 7, 5, 1, 0])\n",
            "tensor([0.1204, 0.1308, 0.1250, 0.1330, 0.1180, 0.1169, 0.1414, 0.1175, 0.1343,\n",
            "        0.1215, 0.1260, 0.1530, 0.1274, 0.1338, 0.1349, 0.1238, 0.1292, 0.1225,\n",
            "        0.1220, 0.1440, 0.1421, 0.1534, 0.1252, 0.1171, 0.1367, 0.1326, 0.1307,\n",
            "        0.1328, 0.1253, 0.1197, 0.1233, 0.1174, 0.1344, 0.1627, 0.1314, 0.1403,\n",
            "        0.1498, 0.1393, 0.1173, 0.1197, 0.1326, 0.1243, 0.1383, 0.1373, 0.1597,\n",
            "        0.1612, 0.1286, 0.1280, 0.1211, 0.1279, 0.1302, 0.1399, 0.1196, 0.1417,\n",
            "        0.1207, 0.1346, 0.1282, 0.1166, 0.1386, 0.1167, 0.1237, 0.1253, 0.1212,\n",
            "        0.1438, 0.1271, 0.1254, 0.1131, 0.1304, 0.1424, 0.1244, 0.1173, 0.1265,\n",
            "        0.1276, 0.1149, 0.1178, 0.1243, 0.1251, 0.1445, 0.1243, 0.1203, 0.1295,\n",
            "        0.1238, 0.1327, 0.1345, 0.1180, 0.1322, 0.1431, 0.1220, 0.1398, 0.1300,\n",
            "        0.1233, 0.1351, 0.1216, 0.1404, 0.1336, 0.1207, 0.1240, 0.1222, 0.1169,\n",
            "        0.1282, 0.1245, 0.1185, 0.1326, 0.1214, 0.1381, 0.1207, 0.1167, 0.1209,\n",
            "        0.1151, 0.1273, 0.1280, 0.1338, 0.1400, 0.1254, 0.1386, 0.1302, 0.1341,\n",
            "        0.1111, 0.1228, 0.1241, 0.1424, 0.1386, 0.1234, 0.1324, 0.1329, 0.1240,\n",
            "        0.1186, 0.1267], grad_fn=<MaxBackward0>)\n",
            "Max_probs size:  torch.Size([128]) and preds size:  torch.Size([128])\n"
          ]
        }
      ]
    },
    {
      "cell_type": "code",
      "source": [
        "labels"
      ],
      "metadata": {
        "colab": {
          "base_uri": "https://localhost:8080/"
        },
        "id": "T23LYQTnMtjl",
        "outputId": "7ae86bcd-2198-4c6e-a552-fb3eb33a1da6"
      },
      "execution_count": 138,
      "outputs": [
        {
          "output_type": "execute_result",
          "data": {
            "text/plain": [
              "tensor([5, 0, 8, 7, 3, 7, 0, 3, 0, 4, 7, 6, 9, 2, 5, 2, 5, 6, 6, 8, 5, 6, 9, 5,\n",
              "        7, 5, 0, 3, 2, 5, 0, 9, 8, 7, 8, 4, 6, 8, 4, 7, 8, 8, 2, 7, 0, 5, 3, 1,\n",
              "        2, 6, 4, 0, 5, 3, 3, 1, 3, 0, 2, 1, 9, 9, 2, 2, 6, 8, 9, 7, 6, 1, 1, 8,\n",
              "        5, 6, 9, 7, 9, 5, 7, 9, 7, 0, 1, 7, 9, 1, 7, 6, 1, 7, 0, 7, 6, 3, 9, 0,\n",
              "        8, 9, 9, 4, 2, 6, 2, 9, 2, 0, 3, 9, 7, 9, 5, 1, 2, 3, 1, 1, 0, 5, 8, 3,\n",
              "        8, 0, 6, 7, 3, 7, 1, 4])"
            ]
          },
          "metadata": {},
          "execution_count": 138
        }
      ]
    },
    {
      "cell_type": "markdown",
      "source": [
        "## **Evaluation Metric and Loss Function**"
      ],
      "metadata": {
        "id": "Pzh-fOVGM0NA"
      }
    },
    {
      "cell_type": "markdown",
      "source": [
        "Just as with linear regression, we need a way to evaluate how well our model is performing. A natural way to do this would be to find the percentage of labels that were predicted correctly, i.e,. the **accuracy** of the predictions. \n",
        "\n",
        "+ number of correctly predicted labels/batch size (128)\n",
        "+ we just introduced `torch.max(outputs, dim=1)` that uses the `outputs` (contains both probabilities and corresponding labels/indices) to pick the maximum probability values. Note that we used `torch.max(probs, dim=1)` where `probs` has been well converted to realistic probabilities through `sofmax()` function e.g, from $0$ to $1$, as an example. Note that we don't need to apply `softmax()` to the outputs here since its results have the same relative order. This is because `e^x` is an increasing function, i.e., if `y1 > y2`, then `e^y1 > e^y2`. The same holds after averaging out the values to get the softmax.\n",
        "\n",
        "+ boolean type (`==` operator): $0$ for false and $1$ for true. Therefore, `torch.sum(preds_labels == labels).item()` will yield the number of correct predictions\n",
        "+ `_,pred_labels` means we are only interested in labels NOT probabilities, `len(preds_labels)` is the batch size\n",
        "+ note that `torch.max()` function is not continous, and hence, cannot be used a **cost function** "
      ],
      "metadata": {
        "id": "-gt8_jDr2ac7"
      }
    },
    {
      "cell_type": "code",
      "source": [
        "#outputs contains: 1) labels/indices 2) probabilities\n",
        "torch.max(outputs,dim=1)"
      ],
      "metadata": {
        "colab": {
          "base_uri": "https://localhost:8080/"
        },
        "id": "a8tEUGVJIxTc",
        "outputId": "5f684d78-fc53-45d3-b596-0126d9e8b387"
      },
      "execution_count": 139,
      "outputs": [
        {
          "output_type": "execute_result",
          "data": {
            "text/plain": [
              "torch.return_types.max(\n",
              "values=tensor([0.1705, 0.3046, 0.2063, 0.2635, 0.1945, 0.2770, 0.3813, 0.2288, 0.3355,\n",
              "        0.2246, 0.2319, 0.4463, 0.2242, 0.1315, 0.3111, 0.2392, 0.3639, 0.1721,\n",
              "        0.2253, 0.5294, 0.3459, 0.3613, 0.1934, 0.2252, 0.3551, 0.3827, 0.1769,\n",
              "        0.3829, 0.2677, 0.2594, 0.1858, 0.1806, 0.2630, 0.6202, 0.3285, 0.3493,\n",
              "        0.4597, 0.3975, 0.1319, 0.1543, 0.3262, 0.2308, 0.4050, 0.3632, 0.4823,\n",
              "        0.5336, 0.3673, 0.3535, 0.0926, 0.2666, 0.2355, 0.3827, 0.1857, 0.3955,\n",
              "        0.3411, 0.4442, 0.2046, 0.0565, 0.4166, 0.1952, 0.3070, 0.2167, 0.1285,\n",
              "        0.5440, 0.1999, 0.1713, 0.1424, 0.2562, 0.3719, 0.3151, 0.2350, 0.2401,\n",
              "        0.2806, 0.1972, 0.1501, 0.2068, 0.2670, 0.5112, 0.2648, 0.1322, 0.2438,\n",
              "        0.1247, 0.3573, 0.3137, 0.1625, 0.3598, 0.3382, 0.1068, 0.4605, 0.3170,\n",
              "        0.2750, 0.3468, 0.2337, 0.3661, 0.3120, 0.1322, 0.1558, 0.2245, 0.1919,\n",
              "        0.2316, 0.2995, 0.1738, 0.3955, 0.1619, 0.3769, 0.1124, 0.1532, 0.1865,\n",
              "        0.1861, 0.2171, 0.1706, 0.4099, 0.2952, 0.3494, 0.4548, 0.4037, 0.3196,\n",
              "        0.1067, 0.2168, 0.2717, 0.4312, 0.3677, 0.2659, 0.2822, 0.3846, 0.2375,\n",
              "        0.1554, 0.1859], grad_fn=<MaxBackward0>),\n",
              "indices=tensor([0, 1, 5, 7, 2, 5, 1, 8, 1, 5, 9, 1, 5, 1, 1, 8, 8, 5, 5, 7, 3, 1, 5, 1,\n",
              "        7, 2, 0, 7, 1, 7, 0, 9, 5, 5, 7, 5, 1, 8, 8, 5, 7, 5, 5, 5, 1, 2, 8, 7,\n",
              "        5, 5, 9, 2, 3, 1, 0, 7, 7, 6, 2, 7, 8, 5, 7, 1, 7, 7, 8, 7, 1, 7, 7, 7,\n",
              "        2, 7, 9, 8, 5, 7, 7, 1, 9, 7, 7, 5, 5, 7, 5, 5, 7, 5, 4, 5, 7, 2, 5, 1,\n",
              "        1, 5, 8, 5, 8, 5, 7, 7, 5, 0, 8, 8, 1, 3, 3, 7, 1, 2, 7, 7, 2, 4, 5, 8,\n",
              "        5, 1, 1, 5, 7, 5, 1, 0]))"
            ]
          },
          "metadata": {},
          "execution_count": 139
        }
      ]
    },
    {
      "cell_type": "code",
      "source": [
        "#check how many correct predictions out of the batch size (128)\n",
        "torch.sum(preds_labels == labels)"
      ],
      "metadata": {
        "colab": {
          "base_uri": "https://localhost:8080/"
        },
        "id": "p5RwULYkTd_S",
        "outputId": "5af341dc-f4cb-43ba-d298-f30a0404b102"
      },
      "execution_count": 140,
      "outputs": [
        {
          "output_type": "execute_result",
          "data": {
            "text/plain": [
              "tensor(12)"
            ]
          },
          "metadata": {},
          "execution_count": 140
        }
      ]
    },
    {
      "cell_type": "code",
      "source": [
        "def accuracy(outputs, labels):\n",
        "    _, preds_labels = torch.max(outputs, dim=1)\n",
        "    return torch.tensor(torch.sum(preds_labels == labels).item() / len(preds_labels))"
      ],
      "metadata": {
        "id": "PVgsBLK2HDn_"
      },
      "execution_count": 141,
      "outputs": []
    },
    {
      "cell_type": "markdown",
      "source": [
        "Accuracy is an excellent way for us (humans) to evaluate the model. However, we can't use it as a loss function for optimizing our model using gradient descent for the following reasons:\n",
        "\n",
        "1. It's not a **differentiable function**. `torch.max` and `==` are both **non-continuous and non-differentiable operations**, so we can't use the accuracy for computing gradients w.r.t the weights and biases.\n",
        "\n",
        "2. It doesn't take into account the actual probabilities predicted by the model, so it can't provide sufficient feedback for incremental improvements. \n",
        "\n",
        "For these reasons, accuracy is often used as an **evaluation metric** for classification, but not as a loss function. A commonly used loss function for classification problems is the **cross-entropy**, which has the following formula:\n",
        "\n",
        "![cross-entropy](https://i.imgur.com/VDRDl1D.png)\n",
        "\n",
        "While it looks complicated, it's actually quite simple:\n",
        "\n",
        "* For **each output row**, pick the predicted probability for the correct label. E.g., if the predicted probabilities for an image are `[0.1, 0.3, 0.2, ...]` and the correct label is `1`, we pick the corresponding element `0.3` and ignore the rest. \n",
        "\n",
        "* Then, take the [logarithm](https://en.wikipedia.org/wiki/Logarithm) of the picked probability. If the probability is high, i.e., close to 1, then its logarithm is a very **small negative value**, close to 0. And if the probability is low (close to 0), then the logarithm is a **very large negative value**. We also multiply the result by $-1$, which results is a **large postive value of the loss for poor predictions**.\n",
        "\n",
        "![](https://www.intmath.com/blog/wp-content/images/2019/05/log10.png)\n",
        "\n",
        "* Finally, take the average of the cross entropy across all the output rows (every row has one value after cross entropy) to get the **overall loss** for a batch of data.\n",
        "\n",
        "Unlike accuracy, **cross-entropy is a continuous and differentiable function**. It also provides useful feedback for incremental improvements in the model (a slightly higher probability for the correct label leads to a lower loss). These two factors make cross-entropy a better choice for **the loss function**.\n"
      ],
      "metadata": {
        "id": "wcR-PhGsUE97"
      }
    },
    {
      "cell_type": "markdown",
      "source": [
        "Let's calculate the accuracy of the current model on the first batch of data."
      ],
      "metadata": {
        "id": "W4G32xe7dGs7"
      }
    },
    {
      "cell_type": "code",
      "source": [
        "accuracy(outputs, labels)"
      ],
      "metadata": {
        "colab": {
          "base_uri": "https://localhost:8080/"
        },
        "id": "u52uo3S3T5Is",
        "outputId": "bc249156-53c5-48f5-9ef1-868ee923b56a"
      },
      "execution_count": 142,
      "outputs": [
        {
          "output_type": "execute_result",
          "data": {
            "text/plain": [
              "tensor(0.0938)"
            ]
          },
          "metadata": {},
          "execution_count": 142
        }
      ]
    },
    {
      "cell_type": "markdown",
      "source": [
        "\n",
        "As you might expect, `PyTorch` provides an efficient and tensor-friendly implementation of cross-entropy as part of the `torch.nn.functional` package. Moreover, it also performs `softmax` internally, so we can directly pass in the model's outputs without converting them into realistic probabilities.\n",
        "\n",
        "\\\\\n",
        "\n",
        "We know that **cross-entropy** is the negative logarithm of the predicted probability of the correct label averaged over all training samples. Therefore, one way to interpret the resulting number e.g. `2.23` is to look at `e^-2.23` which is around `0.1` as the predicted probability of the correct label, on average. **The lower the loss, The better the model.**"
      ],
      "metadata": {
        "id": "7qvjLeMDdUkp"
      }
    },
    {
      "cell_type": "code",
      "source": [
        "loss_fn = F.cross_entropy"
      ],
      "metadata": {
        "id": "rGI7yGAedMxt"
      },
      "execution_count": 143,
      "outputs": []
    },
    {
      "cell_type": "markdown",
      "source": [
        "note that loss is a scalar value, not a tensor. The lower the loss, The better the model."
      ],
      "metadata": {
        "id": "8HqhXjzofgNW"
      }
    },
    {
      "cell_type": "code",
      "source": [
        "# Loss for current batch of data\n",
        "loss = loss_fn(outputs, labels)\n",
        "print(loss)"
      ],
      "metadata": {
        "colab": {
          "base_uri": "https://localhost:8080/"
        },
        "id": "_RjxJL_pdY6z",
        "outputId": "71073908-e2a5-4ce4-aacb-520c6c9d7206"
      },
      "execution_count": 144,
      "outputs": [
        {
          "output_type": "stream",
          "name": "stdout",
          "text": [
            "tensor(2.3048, grad_fn=<NllLossBackward0>)\n"
          ]
        }
      ]
    },
    {
      "cell_type": "markdown",
      "source": [
        "## **Training the model**\n",
        "\n",
        "Now that we have defined the **data loaders, model, loss function and optimizer**, we are ready to train the model. The training process is identical to linear regression, with the addition of a \"validation phase\" to evaluate the model in each epoch. Here's what it looks like in pseudocode:\n",
        "\n",
        "```\n",
        "for epoch in range(num_epochs):\n",
        "    # Training phase\n",
        "    for batch in train_loader:\n",
        "        # Generate predictions\n",
        "        # Calculate loss\n",
        "        # Compute gradients\n",
        "        # Update weights\n",
        "        # Reset gradients\n",
        "    \n",
        "    # Validation phase\n",
        "    for batch in val_loader:\n",
        "        # Generate predictions\n",
        "        # Calculate loss\n",
        "        # Calculate metrics (accuracy etc.)\n",
        "    # Calculate average validation loss & metrics\n",
        "    \n",
        "    # Log epoch, loss & metrics for inspection\n",
        "```\n",
        "\n",
        "Some parts of the training loop are **specific** to the problem we're solving (e.g. loss function, metrics etc.) whereas others are **generic** and can be applied to any deep learning problem. \n",
        "\n",
        "We'll include the **problem-independent parts** within a function called `fit`, which will be used to train the model. The **problem-specific parts** will be implemented by adding new methods to the `nn.Module` class.\n",
        "\n",
        "+ The `fit` function records the validation loss and metric from each epoch. It returns a history of the training, useful for debugging & visualization.\n",
        "+ `opt_func=torch.optim.SGD` is the default optimizer\n",
        "+ optimizer takes 1) `model.parameters()` and `learning rate (lr)`\n",
        "+ `histroy` is empty for us to keep adding results\n",
        "+ hyperparameters: `epochs`, `lr`, `batch size`, etc, which need to be chosen before training machine learning models\n",
        "+ choosing the right **hyperparameters** is critical for training a reasonably accurate model within a reasonable amount of time\n"
      ],
      "metadata": {
        "id": "jzIMTgsuf391"
      }
    },
    {
      "cell_type": "code",
      "source": [
        "def fit(epochs, lr, model, train_loader, val_loader, opt_func=torch.optim.SGD):\n",
        "    optimizer = opt_func(model.parameters(), lr)\n",
        "    history = [] # for recording epoch-wise results\n",
        "    \n",
        "    for epoch in range(epochs):\n",
        "        \n",
        "        # Training Phase \n",
        "        for batch in train_loader:\n",
        "            loss = model.training_step(batch)\n",
        "            loss.backward()\n",
        "            optimizer.step()\n",
        "            optimizer.zero_grad()\n",
        "        \n",
        "        # Validation phase\n",
        "        result = evaluate(model, val_loader)\n",
        "        model.epoch_end(epoch, result)\n",
        "        history.append(result)\n",
        "\n",
        "    return history"
      ],
      "metadata": {
        "id": "IwRlUWzIfwHu"
      },
      "execution_count": 145,
      "outputs": []
    },
    {
      "cell_type": "markdown",
      "source": [
        "Let's define the `evaluate` function for **validation step**, used in the validation phase of `fit`.\n",
        "\n",
        "+ `outputs` contains batchwise results (input and output batches)\n",
        "+ `val_loader` is used\n",
        "+ `validation_epoch_end(outputs)` takes the `outputs` and average the values\n",
        "+ to understand the `outputs` below, look at the following example:"
      ],
      "metadata": {
        "id": "NcHRXBFuf0Xg"
      }
    },
    {
      "cell_type": "code",
      "source": [
        "# say you want to double each element of the l1 tensor\n",
        "l1 = [1, 2, 3, 4]\n",
        "l2 = [x*2 for x in l1]\n",
        "l2"
      ],
      "metadata": {
        "colab": {
          "base_uri": "https://localhost:8080/"
        },
        "id": "AJQgR2PTI-4a",
        "outputId": "394e5f81-dc51-4c53-ff82-b87745e3a907"
      },
      "execution_count": 146,
      "outputs": [
        {
          "output_type": "execute_result",
          "data": {
            "text/plain": [
              "[2, 4, 6, 8]"
            ]
          },
          "metadata": {},
          "execution_count": 146
        }
      ]
    },
    {
      "cell_type": "code",
      "source": [
        "def evaluate(model, val_loader):\n",
        "    outputs = [model.validation_step(batch) for batch in val_loader]\n",
        "    return model.validation_epoch_end(outputs)"
      ],
      "metadata": {
        "id": "zvolHXsxE2eQ"
      },
      "execution_count": 147,
      "outputs": []
    },
    {
      "cell_type": "markdown",
      "source": [
        "now we have \n",
        "1. `fit` function for the **training** and the\n",
        "2. `evaluate` function for the **validation**"
      ],
      "metadata": {
        "id": "w06E-AHSKRQH"
      }
    },
    {
      "cell_type": "markdown",
      "source": [
        "\n",
        "Finally, let's redefine the `MnistModel` class to include additional methods `training_step`, `validation_step`, `validation_epoch_end`, and `epoch_end` used by `fit` and `evaluate`."
      ],
      "metadata": {
        "id": "EyDog3vGKlRV"
      }
    },
    {
      "cell_type": "code",
      "source": [
        "class MnistModel(nn.Module):\n",
        "    def __init__(self):\n",
        "        super().__init__()\n",
        "        self.linear = nn.Linear(input_size, num_classes)\n",
        "        \n",
        "    def forward(self, xb):\n",
        "        xb = xb.reshape(-1, 784)\n",
        "        out = self.linear(xb)\n",
        "        return out\n",
        "    \n",
        "    def training_step(self, batch):\n",
        "        images, labels = batch \n",
        "        out = self(images)                  # Generate predictions\n",
        "        loss = F.cross_entropy(out, labels) # Calculate loss\n",
        "        return loss\n",
        "    \n",
        "    def validation_step(self, batch):\n",
        "        images, labels = batch \n",
        "        out = self(images)                    # Generate predictions\n",
        "        loss = F.cross_entropy(out, labels)   # Calculate loss\n",
        "        acc = accuracy(out, labels)           # Calculate accuracy\n",
        "        return {'val_loss': loss, 'val_acc': acc}\n",
        "        \n",
        "    def validation_epoch_end(self, outputs):\n",
        "        batch_losses = [x['val_loss'] for x in outputs]\n",
        "        epoch_loss = torch.stack(batch_losses).mean()   # Combine losses\n",
        "        batch_accs = [x['val_acc'] for x in outputs]\n",
        "        epoch_acc = torch.stack(batch_accs).mean()      # Combine accuracies\n",
        "        return {'val_loss': epoch_loss.item(), 'val_acc': epoch_acc.item()}\n",
        "    \n",
        "    def epoch_end(self, epoch, result):\n",
        "        print(\"Epoch [{}], val_loss: {:.4f}, val_acc: {:.4f}\".format(epoch, result['val_loss'], result['val_acc']))\n",
        "    \n",
        "model = MnistModel()"
      ],
      "metadata": {
        "id": "3QhYMN77Kolf"
      },
      "execution_count": 148,
      "outputs": []
    },
    {
      "cell_type": "markdown",
      "source": [
        "Before we train the model, let's see how the model performs on the validation set with the initial set of randomly initialized weights & biases.\n",
        "\n",
        "+ The initial accuracy is around 10%, which one might expect from a randomly initialized model (since it has a 1 in 10 chance of getting a label right by guessing randomly)."
      ],
      "metadata": {
        "id": "ztMzLso9MQgV"
      }
    },
    {
      "cell_type": "code",
      "source": [
        "result0 = evaluate(model, val_loader)\n",
        "result0"
      ],
      "metadata": {
        "colab": {
          "base_uri": "https://localhost:8080/"
        },
        "id": "NgISh8OPMTxU",
        "outputId": "db5fb671-b453-4e26-dc16-af4623ad19f2"
      },
      "execution_count": 149,
      "outputs": [
        {
          "output_type": "execute_result",
          "data": {
            "text/plain": [
              "{'val_loss': 2.343343734741211, 'val_acc': 0.08653085678815842}"
            ]
          },
          "metadata": {},
          "execution_count": 149
        }
      ]
    },
    {
      "cell_type": "markdown",
      "source": [
        "We are now ready to train the model. Let's train for five epochs and look at the results.\n",
        "\n",
        "+ use a high-enough learning rate but not too high (bouncing around)\n",
        "+ $5$ epochs\n",
        "+ we carefully increase the learning rate and see if we could reach a convergence state with $5$ epochs, then we can stick with the maximum possible learning rate"
      ],
      "metadata": {
        "id": "Mw5yKumvMwCJ"
      }
    },
    {
      "cell_type": "code",
      "source": [
        "history1 = fit(5, 0.001, model, train_loader, val_loader)"
      ],
      "metadata": {
        "colab": {
          "base_uri": "https://localhost:8080/"
        },
        "id": "Zfhy_OS_MvUi",
        "outputId": "6ed6c57b-95dd-4456-ff9f-9a499db5e7c9"
      },
      "execution_count": 150,
      "outputs": [
        {
          "output_type": "stream",
          "name": "stdout",
          "text": [
            "Epoch [0], val_loss: 1.9693, val_acc: 0.5897\n",
            "Epoch [1], val_loss: 1.6972, val_acc: 0.7251\n",
            "Epoch [2], val_loss: 1.4935, val_acc: 0.7636\n",
            "Epoch [3], val_loss: 1.3395, val_acc: 0.7823\n",
            "Epoch [4], val_loss: 1.2209, val_acc: 0.7946\n"
          ]
        }
      ]
    },
    {
      "cell_type": "markdown",
      "source": [
        "That's a great result! With just 5 epochs of training, our model has reached an accuracy of over 80% on the validation set. Let's see if we can improve that by training for a few more epochs. **Try changing the learning rates and number of epochs in each of the cells below.**"
      ],
      "metadata": {
        "id": "hSdHeSV8OFuF"
      }
    },
    {
      "cell_type": "code",
      "source": [
        "history2 = fit(5, 0.001, model, train_loader, val_loader)"
      ],
      "metadata": {
        "colab": {
          "base_uri": "https://localhost:8080/"
        },
        "id": "RSVEb8XjOYsh",
        "outputId": "c5a1a52d-ccd6-45a3-a507-16867ad51f7b"
      },
      "execution_count": 151,
      "outputs": [
        {
          "output_type": "stream",
          "name": "stdout",
          "text": [
            "Epoch [0], val_loss: 1.1278, val_acc: 0.8060\n",
            "Epoch [1], val_loss: 1.0531, val_acc: 0.8126\n",
            "Epoch [2], val_loss: 0.9919, val_acc: 0.8192\n",
            "Epoch [3], val_loss: 0.9410, val_acc: 0.8244\n",
            "Epoch [4], val_loss: 0.8979, val_acc: 0.8290\n"
          ]
        }
      ]
    },
    {
      "cell_type": "code",
      "source": [
        "history3 = fit(5, 0.001, model, train_loader, val_loader)"
      ],
      "metadata": {
        "colab": {
          "base_uri": "https://localhost:8080/"
        },
        "id": "cnYllYZFOm8Z",
        "outputId": "05086b82-308f-41c3-e5b1-bca0f89ec628"
      },
      "execution_count": 153,
      "outputs": [
        {
          "output_type": "stream",
          "name": "stdout",
          "text": [
            "Epoch [0], val_loss: 0.8611, val_acc: 0.8328\n",
            "Epoch [1], val_loss: 0.8290, val_acc: 0.8364\n",
            "Epoch [2], val_loss: 0.8010, val_acc: 0.8407\n",
            "Epoch [3], val_loss: 0.7762, val_acc: 0.8428\n",
            "Epoch [4], val_loss: 0.7541, val_acc: 0.8454\n"
          ]
        }
      ]
    },
    {
      "cell_type": "code",
      "source": [
        "history4 = fit(5, 0.001, model, train_loader, val_loader)"
      ],
      "metadata": {
        "colab": {
          "base_uri": "https://localhost:8080/"
        },
        "id": "i2yzYJkGOykl",
        "outputId": "8fa08244-66af-4769-9405-e780db5a4524"
      },
      "execution_count": 154,
      "outputs": [
        {
          "output_type": "stream",
          "name": "stdout",
          "text": [
            "Epoch [0], val_loss: 0.7342, val_acc: 0.8474\n",
            "Epoch [1], val_loss: 0.7164, val_acc: 0.8505\n",
            "Epoch [2], val_loss: 0.7002, val_acc: 0.8527\n",
            "Epoch [3], val_loss: 0.6853, val_acc: 0.8552\n",
            "Epoch [4], val_loss: 0.6717, val_acc: 0.8571\n"
          ]
        }
      ]
    },
    {
      "cell_type": "markdown",
      "source": [
        "While the accuracy does continue to increase as we train for more epochs, the improvements get smaller with every epoch. Let's visualize this using a line graph.\n",
        "\n",
        "It's quite clear from the  result that the model probably won't cross the accuracy threshold of 90% even after training for a very long time. One possible reason for this is that the **learning rate might be too high**. The model's parameters may be \"bouncing\" around the optimal set of parameters for the lowest loss. You can try reducing the **learning rate** and training for a few more epochs to see if it helps.\n",
        "\n",
        "The more likely reason that **the model just isn't powerful enough**. If you remember our initial hypothesis, we have assumed that the output (in this case the class probabilities) is a **linear function** of the **input (pixel intensities)**, obtained by perfoming a **matrix multiplication with the weights matrix and adding the bias**. This is a fairly weak assumption, as there may **not** actually exist a linear relationship between the pixel intensities in an image and the digit it represents. While it works reasonably well for a **simple dataset like MNIST** (**getting us to 85% accuracy**), we need more **sophisticated models** that can capture **non-linear relationships** between **image pixels** and **labels** for **complex tasks** like recognizing everyday objects, animals etc. "
      ],
      "metadata": {
        "id": "CdpofPlXPEpK"
      }
    },
    {
      "cell_type": "code",
      "source": [
        "history = [result0] + history1 + history2 + history3 + history4\n",
        "accuracies = [result['val_acc'] for result in history]\n",
        "plt.plot(accuracies, '-x')\n",
        "plt.xlabel('epoch')\n",
        "plt.ylabel('accuracy')\n",
        "plt.title('Accuracy vs. No. of epochs');"
      ],
      "metadata": {
        "colab": {
          "base_uri": "https://localhost:8080/",
          "height": 295
        },
        "id": "KeL_69KYPL16",
        "outputId": "931eb0d2-5afa-4538-e952-6f54ff42e5f0"
      },
      "execution_count": 155,
      "outputs": [
        {
          "output_type": "display_data",
          "data": {
            "text/plain": [
              "<Figure size 432x288 with 1 Axes>"
            ],
            "image/png": "[encoded data removed]"
          },
          "metadata": {
            "needs_background": "light"
          }
        }
      ]
    },
    {
      "cell_type": "markdown",
      "source": [
        "## Testing with individual images\n",
        "\n",
        "While we have been tracking the overall accuracy of a model so far, it's also a good idea to look at model's results on some sample images. Let's test out our model with some images from the predefined test dataset of $10000$ images. We begin by recreating the test dataset with the `ToTensor` transform.\n",
        "\n",
        "+ `ToTensor` converts datasets into `PyTorch` tensors"
      ],
      "metadata": {
        "id": "NS-mX8KaRHhW"
      }
    },
    {
      "cell_type": "code",
      "source": [
        "# Define test dataset\n",
        "test_dataset = MNIST(root='data/', \n",
        "                     train=False,\n",
        "                     transform=transforms.ToTensor())"
      ],
      "metadata": {
        "id": "fUueNRXZRdCa"
      },
      "execution_count": 156,
      "outputs": []
    },
    {
      "cell_type": "markdown",
      "source": [
        "Here's a sample image from the dataset."
      ],
      "metadata": {
        "id": "7dWD4FVAKKF-"
      }
    },
    {
      "cell_type": "code",
      "source": [
        "img, label = test_dataset[0]\n",
        "plt.imshow(img[0], cmap='gray')\n",
        "print('Shape:', img.shape)\n",
        "print('Label:', label)"
      ],
      "metadata": {
        "colab": {
          "base_uri": "https://localhost:8080/",
          "height": 301
        },
        "id": "ebXEYEBeJhsd",
        "outputId": "78fc33be-389e-4ef7-8a43-d48813b91a3f"
      },
      "execution_count": 157,
      "outputs": [
        {
          "output_type": "stream",
          "name": "stdout",
          "text": [
            "Shape: torch.Size([1, 28, 28])\n",
            "Label: 7\n"
          ]
        },
        {
          "output_type": "display_data",
          "data": {
            "text/plain": [
              "<Figure size 432x288 with 1 Axes>"
            ],
            "image/png": "[encoded data removed]"
          },
          "metadata": {
            "needs_background": "light"
          }
        }
      ]
    },
    {
      "cell_type": "markdown",
      "source": [
        "Let's define a helper function `predict_image`, which returns the predicted label for a single image tensor.\n",
        "\n",
        "+ `img.unsqueeze` simply adds another dimension at the begining of the 1x28x28 tensor, making it a 1x1x28x28 tensor. Note that $1$ is NOT accounted a dimension!!!\n",
        "\n",
        "+ The reason of doing this is because the `model = MnistModel()` object was created to deal with batches of a two-dimensional tensor (batch size $\\times 784$). Here we have only one image and the shape is `[1, 28, 28]` (two-dimensional tensor), we want to add one dimension for batch size equal to $1$: therefore `img.unsqueeze(0)` is used. (I also tried to comment it out and no errors occurred.)\n",
        "+ the model has never seen the test dataset\n"
      ],
      "metadata": {
        "id": "NQXUKJ0oKDOP"
      }
    },
    {
      "cell_type": "markdown",
      "source": [
        "note `model` object is passed to the predict_image function"
      ],
      "metadata": {
        "id": "SQRnLzMRgkLp"
      }
    },
    {
      "cell_type": "code",
      "source": [
        "def predict_image(img, model):\n",
        "    xb = img.unsqueeze(0)\n",
        "    yb = model(xb)\n",
        "    _, preds = torch.max(yb, dim=1)\n",
        "    return preds[0].item()"
      ],
      "metadata": {
        "id": "ePFl6_OqKlev"
      },
      "execution_count": 158,
      "outputs": []
    },
    {
      "cell_type": "markdown",
      "source": [
        "let's try it out with a few images"
      ],
      "metadata": {
        "id": "jAShOIRTg9zK"
      }
    },
    {
      "cell_type": "code",
      "source": [
        "img, label = test_dataset[0]\n",
        "plt.imshow(img[0], cmap='gray')\n",
        "print('Label:', label, ', Predicted:', predict_image(img, model))"
      ],
      "metadata": {
        "colab": {
          "base_uri": "https://localhost:8080/",
          "height": 283
        },
        "id": "ksUep9BkeckM",
        "outputId": "a9e28616-b2c2-4a13-8b7f-4b18b72fadeb"
      },
      "execution_count": 159,
      "outputs": [
        {
          "output_type": "stream",
          "name": "stdout",
          "text": [
            "Label: 7 , Predicted: 7\n"
          ]
        },
        {
          "output_type": "display_data",
          "data": {
            "text/plain": [
              "<Figure size 432x288 with 1 Axes>"
            ],
            "image/png": "[encoded data removed]"
          },
          "metadata": {
            "needs_background": "light"
          }
        }
      ]
    },
    {
      "cell_type": "code",
      "source": [
        "img, label = test_dataset[10]\n",
        "plt.imshow(img[0], cmap='gray')\n",
        "print('Label:', label, ', Predicted:', predict_image(img, model))"
      ],
      "metadata": {
        "colab": {
          "base_uri": "https://localhost:8080/",
          "height": 283
        },
        "id": "Onf5aX60g8Ui",
        "outputId": "697d4943-32b0-45a0-c858-3a3aac9ce607"
      },
      "execution_count": 160,
      "outputs": [
        {
          "output_type": "stream",
          "name": "stdout",
          "text": [
            "Label: 0 , Predicted: 0\n"
          ]
        },
        {
          "output_type": "display_data",
          "data": {
            "text/plain": [
              "<Figure size 432x288 with 1 Axes>"
            ],
            "image/png": "[encoded data removed]"
          },
          "metadata": {
            "needs_background": "light"
          }
        }
      ]
    },
    {
      "cell_type": "code",
      "source": [
        "img, label = test_dataset[193]\n",
        "plt.imshow(img[0], cmap='gray')\n",
        "print('Label:', label, ', Predicted:', predict_image(img, model))"
      ],
      "metadata": {
        "colab": {
          "base_uri": "https://localhost:8080/",
          "height": 283
        },
        "id": "Ccv2b8e2hF2c",
        "outputId": "18486d16-60a1-4d7a-bbad-e8aee38ed6be"
      },
      "execution_count": 161,
      "outputs": [
        {
          "output_type": "stream",
          "name": "stdout",
          "text": [
            "Label: 9 , Predicted: 9\n"
          ]
        },
        {
          "output_type": "display_data",
          "data": {
            "text/plain": [
              "<Figure size 432x288 with 1 Axes>"
            ],
            "image/png": "[encoded data removed]"
          },
          "metadata": {
            "needs_background": "light"
          }
        }
      ]
    },
    {
      "cell_type": "code",
      "source": [
        "img, label = test_dataset[1839]\n",
        "plt.imshow(img[0], cmap='gray')\n",
        "print('Label:', label, ', Predicted:', predict_image(img, model))"
      ],
      "metadata": {
        "colab": {
          "base_uri": "https://localhost:8080/",
          "height": 283
        },
        "id": "7ZSjeWJZj-j6",
        "outputId": "c4d1dee5-1c07-4e94-e520-9e37b12e8fb4"
      },
      "execution_count": 163,
      "outputs": [
        {
          "output_type": "stream",
          "name": "stdout",
          "text": [
            "Label: 2 , Predicted: 8\n"
          ]
        },
        {
          "output_type": "display_data",
          "data": {
            "text/plain": [
              "<Figure size 432x288 with 1 Axes>"
            ],
            "image/png": "[encoded data removed]"
          },
          "metadata": {
            "needs_background": "light"
          }
        }
      ]
    },
    {
      "cell_type": "markdown",
      "source": [
        "Identifying where our model performs poorly can help us improve the model, by \n",
        "+ collecting more training data, \n",
        "+ increasing/decreasing the complexity of the model, and \n",
        "+ changing the hypeparameters.\n",
        "\n",
        "As a final step, let's also look at the **overall loss and accuracy** of the model on the test set.\n",
        "\n",
        "+ test set comes from the real world\n",
        "+ validation set comes from a fraction of the training set\n",
        "\n",
        "where is validation test accuracy?"
      ],
      "metadata": {
        "id": "EedD_wkzkmCe"
      }
    },
    {
      "cell_type": "code",
      "source": [
        "test_loader = DataLoader(test_dataset, batch_size=256)\n",
        "result = evaluate(model, test_loader)\n",
        "result"
      ],
      "metadata": {
        "colab": {
          "base_uri": "https://localhost:8080/"
        },
        "id": "oxpAu7u8k3i5",
        "outputId": "adf75592-2b5b-4bbd-cdb9-fa19e9096d72"
      },
      "execution_count": 166,
      "outputs": [
        {
          "output_type": "execute_result",
          "data": {
            "text/plain": [
              "{'val_loss': 0.6433010697364807, 'val_acc': 0.8580077886581421}"
            ]
          },
          "metadata": {},
          "execution_count": 166
        }
      ]
    },
    {
      "cell_type": "markdown",
      "source": [
        "**We expect test set accuracy is similar to the accuracy/loss on the validation set.** \n",
        "\n",
        "Very importantly, \n",
        "\n",
        "+ If not, we might need a better validation set that has similar data and distribution as the test set (which often comes from real world data)."
      ],
      "metadata": {
        "id": "vSnFVK1Hl_vr"
      }
    },
    {
      "cell_type": "code",
      "source": [
        "test_dataset"
      ],
      "metadata": {
        "colab": {
          "base_uri": "https://localhost:8080/"
        },
        "id": "ijAWQ3RglXyY",
        "outputId": "d091e871-669b-45d8-dabb-42e8b845b4c8"
      },
      "execution_count": 165,
      "outputs": [
        {
          "output_type": "execute_result",
          "data": {
            "text/plain": [
              "Dataset MNIST\n",
              "    Number of datapoints: 10000\n",
              "    Root location: data/\n",
              "    Split: Test\n",
              "    StandardTransform\n",
              "Transform: ToTensor()"
            ]
          },
          "metadata": {},
          "execution_count": 165
        }
      ]
    },
    {
      "cell_type": "markdown",
      "source": [
        "## **Saving and loading the model**\n",
        "\n",
        "Since we've trained our model for a long time and achieved a resonable accuracy, it would be a good idea to save the weights and bias matrices to disk, so that we can reuse the model later and avoid retraining from scratch. Here's how you can save the model."
      ],
      "metadata": {
        "id": "pLSb-T_unN_B"
      }
    },
    {
      "cell_type": "code",
      "source": [
        "torch.save(model.state_dict(), 'mnist-logistic.pth')"
      ],
      "metadata": {
        "id": "nOXbSoKFn7bm"
      },
      "execution_count": 167,
      "outputs": []
    },
    {
      "cell_type": "markdown",
      "source": [
        "The `.state_dict` method returns an `OrderedDict` containing all the weights and bias matrices mapped to the right attributes of the model."
      ],
      "metadata": {
        "id": "xIXNmYsPn-y9"
      }
    },
    {
      "cell_type": "code",
      "source": [
        "model.state_dict()"
      ],
      "metadata": {
        "colab": {
          "base_uri": "https://localhost:8080/"
        },
        "id": "-1fXPsBooENP",
        "outputId": "ab1eb9f2-1b3f-48b5-8365-e4083bb52663"
      },
      "execution_count": 168,
      "outputs": [
        {
          "output_type": "execute_result",
          "data": {
            "text/plain": [
              "OrderedDict([('linear.weight',\n",
              "              tensor([[-0.0022, -0.0008,  0.0211,  ..., -0.0299, -0.0148, -0.0242],\n",
              "                      [ 0.0079, -0.0188, -0.0311,  ..., -0.0332, -0.0072,  0.0317],\n",
              "                      [-0.0252,  0.0228, -0.0319,  ...,  0.0327, -0.0114,  0.0080],\n",
              "                      ...,\n",
              "                      [ 0.0332,  0.0025, -0.0262,  ..., -0.0332,  0.0055,  0.0317],\n",
              "                      [-0.0353,  0.0015,  0.0006,  ...,  0.0091, -0.0219,  0.0109],\n",
              "                      [-0.0310,  0.0241,  0.0188,  ..., -0.0293, -0.0052,  0.0108]])),\n",
              "             ('linear.bias',\n",
              "              tensor([-0.0616,  0.0740, -0.0029,  0.0043, -0.0050,  0.0722, -0.0037,  0.0524,\n",
              "                      -0.0888, -0.0025]))])"
            ]
          },
          "metadata": {},
          "execution_count": 168
        }
      ]
    },
    {
      "cell_type": "markdown",
      "source": [
        "To load the model weights, we can instante a new object of the class `MnistModel`, and use the `.load_state_dict` method."
      ],
      "metadata": {
        "id": "cLRSyJoWoHxG"
      }
    },
    {
      "cell_type": "code",
      "source": [
        "model2 = MnistModel()"
      ],
      "metadata": {
        "id": "dm0O_dt4oKPt"
      },
      "execution_count": 169,
      "outputs": []
    },
    {
      "cell_type": "code",
      "source": [
        "model2.state_dict()"
      ],
      "metadata": {
        "colab": {
          "base_uri": "https://localhost:8080/"
        },
        "id": "scBhssWcoNjA",
        "outputId": "7124f626-1f80-40b3-a5fe-deb6ae85fd09"
      },
      "execution_count": 170,
      "outputs": [
        {
          "output_type": "execute_result",
          "data": {
            "text/plain": [
              "OrderedDict([('linear.weight',\n",
              "              tensor([[-0.0309,  0.0142,  0.0353,  ...,  0.0114, -0.0234, -0.0328],\n",
              "                      [ 0.0133, -0.0073,  0.0276,  ...,  0.0153,  0.0160,  0.0292],\n",
              "                      [ 0.0319,  0.0241,  0.0212,  ..., -0.0042,  0.0023, -0.0024],\n",
              "                      ...,\n",
              "                      [ 0.0126, -0.0021,  0.0107,  ...,  0.0003, -0.0143,  0.0237],\n",
              "                      [-0.0292, -0.0272, -0.0073,  ...,  0.0214, -0.0339,  0.0130],\n",
              "                      [-0.0235, -0.0064, -0.0342,  ...,  0.0071,  0.0204,  0.0234]])),\n",
              "             ('linear.bias',\n",
              "              tensor([ 0.0016, -0.0236,  0.0120,  0.0183, -0.0154, -0.0206,  0.0095, -0.0258,\n",
              "                       0.0328,  0.0002]))])"
            ]
          },
          "metadata": {},
          "execution_count": 170
        }
      ]
    },
    {
      "cell_type": "code",
      "source": [
        "evaluate(model2, test_loader)"
      ],
      "metadata": {
        "colab": {
          "base_uri": "https://localhost:8080/"
        },
        "id": "TertuspYoSnb",
        "outputId": "f0be0182-3af4-4c74-9421-fd86f40e630a"
      },
      "execution_count": 171,
      "outputs": [
        {
          "output_type": "execute_result",
          "data": {
            "text/plain": [
              "{'val_loss': 2.337110996246338, 'val_acc': 0.09287109225988388}"
            ]
          },
          "metadata": {},
          "execution_count": 171
        }
      ]
    },
    {
      "cell_type": "code",
      "source": [
        "model2.load_state_dict(torch.load('mnist-logistic.pth'))\n",
        "model2.state_dict()"
      ],
      "metadata": {
        "colab": {
          "base_uri": "https://localhost:8080/"
        },
        "id": "-r6L9o9moXoP",
        "outputId": "0e5b785e-cf88-4e9f-cfdd-fed796543ce0"
      },
      "execution_count": 172,
      "outputs": [
        {
          "output_type": "execute_result",
          "data": {
            "text/plain": [
              "OrderedDict([('linear.weight',\n",
              "              tensor([[-0.0022, -0.0008,  0.0211,  ..., -0.0299, -0.0148, -0.0242],\n",
              "                      [ 0.0079, -0.0188, -0.0311,  ..., -0.0332, -0.0072,  0.0317],\n",
              "                      [-0.0252,  0.0228, -0.0319,  ...,  0.0327, -0.0114,  0.0080],\n",
              "                      ...,\n",
              "                      [ 0.0332,  0.0025, -0.0262,  ..., -0.0332,  0.0055,  0.0317],\n",
              "                      [-0.0353,  0.0015,  0.0006,  ...,  0.0091, -0.0219,  0.0109],\n",
              "                      [-0.0310,  0.0241,  0.0188,  ..., -0.0293, -0.0052,  0.0108]])),\n",
              "             ('linear.bias',\n",
              "              tensor([-0.0616,  0.0740, -0.0029,  0.0043, -0.0050,  0.0722, -0.0037,  0.0524,\n",
              "                      -0.0888, -0.0025]))])"
            ]
          },
          "metadata": {},
          "execution_count": 172
        }
      ]
    },
    {
      "cell_type": "markdown",
      "source": [
        "Just as a sanity check, let's verify that this model has the same loss and accuracy on the test set as before."
      ],
      "metadata": {
        "id": "TP5Jeh0GocGk"
      }
    },
    {
      "cell_type": "code",
      "source": [
        "test_loader = DataLoader(test_dataset, batch_size=256)\n",
        "result = evaluate(model2, test_loader)\n",
        "result"
      ],
      "metadata": {
        "colab": {
          "base_uri": "https://localhost:8080/"
        },
        "id": "Lr8810LAoory",
        "outputId": "c47ac43b-8f5e-4e28-e018-7157365cf042"
      },
      "execution_count": 173,
      "outputs": [
        {
          "output_type": "execute_result",
          "data": {
            "text/plain": [
              "{'val_loss': 0.6433010697364807, 'val_acc': 0.8580077886581421}"
            ]
          },
          "metadata": {},
          "execution_count": 173
        }
      ]
    }
  ]
}