{
  "nbformat": 4,
  "nbformat_minor": 0,
  "metadata": {
    "colab": {
      "provenance": [],
      "authorship_tag": "ABX9TyP2LgZ1749ZF4sQ22f8+Rql",
      "include_colab_link": true
    },
    "kernelspec": {
      "name": "python3",
      "display_name": "Python 3"
    },
    "language_info": {
      "name": "python"
    },
    "widgets": {
      "application/vnd.jupyter.widget-state+json": {
        "fbb8b8c37c65486da0b5f78ac93f063d": {
          "model_module": "@jupyter-widgets/controls",
          "model_name": "HBoxModel",
          "model_module_version": "1.5.0",
          "state": {
            "_dom_classes": [],
            "_model_module": "@jupyter-widgets/controls",
            "_model_module_version": "1.5.0",
            "_model_name": "HBoxModel",
            "_view_count": null,
            "_view_module": "@jupyter-widgets/controls",
            "_view_module_version": "1.5.0",
            "_view_name": "HBoxView",
            "box_style": "",
            "children": [
              "IPY_MODEL_869dc37b1b6944958b5be157614e59fe",
              "IPY_MODEL_21037145e1b046a895e04dbef53ac5a6",
              "IPY_MODEL_09adab81ac10410abb11a7aafcece2b0"
            ],
            "layout": "IPY_MODEL_867e7017e40b4cfa9178f918aea3366d"
          }
        },
        "869dc37b1b6944958b5be157614e59fe": {
          "model_module": "@jupyter-widgets/controls",
          "model_name": "HTMLModel",
          "model_module_version": "1.5.0",
          "state": {
            "_dom_classes": [],
            "_model_module": "@jupyter-widgets/controls",
            "_model_module_version": "1.5.0",
            "_model_name": "HTMLModel",
            "_view_count": null,
            "_view_module": "@jupyter-widgets/controls",
            "_view_module_version": "1.5.0",
            "_view_name": "HTMLView",
            "description": "",
            "description_tooltip": null,
            "layout": "IPY_MODEL_2fc1088d0ead454e884e6225bd89939d",
            "placeholder": "​",
            "style": "IPY_MODEL_ac98bf3b567f42f6825c4b7c7f15f98e",
            "value": "100%"
          }
        },
        "21037145e1b046a895e04dbef53ac5a6": {
          "model_module": "@jupyter-widgets/controls",
          "model_name": "FloatProgressModel",
          "model_module_version": "1.5.0",
          "state": {
            "_dom_classes": [],
            "_model_module": "@jupyter-widgets/controls",
            "_model_module_version": "1.5.0",
            "_model_name": "FloatProgressModel",
            "_view_count": null,
            "_view_module": "@jupyter-widgets/controls",
            "_view_module_version": "1.5.0",
            "_view_name": "ProgressView",
            "bar_style": "success",
            "description": "",
            "description_tooltip": null,
            "layout": "IPY_MODEL_d14d2c4b5f4848238f022c6a791d7a91",
            "max": 9912422,
            "min": 0,
            "orientation": "horizontal",
            "style": "IPY_MODEL_053a17f383cc479985075be143e7dc09",
            "value": 9912422
          }
        },
        "09adab81ac10410abb11a7aafcece2b0": {
          "model_module": "@jupyter-widgets/controls",
          "model_name": "HTMLModel",
          "model_module_version": "1.5.0",
          "state": {
            "_dom_classes": [],
            "_model_module": "@jupyter-widgets/controls",
            "_model_module_version": "1.5.0",
            "_model_name": "HTMLModel",
            "_view_count": null,
            "_view_module": "@jupyter-widgets/controls",
            "_view_module_version": "1.5.0",
            "_view_name": "HTMLView",
            "description": "",
            "description_tooltip": null,
            "layout": "IPY_MODEL_4efb4fe4f2c3412d93a2fe368cf71ddb",
            "placeholder": "​",
            "style": "IPY_MODEL_620f860db3a44433b2f2c0ca4679ac1b",
            "value": " 9912422/9912422 [00:00&lt;00:00, 49465692.86it/s]"
          }
        },
        "867e7017e40b4cfa9178f918aea3366d": {
          "model_module": "@jupyter-widgets/base",
          "model_name": "LayoutModel",
          "model_module_version": "1.2.0",
          "state": {
            "_model_module": "@jupyter-widgets/base",
            "_model_module_version": "1.2.0",
            "_model_name": "LayoutModel",
            "_view_count": null,
            "_view_module": "@jupyter-widgets/base",
            "_view_module_version": "1.2.0",
            "_view_name": "LayoutView",
            "align_content": null,
            "align_items": null,
            "align_self": null,
            "border": null,
            "bottom": null,
            "display": null,
            "flex": null,
            "flex_flow": null,
            "grid_area": null,
            "grid_auto_columns": null,
            "grid_auto_flow": null,
            "grid_auto_rows": null,
            "grid_column": null,
            "grid_gap": null,
            "grid_row": null,
            "grid_template_areas": null,
            "grid_template_columns": null,
            "grid_template_rows": null,
            "height": null,
            "justify_content": null,
            "justify_items": null,
            "left": null,
            "margin": null,
            "max_height": null,
            "max_width": null,
            "min_height": null,
            "min_width": null,
            "object_fit": null,
            "object_position": null,
            "order": null,
            "overflow": null,
            "overflow_x": null,
            "overflow_y": null,
            "padding": null,
            "right": null,
            "top": null,
            "visibility": null,
            "width": null
          }
        },
        "2fc1088d0ead454e884e6225bd89939d": {
          "model_module": "@jupyter-widgets/base",
          "model_name": "LayoutModel",
          "model_module_version": "1.2.0",
          "state": {
            "_model_module": "@jupyter-widgets/base",
            "_model_module_version": "1.2.0",
            "_model_name": "LayoutModel",
            "_view_count": null,
            "_view_module": "@jupyter-widgets/base",
            "_view_module_version": "1.2.0",
            "_view_name": "LayoutView",
            "align_content": null,
            "align_items": null,
            "align_self": null,
            "border": null,
            "bottom": null,
            "display": null,
            "flex": null,
            "flex_flow": null,
            "grid_area": null,
            "grid_auto_columns": null,
            "grid_auto_flow": null,
            "grid_auto_rows": null,
            "grid_column": null,
            "grid_gap": null,
            "grid_row": null,
            "grid_template_areas": null,
            "grid_template_columns": null,
            "grid_template_rows": null,
            "height": null,
            "justify_content": null,
            "justify_items": null,
            "left": null,
            "margin": null,
            "max_height": null,
            "max_width": null,
            "min_height": null,
            "min_width": null,
            "object_fit": null,
            "object_position": null,
            "order": null,
            "overflow": null,
            "overflow_x": null,
            "overflow_y": null,
            "padding": null,
            "right": null,
            "top": null,
            "visibility": null,
            "width": null
          }
        },
        "ac98bf3b567f42f6825c4b7c7f15f98e": {
          "model_module": "@jupyter-widgets/controls",
          "model_name": "DescriptionStyleModel",
          "model_module_version": "1.5.0",
          "state": {
            "_model_module": "@jupyter-widgets/controls",
            "_model_module_version": "1.5.0",
            "_model_name": "DescriptionStyleModel",
            "_view_count": null,
            "_view_module": "@jupyter-widgets/base",
            "_view_module_version": "1.2.0",
            "_view_name": "StyleView",
            "description_width": ""
          }
        },
        "d14d2c4b5f4848238f022c6a791d7a91": {
          "model_module": "@jupyter-widgets/base",
          "model_name": "LayoutModel",
          "model_module_version": "1.2.0",
          "state": {
            "_model_module": "@jupyter-widgets/base",
            "_model_module_version": "1.2.0",
            "_model_name": "LayoutModel",
            "_view_count": null,
            "_view_module": "@jupyter-widgets/base",
            "_view_module_version": "1.2.0",
            "_view_name": "LayoutView",
            "align_content": null,
            "align_items": null,
            "align_self": null,
            "border": null,
            "bottom": null,
            "display": null,
            "flex": null,
            "flex_flow": null,
            "grid_area": null,
            "grid_auto_columns": null,
            "grid_auto_flow": null,
            "grid_auto_rows": null,
            "grid_column": null,
            "grid_gap": null,
            "grid_row": null,
            "grid_template_areas": null,
            "grid_template_columns": null,
            "grid_template_rows": null,
            "height": null,
            "justify_content": null,
            "justify_items": null,
            "left": null,
            "margin": null,
            "max_height": null,
            "max_width": null,
            "min_height": null,
            "min_width": null,
            "object_fit": null,
            "object_position": null,
            "order": null,
            "overflow": null,
            "overflow_x": null,
            "overflow_y": null,
            "padding": null,
            "right": null,
            "top": null,
            "visibility": null,
            "width": null
          }
        },
        "053a17f383cc479985075be143e7dc09": {
          "model_module": "@jupyter-widgets/controls",
          "model_name": "ProgressStyleModel",
          "model_module_version": "1.5.0",
          "state": {
            "_model_module": "@jupyter-widgets/controls",
            "_model_module_version": "1.5.0",
            "_model_name": "ProgressStyleModel",
            "_view_count": null,
            "_view_module": "@jupyter-widgets/base",
            "_view_module_version": "1.2.0",
            "_view_name": "StyleView",
            "bar_color": null,
            "description_width": ""
          }
        },
        "4efb4fe4f2c3412d93a2fe368cf71ddb": {
          "model_module": "@jupyter-widgets/base",
          "model_name": "LayoutModel",
          "model_module_version": "1.2.0",
          "state": {
            "_model_module": "@jupyter-widgets/base",
            "_model_module_version": "1.2.0",
            "_model_name": "LayoutModel",
            "_view_count": null,
            "_view_module": "@jupyter-widgets/base",
            "_view_module_version": "1.2.0",
            "_view_name": "LayoutView",
            "align_content": null,
            "align_items": null,
            "align_self": null,
            "border": null,
            "bottom": null,
            "display": null,
            "flex": null,
            "flex_flow": null,
            "grid_area": null,
            "grid_auto_columns": null,
            "grid_auto_flow": null,
            "grid_auto_rows": null,
            "grid_column": null,
            "grid_gap": null,
            "grid_row": null,
            "grid_template_areas": null,
            "grid_template_columns": null,
            "grid_template_rows": null,
            "height": null,
            "justify_content": null,
            "justify_items": null,
            "left": null,
            "margin": null,
            "max_height": null,
            "max_width": null,
            "min_height": null,
            "min_width": null,
            "object_fit": null,
            "object_position": null,
            "order": null,
            "overflow": null,
            "overflow_x": null,
            "overflow_y": null,
            "padding": null,
            "right": null,
            "top": null,
            "visibility": null,
            "width": null
          }
        },
        "620f860db3a44433b2f2c0ca4679ac1b": {
          "model_module": "@jupyter-widgets/controls",
          "model_name": "DescriptionStyleModel",
          "model_module_version": "1.5.0",
          "state": {
            "_model_module": "@jupyter-widgets/controls",
            "_model_module_version": "1.5.0",
            "_model_name": "DescriptionStyleModel",
            "_view_count": null,
            "_view_module": "@jupyter-widgets/base",
            "_view_module_version": "1.2.0",
            "_view_name": "StyleView",
            "description_width": ""
          }
        },
        "825ff61542964ae0af0490a1eff257f2": {
          "model_module": "@jupyter-widgets/controls",
          "model_name": "HBoxModel",
          "model_module_version": "1.5.0",
          "state": {
            "_dom_classes": [],
            "_model_module": "@jupyter-widgets/controls",
            "_model_module_version": "1.5.0",
            "_model_name": "HBoxModel",
            "_view_count": null,
            "_view_module": "@jupyter-widgets/controls",
            "_view_module_version": "1.5.0",
            "_view_name": "HBoxView",
            "box_style": "",
            "children": [
              "IPY_MODEL_c1c52969efc947e78f313576eb05b916",
              "IPY_MODEL_03a6f2dff7d24bb6aee136ae53f523af",
              "IPY_MODEL_c3d1c6a884cc4664ac7c1f5f3fde5549"
            ],
            "layout": "IPY_MODEL_40c0d6103e7243ff92498b769c6b885f"
          }
        },
        "c1c52969efc947e78f313576eb05b916": {
          "model_module": "@jupyter-widgets/controls",
          "model_name": "HTMLModel",
          "model_module_version": "1.5.0",
          "state": {
            "_dom_classes": [],
            "_model_module": "@jupyter-widgets/controls",
            "_model_module_version": "1.5.0",
            "_model_name": "HTMLModel",
            "_view_count": null,
            "_view_module": "@jupyter-widgets/controls",
            "_view_module_version": "1.5.0",
            "_view_name": "HTMLView",
            "description": "",
            "description_tooltip": null,
            "layout": "IPY_MODEL_8e469911b4004e1296e56a38ec871f48",
            "placeholder": "​",
            "style": "IPY_MODEL_b6cda28781b94baa97b79bd31506418c",
            "value": "100%"
          }
        },
        "03a6f2dff7d24bb6aee136ae53f523af": {
          "model_module": "@jupyter-widgets/controls",
          "model_name": "FloatProgressModel",
          "model_module_version": "1.5.0",
          "state": {
            "_dom_classes": [],
            "_model_module": "@jupyter-widgets/controls",
            "_model_module_version": "1.5.0",
            "_model_name": "FloatProgressModel",
            "_view_count": null,
            "_view_module": "@jupyter-widgets/controls",
            "_view_module_version": "1.5.0",
            "_view_name": "ProgressView",
            "bar_style": "success",
            "description": "",
            "description_tooltip": null,
            "layout": "IPY_MODEL_f3933300f91748ffa38425ed06c68521",
            "max": 28881,
            "min": 0,
            "orientation": "horizontal",
            "style": "IPY_MODEL_a092fd744f2c46acabd8006c0d41906c",
            "value": 28881
          }
        },
        "c3d1c6a884cc4664ac7c1f5f3fde5549": {
          "model_module": "@jupyter-widgets/controls",
          "model_name": "HTMLModel",
          "model_module_version": "1.5.0",
          "state": {
            "_dom_classes": [],
            "_model_module": "@jupyter-widgets/controls",
            "_model_module_version": "1.5.0",
            "_model_name": "HTMLModel",
            "_view_count": null,
            "_view_module": "@jupyter-widgets/controls",
            "_view_module_version": "1.5.0",
            "_view_name": "HTMLView",
            "description": "",
            "description_tooltip": null,
            "layout": "IPY_MODEL_3f0f4ba81a7447d29e6e2dcade3f91c0",
            "placeholder": "​",
            "style": "IPY_MODEL_6122fe6344f54322ac0da7b0184583e9",
            "value": " 28881/28881 [00:00&lt;00:00, 1337954.16it/s]"
          }
        },
        "40c0d6103e7243ff92498b769c6b885f": {
          "model_module": "@jupyter-widgets/base",
          "model_name": "LayoutModel",
          "model_module_version": "1.2.0",
          "state": {
            "_model_module": "@jupyter-widgets/base",
            "_model_module_version": "1.2.0",
            "_model_name": "LayoutModel",
            "_view_count": null,
            "_view_module": "@jupyter-widgets/base",
            "_view_module_version": "1.2.0",
            "_view_name": "LayoutView",
            "align_content": null,
            "align_items": null,
            "align_self": null,
            "border": null,
            "bottom": null,
            "display": null,
            "flex": null,
            "flex_flow": null,
            "grid_area": null,
            "grid_auto_columns": null,
            "grid_auto_flow": null,
            "grid_auto_rows": null,
            "grid_column": null,
            "grid_gap": null,
            "grid_row": null,
            "grid_template_areas": null,
            "grid_template_columns": null,
            "grid_template_rows": null,
            "height": null,
            "justify_content": null,
            "justify_items": null,
            "left": null,
            "margin": null,
            "max_height": null,
            "max_width": null,
            "min_height": null,
            "min_width": null,
            "object_fit": null,
            "object_position": null,
            "order": null,
            "overflow": null,
            "overflow_x": null,
            "overflow_y": null,
            "padding": null,
            "right": null,
            "top": null,
            "visibility": null,
            "width": null
          }
        },
        "8e469911b4004e1296e56a38ec871f48": {
          "model_module": "@jupyter-widgets/base",
          "model_name": "LayoutModel",
          "model_module_version": "1.2.0",
          "state": {
            "_model_module": "@jupyter-widgets/base",
            "_model_module_version": "1.2.0",
            "_model_name": "LayoutModel",
            "_view_count": null,
            "_view_module": "@jupyter-widgets/base",
            "_view_module_version": "1.2.0",
            "_view_name": "LayoutView",
            "align_content": null,
            "align_items": null,
            "align_self": null,
            "border": null,
            "bottom": null,
            "display": null,
            "flex": null,
            "flex_flow": null,
            "grid_area": null,
            "grid_auto_columns": null,
            "grid_auto_flow": null,
            "grid_auto_rows": null,
            "grid_column": null,
            "grid_gap": null,
            "grid_row": null,
            "grid_template_areas": null,
            "grid_template_columns": null,
            "grid_template_rows": null,
            "height": null,
            "justify_content": null,
            "justify_items": null,
            "left": null,
            "margin": null,
            "max_height": null,
            "max_width": null,
            "min_height": null,
            "min_width": null,
            "object_fit": null,
            "object_position": null,
            "order": null,
            "overflow": null,
            "overflow_x": null,
            "overflow_y": null,
            "padding": null,
            "right": null,
            "top": null,
            "visibility": null,
            "width": null
          }
        },
        "b6cda28781b94baa97b79bd31506418c": {
          "model_module": "@jupyter-widgets/controls",
          "model_name": "DescriptionStyleModel",
          "model_module_version": "1.5.0",
          "state": {
            "_model_module": "@jupyter-widgets/controls",
            "_model_module_version": "1.5.0",
            "_model_name": "DescriptionStyleModel",
            "_view_count": null,
            "_view_module": "@jupyter-widgets/base",
            "_view_module_version": "1.2.0",
            "_view_name": "StyleView",
            "description_width": ""
          }
        },
        "f3933300f91748ffa38425ed06c68521": {
          "model_module": "@jupyter-widgets/base",
          "model_name": "LayoutModel",
          "model_module_version": "1.2.0",
          "state": {
            "_model_module": "@jupyter-widgets/base",
            "_model_module_version": "1.2.0",
            "_model_name": "LayoutModel",
            "_view_count": null,
            "_view_module": "@jupyter-widgets/base",
            "_view_module_version": "1.2.0",
            "_view_name": "LayoutView",
            "align_content": null,
            "align_items": null,
            "align_self": null,
            "border": null,
            "bottom": null,
            "display": null,
            "flex": null,
            "flex_flow": null,
            "grid_area": null,
            "grid_auto_columns": null,
            "grid_auto_flow": null,
            "grid_auto_rows": null,
            "grid_column": null,
            "grid_gap": null,
            "grid_row": null,
            "grid_template_areas": null,
            "grid_template_columns": null,
            "grid_template_rows": null,
            "height": null,
            "justify_content": null,
            "justify_items": null,
            "left": null,
            "margin": null,
            "max_height": null,
            "max_width": null,
            "min_height": null,
            "min_width": null,
            "object_fit": null,
            "object_position": null,
            "order": null,
            "overflow": null,
            "overflow_x": null,
            "overflow_y": null,
            "padding": null,
            "right": null,
            "top": null,
            "visibility": null,
            "width": null
          }
        },
        "a092fd744f2c46acabd8006c0d41906c": {
          "model_module": "@jupyter-widgets/controls",
          "model_name": "ProgressStyleModel",
          "model_module_version": "1.5.0",
          "state": {
            "_model_module": "@jupyter-widgets/controls",
            "_model_module_version": "1.5.0",
            "_model_name": "ProgressStyleModel",
            "_view_count": null,
            "_view_module": "@jupyter-widgets/base",
            "_view_module_version": "1.2.0",
            "_view_name": "StyleView",
            "bar_color": null,
            "description_width": ""
          }
        },
        "3f0f4ba81a7447d29e6e2dcade3f91c0": {
          "model_module": "@jupyter-widgets/base",
          "model_name": "LayoutModel",
          "model_module_version": "1.2.0",
          "state": {
            "_model_module": "@jupyter-widgets/base",
            "_model_module_version": "1.2.0",
            "_model_name": "LayoutModel",
            "_view_count": null,
            "_view_module": "@jupyter-widgets/base",
            "_view_module_version": "1.2.0",
            "_view_name": "LayoutView",
            "align_content": null,
            "align_items": null,
            "align_self": null,
            "border": null,
            "bottom": null,
            "display": null,
            "flex": null,
            "flex_flow": null,
            "grid_area": null,
            "grid_auto_columns": null,
            "grid_auto_flow": null,
            "grid_auto_rows": null,
            "grid_column": null,
            "grid_gap": null,
            "grid_row": null,
            "grid_template_areas": null,
            "grid_template_columns": null,
            "grid_template_rows": null,
            "height": null,
            "justify_content": null,
            "justify_items": null,
            "left": null,
            "margin": null,
            "max_height": null,
            "max_width": null,
            "min_height": null,
            "min_width": null,
            "object_fit": null,
            "object_position": null,
            "order": null,
            "overflow": null,
            "overflow_x": null,
            "overflow_y": null,
            "padding": null,
            "right": null,
            "top": null,
            "visibility": null,
            "width": null
          }
        },
        "6122fe6344f54322ac0da7b0184583e9": {
          "model_module": "@jupyter-widgets/controls",
          "model_name": "DescriptionStyleModel",
          "model_module_version": "1.5.0",
          "state": {
            "_model_module": "@jupyter-widgets/controls",
            "_model_module_version": "1.5.0",
            "_model_name": "DescriptionStyleModel",
            "_view_count": null,
            "_view_module": "@jupyter-widgets/base",
            "_view_module_version": "1.2.0",
            "_view_name": "StyleView",
            "description_width": ""
          }
        },
        "cce9f82964dd489aa6cf0a0d5f3a0bb3": {
          "model_module": "@jupyter-widgets/controls",
          "model_name": "HBoxModel",
          "model_module_version": "1.5.0",
          "state": {
            "_dom_classes": [],
            "_model_module": "@jupyter-widgets/controls",
            "_model_module_version": "1.5.0",
            "_model_name": "HBoxModel",
            "_view_count": null,
            "_view_module": "@jupyter-widgets/controls",
            "_view_module_version": "1.5.0",
            "_view_name": "HBoxView",
            "box_style": "",
            "children": [
              "IPY_MODEL_967c344665a94edbbf82846f1a16109e",
              "IPY_MODEL_12cf27205e524261b40b060a341c7084",
              "IPY_MODEL_e9b48b6c74c04d069da3fffbb4b96417"
            ],
            "layout": "IPY_MODEL_efbe673d0add4be1979dcdba832032d0"
          }
        },
        "967c344665a94edbbf82846f1a16109e": {
          "model_module": "@jupyter-widgets/controls",
          "model_name": "HTMLModel",
          "model_module_version": "1.5.0",
          "state": {
            "_dom_classes": [],
            "_model_module": "@jupyter-widgets/controls",
            "_model_module_version": "1.5.0",
            "_model_name": "HTMLModel",
            "_view_count": null,
            "_view_module": "@jupyter-widgets/controls",
            "_view_module_version": "1.5.0",
            "_view_name": "HTMLView",
            "description": "",
            "description_tooltip": null,
            "layout": "IPY_MODEL_f32986c9e4c641f1959a530df282c95c",
            "placeholder": "​",
            "style": "IPY_MODEL_506216bdbdc9476d87dafdcd3d4ad78d",
            "value": "100%"
          }
        },
        "12cf27205e524261b40b060a341c7084": {
          "model_module": "@jupyter-widgets/controls",
          "model_name": "FloatProgressModel",
          "model_module_version": "1.5.0",
          "state": {
            "_dom_classes": [],
            "_model_module": "@jupyter-widgets/controls",
            "_model_module_version": "1.5.0",
            "_model_name": "FloatProgressModel",
            "_view_count": null,
            "_view_module": "@jupyter-widgets/controls",
            "_view_module_version": "1.5.0",
            "_view_name": "ProgressView",
            "bar_style": "success",
            "description": "",
            "description_tooltip": null,
            "layout": "IPY_MODEL_6bf445ed801b4035ad916a40f2d1149b",
            "max": 1648877,
            "min": 0,
            "orientation": "horizontal",
            "style": "IPY_MODEL_d75cbda1dbf84312aead52cd9dffaece",
            "value": 1648877
          }
        },
        "e9b48b6c74c04d069da3fffbb4b96417": {
          "model_module": "@jupyter-widgets/controls",
          "model_name": "HTMLModel",
          "model_module_version": "1.5.0",
          "state": {
            "_dom_classes": [],
            "_model_module": "@jupyter-widgets/controls",
            "_model_module_version": "1.5.0",
            "_model_name": "HTMLModel",
            "_view_count": null,
            "_view_module": "@jupyter-widgets/controls",
            "_view_module_version": "1.5.0",
            "_view_name": "HTMLView",
            "description": "",
            "description_tooltip": null,
            "layout": "IPY_MODEL_1bf801a60e034f59b6f9329cb9b4d556",
            "placeholder": "​",
            "style": "IPY_MODEL_88806227c0cd48b1a6d56795c3e7908f",
            "value": " 1648877/1648877 [00:00&lt;00:00, 19742091.04it/s]"
          }
        },
        "efbe673d0add4be1979dcdba832032d0": {
          "model_module": "@jupyter-widgets/base",
          "model_name": "LayoutModel",
          "model_module_version": "1.2.0",
          "state": {
            "_model_module": "@jupyter-widgets/base",
            "_model_module_version": "1.2.0",
            "_model_name": "LayoutModel",
            "_view_count": null,
            "_view_module": "@jupyter-widgets/base",
            "_view_module_version": "1.2.0",
            "_view_name": "LayoutView",
            "align_content": null,
            "align_items": null,
            "align_self": null,
            "border": null,
            "bottom": null,
            "display": null,
            "flex": null,
            "flex_flow": null,
            "grid_area": null,
            "grid_auto_columns": null,
            "grid_auto_flow": null,
            "grid_auto_rows": null,
            "grid_column": null,
            "grid_gap": null,
            "grid_row": null,
            "grid_template_areas": null,
            "grid_template_columns": null,
            "grid_template_rows": null,
            "height": null,
            "justify_content": null,
            "justify_items": null,
            "left": null,
            "margin": null,
            "max_height": null,
            "max_width": null,
            "min_height": null,
            "min_width": null,
            "object_fit": null,
            "object_position": null,
            "order": null,
            "overflow": null,
            "overflow_x": null,
            "overflow_y": null,
            "padding": null,
            "right": null,
            "top": null,
            "visibility": null,
            "width": null
          }
        },
        "f32986c9e4c641f1959a530df282c95c": {
          "model_module": "@jupyter-widgets/base",
          "model_name": "LayoutModel",
          "model_module_version": "1.2.0",
          "state": {
            "_model_module": "@jupyter-widgets/base",
            "_model_module_version": "1.2.0",
            "_model_name": "LayoutModel",
            "_view_count": null,
            "_view_module": "@jupyter-widgets/base",
            "_view_module_version": "1.2.0",
            "_view_name": "LayoutView",
            "align_content": null,
            "align_items": null,
            "align_self": null,
            "border": null,
            "bottom": null,
            "display": null,
            "flex": null,
            "flex_flow": null,
            "grid_area": null,
            "grid_auto_columns": null,
            "grid_auto_flow": null,
            "grid_auto_rows": null,
            "grid_column": null,
            "grid_gap": null,
            "grid_row": null,
            "grid_template_areas": null,
            "grid_template_columns": null,
            "grid_template_rows": null,
            "height": null,
            "justify_content": null,
            "justify_items": null,
            "left": null,
            "margin": null,
            "max_height": null,
            "max_width": null,
            "min_height": null,
            "min_width": null,
            "object_fit": null,
            "object_position": null,
            "order": null,
            "overflow": null,
            "overflow_x": null,
            "overflow_y": null,
            "padding": null,
            "right": null,
            "top": null,
            "visibility": null,
            "width": null
          }
        },
        "506216bdbdc9476d87dafdcd3d4ad78d": {
          "model_module": "@jupyter-widgets/controls",
          "model_name": "DescriptionStyleModel",
          "model_module_version": "1.5.0",
          "state": {
            "_model_module": "@jupyter-widgets/controls",
            "_model_module_version": "1.5.0",
            "_model_name": "DescriptionStyleModel",
            "_view_count": null,
            "_view_module": "@jupyter-widgets/base",
            "_view_module_version": "1.2.0",
            "_view_name": "StyleView",
            "description_width": ""
          }
        },
        "6bf445ed801b4035ad916a40f2d1149b": {
          "model_module": "@jupyter-widgets/base",
          "model_name": "LayoutModel",
          "model_module_version": "1.2.0",
          "state": {
            "_model_module": "@jupyter-widgets/base",
            "_model_module_version": "1.2.0",
            "_model_name": "LayoutModel",
            "_view_count": null,
            "_view_module": "@jupyter-widgets/base",
            "_view_module_version": "1.2.0",
            "_view_name": "LayoutView",
            "align_content": null,
            "align_items": null,
            "align_self": null,
            "border": null,
            "bottom": null,
            "display": null,
            "flex": null,
            "flex_flow": null,
            "grid_area": null,
            "grid_auto_columns": null,
            "grid_auto_flow": null,
            "grid_auto_rows": null,
            "grid_column": null,
            "grid_gap": null,
            "grid_row": null,
            "grid_template_areas": null,
            "grid_template_columns": null,
            "grid_template_rows": null,
            "height": null,
            "justify_content": null,
            "justify_items": null,
            "left": null,
            "margin": null,
            "max_height": null,
            "max_width": null,
            "min_height": null,
            "min_width": null,
            "object_fit": null,
            "object_position": null,
            "order": null,
            "overflow": null,
            "overflow_x": null,
            "overflow_y": null,
            "padding": null,
            "right": null,
            "top": null,
            "visibility": null,
            "width": null
          }
        },
        "d75cbda1dbf84312aead52cd9dffaece": {
          "model_module": "@jupyter-widgets/controls",
          "model_name": "ProgressStyleModel",
          "model_module_version": "1.5.0",
          "state": {
            "_model_module": "@jupyter-widgets/controls",
            "_model_module_version": "1.5.0",
            "_model_name": "ProgressStyleModel",
            "_view_count": null,
            "_view_module": "@jupyter-widgets/base",
            "_view_module_version": "1.2.0",
            "_view_name": "StyleView",
            "bar_color": null,
            "description_width": ""
          }
        },
        "1bf801a60e034f59b6f9329cb9b4d556": {
          "model_module": "@jupyter-widgets/base",
          "model_name": "LayoutModel",
          "model_module_version": "1.2.0",
          "state": {
            "_model_module": "@jupyter-widgets/base",
            "_model_module_version": "1.2.0",
            "_model_name": "LayoutModel",
            "_view_count": null,
            "_view_module": "@jupyter-widgets/base",
            "_view_module_version": "1.2.0",
            "_view_name": "LayoutView",
            "align_content": null,
            "align_items": null,
            "align_self": null,
            "border": null,
            "bottom": null,
            "display": null,
            "flex": null,
            "flex_flow": null,
            "grid_area": null,
            "grid_auto_columns": null,
            "grid_auto_flow": null,
            "grid_auto_rows": null,
            "grid_column": null,
            "grid_gap": null,
            "grid_row": null,
            "grid_template_areas": null,
            "grid_template_columns": null,
            "grid_template_rows": null,
            "height": null,
            "justify_content": null,
            "justify_items": null,
            "left": null,
            "margin": null,
            "max_height": null,
            "max_width": null,
            "min_height": null,
            "min_width": null,
            "object_fit": null,
            "object_position": null,
            "order": null,
            "overflow": null,
            "overflow_x": null,
            "overflow_y": null,
            "padding": null,
            "right": null,
            "top": null,
            "visibility": null,
            "width": null
          }
        },
        "88806227c0cd48b1a6d56795c3e7908f": {
          "model_module": "@jupyter-widgets/controls",
          "model_name": "DescriptionStyleModel",
          "model_module_version": "1.5.0",
          "state": {
            "_model_module": "@jupyter-widgets/controls",
            "_model_module_version": "1.5.0",
            "_model_name": "DescriptionStyleModel",
            "_view_count": null,
            "_view_module": "@jupyter-widgets/base",
            "_view_module_version": "1.2.0",
            "_view_name": "StyleView",
            "description_width": ""
          }
        },
        "2a2c8767fd1140bba7259e6345b72f2c": {
          "model_module": "@jupyter-widgets/controls",
          "model_name": "HBoxModel",
          "model_module_version": "1.5.0",
          "state": {
            "_dom_classes": [],
            "_model_module": "@jupyter-widgets/controls",
            "_model_module_version": "1.5.0",
            "_model_name": "HBoxModel",
            "_view_count": null,
            "_view_module": "@jupyter-widgets/controls",
            "_view_module_version": "1.5.0",
            "_view_name": "HBoxView",
            "box_style": "",
            "children": [
              "IPY_MODEL_c8a94a9bd7204aec8c95ed831f885682",
              "IPY_MODEL_66baf3affa8049c89843a6ce73f415e0",
              "IPY_MODEL_8c75ae5ac0a048b8b9c0c920c2932e9d"
            ],
            "layout": "IPY_MODEL_ddfa18c10b724709b722a6f7a69b0172"
          }
        },
        "c8a94a9bd7204aec8c95ed831f885682": {
          "model_module": "@jupyter-widgets/controls",
          "model_name": "HTMLModel",
          "model_module_version": "1.5.0",
          "state": {
            "_dom_classes": [],
            "_model_module": "@jupyter-widgets/controls",
            "_model_module_version": "1.5.0",
            "_model_name": "HTMLModel",
            "_view_count": null,
            "_view_module": "@jupyter-widgets/controls",
            "_view_module_version": "1.5.0",
            "_view_name": "HTMLView",
            "description": "",
            "description_tooltip": null,
            "layout": "IPY_MODEL_731d868f1caf4095b5fe0e2d91b91776",
            "placeholder": "​",
            "style": "IPY_MODEL_4df1ab8a33954fe1a41aab4ebb22bf49",
            "value": "100%"
          }
        },
        "66baf3affa8049c89843a6ce73f415e0": {
          "model_module": "@jupyter-widgets/controls",
          "model_name": "FloatProgressModel",
          "model_module_version": "1.5.0",
          "state": {
            "_dom_classes": [],
            "_model_module": "@jupyter-widgets/controls",
            "_model_module_version": "1.5.0",
            "_model_name": "FloatProgressModel",
            "_view_count": null,
            "_view_module": "@jupyter-widgets/controls",
            "_view_module_version": "1.5.0",
            "_view_name": "ProgressView",
            "bar_style": "success",
            "description": "",
            "description_tooltip": null,
            "layout": "IPY_MODEL_64ab0447c9d94367b7bbe22e8cd79e2f",
            "max": 4542,
            "min": 0,
            "orientation": "horizontal",
            "style": "IPY_MODEL_6a190010728e4653a87f424e58b7ab05",
            "value": 4542
          }
        },
        "8c75ae5ac0a048b8b9c0c920c2932e9d": {
          "model_module": "@jupyter-widgets/controls",
          "model_name": "HTMLModel",
          "model_module_version": "1.5.0",
          "state": {
            "_dom_classes": [],
            "_model_module": "@jupyter-widgets/controls",
            "_model_module_version": "1.5.0",
            "_model_name": "HTMLModel",
            "_view_count": null,
            "_view_module": "@jupyter-widgets/controls",
            "_view_module_version": "1.5.0",
            "_view_name": "HTMLView",
            "description": "",
            "description_tooltip": null,
            "layout": "IPY_MODEL_13a4a15ced54470c9cd544cba83f8f23",
            "placeholder": "​",
            "style": "IPY_MODEL_83c26231fba44e61a44e379cba5c1e8f",
            "value": " 4542/4542 [00:00&lt;00:00, 165826.92it/s]"
          }
        },
        "ddfa18c10b724709b722a6f7a69b0172": {
          "model_module": "@jupyter-widgets/base",
          "model_name": "LayoutModel",
          "model_module_version": "1.2.0",
          "state": {
            "_model_module": "@jupyter-widgets/base",
            "_model_module_version": "1.2.0",
            "_model_name": "LayoutModel",
            "_view_count": null,
            "_view_module": "@jupyter-widgets/base",
            "_view_module_version": "1.2.0",
            "_view_name": "LayoutView",
            "align_content": null,
            "align_items": null,
            "align_self": null,
            "border": null,
            "bottom": null,
            "display": null,
            "flex": null,
            "flex_flow": null,
            "grid_area": null,
            "grid_auto_columns": null,
            "grid_auto_flow": null,
            "grid_auto_rows": null,
            "grid_column": null,
            "grid_gap": null,
            "grid_row": null,
            "grid_template_areas": null,
            "grid_template_columns": null,
            "grid_template_rows": null,
            "height": null,
            "justify_content": null,
            "justify_items": null,
            "left": null,
            "margin": null,
            "max_height": null,
            "max_width": null,
            "min_height": null,
            "min_width": null,
            "object_fit": null,
            "object_position": null,
            "order": null,
            "overflow": null,
            "overflow_x": null,
            "overflow_y": null,
            "padding": null,
            "right": null,
            "top": null,
            "visibility": null,
            "width": null
          }
        },
        "731d868f1caf4095b5fe0e2d91b91776": {
          "model_module": "@jupyter-widgets/base",
          "model_name": "LayoutModel",
          "model_module_version": "1.2.0",
          "state": {
            "_model_module": "@jupyter-widgets/base",
            "_model_module_version": "1.2.0",
            "_model_name": "LayoutModel",
            "_view_count": null,
            "_view_module": "@jupyter-widgets/base",
            "_view_module_version": "1.2.0",
            "_view_name": "LayoutView",
            "align_content": null,
            "align_items": null,
            "align_self": null,
            "border": null,
            "bottom": null,
            "display": null,
            "flex": null,
            "flex_flow": null,
            "grid_area": null,
            "grid_auto_columns": null,
            "grid_auto_flow": null,
            "grid_auto_rows": null,
            "grid_column": null,
            "grid_gap": null,
            "grid_row": null,
            "grid_template_areas": null,
            "grid_template_columns": null,
            "grid_template_rows": null,
            "height": null,
            "justify_content": null,
            "justify_items": null,
            "left": null,
            "margin": null,
            "max_height": null,
            "max_width": null,
            "min_height": null,
            "min_width": null,
            "object_fit": null,
            "object_position": null,
            "order": null,
            "overflow": null,
            "overflow_x": null,
            "overflow_y": null,
            "padding": null,
            "right": null,
            "top": null,
            "visibility": null,
            "width": null
          }
        },
        "4df1ab8a33954fe1a41aab4ebb22bf49": {
          "model_module": "@jupyter-widgets/controls",
          "model_name": "DescriptionStyleModel",
          "model_module_version": "1.5.0",
          "state": {
            "_model_module": "@jupyter-widgets/controls",
            "_model_module_version": "1.5.0",
            "_model_name": "DescriptionStyleModel",
            "_view_count": null,
            "_view_module": "@jupyter-widgets/base",
            "_view_module_version": "1.2.0",
            "_view_name": "StyleView",
            "description_width": ""
          }
        },
        "64ab0447c9d94367b7bbe22e8cd79e2f": {
          "model_module": "@jupyter-widgets/base",
          "model_name": "LayoutModel",
          "model_module_version": "1.2.0",
          "state": {
            "_model_module": "@jupyter-widgets/base",
            "_model_module_version": "1.2.0",
            "_model_name": "LayoutModel",
            "_view_count": null,
            "_view_module": "@jupyter-widgets/base",
            "_view_module_version": "1.2.0",
            "_view_name": "LayoutView",
            "align_content": null,
            "align_items": null,
            "align_self": null,
            "border": null,
            "bottom": null,
            "display": null,
            "flex": null,
            "flex_flow": null,
            "grid_area": null,
            "grid_auto_columns": null,
            "grid_auto_flow": null,
            "grid_auto_rows": null,
            "grid_column": null,
            "grid_gap": null,
            "grid_row": null,
            "grid_template_areas": null,
            "grid_template_columns": null,
            "grid_template_rows": null,
            "height": null,
            "justify_content": null,
            "justify_items": null,
            "left": null,
            "margin": null,
            "max_height": null,
            "max_width": null,
            "min_height": null,
            "min_width": null,
            "object_fit": null,
            "object_position": null,
            "order": null,
            "overflow": null,
            "overflow_x": null,
            "overflow_y": null,
            "padding": null,
            "right": null,
            "top": null,
            "visibility": null,
            "width": null
          }
        },
        "6a190010728e4653a87f424e58b7ab05": {
          "model_module": "@jupyter-widgets/controls",
          "model_name": "ProgressStyleModel",
          "model_module_version": "1.5.0",
          "state": {
            "_model_module": "@jupyter-widgets/controls",
            "_model_module_version": "1.5.0",
            "_model_name": "ProgressStyleModel",
            "_view_count": null,
            "_view_module": "@jupyter-widgets/base",
            "_view_module_version": "1.2.0",
            "_view_name": "StyleView",
            "bar_color": null,
            "description_width": ""
          }
        },
        "13a4a15ced54470c9cd544cba83f8f23": {
          "model_module": "@jupyter-widgets/base",
          "model_name": "LayoutModel",
          "model_module_version": "1.2.0",
          "state": {
            "_model_module": "@jupyter-widgets/base",
            "_model_module_version": "1.2.0",
            "_model_name": "LayoutModel",
            "_view_count": null,
            "_view_module": "@jupyter-widgets/base",
            "_view_module_version": "1.2.0",
            "_view_name": "LayoutView",
            "align_content": null,
            "align_items": null,
            "align_self": null,
            "border": null,
            "bottom": null,
            "display": null,
            "flex": null,
            "flex_flow": null,
            "grid_area": null,
            "grid_auto_columns": null,
            "grid_auto_flow": null,
            "grid_auto_rows": null,
            "grid_column": null,
            "grid_gap": null,
            "grid_row": null,
            "grid_template_areas": null,
            "grid_template_columns": null,
            "grid_template_rows": null,
            "height": null,
            "justify_content": null,
            "justify_items": null,
            "left": null,
            "margin": null,
            "max_height": null,
            "max_width": null,
            "min_height": null,
            "min_width": null,
            "object_fit": null,
            "object_position": null,
            "order": null,
            "overflow": null,
            "overflow_x": null,
            "overflow_y": null,
            "padding": null,
            "right": null,
            "top": null,
            "visibility": null,
            "width": null
          }
        },
        "83c26231fba44e61a44e379cba5c1e8f": {
          "model_module": "@jupyter-widgets/controls",
          "model_name": "DescriptionStyleModel",
          "model_module_version": "1.5.0",
          "state": {
            "_model_module": "@jupyter-widgets/controls",
            "_model_module_version": "1.5.0",
            "_model_name": "DescriptionStyleModel",
            "_view_count": null,
            "_view_module": "@jupyter-widgets/base",
            "_view_module_version": "1.2.0",
            "_view_name": "StyleView",
            "description_width": ""
          }
        }
      }
    }
  },
  "cells": [
    {
      "cell_type": "markdown",
      "metadata": {
        "id": "view-in-github",
        "colab_type": "text"
      },
      "source": [
        "<a href=\"https://colab.research.google.com/github/Renshui-MC/DeepLearning-ZerosToGans/blob/main/logistic%20regression.ipynb\" target=\"_parent\"><img src=\"https://colab.research.google.com/assets/colab-badge.svg\" alt=\"Open In Colab\"/></a>"
      ]
    },
    {
      "cell_type": "markdown",
      "source": [
        "# **Working with Images & Logistic Regression in PyTorch**\n",
        "\n",
        "+ use linear regression to do **image classification**\n",
        "+ instead of taking numbers, we take **images** as input features and determine what digits the images represent\n",
        "+ `torchvision` is a package that contains `datasets` module from which we import `MNIST` class"
      ],
      "metadata": {
        "id": "hgA1L4BDfbOb"
      }
    },
    {
      "cell_type": "code",
      "execution_count": null,
      "metadata": {
        "id": "YdlIrbq_AQ1i"
      },
      "outputs": [],
      "source": [
        "import torch\n",
        "import torchvision\n",
        "from torchvision.datasets import MNIST"
      ]
    },
    {
      "cell_type": "markdown",
      "source": [
        "Let's download training datasets\n",
        "\n",
        "+ instantiate the class `MNIST`\n",
        "+ the `dataset` object is already converted to a `PyTorch` type object\n",
        "+ the `dataset` object can access the methods defined under `MNIST`\n",
        "+ `Download = True` checks if the data are already downloaded\n",
        "+ it downloads the data to the `data/` directory \n"
      ],
      "metadata": {
        "id": "1fADy0xojGxE"
      }
    },
    {
      "cell_type": "code",
      "source": [
        "dataset = MNIST(root='data/', download=True)"
      ],
      "metadata": {
        "id": "58dg5nhojOOt",
        "colab": {
          "base_uri": "https://localhost:8080/",
          "height": 431,
          "referenced_widgets": [
            "fbb8b8c37c65486da0b5f78ac93f063d",
            "869dc37b1b6944958b5be157614e59fe",
            "21037145e1b046a895e04dbef53ac5a6",
            "09adab81ac10410abb11a7aafcece2b0",
            "867e7017e40b4cfa9178f918aea3366d",
            "2fc1088d0ead454e884e6225bd89939d",
            "ac98bf3b567f42f6825c4b7c7f15f98e",
            "d14d2c4b5f4848238f022c6a791d7a91",
            "053a17f383cc479985075be143e7dc09",
            "4efb4fe4f2c3412d93a2fe368cf71ddb",
            "620f860db3a44433b2f2c0ca4679ac1b",
            "825ff61542964ae0af0490a1eff257f2",
            "c1c52969efc947e78f313576eb05b916",
            "03a6f2dff7d24bb6aee136ae53f523af",
            "c3d1c6a884cc4664ac7c1f5f3fde5549",
            "40c0d6103e7243ff92498b769c6b885f",
            "8e469911b4004e1296e56a38ec871f48",
            "b6cda28781b94baa97b79bd31506418c",
            "f3933300f91748ffa38425ed06c68521",
            "a092fd744f2c46acabd8006c0d41906c",
            "3f0f4ba81a7447d29e6e2dcade3f91c0",
            "6122fe6344f54322ac0da7b0184583e9",
            "cce9f82964dd489aa6cf0a0d5f3a0bb3",
            "967c344665a94edbbf82846f1a16109e",
            "12cf27205e524261b40b060a341c7084",
            "e9b48b6c74c04d069da3fffbb4b96417",
            "efbe673d0add4be1979dcdba832032d0",
            "f32986c9e4c641f1959a530df282c95c",
            "506216bdbdc9476d87dafdcd3d4ad78d",
            "6bf445ed801b4035ad916a40f2d1149b",
            "d75cbda1dbf84312aead52cd9dffaece",
            "1bf801a60e034f59b6f9329cb9b4d556",
            "88806227c0cd48b1a6d56795c3e7908f",
            "2a2c8767fd1140bba7259e6345b72f2c",
            "c8a94a9bd7204aec8c95ed831f885682",
            "66baf3affa8049c89843a6ce73f415e0",
            "8c75ae5ac0a048b8b9c0c920c2932e9d",
            "ddfa18c10b724709b722a6f7a69b0172",
            "731d868f1caf4095b5fe0e2d91b91776",
            "4df1ab8a33954fe1a41aab4ebb22bf49",
            "64ab0447c9d94367b7bbe22e8cd79e2f",
            "6a190010728e4653a87f424e58b7ab05",
            "13a4a15ced54470c9cd544cba83f8f23",
            "83c26231fba44e61a44e379cba5c1e8f"
          ]
        },
        "outputId": "9e5dcbfe-c36b-495c-c550-e58465c80852"
      },
      "execution_count": null,
      "outputs": [
        {
          "output_type": "stream",
          "name": "stdout",
          "text": [
            "Downloading http://yann.lecun.com/exdb/mnist/train-images-idx3-ubyte.gz\n",
            "Downloading http://yann.lecun.com/exdb/mnist/train-images-idx3-ubyte.gz to data/MNIST/raw/train-images-idx3-ubyte.gz\n"
          ]
        },
        {
          "output_type": "display_data",
          "data": {
            "text/plain": [
              "  0%|          | 0/9912422 [00:00<?, ?it/s]"
            ],
            "application/vnd.jupyter.widget-view+json": {
              "version_major": 2,
              "version_minor": 0,
              "model_id": "fbb8b8c37c65486da0b5f78ac93f063d"
            }
          },
          "metadata": {}
        },
        {
          "output_type": "stream",
          "name": "stdout",
          "text": [
            "Extracting data/MNIST/raw/train-images-idx3-ubyte.gz to data/MNIST/raw\n",
            "\n",
            "Downloading http://yann.lecun.com/exdb/mnist/train-labels-idx1-ubyte.gz\n",
            "Downloading http://yann.lecun.com/exdb/mnist/train-labels-idx1-ubyte.gz to data/MNIST/raw/train-labels-idx1-ubyte.gz\n"
          ]
        },
        {
          "output_type": "display_data",
          "data": {
            "text/plain": [
              "  0%|          | 0/28881 [00:00<?, ?it/s]"
            ],
            "application/vnd.jupyter.widget-view+json": {
              "version_major": 2,
              "version_minor": 0,
              "model_id": "825ff61542964ae0af0490a1eff257f2"
            }
          },
          "metadata": {}
        },
        {
          "output_type": "stream",
          "name": "stdout",
          "text": [
            "Extracting data/MNIST/raw/train-labels-idx1-ubyte.gz to data/MNIST/raw\n",
            "\n",
            "Downloading http://yann.lecun.com/exdb/mnist/t10k-images-idx3-ubyte.gz\n",
            "Downloading http://yann.lecun.com/exdb/mnist/t10k-images-idx3-ubyte.gz to data/MNIST/raw/t10k-images-idx3-ubyte.gz\n"
          ]
        },
        {
          "output_type": "display_data",
          "data": {
            "text/plain": [
              "  0%|          | 0/1648877 [00:00<?, ?it/s]"
            ],
            "application/vnd.jupyter.widget-view+json": {
              "version_major": 2,
              "version_minor": 0,
              "model_id": "cce9f82964dd489aa6cf0a0d5f3a0bb3"
            }
          },
          "metadata": {}
        },
        {
          "output_type": "stream",
          "name": "stdout",
          "text": [
            "Extracting data/MNIST/raw/t10k-images-idx3-ubyte.gz to data/MNIST/raw\n",
            "\n",
            "Downloading http://yann.lecun.com/exdb/mnist/t10k-labels-idx1-ubyte.gz\n",
            "Downloading http://yann.lecun.com/exdb/mnist/t10k-labels-idx1-ubyte.gz to data/MNIST/raw/t10k-labels-idx1-ubyte.gz\n"
          ]
        },
        {
          "output_type": "display_data",
          "data": {
            "text/plain": [
              "  0%|          | 0/4542 [00:00<?, ?it/s]"
            ],
            "application/vnd.jupyter.widget-view+json": {
              "version_major": 2,
              "version_minor": 0,
              "model_id": "2a2c8767fd1140bba7259e6345b72f2c"
            }
          },
          "metadata": {}
        },
        {
          "output_type": "stream",
          "name": "stdout",
          "text": [
            "Extracting data/MNIST/raw/t10k-labels-idx1-ubyte.gz to data/MNIST/raw\n",
            "\n"
          ]
        }
      ]
    },
    {
      "cell_type": "markdown",
      "source": [
        "check how many elements/samples that the dataset contains"
      ],
      "metadata": {
        "id": "UthbvLjUkssv"
      }
    },
    {
      "cell_type": "code",
      "source": [
        "len(dataset)"
      ],
      "metadata": {
        "colab": {
          "base_uri": "https://localhost:8080/"
        },
        "id": "vXKbcGbWk0E6",
        "outputId": "fb0f8eaf-ef8c-447b-9cc2-ecec7c2cec42"
      },
      "execution_count": null,
      "outputs": [
        {
          "output_type": "execute_result",
          "data": {
            "text/plain": [
              "60000"
            ]
          },
          "metadata": {},
          "execution_count": 3
        }
      ]
    },
    {
      "cell_type": "markdown",
      "source": [
        "The dataset has **60,000 images** that we'll use to **train the model**. There is also an additional **test set** of **10,000 images** used for **evaluating models** and reporting **metrics** in papers and reports. \n",
        "\n",
        "+ We can create the test dataset using the `MNIST` class by passing `train=False` to the constructor."
      ],
      "metadata": {
        "id": "Adwn5HlTlEv_"
      }
    },
    {
      "cell_type": "code",
      "source": [
        "test_dataset = MNIST(root='data/', train=False)\n",
        "len(test_dataset)"
      ],
      "metadata": {
        "colab": {
          "base_uri": "https://localhost:8080/"
        },
        "id": "QUaluveul9TK",
        "outputId": "d3258fb1-0bf4-4eef-f499-5eb151629604"
      },
      "execution_count": null,
      "outputs": [
        {
          "output_type": "execute_result",
          "data": {
            "text/plain": [
              "10000"
            ]
          },
          "metadata": {},
          "execution_count": 4
        }
      ]
    },
    {
      "cell_type": "markdown",
      "source": [
        "Let's look at a **sample element** from the **training dataset**.\n",
        "\n",
        "+ `PIL` is the [`Pillow`](https://pillow.readthedocs.io/en/stable/) library. `.image` module and `.image` class.\n",
        "+ `5` is the label for the image (because we have $0,..,9$)\n",
        "+ each image has $28 \\times 28$ pixels"
      ],
      "metadata": {
        "id": "mPVG3ljSm0EA"
      }
    },
    {
      "cell_type": "code",
      "source": [
        "dataset[0]"
      ],
      "metadata": {
        "colab": {
          "base_uri": "https://localhost:8080/"
        },
        "id": "fdAjNNDrrvs4",
        "outputId": "8278cd6a-783b-4de4-b1de-dff58fcf3102"
      },
      "execution_count": null,
      "outputs": [
        {
          "output_type": "execute_result",
          "data": {
            "text/plain": [
              "(<PIL.Image.Image image mode=L size=28x28 at 0x7FE68B250DC0>, 5)"
            ]
          },
          "metadata": {},
          "execution_count": 5
        }
      ]
    },
    {
      "cell_type": "markdown",
      "source": [
        "we can view this image using `matplotlib` library. Specifically, we want `pyplot` module from this library.\n",
        "\n",
        "+ very useful statement ([magic command ](https://ipython.readthedocs.io/en/stable/interactive/magics.html )) `%matplotlib inline` allows you to retain the image within the current notebook. Otherwise, the image will pop up once and then disappears after you close the notebook."
      ],
      "metadata": {
        "id": "MOQRhrVysvvj"
      }
    },
    {
      "cell_type": "code",
      "source": [
        "import matplotlib.pyplot as plt\n",
        "%matplotlib inline "
      ],
      "metadata": {
        "id": "7g4fG6Hqtly_"
      },
      "execution_count": null,
      "outputs": []
    },
    {
      "cell_type": "markdown",
      "source": [
        "Let's look at a couple of images from the dataset.\n",
        "\n",
        "+ `dataset[0]` indicates the first element of the dataset\n",
        "+ `cmap`: color map\n",
        "+ note that label $5$ just corresponds number $5$\n",
        "\n"
      ],
      "metadata": {
        "id": "DXml_M0dt-EH"
      }
    },
    {
      "cell_type": "code",
      "source": [
        "image, label = dataset[0]\n",
        "\n",
        "plt.imshow(image, cmap='gray')\n",
        "print('Label:', label)"
      ],
      "metadata": {
        "colab": {
          "base_uri": "https://localhost:8080/",
          "height": 283
        },
        "id": "IodsQjPits1W",
        "outputId": "b25c721e-1760-45ad-c3e2-f3b289584e74"
      },
      "execution_count": null,
      "outputs": [
        {
          "output_type": "stream",
          "name": "stdout",
          "text": [
            "Label: 5\n"
          ]
        },
        {
          "output_type": "display_data",
          "data": {
            "text/plain": [
              "<Figure size 432x288 with 1 Axes>"
            ],
            "image/png": "[encoded data removed]"
          },
          "metadata": {
            "needs_background": "light"
          }
        }
      ]
    },
    {
      "cell_type": "code",
      "source": [
        "image, label = dataset[1]\n",
        "\n",
        "plt.imshow(image, cmap='gray')\n",
        "print('Label:', label)"
      ],
      "metadata": {
        "colab": {
          "base_uri": "https://localhost:8080/",
          "height": 283
        },
        "id": "g5GF3zOIufRo",
        "outputId": "5c685629-fd14-4cf3-c486-b1c6704b3552"
      },
      "execution_count": null,
      "outputs": [
        {
          "output_type": "stream",
          "name": "stdout",
          "text": [
            "Label: 0\n"
          ]
        },
        {
          "output_type": "display_data",
          "data": {
            "text/plain": [
              "<Figure size 432x288 with 1 Axes>"
            ],
            "image/png": "[encoded data removed]"
          },
          "metadata": {
            "needs_background": "light"
          }
        }
      ]
    },
    {
      "cell_type": "markdown",
      "source": [
        "`PyTorch` doesn't know how to work with images. We need to **convert the images into tensors**. We can do this by **specifying a transform while creating our dataset**.\n",
        "\n",
        "+ `torchvision` library\n",
        "+ `transorm` module\n",
        "+ use `MNIST` class\n",
        "+ set `train=True` for training dataset\n",
        "+ `transform=transforms.ToTensor()` convert the image into tensor as we load the images"
      ],
      "metadata": {
        "id": "ms1WI7S5vD9P"
      }
    },
    {
      "cell_type": "code",
      "source": [
        "import torchvision.transforms as transforms"
      ],
      "metadata": {
        "id": "KJbTsM0FvbCX"
      },
      "execution_count": null,
      "outputs": []
    },
    {
      "cell_type": "code",
      "source": [
        "# MNIST dataset (images and labels)\n",
        "dataset = MNIST(root='data/', train=True, transform=transforms.ToTensor())"
      ],
      "metadata": {
        "id": "aowA-USZv2zs"
      },
      "execution_count": null,
      "outputs": []
    },
    {
      "cell_type": "markdown",
      "source": [
        "Let's first look at the shape of the converted tensor:\n",
        "\n",
        "+ `[1, 28, 28]` means every image is a three dimensional tensor\n",
        "+ every image is a $28 \\times 28$ matrix (color pixels)\n",
        "+ the first dimension `1` tracks **color channels**. In this case, `grayscale` is used. Typically, we have images with **three color channels**: **red, green and blue (RGB).**\n",
        "+ second and third dimensions ($28 \\times 28$) represent pixels along the **height and width** of the image, respectively. For each dataset element, we have a 28 x 28 matrix for each image\n",
        "+ 5 is the label of the image\n",
        "+ **Note that there are only $10$ distinct labels, i.e., 0,..,9 for all these images** "
      ],
      "metadata": {
        "id": "-6pSEpMnyNzP"
      }
    },
    {
      "cell_type": "code",
      "source": [
        "img_tensor, label = dataset[0]\n",
        "print(img_tensor.shape, label)"
      ],
      "metadata": {
        "colab": {
          "base_uri": "https://localhost:8080/"
        },
        "id": "aATnhndZxxLM",
        "outputId": "cbdfd272-2752-459e-e58a-dd4b7d803f9c"
      },
      "execution_count": null,
      "outputs": [
        {
          "output_type": "stream",
          "name": "stdout",
          "text": [
            "torch.Size([1, 28, 28]) 5\n"
          ]
        }
      ]
    },
    {
      "cell_type": "code",
      "source": [
        "img_tensor, label = dataset[30000]\n",
        "print(img_tensor.shape, label)"
      ],
      "metadata": {
        "colab": {
          "base_uri": "https://localhost:8080/"
        },
        "id": "_KAMK2btDHSY",
        "outputId": "6111c4ac-d8b6-423c-aa63-ad9d0311a886"
      },
      "execution_count": null,
      "outputs": [
        {
          "output_type": "stream",
          "name": "stdout",
          "text": [
            "torch.Size([1, 28, 28]) 3\n"
          ]
        }
      ]
    },
    {
      "cell_type": "code",
      "source": [
        "img_tensor, label = dataset[30200]\n",
        "print(img_tensor.shape, label)"
      ],
      "metadata": {
        "colab": {
          "base_uri": "https://localhost:8080/"
        },
        "id": "F7SgArIMDV5w",
        "outputId": "0dba5bed-880c-47c9-cea3-72cf94db1be0"
      },
      "execution_count": null,
      "outputs": [
        {
          "output_type": "stream",
          "name": "stdout",
          "text": [
            "torch.Size([1, 28, 28]) 1\n"
          ]
        }
      ]
    },
    {
      "cell_type": "markdown",
      "source": [
        "Now let's look at some sample values inside the tensor\n",
        "\n",
        "+ in order `[color channel index, rows indices, columns indices]`. \n",
        "+ Since we only have one color channel (recall `[1, 28, 28]` where $1$ indicates only one color channel available), we only have `index = 0` to get the first color channel. \n",
        "+ `10:15` indicates that $5 \\times 5$ pixels out of $28 \\times 28$ pixels are interested \n",
        "+ The values range from $0$ to $1$\n",
        "+ $0$ represents black, and $1$ white, and the values in between different shades of grey. "
      ],
      "metadata": {
        "id": "hPBebDQJ0mOY"
      }
    },
    {
      "cell_type": "code",
      "source": [
        "print(img_tensor[0,10:15,10:15])\n",
        "print(torch.max(img_tensor), torch.min(img_tensor))"
      ],
      "metadata": {
        "colab": {
          "base_uri": "https://localhost:8080/"
        },
        "id": "YcdLJQpC0tD-",
        "outputId": "899abd56-6ce9-40a1-e504-118402d3ec48"
      },
      "execution_count": null,
      "outputs": [
        {
          "output_type": "stream",
          "name": "stdout",
          "text": [
            "tensor([[0.0000, 0.0000, 0.5490, 0.9961, 0.8000],\n",
            "        [0.0000, 0.0000, 0.5490, 0.9961, 0.8000],\n",
            "        [0.0000, 0.0000, 0.5490, 0.9961, 0.8000],\n",
            "        [0.0000, 0.0000, 0.5490, 0.9961, 0.8000],\n",
            "        [0.0000, 0.0000, 0.5490, 0.9961, 0.8000]])\n",
            "tensor(1.) tensor(0.)\n"
          ]
        }
      ]
    },
    {
      "cell_type": "markdown",
      "source": [
        "We can also plot the tensor as an image using `plt.imshow`\n",
        "\n",
        "+ we need to pass a color map (`cmp=gray`)\n",
        "+ pass 28 x 28 matrix to `plt.imshow`"
      ],
      "metadata": {
        "id": "kttNUnqb2RUH"
      }
    },
    {
      "cell_type": "code",
      "source": [
        "# Plot the image by passing in the 28x28 matrix\n",
        "plt.imshow(img_tensor[0,10:15,10:15], cmap='gray');"
      ],
      "metadata": {
        "colab": {
          "base_uri": "https://localhost:8080/",
          "height": 265
        },
        "id": "PJf1VAvg2S3G",
        "outputId": "ca3a01ab-b6ce-47c1-c578-f1f753b5eb81"
      },
      "execution_count": null,
      "outputs": [
        {
          "output_type": "display_data",
          "data": {
            "text/plain": [
              "<Figure size 432x288 with 1 Axes>"
            ],
            "image/png": "[encoded data removed]"
          },
          "metadata": {
            "needs_background": "light"
          }
        }
      ]
    },
    {
      "cell_type": "markdown",
      "source": [
        "##**Training and Validation Datasets**\n",
        "\n",
        "While building real-world machine learning models, it is quite common to split the dataset into three parts:\n",
        "\n",
        "1. **Training set** - used to train the model, i.e., compute the loss and adjust the model's weights using gradient descent.\n",
        "2. **Validation set** - used to evaluate the model during training, adjust hyperparameters (learning rate, etc.), and pick the best version of the model.\n",
        "3. **Test set** - used to compare different models or approaches and report the model's final accuracy.\n",
        "\n",
        "In the MNIST dataset, there are 60,000 training images and 10,000 test images. The test set is **standardized** so that different researchers can report their models' results against the same collection of images. \n",
        "\n",
        "+ test set is not for training\n",
        "\n",
        "Since there's no predefined validation set, we must manually split the **60,000 images into training and validation datasets**. \n",
        "\n",
        "* Let's set aside 10,000 randomly chosen images for validation. We can do this using the `random_spilt` method from PyTorch.\n",
        "\n",
        "+ from the dataset ($60000$) we want \n",
        "\n",
        "+ $50000$ for training dataset (`train_ds`) and \n",
        "\n",
        "+ $10000$ for validation dataset (`val_ds`)\n",
        "\n",
        "\n",
        "\n"
      ],
      "metadata": {
        "id": "UYj6b-qx8Cbq"
      }
    },
    {
      "cell_type": "code",
      "source": [
        "from torch.utils.data import random_split\n",
        "\n",
        "train_ds, val_ds = random_split(dataset, [50000, 10000])\n",
        "len(train_ds), len(val_ds)"
      ],
      "metadata": {
        "colab": {
          "base_uri": "https://localhost:8080/"
        },
        "id": "u7dM8yMBlblo",
        "outputId": "eadd2822-c1f5-49a2-ac1c-45e1e2027523"
      },
      "execution_count": null,
      "outputs": [
        {
          "output_type": "execute_result",
          "data": {
            "text/plain": [
              "(50000, 10000)"
            ]
          },
          "metadata": {},
          "execution_count": 16
        }
      ]
    },
    {
      "cell_type": "markdown",
      "source": [
        "###**Randomization for training dataset `shuffle=True`**\n",
        "It's essential to choose a **random sample** for creating a validation set. Training data is often sorted by the target labels, i.e., images of 0s, followed by 1s, followed by 2s, etc. \n",
        "\n",
        "+ If we create a validation set using the last 20% of images, it would only consist of 8s and 9s. \n",
        "\n",
        "+ In contrast, the training set would contain no 8s or 9s. \n",
        "\n",
        "As the result, the training set and validation set are **completely separate**,and such a training-validation would make it impossible to train a useful model.\n",
        "\n",
        "We can now create data loaders to help us load the data in batches. We'll use a batch size of 128.\n",
        "\n",
        "+ `torch.utils.data`: `torch` library, `utils` package, `data` module, and `DataLoader` class\n",
        "\n",
        "+ we want to split the full dataset into batches because it is much more efficient to train our data. Otherwise, it will be extremely slow\n",
        "\n",
        "+ `shuffle=True` to let batches generated randomly in each epoch so that the model is generalized\n",
        "\n",
        "+ `train_loader` contains both input batches and output batches\n",
        "\n",
        "+ `val_loader` also contains input and output batches, but not randomized because it is used only to report the final result\n"
      ],
      "metadata": {
        "id": "1MdJKAzTmBg9"
      }
    },
    {
      "cell_type": "code",
      "source": [
        "from torch.utils.data import DataLoader\n",
        "\n",
        "batch_size = 128\n",
        "\n",
        "train_loader = DataLoader(train_ds, batch_size, shuffle=True)\n",
        "val_loader = DataLoader(val_ds, batch_size)"
      ],
      "metadata": {
        "id": "tIISjOkFq0JX"
      },
      "execution_count": null,
      "outputs": []
    },
    {
      "cell_type": "markdown",
      "source": [
        "#**Model**\n",
        "Now that we have prepared our data loaders, we can define our model.\n",
        "\n",
        "* A **logistic regression** model is almost identical to a linear regression model. It contains weights and bias matrices, and the output is obtained using simple matrix operations (`pred = x @ w.t() + b`). \n",
        "\n",
        "* As we did with linear regression, we can use `nn.Linear` to create the model instead of manually creating and initializing the matrices.\n",
        "\n",
        "* Since `nn.Linear` expects each training example to be a vector, each three-dimensional (`1x28x28`) image tensor is _flattened_ into a vector of size 784 `(28*28)` inputs before being passed into the model. \n",
        "\n",
        "1. we note that tensor always refers to high-dimensional datasets, while vector refers to one-dimensional dataset\n",
        "\n",
        "2. recall that we have only three input features (temperature, rainfall, humidity) for the linear regression model. However, we have **$\\mathbf{784}$ input features**, \n",
        "\n",
        "3. which represent **pixel intensities at different positions within the image** (_The intensity value for each pixel is a single value for a gray-level image, or three values for a color image (red, blue, green)._), i.e., a value from $0 - 1$\n",
        "\n",
        "* The output for each image is a vector of size $10$ (because we are dealing with numbers of 0 to 9), with each element signifying the probability of a particular target label (i.e., $0$ to $9$). **The predicted label for an image is simply the one with the highest probability**.\n",
        "\n",
        "1. recall that we have only $2$ predicted targets for the linear regression model. Here we have $10$ predicted targets. Instead of giving a number, **logistic regression** model gives a **probability of a particular label** \n",
        "\n",
        "\\\\\n",
        "\n",
        "**Importantly, we note that the `PyTorch` logistic regression model is exactly same as the `PyTorch` linear regression model  (nn.Linear(number, number)). The only difference is the current model has a much larger size. This indicates the importance of correctly specifying your input feature and output target sizes.**"
      ],
      "metadata": {
        "id": "8noHUUZWvguh"
      }
    },
    {
      "cell_type": "code",
      "source": [
        "import torch.nn as nn\n",
        "\n",
        "input_size = 28*28\n",
        "num_classes = 10\n",
        "\n",
        "# Logistic regression model\n",
        "model = nn.Linear(input_size, num_classes)"
      ],
      "metadata": {
        "id": "nwuXCExZB-YZ"
      },
      "execution_count": null,
      "outputs": []
    },
    {
      "cell_type": "markdown",
      "source": [
        "Recall that `nn.Linear` automatically outputs weights and biases for us. Let's take a look at them:\n",
        "\n",
        "+ number of weights: number of inputs ($784$) x number of targets ($10$)\n",
        "+ total of $7850$ parameters here ($7840$ weights and $10$ biases)\n",
        "+ $7840$ weights because we have $10$ sets of $784$ weights for the $10$ classes/outputs\n"
      ],
      "metadata": {
        "id": "r9OLczffGRXW"
      }
    },
    {
      "cell_type": "code",
      "source": [
        "print(model.weight.shape)\n",
        "model.weight"
      ],
      "metadata": {
        "colab": {
          "base_uri": "https://localhost:8080/"
        },
        "id": "xKgjpX5zHdwj",
        "outputId": "1159fde2-8715-405a-80ec-e94fb98aecab"
      },
      "execution_count": null,
      "outputs": [
        {
          "output_type": "stream",
          "name": "stdout",
          "text": [
            "torch.Size([10, 784])\n"
          ]
        },
        {
          "output_type": "execute_result",
          "data": {
            "text/plain": [
              "Parameter containing:\n",
              "tensor([[-0.0209, -0.0148, -0.0051,  ..., -0.0306,  0.0300,  0.0080],\n",
              "        [-0.0046,  0.0189,  0.0328,  ..., -0.0207,  0.0285,  0.0111],\n",
              "        [-0.0176,  0.0149,  0.0092,  ...,  0.0165, -0.0215, -0.0357],\n",
              "        ...,\n",
              "        [ 0.0097,  0.0246, -0.0195,  ...,  0.0078, -0.0277,  0.0054],\n",
              "        [-0.0008,  0.0062, -0.0279,  ..., -0.0019,  0.0351,  0.0333],\n",
              "        [-0.0357,  0.0009, -0.0063,  ..., -0.0064,  0.0346,  0.0168]],\n",
              "       requires_grad=True)"
            ]
          },
          "metadata": {},
          "execution_count": 19
        }
      ]
    },
    {
      "cell_type": "code",
      "source": [
        "print(model.bias.shape)\n",
        "model.bias"
      ],
      "metadata": {
        "colab": {
          "base_uri": "https://localhost:8080/"
        },
        "id": "ghohW3aYHvv7",
        "outputId": "d1e0c4f1-e080-41a4-a859-a64be10eef73"
      },
      "execution_count": null,
      "outputs": [
        {
          "output_type": "stream",
          "name": "stdout",
          "text": [
            "torch.Size([10])\n"
          ]
        },
        {
          "output_type": "execute_result",
          "data": {
            "text/plain": [
              "Parameter containing:\n",
              "tensor([-0.0314,  0.0335, -0.0061,  0.0039, -0.0141, -0.0210,  0.0355,  0.0081,\n",
              "         0.0320,  0.0085], requires_grad=True)"
            ]
          },
          "metadata": {},
          "execution_count": 20
        }
      ]
    },
    {
      "cell_type": "markdown",
      "source": [
        "Let's try and generate some outputs using our model. We'll take the first batch of $100$ images from our dataset and pass them into our model.\n",
        "\n",
        "+ `for` loop iterates through all batches\n",
        "+ `images` are inputs\n",
        "+ `labels` are outputs\n",
        "+ `break` ensures only the first batch is printed\n"
      ],
      "metadata": {
        "id": "ltIeDTghH0Rq"
      }
    },
    {
      "cell_type": "code",
      "source": [
        "#iterate through the 3 batches (batch size  = 128)\n",
        "\n",
        "for images, labels in train_loader:\n",
        "    print(labels)\n",
        "    print(images.shape)\n",
        "    outputs = model(images)\n",
        "    print(outputs)\n",
        "    break"
      ],
      "metadata": {
        "colab": {
          "base_uri": "https://localhost:8080/",
          "height": 514
        },
        "id": "ODCsLzv1Hz14",
        "outputId": "c104dcd6-ee94-4a58-cfb4-df57d7418ef5"
      },
      "execution_count": null,
      "outputs": [
        {
          "output_type": "stream",
          "name": "stdout",
          "text": [
            "tensor([7, 8, 4, 6, 9, 4, 6, 8, 4, 1, 4, 5, 1, 0, 0, 1, 6, 9, 6, 7, 2, 4, 1, 8,\n",
            "        0, 9, 2, 8, 8, 8, 3, 3, 1, 6, 8, 1, 0, 1, 1, 8, 0, 6, 3, 8, 7, 4, 8, 8,\n",
            "        5, 4, 6, 4, 0, 2, 3, 0, 4, 7, 1, 4, 7, 6, 3, 3, 0, 3, 6, 1, 7, 1, 0, 5,\n",
            "        7, 4, 9, 6, 2, 6, 5, 8, 9, 8, 2, 8, 6, 7, 7, 2, 0, 5, 6, 6, 5, 7, 2, 5,\n",
            "        6, 1, 6, 5, 9, 9, 9, 8, 2, 8, 2, 6, 4, 8, 8, 5, 5, 7, 3, 4, 3, 3, 3, 4,\n",
            "        1, 9, 6, 0, 4, 5, 9, 0])\n",
            "torch.Size([128, 1, 28, 28])\n"
          ]
        },
        {
          "output_type": "error",
          "ename": "RuntimeError",
          "evalue": "ignored",
          "traceback": [
            "\u001b[0;31m---------------------------------------------------------------------------\u001b[0m",
            "\u001b[0;31mRuntimeError\u001b[0m                              Traceback (most recent call last)",
            "\u001b[0;32m<ipython-input-21-01262c826813>\u001b[0m in \u001b[0;36m<module>\u001b[0;34m\u001b[0m\n\u001b[1;32m      4\u001b[0m     \u001b[0mprint\u001b[0m\u001b[0;34m(\u001b[0m\u001b[0mlabels\u001b[0m\u001b[0;34m)\u001b[0m\u001b[0;34m\u001b[0m\u001b[0;34m\u001b[0m\u001b[0m\n\u001b[1;32m      5\u001b[0m     \u001b[0mprint\u001b[0m\u001b[0;34m(\u001b[0m\u001b[0mimages\u001b[0m\u001b[0;34m.\u001b[0m\u001b[0mshape\u001b[0m\u001b[0;34m)\u001b[0m\u001b[0;34m\u001b[0m\u001b[0;34m\u001b[0m\u001b[0m\n\u001b[0;32m----> 6\u001b[0;31m     \u001b[0moutputs\u001b[0m \u001b[0;34m=\u001b[0m \u001b[0mmodel\u001b[0m\u001b[0;34m(\u001b[0m\u001b[0mimages\u001b[0m\u001b[0;34m)\u001b[0m\u001b[0;34m\u001b[0m\u001b[0;34m\u001b[0m\u001b[0m\n\u001b[0m\u001b[1;32m      7\u001b[0m     \u001b[0mprint\u001b[0m\u001b[0;34m(\u001b[0m\u001b[0moutputs\u001b[0m\u001b[0;34m)\u001b[0m\u001b[0;34m\u001b[0m\u001b[0;34m\u001b[0m\u001b[0m\n\u001b[1;32m      8\u001b[0m     \u001b[0;32mbreak\u001b[0m\u001b[0;34m\u001b[0m\u001b[0;34m\u001b[0m\u001b[0m\n",
            "\u001b[0;32m/usr/local/lib/python3.8/dist-packages/torch/nn/modules/module.py\u001b[0m in \u001b[0;36m_call_impl\u001b[0;34m(self, *input, **kwargs)\u001b[0m\n\u001b[1;32m   1192\u001b[0m         if not (self._backward_hooks or self._forward_hooks or self._forward_pre_hooks or _global_backward_hooks\n\u001b[1;32m   1193\u001b[0m                 or _global_forward_hooks or _global_forward_pre_hooks):\n\u001b[0;32m-> 1194\u001b[0;31m             \u001b[0;32mreturn\u001b[0m \u001b[0mforward_call\u001b[0m\u001b[0;34m(\u001b[0m\u001b[0;34m*\u001b[0m\u001b[0minput\u001b[0m\u001b[0;34m,\u001b[0m \u001b[0;34m**\u001b[0m\u001b[0mkwargs\u001b[0m\u001b[0;34m)\u001b[0m\u001b[0;34m\u001b[0m\u001b[0;34m\u001b[0m\u001b[0m\n\u001b[0m\u001b[1;32m   1195\u001b[0m         \u001b[0;31m# Do not call functions when jit is used\u001b[0m\u001b[0;34m\u001b[0m\u001b[0;34m\u001b[0m\u001b[0;34m\u001b[0m\u001b[0m\n\u001b[1;32m   1196\u001b[0m         \u001b[0mfull_backward_hooks\u001b[0m\u001b[0;34m,\u001b[0m \u001b[0mnon_full_backward_hooks\u001b[0m \u001b[0;34m=\u001b[0m \u001b[0;34m[\u001b[0m\u001b[0;34m]\u001b[0m\u001b[0;34m,\u001b[0m \u001b[0;34m[\u001b[0m\u001b[0;34m]\u001b[0m\u001b[0;34m\u001b[0m\u001b[0;34m\u001b[0m\u001b[0m\n",
            "\u001b[0;32m/usr/local/lib/python3.8/dist-packages/torch/nn/modules/linear.py\u001b[0m in \u001b[0;36mforward\u001b[0;34m(self, input)\u001b[0m\n\u001b[1;32m    112\u001b[0m \u001b[0;34m\u001b[0m\u001b[0m\n\u001b[1;32m    113\u001b[0m     \u001b[0;32mdef\u001b[0m \u001b[0mforward\u001b[0m\u001b[0;34m(\u001b[0m\u001b[0mself\u001b[0m\u001b[0;34m,\u001b[0m \u001b[0minput\u001b[0m\u001b[0;34m:\u001b[0m \u001b[0mTensor\u001b[0m\u001b[0;34m)\u001b[0m \u001b[0;34m->\u001b[0m \u001b[0mTensor\u001b[0m\u001b[0;34m:\u001b[0m\u001b[0;34m\u001b[0m\u001b[0;34m\u001b[0m\u001b[0m\n\u001b[0;32m--> 114\u001b[0;31m         \u001b[0;32mreturn\u001b[0m \u001b[0mF\u001b[0m\u001b[0;34m.\u001b[0m\u001b[0mlinear\u001b[0m\u001b[0;34m(\u001b[0m\u001b[0minput\u001b[0m\u001b[0;34m,\u001b[0m \u001b[0mself\u001b[0m\u001b[0;34m.\u001b[0m\u001b[0mweight\u001b[0m\u001b[0;34m,\u001b[0m \u001b[0mself\u001b[0m\u001b[0;34m.\u001b[0m\u001b[0mbias\u001b[0m\u001b[0;34m)\u001b[0m\u001b[0;34m\u001b[0m\u001b[0;34m\u001b[0m\u001b[0m\n\u001b[0m\u001b[1;32m    115\u001b[0m \u001b[0;34m\u001b[0m\u001b[0m\n\u001b[1;32m    116\u001b[0m     \u001b[0;32mdef\u001b[0m \u001b[0mextra_repr\u001b[0m\u001b[0;34m(\u001b[0m\u001b[0mself\u001b[0m\u001b[0;34m)\u001b[0m \u001b[0;34m->\u001b[0m \u001b[0mstr\u001b[0m\u001b[0;34m:\u001b[0m\u001b[0;34m\u001b[0m\u001b[0;34m\u001b[0m\u001b[0m\n",
            "\u001b[0;31mRuntimeError\u001b[0m: mat1 and mat2 shapes cannot be multiplied (3584x28 and 784x10)"
          ]
        }
      ]
    },
    {
      "cell_type": "markdown",
      "source": [
        "The error is due to the **incorrect shape** used: `torch.Size([128, 1, 28, 28])`, where $128$ is the batch size, $1$ indicates only one color label used, $28$, $28$ represent hight and width of a **two dimensional matrix** of an image. \n",
        "\n",
        "\\\\\n",
        "\n",
        "It indicates that we are dealing with a three-dimensional image tensor `[1, 28, 28]`, rather than a **single-dimensional** vector of size $784$. As mentioned earlier, we have to **flatten the multi-dimensional tensors into single-dimensional vectors**. \n",
        "\n",
        "\n",
        "+ We'll use the `.reshape` method of a tensor, \n",
        "+ which will allow us to efficiently 'view' each image as a flat vector without really creating a copy of the underlying data.\n",
        "\n",
        "see the reshape example below\n",
        "+ $128$ represents the batch size\n",
        "+ $784$ represents the vector size "
      ],
      "metadata": {
        "id": "wSpUB_sHMtkx"
      }
    },
    {
      "cell_type": "code",
      "source": [
        "images.shape"
      ],
      "metadata": {
        "colab": {
          "base_uri": "https://localhost:8080/"
        },
        "id": "kfo2uW5EPOwI",
        "outputId": "6b857ab1-a9f5-4ebb-8ae1-acc1d345caf7"
      },
      "execution_count": null,
      "outputs": [
        {
          "output_type": "execute_result",
          "data": {
            "text/plain": [
              "torch.Size([128, 1, 28, 28])"
            ]
          },
          "metadata": {},
          "execution_count": 22
        }
      ]
    },
    {
      "cell_type": "code",
      "source": [
        "images.reshape(128,784).shape"
      ],
      "metadata": {
        "colab": {
          "base_uri": "https://localhost:8080/"
        },
        "id": "i9Zf9jHBPRG6",
        "outputId": "0e6a4372-e974-4ac5-9311-e9e9c9db7097"
      },
      "execution_count": null,
      "outputs": [
        {
          "output_type": "execute_result",
          "data": {
            "text/plain": [
              "torch.Size([128, 784])"
            ]
          },
          "metadata": {},
          "execution_count": 23
        }
      ]
    },
    {
      "cell_type": "markdown",
      "source": [
        "While, `reshape` is not included in the `PyTorch` logistic regression model originally\n",
        "\n",
        "To include this additional functionality within our model, we need to define a custom model by extending the `nn.Module` class from `PyTorch`\n",
        "\n",
        "A class in Python provides a \"blueprint\" for creating objects, which once instantiated can access the attributes and methods defined in the class."
      ],
      "metadata": {
        "id": "SChG2UINPuyE"
      }
    },
    {
      "cell_type": "markdown",
      "source": [
        "### **Extend  the `nn.Module` class via Inheritance**\n",
        "\n",
        "Recall: given the batch size (128) and training dataset (50000), `Dataloader` class can split the training data into batches, i.e., a `train_loader` object that contains both input and output batches. However, input batch is a three-dimensiional tensor which is not compatible with the `nn.linear` class. Therefore, our current goal is to convert the high-dimensional tensor into a **one-dimensional** vector so that it can be successfully used in the `nn.linear` `PyTorch` model to train the weights and biases.\n",
        "\n",
        "\\\\\n",
        "\n",
        "*Classes* can also build upon or _extend_ the functionality of existing classes. Let's extend the `nn.Module` class from PyTorch to define a custom model.\n",
        "\n",
        "\\\\\n",
        "\n",
        "**Our goal is to reshape/flatten a multi-dimensional tensor ([128, 1, 28, 28]) into a one-dimensional vector with the shape [1, size]**.\n",
        "\n",
        "\\\\\n",
        "\n",
        "+ `nn.Module` is the base class for all neural network modules. Your models should also subclass this class.\n",
        "\n",
        "\n",
        "+ you must initialize the exisiting/old `super().__init()__()` in the parent class. Otherwise, your modified/new version of the `__init()__` method is half-initialized and everything will break!\n",
        "\n",
        "+ `nn.Linear` is a `PyTorch` class that takes the **batch size (number of training examples or features)** and the **size of the flattened one-dimensional vector** as inputs. Then it outputs weights and biases (check through `.parameters`) via constructor `self.linear` (**Note that `nn.Linear` requires ONLY sizes of tensors. There is no need for the actual elements of the tensors!** It trains the weights and biases with a correct shape of matrix defined.)\n",
        "\n",
        "+ the `forward` method takes the **original multi-dimensional tensor** as an input, and then, reshape it into a **Two-dimensional tensor [batch size, 1d vector size]** \n",
        "+ when you pass a actual two-dimension tensor to `nn.linear` model, it will take the size inofrmation of the tensor only\n",
        "\n",
        "+ `xb.reshape(-1, 28*28(784))` indicates to `PyTorch` that we want the `xb` tensor to be a two-dimensional tensor. You only need the length along the 2nd dimension ($784$), and $-1$ lets `PyTorch` **automatically** compute the second dimension for you \n",
        "\n",
        "+ `out` contains weights and biases\n",
        "+ `model = MnistModel()` creates an object named \"model\", and here it has NOT been successfully instantiated until we pass data to it, e.g., `model(images)` \n",
        "\n",
        "\n",
        "\n"
      ],
      "metadata": {
        "id": "2oP9gHPbRHYu"
      }
    },
    {
      "cell_type": "code",
      "source": [
        "class MnistModel(nn.Module):\n",
        "    def __init__(self):\n",
        "        super().__init__()\n",
        "        self.linear = nn.Linear(input_size, num_classes)\n",
        "        \n",
        "    def forward(self, xb):\n",
        "        print('xb size: ',xb.shape)\n",
        "        xb = xb.reshape(-1, 784)\n",
        "        out = self.linear(xb)\n",
        "        return out\n",
        "    \n",
        "model = MnistModel()"
      ],
      "metadata": {
        "id": "szqwK0yp-Qvp"
      },
      "execution_count": null,
      "outputs": []
    },
    {
      "cell_type": "code",
      "source": [
        "model.linear # note model function here is the older version! not the new model defined above"
      ],
      "metadata": {
        "colab": {
          "base_uri": "https://localhost:8080/"
        },
        "id": "tLx58EOgOlnn",
        "outputId": "c19a89b7-629a-4b99-ce0c-615a819985a3"
      },
      "execution_count": null,
      "outputs": [
        {
          "output_type": "execute_result",
          "data": {
            "text/plain": [
              "Linear(in_features=784, out_features=10, bias=True)"
            ]
          },
          "metadata": {},
          "execution_count": 25
        }
      ]
    },
    {
      "cell_type": "code",
      "source": [
        "print(model.linear.weight.shape, model.linear.bias.shape)\n",
        "list(model.parameters())"
      ],
      "metadata": {
        "colab": {
          "base_uri": "https://localhost:8080/"
        },
        "id": "TvOgFXeXSZS6",
        "outputId": "95885308-ca01-495c-ade8-d0dbb3405a87"
      },
      "execution_count": null,
      "outputs": [
        {
          "output_type": "stream",
          "name": "stdout",
          "text": [
            "torch.Size([10, 784]) torch.Size([10])\n"
          ]
        },
        {
          "output_type": "execute_result",
          "data": {
            "text/plain": [
              "[Parameter containing:\n",
              " tensor([[-0.0010,  0.0349, -0.0064,  ...,  0.0244, -0.0102,  0.0301],\n",
              "         [-0.0158, -0.0194,  0.0115,  ..., -0.0176, -0.0350, -0.0114],\n",
              "         [ 0.0154,  0.0351,  0.0296,  ...,  0.0079, -0.0341,  0.0033],\n",
              "         ...,\n",
              "         [ 0.0129, -0.0129, -0.0317,  ..., -0.0176, -0.0251,  0.0220],\n",
              "         [ 0.0320, -0.0131, -0.0088,  ..., -0.0273, -0.0024, -0.0091],\n",
              "         [ 0.0141, -0.0332,  0.0054,  ...,  0.0264,  0.0190, -0.0354]],\n",
              "        requires_grad=True), Parameter containing:\n",
              " tensor([-0.0270,  0.0251,  0.0108,  0.0318, -0.0107, -0.0208,  0.0246,  0.0006,\n",
              "          0.0095, -0.0053], requires_grad=True)]"
            ]
          },
          "metadata": {},
          "execution_count": 26
        }
      ]
    },
    {
      "cell_type": "markdown",
      "source": [
        "now we pass images (multi-dimensional tensor) to the \"model\" object to test if it gives us correct outputs without errors:\n",
        "\n",
        "In summary, we need to go through the following procedures for training:\n",
        "\n",
        "+ recall there are only `0,..,9` labels for all images\n",
        "+ every output (one image) contains $10$ probabilities to indicate how how much probability that the images represent label $0$,...,$9$\n",
        "+ `outputs[:2]` first two outputs will be printed\n",
        "+ `images` tensor contains pixels with digits from $0$ to $1$ for each tensor element\n",
        "+ then with reshaped `images` (1d vector), `model(images)` (`nn.linear`) will give you the `outputs` with probabilities and corresponding labels of each image\n",
        "+ due to unrealistic negative probabilities that appear in our outputs, we need to use the `softmax` (`torch.nn.functional.softmax`) function to make probabilities realistic: from $0$ to $1$\n",
        "+ finally we pick the element for each row with the highest probability as the output (of course we need to train the weights and biases through gradient descent)\n"
      ],
      "metadata": {
        "id": "uwiw2BTQTNrM"
      }
    },
    {
      "cell_type": "code",
      "source": [
        "for images, labels in train_loader:\n",
        "    print(images.shape)\n",
        "    outputs = model(images)\n",
        "    break\n",
        "print('images.shape :', images.shape)\n",
        "print('labels.shape :', labels.shape)\n",
        "print('outputs.shape : ', outputs.shape)\n",
        "print('Sample outputs :\\n', outputs[:2].data)\n",
        "#print('images :\\n', images[:2].data[0])"
      ],
      "metadata": {
        "colab": {
          "base_uri": "https://localhost:8080/"
        },
        "id": "ScOkj0QjTOAv",
        "outputId": "3984541c-fae7-4b32-c7ea-ac7e3162387d"
      },
      "execution_count": null,
      "outputs": [
        {
          "output_type": "stream",
          "name": "stdout",
          "text": [
            "torch.Size([128, 1, 28, 28])\n",
            "images.shape : torch.Size([128, 1, 28, 28])\n",
            "labels.shape : torch.Size([128])\n",
            "outputs.shape :  torch.Size([128, 10])\n",
            "Sample outputs :\n",
            " tensor([[-0.0219, -0.2120,  0.0716,  0.2281, -0.0118, -0.3503,  0.1161, -0.0606,\n",
            "         -0.1697, -0.0079],\n",
            "        [ 0.2213, -0.1737,  0.0557, -0.4354,  0.0082, -0.3196,  0.1359, -0.3471,\n",
            "         -0.2758, -0.2522]])\n"
          ]
        }
      ]
    },
    {
      "cell_type": "markdown",
      "source": [
        "However, it is clear that we got some negative probabilities which are not physically realistic. In addition, we have to ensure that the sum of all $10$ probabilities is equal to $1$ for every image."
      ],
      "metadata": {
        "id": "I0AU1FPyCCHh"
      }
    },
    {
      "cell_type": "markdown",
      "source": [
        "\n",
        "To convert the output rows into true probabilities, \n",
        "\n",
        "+ positive ($e^{y_{i}}$)\n",
        "+ added up to $1$ ($\\frac{e^{y_i}}{Σe^{y_j}}$)\n",
        "\n",
        "we use the softmax function, which has the following formula:\n",
        "\n",
        "![softmax](https://i.imgur.com/EAh9jLN.png)\n",
        "\n",
        "\n",
        "![](https://www.montereyinstitute.org/courses/DevelopmentalMath/COURSE_TEXT2_RESOURCE/U18_L1_T1_text_final_6_files/image001.png)\n",
        "\n",
        "1. First, we replace each element `yi` in an output row by `e^yi`, making all the elements positive. \n",
        "\n",
        "\n",
        "2. Then we divide them by their sum to ensure that they add up to 1. The resulting vector can thus be interpreted as probabilities.\n",
        "\n",
        "we'll use the implementation that's provided within `PyTorch` because it works well with multidimensional tensors (a list of $128$ output rows in our case).\n",
        "\n",
        "See manually implement the softmax function below:"
      ],
      "metadata": {
        "id": "B2vDvQLpZrtV"
      }
    },
    {
      "cell_type": "code",
      "source": [
        "\n",
        "#https://treyhunner.com/2016/04/how-to-loop-with-indexes-in-python/\n",
        "num = torch.exp(outputs)\n",
        "den = torch.sum(num,1)\n",
        "\n"
      ],
      "metadata": {
        "id": "tiIFggG3EuUC"
      },
      "execution_count": null,
      "outputs": []
    },
    {
      "cell_type": "markdown",
      "source": [
        "The softmax function is included in the `torch.nn.functional` module and requires us to specify a dimension along which the function should be applied."
      ],
      "metadata": {
        "id": "-22-OWNeJljJ"
      }
    },
    {
      "cell_type": "code",
      "source": [
        "import torch.nn.functional as F"
      ],
      "metadata": {
        "id": "lDzb8-TJJmjz"
      },
      "execution_count": null,
      "outputs": []
    },
    {
      "cell_type": "code",
      "source": [
        "outputs[:2]"
      ],
      "metadata": {
        "id": "VaVCd9NWZtzG",
        "colab": {
          "base_uri": "https://localhost:8080/"
        },
        "outputId": "c6813eec-31e6-4ff4-bcfd-cbbfaf1dc7be"
      },
      "execution_count": null,
      "outputs": [
        {
          "output_type": "execute_result",
          "data": {
            "text/plain": [
              "tensor([[-0.2303,  0.1272,  0.0104, -0.1469,  0.1111, -0.6265, -0.2407, -0.4717,\n",
              "         -0.5755, -0.2607],\n",
              "        [-0.4706,  0.0601, -0.0482, -0.0476,  0.3411, -0.2703, -0.1155,  0.0112,\n",
              "         -0.0941,  0.0641]], grad_fn=<SliceBackward0>)"
            ]
          },
          "metadata": {},
          "execution_count": 30
        }
      ]
    },
    {
      "cell_type": "markdown",
      "source": [
        "to use `softmax` we need to specify the dimension `dim` the softmax is going to be applied. \n",
        "\n",
        "+ We know the dimension of `output` is $[128, 10]$. \n",
        "+ the corresponding indices of rows and columns are `[0,1]`\n",
        "+ `softmax` needs to be applied to the columns only, therefore `dim = 1`. Keep in mind that `softmax` will deal with all data no matter which dimension you give. But does matter which dimension you give to generate correct results. For example, it does not make sense to add columns ($128$ training examples) up to give a probability of $1$ \n",
        "+ `item()` method is to convert a **one element** (must be a one  element!) tensor (e.g., 1 x 10) to scalars\n"
      ],
      "metadata": {
        "id": "myrQ5-DNKipT"
      }
    },
    {
      "cell_type": "code",
      "source": [
        "# Apply softmax for each output row\n",
        "probs = F.softmax(outputs, dim=1)\n",
        "\n",
        "# Look at sample probabilities (first two rows)\n",
        "print(\"Sample probabilities:\\n\", probs[:2].data)\n",
        "\n",
        "# Add up the probabilities of an output row\n",
        "print(\"Sum: \", torch.sum(probs[127]).item())"
      ],
      "metadata": {
        "colab": {
          "base_uri": "https://localhost:8080/"
        },
        "id": "3D4vh-i1JYz7",
        "outputId": "f33a1c93-ccbd-4af6-c603-878b1b21c6a6"
      },
      "execution_count": null,
      "outputs": [
        {
          "output_type": "stream",
          "name": "stdout",
          "text": [
            "Sample probabilities:\n",
            " tensor([[0.0969, 0.1385, 0.1232, 0.1053, 0.1363, 0.0652, 0.0959, 0.0761, 0.0686,\n",
            "         0.0940],\n",
            "        [0.0648, 0.1101, 0.0988, 0.0989, 0.1459, 0.0792, 0.0924, 0.1049, 0.0944,\n",
            "         0.1106]])\n",
            "Sum:  0.9999999403953552\n"
          ]
        }
      ]
    },
    {
      "cell_type": "markdown",
      "source": [
        "Now our **goal** is to pick the index of the output rows with the highest probability for each image as the predicted labels. We can do this using `torch.max`, which returns each row's **largest element** and the **corresponding probability**.\n",
        "\n",
        "+ the predicted labels (`preds_labels`) for the **first batch (128)** of training images. Let's compare them with the actual lables.\n",
        "\n",
        "+ Most of the **predicted labels** are different from the **actual labels**. That's because we have started with randomly initialized weights and biases. \n",
        "\n",
        "+ We need to train the model, i.e., adjust the weights using gradient descent to make better predictions."
      ],
      "metadata": {
        "id": "d1_SHag2MGVH"
      }
    },
    {
      "cell_type": "code",
      "source": [
        "max_probs, preds_labels = torch.max(probs, dim=1)\n",
        "print(preds_labels)\n",
        "print(max_probs)\n",
        "print('Max_probs size: ',max_probs.shape, 'and preds size: ', preds_labels.shape)"
      ],
      "metadata": {
        "colab": {
          "base_uri": "https://localhost:8080/"
        },
        "id": "kJJEUZAgMQFA",
        "outputId": "72c70dd8-9b5f-4593-9fd8-da6848c0f936"
      },
      "execution_count": null,
      "outputs": [
        {
          "output_type": "stream",
          "name": "stdout",
          "text": [
            "tensor([1, 4, 6, 7, 4, 1, 6, 6, 3, 4, 4, 3, 2, 1, 0, 1, 1, 1, 4, 4, 6, 1, 4, 9,\n",
            "        6, 7, 2, 6, 6, 4, 6, 4, 1, 6, 6, 6, 2, 4, 7, 9, 4, 0, 3, 9, 9, 3, 4, 4,\n",
            "        6, 9, 9, 3, 6, 6, 6, 4, 1, 6, 6, 2, 4, 9, 6, 4, 6, 0, 6, 6, 4, 2, 2, 6,\n",
            "        7, 3, 1, 9, 6, 3, 1, 4, 3, 0, 6, 6, 2, 6, 6, 0, 1, 1, 4, 3, 4, 4, 2, 6,\n",
            "        6, 9, 4, 1, 0, 4, 4, 9, 4, 1, 2, 4, 7, 9, 2, 9, 4, 6, 1, 4, 6, 6, 6, 1,\n",
            "        1, 9, 3, 1, 6, 0, 6, 4])\n",
            "tensor([0.1385, 0.1459, 0.1277, 0.1576, 0.1428, 0.1138, 0.1180, 0.1266, 0.1379,\n",
            "        0.1197, 0.1298, 0.1322, 0.1279, 0.1439, 0.1347, 0.1287, 0.1194, 0.1277,\n",
            "        0.1609, 0.1588, 0.1372, 0.1450, 0.1469, 0.1281, 0.1282, 0.1375, 0.1566,\n",
            "        0.1298, 0.1337, 0.1563, 0.1375, 0.1230, 0.1282, 0.1122, 0.1182, 0.1435,\n",
            "        0.1275, 0.1459, 0.1180, 0.1142, 0.1418, 0.1427, 0.1305, 0.1416, 0.1263,\n",
            "        0.1266, 0.1297, 0.1539, 0.1328, 0.1421, 0.1392, 0.1412, 0.1210, 0.1258,\n",
            "        0.1267, 0.1359, 0.1380, 0.1333, 0.1313, 0.1374, 0.1446, 0.1174, 0.1348,\n",
            "        0.1274, 0.1461, 0.1231, 0.1350, 0.1268, 0.1207, 0.1180, 0.1251, 0.1381,\n",
            "        0.1263, 0.1270, 0.1410, 0.1369, 0.1414, 0.1107, 0.1238, 0.1164, 0.1344,\n",
            "        0.1168, 0.1221, 0.1338, 0.1656, 0.1266, 0.1339, 0.1401, 0.1504, 0.1461,\n",
            "        0.1661, 0.1423, 0.1128, 0.1317, 0.1530, 0.1166, 0.1245, 0.1208, 0.1651,\n",
            "        0.1321, 0.1281, 0.1282, 0.1505, 0.1227, 0.1398, 0.1291, 0.1200, 0.1503,\n",
            "        0.1372, 0.1364, 0.1307, 0.1476, 0.1269, 0.1391, 0.1200, 0.1292, 0.1429,\n",
            "        0.1269, 0.1476, 0.1332, 0.1350, 0.1218, 0.1278, 0.1207, 0.1205, 0.1283,\n",
            "        0.1207, 0.1300], grad_fn=<MaxBackward0>)\n",
            "Max_probs size:  torch.Size([128]) and preds size:  torch.Size([128])\n"
          ]
        }
      ]
    },
    {
      "cell_type": "code",
      "source": [
        "labels"
      ],
      "metadata": {
        "colab": {
          "base_uri": "https://localhost:8080/"
        },
        "id": "T23LYQTnMtjl",
        "outputId": "535c7508-b0b2-4985-80f6-7492e79735e7"
      },
      "execution_count": null,
      "outputs": [
        {
          "output_type": "execute_result",
          "data": {
            "text/plain": [
              "tensor([0, 4, 9, 4, 0, 1, 9, 7, 6, 9, 3, 6, 3, 4, 5, 1, 4, 7, 0, 0, 8, 5, 0, 6,\n",
              "        1, 0, 8, 4, 1, 6, 1, 5, 0, 2, 4, 3, 5, 6, 2, 9, 6, 5, 4, 6, 2, 1, 8, 9,\n",
              "        8, 7, 6, 5, 9, 1, 8, 8, 5, 2, 8, 3, 0, 7, 4, 0, 8, 3, 1, 1, 8, 3, 5, 1,\n",
              "        4, 9, 5, 7, 8, 2, 8, 4, 6, 7, 9, 8, 5, 1, 1, 4, 4, 9, 8, 6, 9, 3, 3, 1,\n",
              "        1, 9, 5, 9, 9, 4, 0, 2, 9, 9, 1, 5, 6, 6, 2, 7, 4, 1, 9, 1, 2, 1, 1, 1,\n",
              "        6, 7, 9, 5, 7, 7, 1, 5])"
            ]
          },
          "metadata": {},
          "execution_count": 33
        }
      ]
    },
    {
      "cell_type": "markdown",
      "source": [
        "## **Evaluation Metric and Loss Function**"
      ],
      "metadata": {
        "id": "Pzh-fOVGM0NA"
      }
    },
    {
      "cell_type": "markdown",
      "source": [
        "Just as with linear regression, we need a way to evaluate how well our model is performing. A natural way to do this would be to find the percentage of labels that were predicted correctly, i.e,. the **accuracy** of the predictions. \n",
        "\n",
        "+ number of correctly predicted labels/batch size (128)\n",
        "+ we just introduced `torch.max(outputs, dim=1)` that uses the `outputs` (contains both probabilities and corresponding labels/indices) to pick the maximum probability values. Note that we used `torch.max(probs, dim=1)` where `probs` has been well converted to realistic probabilities through `sofmax()` function e.g, from $0$ to $1$, as an example. Note that we don't need to apply `softmax()` to the outputs here since its results have the same relative order. This is because `e^x` is an increasing function, i.e., if `y1 > y2`, then `e^y1 > e^y2`. The same holds after averaging out the values to get the softmax.\n",
        "\n",
        "+ boolean type (`==` operator): $0$ for false and $1$ for true. Therefore, `torch.sum(preds_labels == labels).item()` will yield the number of correct predictions\n",
        "+ `_,pred_labels` means we are only interested in labels NOT probabilities, `len(preds_labels)` is the batch size\n",
        "+ note that `torch.max()` function is not continous, and hence, cannot be used as a **cost function** "
      ],
      "metadata": {
        "id": "-gt8_jDr2ac7"
      }
    },
    {
      "cell_type": "code",
      "source": [
        "#outputs contains: 1) labels/indices 2) probabilities\n",
        "torch.max(outputs,dim=1)"
      ],
      "metadata": {
        "colab": {
          "base_uri": "https://localhost:8080/"
        },
        "id": "a8tEUGVJIxTc",
        "outputId": "6ae8bf36-7fc1-4fce-c5bb-b89a3286e4ca"
      },
      "execution_count": null,
      "outputs": [
        {
          "output_type": "execute_result",
          "data": {
            "text/plain": [
              "torch.return_types.max(\n",
              "values=tensor([ 0.1272,  0.3411,  0.0911,  0.3403,  0.1534,  0.1037,  0.2053,  0.2921,\n",
              "         0.2032,  0.1897,  0.1529,  0.1839,  0.1042,  0.2754,  0.2010,  0.2195,\n",
              "         0.0904,  0.2091,  0.3326,  0.2919,  0.2919,  0.2749,  0.1765,  0.2192,\n",
              "         0.2201,  0.2192,  0.3867,  0.2861,  0.2691,  0.3327,  0.2880,  0.1864,\n",
              "         0.0664, -0.0264,  0.1473,  0.2142,  0.1693,  0.2537,  0.0387,  0.0133,\n",
              "         0.1973,  0.2553,  0.2596,  0.3329,  0.1632,  0.2454,  0.1802,  0.2767,\n",
              "         0.3060,  0.1916,  0.1561,  0.3097,  0.1977,  0.1846,  0.1795,  0.3088,\n",
              "         0.3888,  0.2618,  0.2024,  0.1546,  0.2538,  0.1446,  0.2968,  0.1924,\n",
              "         0.3743,  0.0984,  0.2524,  0.1912,  0.0920,  0.0485,  0.1894,  0.3060,\n",
              "         0.1499,  0.1994,  0.3399,  0.2580,  0.3230,  0.1020,  0.1510,  0.1398,\n",
              "         0.1692,  0.1858,  0.1348,  0.1607,  0.3790,  0.2563,  0.2420,  0.2750,\n",
              "         0.3018,  0.3079,  0.4657,  0.2490,  0.1628,  0.1229,  0.3343,  0.1306,\n",
              "         0.2013, -0.0379,  0.4116,  0.2189,  0.2228,  0.1908,  0.2062,  0.1351,\n",
              "         0.2860,  0.2700,  0.1494,  0.2703,  0.2064,  0.1766,  0.2145,  0.3262,\n",
              "         0.1344,  0.3068,  0.1900,  0.1965,  0.3198,  0.1961,  0.3600,  0.2579,\n",
              "         0.2143,  0.0453,  0.0845,  0.1088,  0.1652,  0.1468,  0.1393,  0.1526],\n",
              "       grad_fn=<MaxBackward0>),\n",
              "indices=tensor([1, 4, 6, 7, 4, 1, 6, 6, 3, 4, 4, 3, 2, 1, 0, 1, 1, 1, 4, 4, 6, 1, 4, 9,\n",
              "        6, 7, 2, 6, 6, 4, 6, 4, 1, 6, 6, 6, 2, 4, 7, 9, 4, 0, 3, 9, 9, 3, 4, 4,\n",
              "        6, 9, 9, 3, 6, 6, 6, 4, 1, 6, 6, 2, 4, 9, 6, 4, 6, 0, 6, 6, 4, 2, 2, 6,\n",
              "        7, 3, 1, 9, 6, 3, 1, 4, 3, 0, 6, 6, 2, 6, 6, 0, 1, 1, 4, 3, 4, 4, 2, 6,\n",
              "        6, 9, 4, 1, 0, 4, 4, 9, 4, 1, 2, 4, 7, 9, 2, 9, 4, 6, 1, 4, 6, 6, 6, 1,\n",
              "        1, 9, 3, 1, 6, 0, 6, 4]))"
            ]
          },
          "metadata": {},
          "execution_count": 34
        }
      ]
    },
    {
      "cell_type": "code",
      "source": [
        "#check how many correct predictions out of the batch size (128)\n",
        "torch.sum(preds_labels == labels)"
      ],
      "metadata": {
        "colab": {
          "base_uri": "https://localhost:8080/"
        },
        "id": "p5RwULYkTd_S",
        "outputId": "a65eeda6-b1d5-464c-b657-231a04015427"
      },
      "execution_count": null,
      "outputs": [
        {
          "output_type": "execute_result",
          "data": {
            "text/plain": [
              "tensor(10)"
            ]
          },
          "metadata": {},
          "execution_count": 35
        }
      ]
    },
    {
      "cell_type": "code",
      "source": [
        "def accuracy(outputs, labels):\n",
        "    _, preds_labels = torch.max(outputs, dim=1)\n",
        "    return torch.tensor(torch.sum(preds_labels == labels).item() / len(preds_labels))"
      ],
      "metadata": {
        "id": "PVgsBLK2HDn_"
      },
      "execution_count": null,
      "outputs": []
    },
    {
      "cell_type": "markdown",
      "source": [
        "Accuracy is an excellent way for us (humans) to evaluate the model. However, we can't use it as a loss function for optimizing our model using gradient descent for the following reasons:\n",
        "\n",
        "1. It's not a **differentiable function**. `torch.max` and `==` are both **non-continuous and non-differentiable operations**, so we can't use the accuracy for computing gradients w.r.t the weights and biases.\n",
        "\n",
        "2. It doesn't take into account the actual probabilities predicted by the model, so it can't provide sufficient feedback for incremental improvements. \n",
        "\n",
        "For these reasons, accuracy is often used as an **evaluation metric** for classification, but not as a loss function. A commonly used loss function for classification problems is the **cross-entropy**, which has the following formula:\n",
        "\n",
        "![cross-entropy](https://i.imgur.com/VDRDl1D.png)\n",
        "\n",
        "While it looks complicated, it's actually quite simple:\n",
        "\n",
        "* For **each output row**, pick the predicted probability for the correct label. E.g., if the predicted probabilities for an image are `[0.1, 0.3, 0.2, ...]` and the correct label is `1`, we pick the corresponding element `0.3` and ignore the rest. \n",
        "\n",
        "* Then, take the [logarithm](https://en.wikipedia.org/wiki/Logarithm) of the picked probability. If the probability is high, i.e., close to 1, then its logarithm is a very **small negative value**, close to 0. And if the probability is low (close to 0), then the logarithm is a **very large negative value**. We also multiply the result by $-1$, which results is a **large postive value of the loss for poor predictions**.\n",
        "\n",
        "![](https://www.intmath.com/blog/wp-content/images/2019/05/log10.png)\n",
        "\n",
        "* Finally, take the average of the cross entropy across all the output rows (every row has one value after cross entropy) to get the **overall loss** for a batch of data.\n",
        "\n",
        "Unlike accuracy, **cross-entropy is a continuous and differentiable function**. It also provides useful feedback for incremental improvements in the model (a slightly higher probability for the correct label leads to a lower loss). These two factors make cross-entropy a better choice for **the loss function**.\n"
      ],
      "metadata": {
        "id": "wcR-PhGsUE97"
      }
    },
    {
      "cell_type": "markdown",
      "source": [
        "Let's calculate the accuracy of the current model on the first batch of data."
      ],
      "metadata": {
        "id": "W4G32xe7dGs7"
      }
    },
    {
      "cell_type": "code",
      "source": [
        "accuracy(outputs, labels)"
      ],
      "metadata": {
        "colab": {
          "base_uri": "https://localhost:8080/"
        },
        "id": "u52uo3S3T5Is",
        "outputId": "d6dae0ec-4711-4a1f-dc65-90e405dece8a"
      },
      "execution_count": null,
      "outputs": [
        {
          "output_type": "execute_result",
          "data": {
            "text/plain": [
              "tensor(0.0781)"
            ]
          },
          "metadata": {},
          "execution_count": 37
        }
      ]
    },
    {
      "cell_type": "markdown",
      "source": [
        "\n",
        "As you might expect, `PyTorch` provides an efficient and tensor-friendly implementation of cross-entropy as part of the `torch.nn.functional` package. Moreover, it also performs `softmax` internally, so we can directly pass in the model's outputs without converting them into realistic probabilities.\n",
        "\n",
        "\\\\\n",
        "\n",
        "We know that **cross-entropy** is the negative logarithm of the predicted probability of the correct label averaged over all training samples. Therefore, one way to interpret the resulting number e.g. `2.23` is to look at `e^-2.23` which is around `0.1` as the predicted probability of the correct label, on average. **The lower the loss, The better the model.**"
      ],
      "metadata": {
        "id": "7qvjLeMDdUkp"
      }
    },
    {
      "cell_type": "code",
      "source": [
        "loss_fn = F.cross_entropy"
      ],
      "metadata": {
        "id": "rGI7yGAedMxt"
      },
      "execution_count": null,
      "outputs": []
    },
    {
      "cell_type": "markdown",
      "source": [
        "note that loss is a scalar value, not a tensor. The lower the loss, The better the model."
      ],
      "metadata": {
        "id": "8HqhXjzofgNW"
      }
    },
    {
      "cell_type": "code",
      "source": [
        "# Loss for current batch of data\n",
        "loss = loss_fn(outputs, labels)\n",
        "print(loss)"
      ],
      "metadata": {
        "colab": {
          "base_uri": "https://localhost:8080/"
        },
        "id": "_RjxJL_pdY6z",
        "outputId": "a0652131-6543-453a-f499-9cf318273998"
      },
      "execution_count": null,
      "outputs": [
        {
          "output_type": "stream",
          "name": "stdout",
          "text": [
            "tensor(2.3433, grad_fn=<NllLossBackward0>)\n"
          ]
        }
      ]
    },
    {
      "cell_type": "markdown",
      "source": [
        "## **Training the model**\n",
        "\n",
        "Now that we have defined the **data loaders, model, loss function and optimizer**, we are ready to train the model. The training process is identical to linear regression, with the addition of a \"validation phase\" to evaluate the model in each epoch. Here's what it looks like in pseudocode:\n",
        "\n",
        "```\n",
        "for epoch in range(num_epochs):\n",
        "    # Training phase\n",
        "    for batch in train_loader:\n",
        "        # Generate predictions\n",
        "        # Calculate loss\n",
        "        # Compute gradients\n",
        "        # Update weights\n",
        "        # Reset gradients\n",
        "    \n",
        "    # Validation phase\n",
        "    for batch in val_loader:\n",
        "        # Generate predictions\n",
        "        # Calculate loss\n",
        "        # Calculate metrics (accuracy etc.)\n",
        "    # Calculate average validation loss & metrics\n",
        "    \n",
        "    # Log epoch, loss & metrics for inspection\n",
        "```\n",
        "\n",
        "Some parts of the training loop are **specific** to the problem we're solving (e.g. loss function, metrics etc.) whereas others are **generic** and can be applied to any deep learning problem. \n",
        "\n",
        "We'll include the **problem-independent parts** within a function called `fit`, which will be used to train the model. The **problem-specific parts** will be implemented by adding new methods to the `nn.Module` class.\n",
        "\n",
        "+ The `fit` function records the validation loss and metric from each epoch. It returns a history of the training, useful for debugging & visualization.\n",
        "+ `opt_func=torch.optim.SGD` is the default optimizer. `torch.optim` package has the `SGD` class instantiated through the `opt_func` object. It contains 1) **parameters** `model.parameters()` and 2) **learning rate** `lr` to train weights and biases\n",
        "+ `histroy` is empty for us to keep adding results\n",
        "+ hyperparameters: `epochs`, `lr`, `batch size`, etc, which need to be chosen before training machine learning models\n",
        "+ choosing the right **hyperparameters** is critical for training a reasonably accurate model within a reasonable amount of time\n",
        "+ `for batch in train_loader` loop through each batch of the dataset, and\n",
        "\n",
        "1. calculate the **loss** via `training_step(batch)` that takes the images and labels. **To train our weights, we must obtain the loss (`training_step(batch)`) and then calculate the gradients wrt the weights (loss.backward())**\n",
        "2. update the weights via `optimizer.step()` that leads to a new lower loss\n",
        "3. last set gradients back to zero via `optimizer.zero_grad()`\n",
        "\n",
        "Among the three steps for training, we need to only define the `training_step(batch)` function. This function is **problem-specific** and needs to be defined separately.\n"
      ],
      "metadata": {
        "id": "jzIMTgsuf391"
      }
    },
    {
      "cell_type": "code",
      "source": [
        "def fit(epochs, lr, model, train_loader, val_loader, opt_func=torch.optim.SGD):\n",
        "    optimizer = opt_func(model.parameters(), lr)\n",
        "    history = [] # for recording epoch-wise results\n",
        "    \n",
        "    for epoch in range(epochs):\n",
        "        \n",
        "        # Training Phase \n",
        "        for batch in train_loader:\n",
        "            loss = model.training_step(batch)\n",
        "            loss.backward()\n",
        "            optimizer.step()\n",
        "            optimizer.zero_grad()\n",
        "        \n",
        "        # Validation phase\n",
        "        result = evaluate(model, val_loader)\n",
        "        model.epoch_end(epoch, result)\n",
        "        history.append(result)\n",
        "\n",
        "    return history"
      ],
      "metadata": {
        "id": "IwRlUWzIfwHu"
      },
      "execution_count": null,
      "outputs": []
    },
    {
      "cell_type": "markdown",
      "source": [
        "Let's define the `evaluate` function for **validation step**, used in the validation phase of `fit`.\n",
        "\n",
        "+ `outputs` contains batchwise results (input and output batches)\n",
        "+ `evaluate()` takes 1) the `model` and 2) the validation loader `val_loader` runs batches of data from `val_loader` through `model` to get losses for each batch, and return the **average** loss and **average** accuracy for the **entire validation set** \n",
        "+ `validation_epoch_end(outputs)` takes the `result` (e.g., average accuracy) from the previous step and display the result properly\n",
        "+ to understand the `outputs` below, look at the following example:\n",
        "+ finally we take the `result` and appended into history to present"
      ],
      "metadata": {
        "id": "NcHRXBFuf0Xg"
      }
    },
    {
      "cell_type": "code",
      "source": [
        "# say you want to double each element of the l1 tensor\n",
        "l1 = [1, 2, 3, 4]\n",
        "l2 = [x*2 for x in l1]\n",
        "l2"
      ],
      "metadata": {
        "colab": {
          "base_uri": "https://localhost:8080/"
        },
        "id": "AJQgR2PTI-4a",
        "outputId": "7197a064-179c-477f-8d3c-296ec708c62a"
      },
      "execution_count": null,
      "outputs": [
        {
          "output_type": "execute_result",
          "data": {
            "text/plain": [
              "[2, 4, 6, 8]"
            ]
          },
          "metadata": {},
          "execution_count": 41
        }
      ]
    },
    {
      "cell_type": "code",
      "source": [
        "def evaluate(model, val_loader):\n",
        "    outputs = [model.validation_step(batch) for batch in val_loader]\n",
        "    return model.validation_epoch_end(outputs)"
      ],
      "metadata": {
        "id": "zvolHXsxE2eQ"
      },
      "execution_count": null,
      "outputs": []
    },
    {
      "cell_type": "markdown",
      "source": [
        "now we have \n",
        "1. `fit` function for the **training** and the\n",
        "2. `evaluate` function for the **validation**"
      ],
      "metadata": {
        "id": "w06E-AHSKRQH"
      }
    },
    {
      "cell_type": "markdown",
      "source": [
        "\n",
        "Finally, let's redefine the `MnistModel` class to include additional methods `training_step`, `validation_step`, `validation_epoch_end`, and `epoch_end` used by `fit` and `evaluate`.\n",
        "\n",
        "+ `validation_step` will mark loss as string loss and accuracy as string accuracy then\n",
        "+ the result will be returned and used in `validation_epoch_end` to calculate the **mean losses** and **mean accuracies** then\n",
        "\n",
        "+ the result from `validation_epoch_end` will be used in `epoch_end` to print for the user"
      ],
      "metadata": {
        "id": "EyDog3vGKlRV"
      }
    },
    {
      "cell_type": "code",
      "source": [
        "class MnistModel(nn.Module):\n",
        "    def __init__(self):\n",
        "        super().__init__()\n",
        "        self.linear = nn.Linear(input_size, num_classes)\n",
        "        \n",
        "    def forward(self, xb):\n",
        "        xb = xb.reshape(-1, 784)\n",
        "        out = self.linear(xb)\n",
        "        return out\n",
        "    \n",
        "    def training_step(self, batch):\n",
        "        images, labels = batch \n",
        "        out = self(images)                  # Generate predictions\n",
        "        loss = F.cross_entropy(out, labels) # Calculate loss\n",
        "        return loss\n",
        "    \n",
        "    def validation_step(self, batch):\n",
        "        images, labels = batch \n",
        "        out = self(images)                    # Generate predictions\n",
        "        loss = F.cross_entropy(out, labels)   # Calculate loss\n",
        "        acc = accuracy(out, labels)           # Calculate accuracy\n",
        "        return {'val_loss': loss, 'val_acc': acc}\n",
        "        \n",
        "    def validation_epoch_end(self, outputs):\n",
        "        batch_losses = [x['val_loss'] for x in outputs]\n",
        "        epoch_loss = torch.stack(batch_losses).mean()   # Combine losses\n",
        "        batch_accs = [x['val_acc'] for x in outputs]\n",
        "        epoch_acc = torch.stack(batch_accs).mean()      # Combine accuracies\n",
        "        return {'val_loss': epoch_loss.item(), 'val_acc': epoch_acc.item()}\n",
        "    \n",
        "    def epoch_end(self, epoch, result):\n",
        "        print(\"Epoch [{}], val_loss: {:.4f}, val_acc: {:.4f}\".format(epoch, result['val_loss'], result['val_acc']))\n",
        "    \n",
        "model = MnistModel()"
      ],
      "metadata": {
        "id": "3QhYMN77Kolf"
      },
      "execution_count": null,
      "outputs": []
    },
    {
      "cell_type": "code",
      "source": [
        "# test how to use string index\n",
        "def test():\n",
        "    var1 = torch.tensor([1,2,3])\n",
        "    var2 = var1 * 2\n",
        "    return {'yang': var1, 'bao': var2}\n",
        "obj = test()\n",
        "print(obj[\"yang\"])\n",
        "print(obj['bao'])\n",
        "\n",
        "\n",
        "store = obj\n",
        "\n",
        "\n",
        "#l1 = ['yangbao']\n",
        "[x['yang'] for x in obj]"
      ],
      "metadata": {
        "id": "dHgUgbMsgWPV",
        "outputId": "484ab430-96fb-427e-a75d-e7586d68196f",
        "colab": {
          "base_uri": "https://localhost:8080/",
          "height": 329
        }
      },
      "execution_count": 156,
      "outputs": [
        {
          "output_type": "stream",
          "name": "stdout",
          "text": [
            "tensor([1, 2, 3])\n",
            "tensor([2, 4, 6])\n"
          ]
        },
        {
          "output_type": "error",
          "ename": "TypeError",
          "evalue": "ignored",
          "traceback": [
            "\u001b[0;31m---------------------------------------------------------------------------\u001b[0m",
            "\u001b[0;31mTypeError\u001b[0m                                 Traceback (most recent call last)",
            "\u001b[0;32m<ipython-input-156-56a949b2338f>\u001b[0m in \u001b[0;36m<module>\u001b[0;34m\u001b[0m\n\u001b[1;32m     12\u001b[0m \u001b[0;34m\u001b[0m\u001b[0m\n\u001b[1;32m     13\u001b[0m \u001b[0;31m#l1 = ['yangbao']\u001b[0m\u001b[0;34m\u001b[0m\u001b[0;34m\u001b[0m\u001b[0;34m\u001b[0m\u001b[0m\n\u001b[0;32m---> 14\u001b[0;31m \u001b[0;34m[\u001b[0m\u001b[0mx\u001b[0m\u001b[0;34m.\u001b[0m\u001b[0mindex\u001b[0m\u001b[0;34m[\u001b[0m\u001b[0;34m'yang'\u001b[0m\u001b[0;34m]\u001b[0m \u001b[0;32mfor\u001b[0m \u001b[0mx\u001b[0m \u001b[0;32min\u001b[0m \u001b[0mobj\u001b[0m\u001b[0;34m]\u001b[0m\u001b[0;34m\u001b[0m\u001b[0;34m\u001b[0m\u001b[0m\n\u001b[0m",
            "\u001b[0;32m<ipython-input-156-56a949b2338f>\u001b[0m in \u001b[0;36m<listcomp>\u001b[0;34m(.0)\u001b[0m\n\u001b[1;32m     12\u001b[0m \u001b[0;34m\u001b[0m\u001b[0m\n\u001b[1;32m     13\u001b[0m \u001b[0;31m#l1 = ['yangbao']\u001b[0m\u001b[0;34m\u001b[0m\u001b[0;34m\u001b[0m\u001b[0;34m\u001b[0m\u001b[0m\n\u001b[0;32m---> 14\u001b[0;31m \u001b[0;34m[\u001b[0m\u001b[0mx\u001b[0m\u001b[0;34m.\u001b[0m\u001b[0mindex\u001b[0m\u001b[0;34m[\u001b[0m\u001b[0;34m'yang'\u001b[0m\u001b[0;34m]\u001b[0m \u001b[0;32mfor\u001b[0m \u001b[0mx\u001b[0m \u001b[0;32min\u001b[0m \u001b[0mobj\u001b[0m\u001b[0;34m]\u001b[0m\u001b[0;34m\u001b[0m\u001b[0;34m\u001b[0m\u001b[0m\n\u001b[0m",
            "\u001b[0;31mTypeError\u001b[0m: 'builtin_function_or_method' object is not subscriptable"
          ]
        }
      ]
    },
    {
      "cell_type": "code",
      "source": [
        "var3 = torch.tensor([1,2,3])\n",
        "var4 = var3 *2\n",
        "var4"
      ],
      "metadata": {
        "id": "2vbfQ_-_nSh4",
        "outputId": "d4b032cb-546e-49bc-e291-25baf5a604ba",
        "colab": {
          "base_uri": "https://localhost:8080/"
        }
      },
      "execution_count": 149,
      "outputs": [
        {
          "output_type": "execute_result",
          "data": {
            "text/plain": [
              "tensor([2, 4, 6])"
            ]
          },
          "metadata": {},
          "execution_count": 149
        }
      ]
    },
    {
      "cell_type": "markdown",
      "source": [
        "Before we train the model, let's see how the model performs on the validation set with the initial set of randomly initialized weights & biases.\n",
        "\n",
        "+ The initial accuracy is around 10%, which one might expect from a randomly initialized model (since it has a 1 in 10 chance of getting a label right by guessing randomly)."
      ],
      "metadata": {
        "id": "ztMzLso9MQgV"
      }
    },
    {
      "cell_type": "code",
      "source": [
        "result0 = evaluate(model, val_loader)\n",
        "result0"
      ],
      "metadata": {
        "id": "NgISh8OPMTxU"
      },
      "execution_count": null,
      "outputs": []
    },
    {
      "cell_type": "markdown",
      "source": [
        "We are now ready to train the model. Let's train for five epochs and look at the results.\n",
        "\n",
        "+ use a high-enough learning rate but not too high (bouncing around)\n",
        "+ $5$ epochs\n",
        "+ we carefully increase the learning rate and see if we could reach a convergence state with $5$ epochs, then we can stick with the maximum possible learning rate"
      ],
      "metadata": {
        "id": "Mw5yKumvMwCJ"
      }
    },
    {
      "cell_type": "code",
      "source": [
        "history1 = fit(5, 0.001, model, train_loader, val_loader)"
      ],
      "metadata": {
        "id": "Zfhy_OS_MvUi"
      },
      "execution_count": null,
      "outputs": []
    },
    {
      "cell_type": "markdown",
      "source": [
        "That's a great result! With just 5 epochs of training, our model has reached an accuracy of over 80% on the validation set. Let's see if we can improve that by training for a few more epochs. **Try changing the learning rates and number of epochs in each of the cells below.**"
      ],
      "metadata": {
        "id": "hSdHeSV8OFuF"
      }
    },
    {
      "cell_type": "code",
      "source": [
        "history2 = fit(5, 0.001, model, train_loader, val_loader)"
      ],
      "metadata": {
        "id": "RSVEb8XjOYsh"
      },
      "execution_count": null,
      "outputs": []
    },
    {
      "cell_type": "code",
      "source": [
        "history3 = fit(5, 0.001, model, train_loader, val_loader)"
      ],
      "metadata": {
        "id": "cnYllYZFOm8Z"
      },
      "execution_count": null,
      "outputs": []
    },
    {
      "cell_type": "code",
      "source": [
        "history4 = fit(5, 0.001, model, train_loader, val_loader)"
      ],
      "metadata": {
        "id": "i2yzYJkGOykl"
      },
      "execution_count": null,
      "outputs": []
    },
    {
      "cell_type": "markdown",
      "source": [
        "While the accuracy does continue to increase as we train for more epochs, the improvements get smaller with every epoch. Let's visualize this using a line graph.\n",
        "\n",
        "It's quite clear from the  result that the model probably won't cross the accuracy threshold of 90% even after training for a very long time. One possible reason for this is that the **learning rate might be too high**. The model's parameters may be \"bouncing\" around the optimal set of parameters for the lowest loss. You can try reducing the **learning rate** and training for a few more epochs to see if it helps.\n",
        "\n",
        "The more likely reason that **the model just isn't powerful enough**. If you remember our initial hypothesis, we have assumed that the output (in this case the class probabilities) is a **linear function** of the **input (pixel intensities)**, obtained by perfoming a **matrix multiplication with the weights matrix and adding the bias**. This is a fairly weak assumption, as there may **not** actually exist a linear relationship between the pixel intensities in an image and the digit it represents. While it works reasonably well for a **simple dataset like MNIST** (**getting us to 85% accuracy**), we need more **sophisticated models** that can capture **non-linear relationships** between **image pixels** and **labels** for **complex tasks** like recognizing everyday objects, animals etc. "
      ],
      "metadata": {
        "id": "CdpofPlXPEpK"
      }
    },
    {
      "cell_type": "code",
      "source": [
        "history = [result0] + history1 + history2 + history3 + history4\n",
        "accuracies = [result['val_acc'] for result in history]\n",
        "plt.plot(accuracies, '-x')\n",
        "plt.xlabel('epoch')\n",
        "plt.ylabel('accuracy')\n",
        "plt.title('Accuracy vs. No. of epochs');"
      ],
      "metadata": {
        "id": "KeL_69KYPL16"
      },
      "execution_count": null,
      "outputs": []
    },
    {
      "cell_type": "markdown",
      "source": [
        "## Testing with individual images\n",
        "\n",
        "While we have been tracking the overall accuracy of a model so far, it's also a good idea to look at model's results on some sample images. Let's test out our model with some images from the predefined test dataset of $10000$ images. We begin by recreating the test dataset with the `ToTensor` transform.\n",
        "\n",
        "+ `ToTensor` converts datasets into `PyTorch` tensors"
      ],
      "metadata": {
        "id": "NS-mX8KaRHhW"
      }
    },
    {
      "cell_type": "code",
      "source": [
        "# Define test dataset\n",
        "test_dataset = MNIST(root='data/', \n",
        "                     train=False,\n",
        "                     transform=transforms.ToTensor())"
      ],
      "metadata": {
        "id": "fUueNRXZRdCa"
      },
      "execution_count": null,
      "outputs": []
    },
    {
      "cell_type": "markdown",
      "source": [
        "Here's a sample image from the dataset."
      ],
      "metadata": {
        "id": "7dWD4FVAKKF-"
      }
    },
    {
      "cell_type": "code",
      "source": [
        "img, label = test_dataset[0]\n",
        "plt.imshow(img[0], cmap='gray')\n",
        "print('Shape:', img.shape)\n",
        "print('Label:', label)"
      ],
      "metadata": {
        "id": "ebXEYEBeJhsd"
      },
      "execution_count": null,
      "outputs": []
    },
    {
      "cell_type": "markdown",
      "source": [
        "Let's define a helper function `predict_image`, which returns the predicted label for a single image tensor.\n",
        "\n",
        "+ `img.unsqueeze` simply adds another dimension at the begining of the 1x28x28 tensor, making it a 1x1x28x28 tensor. Note that $1$ is NOT accounted a dimension!!!\n",
        "\n",
        "+ The reason of doing this is because the `model = MnistModel()` object was created to deal with batches of a two-dimensional tensor (batch size $\\times 784$). Here we have only one image and the shape is `[1, 28, 28]` (two-dimensional tensor), we want to add one dimension for batch size equal to $1$: therefore `img.unsqueeze(0)` is used. (I also tried to comment it out and no errors occurred.)\n",
        "+ the model has never seen the test dataset\n"
      ],
      "metadata": {
        "id": "NQXUKJ0oKDOP"
      }
    },
    {
      "cell_type": "markdown",
      "source": [
        "note `model` object is passed to the predict_image function"
      ],
      "metadata": {
        "id": "SQRnLzMRgkLp"
      }
    },
    {
      "cell_type": "code",
      "source": [
        "def predict_image(img, model):\n",
        "    xb = img.unsqueeze(0)\n",
        "    yb = model(xb)\n",
        "    _, preds = torch.max(yb, dim=1)\n",
        "    return preds[0].item()"
      ],
      "metadata": {
        "id": "ePFl6_OqKlev"
      },
      "execution_count": null,
      "outputs": []
    },
    {
      "cell_type": "markdown",
      "source": [
        "let's try it out with a few images"
      ],
      "metadata": {
        "id": "jAShOIRTg9zK"
      }
    },
    {
      "cell_type": "code",
      "source": [
        "img, label = test_dataset[0]\n",
        "plt.imshow(img[0], cmap='gray')\n",
        "print('Label:', label, ', Predicted:', predict_image(img, model))"
      ],
      "metadata": {
        "id": "ksUep9BkeckM",
        "outputId": "ab453790-af49-4dff-ad32-2cfef3bc7a8d",
        "colab": {
          "base_uri": "https://localhost:8080/",
          "height": 283
        }
      },
      "execution_count": 157,
      "outputs": [
        {
          "output_type": "stream",
          "name": "stdout",
          "text": [
            "Label: 7 , Predicted: 0\n"
          ]
        },
        {
          "output_type": "display_data",
          "data": {
            "text/plain": [
              "<Figure size 432x288 with 1 Axes>"
            ],
            "image/png": "[encoded data removed]"
          },
          "metadata": {
            "needs_background": "light"
          }
        }
      ]
    },
    {
      "cell_type": "code",
      "source": [
        "img, label = test_dataset[10]\n",
        "plt.imshow(img[0], cmap='gray')\n",
        "print('Label:', label, ', Predicted:', predict_image(img, model))"
      ],
      "metadata": {
        "id": "Onf5aX60g8Ui",
        "outputId": "a950c70c-633e-49ca-c987-04bc84b1e352",
        "colab": {
          "base_uri": "https://localhost:8080/",
          "height": 283
        }
      },
      "execution_count": 158,
      "outputs": [
        {
          "output_type": "stream",
          "name": "stdout",
          "text": [
            "Label: 0 , Predicted: 2\n"
          ]
        },
        {
          "output_type": "display_data",
          "data": {
            "text/plain": [
              "<Figure size 432x288 with 1 Axes>"
            ],
            "image/png": "[encoded data removed]"
          },
          "metadata": {
            "needs_background": "light"
          }
        }
      ]
    },
    {
      "cell_type": "code",
      "source": [
        "img, label = test_dataset[193]\n",
        "plt.imshow(img[0], cmap='gray')\n",
        "print('Label:', label, ', Predicted:', predict_image(img, model))"
      ],
      "metadata": {
        "id": "Ccv2b8e2hF2c",
        "outputId": "d8978e8d-0bf1-4c2f-b74d-d91a555ebdda",
        "colab": {
          "base_uri": "https://localhost:8080/",
          "height": 283
        }
      },
      "execution_count": 159,
      "outputs": [
        {
          "output_type": "stream",
          "name": "stdout",
          "text": [
            "Label: 9 , Predicted: 4\n"
          ]
        },
        {
          "output_type": "display_data",
          "data": {
            "text/plain": [
              "<Figure size 432x288 with 1 Axes>"
            ],
            "image/png": "[encoded data removed]"
          },
          "metadata": {
            "needs_background": "light"
          }
        }
      ]
    },
    {
      "cell_type": "code",
      "source": [
        "img, label = test_dataset[1839]\n",
        "plt.imshow(img[0], cmap='gray')\n",
        "print('Label:', label, ', Predicted:', predict_image(img, model))"
      ],
      "metadata": {
        "id": "7ZSjeWJZj-j6",
        "outputId": "6634e593-932c-4f95-9a7f-8f2040f54ddc",
        "colab": {
          "base_uri": "https://localhost:8080/",
          "height": 283
        }
      },
      "execution_count": 160,
      "outputs": [
        {
          "output_type": "stream",
          "name": "stdout",
          "text": [
            "Label: 2 , Predicted: 5\n"
          ]
        },
        {
          "output_type": "display_data",
          "data": {
            "text/plain": [
              "<Figure size 432x288 with 1 Axes>"
            ],
            "image/png": "[encoded data removed]"
          },
          "metadata": {
            "needs_background": "light"
          }
        }
      ]
    },
    {
      "cell_type": "markdown",
      "source": [
        "Identifying where our model performs poorly can help us improve the model, by \n",
        "+ collecting more training data, \n",
        "+ increasing/decreasing the complexity of the model, and \n",
        "+ changing the hypeparameters.\n",
        "\n",
        "As a final step, let's also look at the **overall loss and accuracy** of the model on the test set.\n",
        "\n",
        "+ test set comes from the real world\n",
        "+ validation set comes from a fraction of the training set\n",
        "\n",
        "where is validation test accuracy?"
      ],
      "metadata": {
        "id": "EedD_wkzkmCe"
      }
    },
    {
      "cell_type": "code",
      "source": [
        "test_loader = DataLoader(test_dataset, batch_size=256)\n",
        "result = evaluate(model, test_loader)\n",
        "result"
      ],
      "metadata": {
        "id": "oxpAu7u8k3i5",
        "outputId": "bbd78089-a9c1-40ce-8024-a6c333632628",
        "colab": {
          "base_uri": "https://localhost:8080/"
        }
      },
      "execution_count": 161,
      "outputs": [
        {
          "output_type": "execute_result",
          "data": {
            "text/plain": [
              "{'val_loss': 2.352501392364502, 'val_acc': 0.08994140475988388}"
            ]
          },
          "metadata": {},
          "execution_count": 161
        }
      ]
    },
    {
      "cell_type": "markdown",
      "source": [
        "**We expect test set accuracy is similar to the accuracy/loss on the validation set.** \n",
        "\n",
        "Very importantly, \n",
        "\n",
        "+ If not, we might need a better validation set that has similar data and distribution as the test set (which often comes from real world data)."
      ],
      "metadata": {
        "id": "vSnFVK1Hl_vr"
      }
    },
    {
      "cell_type": "code",
      "source": [
        "test_dataset"
      ],
      "metadata": {
        "id": "ijAWQ3RglXyY",
        "outputId": "441c9db1-18b8-4d0f-92bc-48c040d51c49",
        "colab": {
          "base_uri": "https://localhost:8080/"
        }
      },
      "execution_count": 162,
      "outputs": [
        {
          "output_type": "execute_result",
          "data": {
            "text/plain": [
              "Dataset MNIST\n",
              "    Number of datapoints: 10000\n",
              "    Root location: data/\n",
              "    Split: Test\n",
              "    StandardTransform\n",
              "Transform: ToTensor()"
            ]
          },
          "metadata": {},
          "execution_count": 162
        }
      ]
    },
    {
      "cell_type": "markdown",
      "source": [
        "## **Saving and loading the model**\n",
        "\n",
        "Since we've trained our model for a long time and achieved a resonable accuracy, it would be a good idea to save the weights and bias matrices to disk, so that we can reuse the model later and avoid retraining from scratch. Here's how you can save the model."
      ],
      "metadata": {
        "id": "pLSb-T_unN_B"
      }
    },
    {
      "cell_type": "code",
      "source": [
        "torch.save(model.state_dict(), 'mnist-logistic.pth')"
      ],
      "metadata": {
        "id": "nOXbSoKFn7bm"
      },
      "execution_count": 163,
      "outputs": []
    },
    {
      "cell_type": "markdown",
      "source": [
        "The `.state_dict` method returns an `OrderedDict` containing all the weights and bias matrices mapped to the right attributes of the model."
      ],
      "metadata": {
        "id": "xIXNmYsPn-y9"
      }
    },
    {
      "cell_type": "code",
      "source": [
        "model.state_dict()"
      ],
      "metadata": {
        "id": "-1fXPsBooENP",
        "outputId": "857b1202-2cad-4c8d-c72f-1dc2eb7212d6",
        "colab": {
          "base_uri": "https://localhost:8080/"
        }
      },
      "execution_count": 164,
      "outputs": [
        {
          "output_type": "execute_result",
          "data": {
            "text/plain": [
              "OrderedDict([('linear.weight',\n",
              "              tensor([[ 0.0120, -0.0165, -0.0238,  ..., -0.0138,  0.0023,  0.0224],\n",
              "                      [-0.0157, -0.0066,  0.0122,  ..., -0.0239,  0.0303, -0.0243],\n",
              "                      [ 0.0097,  0.0288, -0.0013,  ..., -0.0222, -0.0165,  0.0135],\n",
              "                      ...,\n",
              "                      [ 0.0209,  0.0317, -0.0136,  ..., -0.0183,  0.0203,  0.0273],\n",
              "                      [ 0.0110,  0.0045, -0.0268,  ..., -0.0278, -0.0140, -0.0198],\n",
              "                      [-0.0127, -0.0297, -0.0210,  ...,  0.0177,  0.0232, -0.0147]])),\n",
              "             ('linear.bias',\n",
              "              tensor([ 0.0345, -0.0232, -0.0292, -0.0177, -0.0221,  0.0251, -0.0235, -0.0018,\n",
              "                      -0.0273,  0.0002]))])"
            ]
          },
          "metadata": {},
          "execution_count": 164
        }
      ]
    },
    {
      "cell_type": "markdown",
      "source": [
        "To load the model weights, we can instante a new object of the class `MnistModel`, and use the `.load_state_dict` method."
      ],
      "metadata": {
        "id": "cLRSyJoWoHxG"
      }
    },
    {
      "cell_type": "code",
      "source": [
        "model2 = MnistModel()"
      ],
      "metadata": {
        "id": "dm0O_dt4oKPt"
      },
      "execution_count": 165,
      "outputs": []
    },
    {
      "cell_type": "code",
      "source": [
        "model2.state_dict()"
      ],
      "metadata": {
        "id": "scBhssWcoNjA",
        "outputId": "1e9a9b42-56d7-4cd3-d8e7-7ef48b353ea0",
        "colab": {
          "base_uri": "https://localhost:8080/"
        }
      },
      "execution_count": 166,
      "outputs": [
        {
          "output_type": "execute_result",
          "data": {
            "text/plain": [
              "OrderedDict([('linear.weight',\n",
              "              tensor([[ 0.0172, -0.0251,  0.0101,  ...,  0.0228, -0.0317,  0.0232],\n",
              "                      [-0.0258, -0.0163, -0.0151,  ..., -0.0240,  0.0072, -0.0027],\n",
              "                      [-0.0257,  0.0115,  0.0099,  ...,  0.0027,  0.0107, -0.0244],\n",
              "                      ...,\n",
              "                      [ 0.0195, -0.0303,  0.0205,  ...,  0.0031,  0.0192, -0.0104],\n",
              "                      [ 0.0112,  0.0180,  0.0341,  ...,  0.0095, -0.0298, -0.0021],\n",
              "                      [ 0.0237,  0.0101, -0.0210,  ..., -0.0304,  0.0306,  0.0231]])),\n",
              "             ('linear.bias',\n",
              "              tensor([ 0.0155,  0.0025,  0.0235, -0.0111,  0.0329, -0.0063,  0.0145,  0.0026,\n",
              "                       0.0021, -0.0155]))])"
            ]
          },
          "metadata": {},
          "execution_count": 166
        }
      ]
    },
    {
      "cell_type": "code",
      "source": [
        "evaluate(model2, test_loader)"
      ],
      "metadata": {
        "id": "TertuspYoSnb",
        "outputId": "ed68f1d7-ef3d-4484-8da1-d980f43e8da3",
        "colab": {
          "base_uri": "https://localhost:8080/"
        }
      },
      "execution_count": 167,
      "outputs": [
        {
          "output_type": "execute_result",
          "data": {
            "text/plain": [
              "{'val_loss': 2.3222739696502686, 'val_acc': 0.10957030951976776}"
            ]
          },
          "metadata": {},
          "execution_count": 167
        }
      ]
    },
    {
      "cell_type": "code",
      "source": [
        "model2.load_state_dict(torch.load('mnist-logistic.pth'))\n",
        "model2.state_dict()"
      ],
      "metadata": {
        "id": "-r6L9o9moXoP",
        "outputId": "fe837593-3797-48ca-bffa-f21b8fe033fd",
        "colab": {
          "base_uri": "https://localhost:8080/"
        }
      },
      "execution_count": 168,
      "outputs": [
        {
          "output_type": "execute_result",
          "data": {
            "text/plain": [
              "OrderedDict([('linear.weight',\n",
              "              tensor([[ 0.0120, -0.0165, -0.0238,  ..., -0.0138,  0.0023,  0.0224],\n",
              "                      [-0.0157, -0.0066,  0.0122,  ..., -0.0239,  0.0303, -0.0243],\n",
              "                      [ 0.0097,  0.0288, -0.0013,  ..., -0.0222, -0.0165,  0.0135],\n",
              "                      ...,\n",
              "                      [ 0.0209,  0.0317, -0.0136,  ..., -0.0183,  0.0203,  0.0273],\n",
              "                      [ 0.0110,  0.0045, -0.0268,  ..., -0.0278, -0.0140, -0.0198],\n",
              "                      [-0.0127, -0.0297, -0.0210,  ...,  0.0177,  0.0232, -0.0147]])),\n",
              "             ('linear.bias',\n",
              "              tensor([ 0.0345, -0.0232, -0.0292, -0.0177, -0.0221,  0.0251, -0.0235, -0.0018,\n",
              "                      -0.0273,  0.0002]))])"
            ]
          },
          "metadata": {},
          "execution_count": 168
        }
      ]
    },
    {
      "cell_type": "markdown",
      "source": [
        "Just as a sanity check, let's verify that this model has the same loss and accuracy on the test set as before."
      ],
      "metadata": {
        "id": "TP5Jeh0GocGk"
      }
    },
    {
      "cell_type": "code",
      "source": [
        "test_loader = DataLoader(test_dataset, batch_size=256)\n",
        "result = evaluate(model2, test_loader)\n",
        "result"
      ],
      "metadata": {
        "id": "Lr8810LAoory",
        "outputId": "8bad5172-cc73-4948-bc6b-97d7cc98e24e",
        "colab": {
          "base_uri": "https://localhost:8080/"
        }
      },
      "execution_count": 169,
      "outputs": [
        {
          "output_type": "execute_result",
          "data": {
            "text/plain": [
              "{'val_loss': 2.352501392364502, 'val_acc': 0.08994140475988388}"
            ]
          },
          "metadata": {},
          "execution_count": 169
        }
      ]
    }
  ]
}